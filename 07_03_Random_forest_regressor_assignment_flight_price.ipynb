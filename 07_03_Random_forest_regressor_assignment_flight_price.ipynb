{
 "cells": [
  {
   "cell_type": "markdown",
   "id": "7b4226e6",
   "metadata": {},
   "source": [
    "## Assignment on Random Forest - Regression algorithm - Predict the flight price using flight price dataset - 07/03"
   ]
  },
  {
   "cell_type": "markdown",
   "id": "88978b5e",
   "metadata": {},
   "source": [
    "#### Import necessary interfaces"
   ]
  },
  {
   "cell_type": "code",
   "execution_count": 1,
   "id": "ca3a9173",
   "metadata": {},
   "outputs": [],
   "source": [
    "import os\n",
    "import pandas as pd\n",
    "import numpy as np"
   ]
  },
  {
   "cell_type": "code",
   "execution_count": 2,
   "id": "4e5fbc14",
   "metadata": {},
   "outputs": [],
   "source": [
    "os.chdir(r'C:\\Users\\kalya\\Santhosh\\Data Science\\Notebook\\Preprocessing')"
   ]
  },
  {
   "cell_type": "markdown",
   "id": "94030d6d",
   "metadata": {},
   "source": [
    "#### Read the flight price file"
   ]
  },
  {
   "cell_type": "code",
   "execution_count": 3,
   "id": "4de9afa4",
   "metadata": {},
   "outputs": [],
   "source": [
    "data = pd.read_csv('Flight_price.csv')"
   ]
  },
  {
   "cell_type": "code",
   "execution_count": 4,
   "id": "8ff4ec59",
   "metadata": {},
   "outputs": [
    {
     "data": {
      "text/html": [
       "<div>\n",
       "<style scoped>\n",
       "    .dataframe tbody tr th:only-of-type {\n",
       "        vertical-align: middle;\n",
       "    }\n",
       "\n",
       "    .dataframe tbody tr th {\n",
       "        vertical-align: top;\n",
       "    }\n",
       "\n",
       "    .dataframe thead th {\n",
       "        text-align: right;\n",
       "    }\n",
       "</style>\n",
       "<table border=\"1\" class=\"dataframe\">\n",
       "  <thead>\n",
       "    <tr style=\"text-align: right;\">\n",
       "      <th></th>\n",
       "      <th>Serial_number</th>\n",
       "      <th>airline</th>\n",
       "      <th>flight</th>\n",
       "      <th>source_city</th>\n",
       "      <th>departure_time</th>\n",
       "      <th>stops</th>\n",
       "      <th>arrival_time</th>\n",
       "      <th>destination_city</th>\n",
       "      <th>class</th>\n",
       "      <th>duration</th>\n",
       "      <th>days_left</th>\n",
       "      <th>price</th>\n",
       "    </tr>\n",
       "  </thead>\n",
       "  <tbody>\n",
       "    <tr>\n",
       "      <th>0</th>\n",
       "      <td>0</td>\n",
       "      <td>SpiceJet</td>\n",
       "      <td>SG-8709</td>\n",
       "      <td>Delhi</td>\n",
       "      <td>Evening</td>\n",
       "      <td>zero</td>\n",
       "      <td>Night</td>\n",
       "      <td>Mumbai</td>\n",
       "      <td>Economy</td>\n",
       "      <td>2.17</td>\n",
       "      <td>1</td>\n",
       "      <td>5953</td>\n",
       "    </tr>\n",
       "    <tr>\n",
       "      <th>1</th>\n",
       "      <td>1</td>\n",
       "      <td>SpiceJet</td>\n",
       "      <td>SG-8157</td>\n",
       "      <td>Delhi</td>\n",
       "      <td>Early_Morning</td>\n",
       "      <td>zero</td>\n",
       "      <td>Morning</td>\n",
       "      <td>Mumbai</td>\n",
       "      <td>Economy</td>\n",
       "      <td>2.33</td>\n",
       "      <td>1</td>\n",
       "      <td>5953</td>\n",
       "    </tr>\n",
       "    <tr>\n",
       "      <th>2</th>\n",
       "      <td>2</td>\n",
       "      <td>AirAsia</td>\n",
       "      <td>I5-764</td>\n",
       "      <td>Delhi</td>\n",
       "      <td>Early_Morning</td>\n",
       "      <td>zero</td>\n",
       "      <td>Early_Morning</td>\n",
       "      <td>Mumbai</td>\n",
       "      <td>Economy</td>\n",
       "      <td>2.17</td>\n",
       "      <td>1</td>\n",
       "      <td>5956</td>\n",
       "    </tr>\n",
       "    <tr>\n",
       "      <th>3</th>\n",
       "      <td>3</td>\n",
       "      <td>Vistara</td>\n",
       "      <td>UK-995</td>\n",
       "      <td>Delhi</td>\n",
       "      <td>Morning</td>\n",
       "      <td>zero</td>\n",
       "      <td>Afternoon</td>\n",
       "      <td>Mumbai</td>\n",
       "      <td>Economy</td>\n",
       "      <td>2.25</td>\n",
       "      <td>1</td>\n",
       "      <td>5955</td>\n",
       "    </tr>\n",
       "    <tr>\n",
       "      <th>4</th>\n",
       "      <td>4</td>\n",
       "      <td>Vistara</td>\n",
       "      <td>UK-963</td>\n",
       "      <td>Delhi</td>\n",
       "      <td>Morning</td>\n",
       "      <td>zero</td>\n",
       "      <td>Morning</td>\n",
       "      <td>Mumbai</td>\n",
       "      <td>Economy</td>\n",
       "      <td>2.33</td>\n",
       "      <td>1</td>\n",
       "      <td>5955</td>\n",
       "    </tr>\n",
       "  </tbody>\n",
       "</table>\n",
       "</div>"
      ],
      "text/plain": [
       "   Serial_number   airline   flight source_city departure_time stops  \\\n",
       "0              0  SpiceJet  SG-8709       Delhi        Evening  zero   \n",
       "1              1  SpiceJet  SG-8157       Delhi  Early_Morning  zero   \n",
       "2              2   AirAsia   I5-764       Delhi  Early_Morning  zero   \n",
       "3              3   Vistara   UK-995       Delhi        Morning  zero   \n",
       "4              4   Vistara   UK-963       Delhi        Morning  zero   \n",
       "\n",
       "    arrival_time destination_city    class  duration  days_left  price  \n",
       "0          Night           Mumbai  Economy      2.17          1   5953  \n",
       "1        Morning           Mumbai  Economy      2.33          1   5953  \n",
       "2  Early_Morning           Mumbai  Economy      2.17          1   5956  \n",
       "3      Afternoon           Mumbai  Economy      2.25          1   5955  \n",
       "4        Morning           Mumbai  Economy      2.33          1   5955  "
      ]
     },
     "execution_count": 4,
     "metadata": {},
     "output_type": "execute_result"
    }
   ],
   "source": [
    "data.head()"
   ]
  },
  {
   "cell_type": "markdown",
   "id": "6037638f",
   "metadata": {},
   "source": [
    "#### Analysis on data"
   ]
  },
  {
   "cell_type": "code",
   "execution_count": 5,
   "id": "29e4ab1a",
   "metadata": {},
   "outputs": [
    {
     "data": {
      "text/html": [
       "<div>\n",
       "<style scoped>\n",
       "    .dataframe tbody tr th:only-of-type {\n",
       "        vertical-align: middle;\n",
       "    }\n",
       "\n",
       "    .dataframe tbody tr th {\n",
       "        vertical-align: top;\n",
       "    }\n",
       "\n",
       "    .dataframe thead th {\n",
       "        text-align: right;\n",
       "    }\n",
       "</style>\n",
       "<table border=\"1\" class=\"dataframe\">\n",
       "  <thead>\n",
       "    <tr style=\"text-align: right;\">\n",
       "      <th></th>\n",
       "      <th>count</th>\n",
       "      <th>mean</th>\n",
       "      <th>std</th>\n",
       "      <th>min</th>\n",
       "      <th>25%</th>\n",
       "      <th>50%</th>\n",
       "      <th>75%</th>\n",
       "      <th>max</th>\n",
       "    </tr>\n",
       "  </thead>\n",
       "  <tbody>\n",
       "    <tr>\n",
       "      <th>Serial_number</th>\n",
       "      <td>300153.0</td>\n",
       "      <td>150076.000000</td>\n",
       "      <td>86646.852011</td>\n",
       "      <td>0.00</td>\n",
       "      <td>75038.00</td>\n",
       "      <td>150076.00</td>\n",
       "      <td>225114.00</td>\n",
       "      <td>300152.00</td>\n",
       "    </tr>\n",
       "    <tr>\n",
       "      <th>duration</th>\n",
       "      <td>300153.0</td>\n",
       "      <td>12.221021</td>\n",
       "      <td>7.191997</td>\n",
       "      <td>0.83</td>\n",
       "      <td>6.83</td>\n",
       "      <td>11.25</td>\n",
       "      <td>16.17</td>\n",
       "      <td>49.83</td>\n",
       "    </tr>\n",
       "    <tr>\n",
       "      <th>days_left</th>\n",
       "      <td>300153.0</td>\n",
       "      <td>26.004751</td>\n",
       "      <td>13.561004</td>\n",
       "      <td>1.00</td>\n",
       "      <td>15.00</td>\n",
       "      <td>26.00</td>\n",
       "      <td>38.00</td>\n",
       "      <td>49.00</td>\n",
       "    </tr>\n",
       "    <tr>\n",
       "      <th>price</th>\n",
       "      <td>300153.0</td>\n",
       "      <td>20889.660523</td>\n",
       "      <td>22697.767366</td>\n",
       "      <td>1105.00</td>\n",
       "      <td>4783.00</td>\n",
       "      <td>7425.00</td>\n",
       "      <td>42521.00</td>\n",
       "      <td>123071.00</td>\n",
       "    </tr>\n",
       "  </tbody>\n",
       "</table>\n",
       "</div>"
      ],
      "text/plain": [
       "                  count           mean           std      min       25%  \\\n",
       "Serial_number  300153.0  150076.000000  86646.852011     0.00  75038.00   \n",
       "duration       300153.0      12.221021      7.191997     0.83      6.83   \n",
       "days_left      300153.0      26.004751     13.561004     1.00     15.00   \n",
       "price          300153.0   20889.660523  22697.767366  1105.00   4783.00   \n",
       "\n",
       "                     50%        75%        max  \n",
       "Serial_number  150076.00  225114.00  300152.00  \n",
       "duration           11.25      16.17      49.83  \n",
       "days_left          26.00      38.00      49.00  \n",
       "price            7425.00   42521.00  123071.00  "
      ]
     },
     "execution_count": 5,
     "metadata": {},
     "output_type": "execute_result"
    }
   ],
   "source": [
    "data.describe().T"
   ]
  },
  {
   "cell_type": "code",
   "execution_count": 7,
   "id": "a5d51e81",
   "metadata": {},
   "outputs": [
    {
     "data": {
      "text/plain": [
       "(300153, 12)"
      ]
     },
     "execution_count": 7,
     "metadata": {},
     "output_type": "execute_result"
    }
   ],
   "source": [
    "data.shape"
   ]
  },
  {
   "cell_type": "code",
   "execution_count": 10,
   "id": "329e0cb4",
   "metadata": {},
   "outputs": [],
   "source": [
    "data = data.drop(columns = ['Serial_number'])"
   ]
  },
  {
   "cell_type": "code",
   "execution_count": 11,
   "id": "84471657",
   "metadata": {},
   "outputs": [
    {
     "data": {
      "text/plain": [
       "(300153, 11)"
      ]
     },
     "execution_count": 11,
     "metadata": {},
     "output_type": "execute_result"
    }
   ],
   "source": [
    "data.shape"
   ]
  },
  {
   "cell_type": "code",
   "execution_count": 13,
   "id": "ce2cb314",
   "metadata": {},
   "outputs": [
    {
     "data": {
      "text/plain": [
       "array(['SpiceJet', 'AirAsia', 'Vistara', 'GO_FIRST', 'Indigo',\n",
       "       'Air_India'], dtype=object)"
      ]
     },
     "execution_count": 13,
     "metadata": {},
     "output_type": "execute_result"
    }
   ],
   "source": [
    "data.airline.unique()"
   ]
  },
  {
   "cell_type": "code",
   "execution_count": 17,
   "id": "b00299b1",
   "metadata": {},
   "outputs": [
    {
     "data": {
      "text/plain": [
       "G8-107        1\n",
       "6E-2914       1\n",
       "SG-8480       1\n",
       "SG-1058       1\n",
       "SG-8106       1\n",
       "           ... \n",
       "UK-822     2468\n",
       "UK-836     2542\n",
       "UK-720     2650\n",
       "UK-772     2741\n",
       "UK-706     3235\n",
       "Name: flight, Length: 1561, dtype: int64"
      ]
     },
     "execution_count": 17,
     "metadata": {},
     "output_type": "execute_result"
    }
   ],
   "source": [
    "data.flight.value_counts().sort_values()"
   ]
  },
  {
   "cell_type": "code",
   "execution_count": 29,
   "id": "f9cfac0c",
   "metadata": {},
   "outputs": [
    {
     "data": {
      "text/plain": [
       "0         8709\n",
       "1         8157\n",
       "2          764\n",
       "3          995\n",
       "4          963\n",
       "          ... \n",
       "300148     822\n",
       "300149     826\n",
       "300150     832\n",
       "300151     828\n",
       "300152     822\n",
       "Name: flight, Length: 300153, dtype: object"
      ]
     },
     "execution_count": 29,
     "metadata": {},
     "output_type": "execute_result"
    }
   ],
   "source": [
    "data['flight'].apply(lambda x: x.split('-')[-1])"
   ]
  },
  {
   "cell_type": "code",
   "execution_count": 31,
   "id": "2091bc4a",
   "metadata": {},
   "outputs": [
    {
     "data": {
      "text/plain": [
       "array(['Delhi', 'Mumbai', 'Bangalore', 'Kolkata', 'Hyderabad', 'Chennai'],\n",
       "      dtype=object)"
      ]
     },
     "execution_count": 31,
     "metadata": {},
     "output_type": "execute_result"
    }
   ],
   "source": [
    "data.source_city.unique()"
   ]
  },
  {
   "cell_type": "code",
   "execution_count": 32,
   "id": "12ce2f99",
   "metadata": {},
   "outputs": [
    {
     "data": {
      "text/plain": [
       "array(['Evening', 'Early_Morning', 'Morning', 'Afternoon', 'Night',\n",
       "       'Late_Night'], dtype=object)"
      ]
     },
     "execution_count": 32,
     "metadata": {},
     "output_type": "execute_result"
    }
   ],
   "source": [
    "data.departure_time.unique()"
   ]
  },
  {
   "cell_type": "code",
   "execution_count": 33,
   "id": "f7f516ac",
   "metadata": {},
   "outputs": [
    {
     "data": {
      "text/plain": [
       "array(['zero', 'one', 'two_or_more'], dtype=object)"
      ]
     },
     "execution_count": 33,
     "metadata": {},
     "output_type": "execute_result"
    }
   ],
   "source": [
    "data.stops.unique()"
   ]
  },
  {
   "cell_type": "code",
   "execution_count": 34,
   "id": "73bba9fc",
   "metadata": {},
   "outputs": [
    {
     "data": {
      "text/plain": [
       "array(['Night', 'Morning', 'Early_Morning', 'Afternoon', 'Evening',\n",
       "       'Late_Night'], dtype=object)"
      ]
     },
     "execution_count": 34,
     "metadata": {},
     "output_type": "execute_result"
    }
   ],
   "source": [
    "data.arrival_time.unique()"
   ]
  },
  {
   "cell_type": "code",
   "execution_count": 35,
   "id": "19bd46bc",
   "metadata": {},
   "outputs": [
    {
     "data": {
      "text/plain": [
       "array(['Mumbai', 'Bangalore', 'Kolkata', 'Hyderabad', 'Chennai', 'Delhi'],\n",
       "      dtype=object)"
      ]
     },
     "execution_count": 35,
     "metadata": {},
     "output_type": "execute_result"
    }
   ],
   "source": [
    "data.destination_city.unique()"
   ]
  },
  {
   "cell_type": "code",
   "execution_count": 38,
   "id": "36852048",
   "metadata": {},
   "outputs": [
    {
     "data": {
      "text/plain": [
       "array(['Economy', 'Business'], dtype=object)"
      ]
     },
     "execution_count": 38,
     "metadata": {},
     "output_type": "execute_result"
    }
   ],
   "source": [
    "data['class'].unique()"
   ]
  },
  {
   "cell_type": "code",
   "execution_count": 39,
   "id": "9e5004dc",
   "metadata": {},
   "outputs": [
    {
     "data": {
      "text/plain": [
       "airline             0\n",
       "flight              0\n",
       "source_city         0\n",
       "departure_time      0\n",
       "stops               0\n",
       "arrival_time        0\n",
       "destination_city    0\n",
       "class               0\n",
       "duration            0\n",
       "days_left           0\n",
       "price               0\n",
       "dtype: int64"
      ]
     },
     "execution_count": 39,
     "metadata": {},
     "output_type": "execute_result"
    }
   ],
   "source": [
    "data.isna().sum()"
   ]
  },
  {
   "cell_type": "code",
   "execution_count": 40,
   "id": "b2e261c3",
   "metadata": {},
   "outputs": [
    {
     "data": {
      "text/plain": [
       "0"
      ]
     },
     "execution_count": 40,
     "metadata": {},
     "output_type": "execute_result"
    }
   ],
   "source": [
    "data.duplicated().sum()"
   ]
  },
  {
   "cell_type": "code",
   "execution_count": 42,
   "id": "365e470d",
   "metadata": {},
   "outputs": [
    {
     "data": {
      "text/plain": [
       "airline              object\n",
       "flight               object\n",
       "source_city          object\n",
       "departure_time       object\n",
       "stops                object\n",
       "arrival_time         object\n",
       "destination_city     object\n",
       "class                object\n",
       "duration            float64\n",
       "days_left             int64\n",
       "price                 int64\n",
       "dtype: object"
      ]
     },
     "execution_count": 42,
     "metadata": {},
     "output_type": "execute_result"
    }
   ],
   "source": [
    "data.dtypes"
   ]
  },
  {
   "cell_type": "code",
   "execution_count": 50,
   "id": "a8015415",
   "metadata": {},
   "outputs": [
    {
     "data": {
      "text/plain": [
       "Index(['airline', 'flight', 'source_city', 'departure_time', 'stops',\n",
       "       'arrival_time', 'destination_city', 'class', 'duration', 'days_left',\n",
       "       'price'],\n",
       "      dtype='object')"
      ]
     },
     "execution_count": 50,
     "metadata": {},
     "output_type": "execute_result"
    }
   ],
   "source": [
    "data.columns"
   ]
  },
  {
   "cell_type": "markdown",
   "id": "9d9f2fb3",
   "metadata": {},
   "source": [
    "#### data cleaning - Preprocessing"
   ]
  },
  {
   "cell_type": "code",
   "execution_count": 43,
   "id": "a620cabe",
   "metadata": {},
   "outputs": [],
   "source": [
    "data_filter_category = pd.get_dummies(data.drop(columns = ['flight', 'duration', 'days_left', 'price']))"
   ]
  },
  {
   "cell_type": "code",
   "execution_count": 55,
   "id": "04f2b7eb",
   "metadata": {},
   "outputs": [],
   "source": [
    "data_preprocessed = pd.concat([data_filter_category, data.drop(columns = ['flight','airline', 'source_city', 'departure_time', 'stops',\n",
    "       'arrival_time', 'destination_city', 'class'])], axis=1)"
   ]
  },
  {
   "cell_type": "code",
   "execution_count": 56,
   "id": "c712605a",
   "metadata": {},
   "outputs": [
    {
     "data": {
      "text/html": [
       "<div>\n",
       "<style scoped>\n",
       "    .dataframe tbody tr th:only-of-type {\n",
       "        vertical-align: middle;\n",
       "    }\n",
       "\n",
       "    .dataframe tbody tr th {\n",
       "        vertical-align: top;\n",
       "    }\n",
       "\n",
       "    .dataframe thead th {\n",
       "        text-align: right;\n",
       "    }\n",
       "</style>\n",
       "<table border=\"1\" class=\"dataframe\">\n",
       "  <thead>\n",
       "    <tr style=\"text-align: right;\">\n",
       "      <th></th>\n",
       "      <th>airline_AirAsia</th>\n",
       "      <th>airline_Air_India</th>\n",
       "      <th>airline_GO_FIRST</th>\n",
       "      <th>airline_Indigo</th>\n",
       "      <th>airline_SpiceJet</th>\n",
       "      <th>airline_Vistara</th>\n",
       "      <th>source_city_Bangalore</th>\n",
       "      <th>source_city_Chennai</th>\n",
       "      <th>source_city_Delhi</th>\n",
       "      <th>source_city_Hyderabad</th>\n",
       "      <th>...</th>\n",
       "      <th>destination_city_Chennai</th>\n",
       "      <th>destination_city_Delhi</th>\n",
       "      <th>destination_city_Hyderabad</th>\n",
       "      <th>destination_city_Kolkata</th>\n",
       "      <th>destination_city_Mumbai</th>\n",
       "      <th>class_Business</th>\n",
       "      <th>class_Economy</th>\n",
       "      <th>duration</th>\n",
       "      <th>days_left</th>\n",
       "      <th>price</th>\n",
       "    </tr>\n",
       "  </thead>\n",
       "  <tbody>\n",
       "    <tr>\n",
       "      <th>0</th>\n",
       "      <td>0</td>\n",
       "      <td>0</td>\n",
       "      <td>0</td>\n",
       "      <td>0</td>\n",
       "      <td>1</td>\n",
       "      <td>0</td>\n",
       "      <td>0</td>\n",
       "      <td>0</td>\n",
       "      <td>1</td>\n",
       "      <td>0</td>\n",
       "      <td>...</td>\n",
       "      <td>0</td>\n",
       "      <td>0</td>\n",
       "      <td>0</td>\n",
       "      <td>0</td>\n",
       "      <td>1</td>\n",
       "      <td>0</td>\n",
       "      <td>1</td>\n",
       "      <td>2.17</td>\n",
       "      <td>1</td>\n",
       "      <td>5953</td>\n",
       "    </tr>\n",
       "    <tr>\n",
       "      <th>1</th>\n",
       "      <td>0</td>\n",
       "      <td>0</td>\n",
       "      <td>0</td>\n",
       "      <td>0</td>\n",
       "      <td>1</td>\n",
       "      <td>0</td>\n",
       "      <td>0</td>\n",
       "      <td>0</td>\n",
       "      <td>1</td>\n",
       "      <td>0</td>\n",
       "      <td>...</td>\n",
       "      <td>0</td>\n",
       "      <td>0</td>\n",
       "      <td>0</td>\n",
       "      <td>0</td>\n",
       "      <td>1</td>\n",
       "      <td>0</td>\n",
       "      <td>1</td>\n",
       "      <td>2.33</td>\n",
       "      <td>1</td>\n",
       "      <td>5953</td>\n",
       "    </tr>\n",
       "    <tr>\n",
       "      <th>2</th>\n",
       "      <td>1</td>\n",
       "      <td>0</td>\n",
       "      <td>0</td>\n",
       "      <td>0</td>\n",
       "      <td>0</td>\n",
       "      <td>0</td>\n",
       "      <td>0</td>\n",
       "      <td>0</td>\n",
       "      <td>1</td>\n",
       "      <td>0</td>\n",
       "      <td>...</td>\n",
       "      <td>0</td>\n",
       "      <td>0</td>\n",
       "      <td>0</td>\n",
       "      <td>0</td>\n",
       "      <td>1</td>\n",
       "      <td>0</td>\n",
       "      <td>1</td>\n",
       "      <td>2.17</td>\n",
       "      <td>1</td>\n",
       "      <td>5956</td>\n",
       "    </tr>\n",
       "    <tr>\n",
       "      <th>3</th>\n",
       "      <td>0</td>\n",
       "      <td>0</td>\n",
       "      <td>0</td>\n",
       "      <td>0</td>\n",
       "      <td>0</td>\n",
       "      <td>1</td>\n",
       "      <td>0</td>\n",
       "      <td>0</td>\n",
       "      <td>1</td>\n",
       "      <td>0</td>\n",
       "      <td>...</td>\n",
       "      <td>0</td>\n",
       "      <td>0</td>\n",
       "      <td>0</td>\n",
       "      <td>0</td>\n",
       "      <td>1</td>\n",
       "      <td>0</td>\n",
       "      <td>1</td>\n",
       "      <td>2.25</td>\n",
       "      <td>1</td>\n",
       "      <td>5955</td>\n",
       "    </tr>\n",
       "    <tr>\n",
       "      <th>4</th>\n",
       "      <td>0</td>\n",
       "      <td>0</td>\n",
       "      <td>0</td>\n",
       "      <td>0</td>\n",
       "      <td>0</td>\n",
       "      <td>1</td>\n",
       "      <td>0</td>\n",
       "      <td>0</td>\n",
       "      <td>1</td>\n",
       "      <td>0</td>\n",
       "      <td>...</td>\n",
       "      <td>0</td>\n",
       "      <td>0</td>\n",
       "      <td>0</td>\n",
       "      <td>0</td>\n",
       "      <td>1</td>\n",
       "      <td>0</td>\n",
       "      <td>1</td>\n",
       "      <td>2.33</td>\n",
       "      <td>1</td>\n",
       "      <td>5955</td>\n",
       "    </tr>\n",
       "  </tbody>\n",
       "</table>\n",
       "<p>5 rows × 38 columns</p>\n",
       "</div>"
      ],
      "text/plain": [
       "   airline_AirAsia  airline_Air_India  airline_GO_FIRST  airline_Indigo  \\\n",
       "0                0                  0                 0               0   \n",
       "1                0                  0                 0               0   \n",
       "2                1                  0                 0               0   \n",
       "3                0                  0                 0               0   \n",
       "4                0                  0                 0               0   \n",
       "\n",
       "   airline_SpiceJet  airline_Vistara  source_city_Bangalore  \\\n",
       "0                 1                0                      0   \n",
       "1                 1                0                      0   \n",
       "2                 0                0                      0   \n",
       "3                 0                1                      0   \n",
       "4                 0                1                      0   \n",
       "\n",
       "   source_city_Chennai  source_city_Delhi  source_city_Hyderabad  ...  \\\n",
       "0                    0                  1                      0  ...   \n",
       "1                    0                  1                      0  ...   \n",
       "2                    0                  1                      0  ...   \n",
       "3                    0                  1                      0  ...   \n",
       "4                    0                  1                      0  ...   \n",
       "\n",
       "   destination_city_Chennai  destination_city_Delhi  \\\n",
       "0                         0                       0   \n",
       "1                         0                       0   \n",
       "2                         0                       0   \n",
       "3                         0                       0   \n",
       "4                         0                       0   \n",
       "\n",
       "   destination_city_Hyderabad  destination_city_Kolkata  \\\n",
       "0                           0                         0   \n",
       "1                           0                         0   \n",
       "2                           0                         0   \n",
       "3                           0                         0   \n",
       "4                           0                         0   \n",
       "\n",
       "   destination_city_Mumbai  class_Business  class_Economy  duration  \\\n",
       "0                        1               0              1      2.17   \n",
       "1                        1               0              1      2.33   \n",
       "2                        1               0              1      2.17   \n",
       "3                        1               0              1      2.25   \n",
       "4                        1               0              1      2.33   \n",
       "\n",
       "   days_left  price  \n",
       "0          1   5953  \n",
       "1          1   5953  \n",
       "2          1   5956  \n",
       "3          1   5955  \n",
       "4          1   5955  \n",
       "\n",
       "[5 rows x 38 columns]"
      ]
     },
     "execution_count": 56,
     "metadata": {},
     "output_type": "execute_result"
    }
   ],
   "source": [
    "data_preprocessed.head()"
   ]
  },
  {
   "cell_type": "markdown",
   "id": "aee4463f",
   "metadata": {},
   "source": [
    "#### Modelling"
   ]
  },
  {
   "cell_type": "code",
   "execution_count": 58,
   "id": "b559513e",
   "metadata": {},
   "outputs": [],
   "source": [
    "from sklearn.model_selection import train_test_split\n",
    "from sklearn.ensemble import RandomForestRegressor"
   ]
  },
  {
   "cell_type": "code",
   "execution_count": 62,
   "id": "246f7cca",
   "metadata": {},
   "outputs": [],
   "source": [
    "X = data_preprocessed.drop(columns = 'price')"
   ]
  },
  {
   "cell_type": "code",
   "execution_count": 63,
   "id": "b01d5dbf",
   "metadata": {},
   "outputs": [],
   "source": [
    "y = data_preprocessed['price']"
   ]
  },
  {
   "cell_type": "code",
   "execution_count": 64,
   "id": "13c0a6a6",
   "metadata": {},
   "outputs": [
    {
     "data": {
      "text/html": [
       "<div>\n",
       "<style scoped>\n",
       "    .dataframe tbody tr th:only-of-type {\n",
       "        vertical-align: middle;\n",
       "    }\n",
       "\n",
       "    .dataframe tbody tr th {\n",
       "        vertical-align: top;\n",
       "    }\n",
       "\n",
       "    .dataframe thead th {\n",
       "        text-align: right;\n",
       "    }\n",
       "</style>\n",
       "<table border=\"1\" class=\"dataframe\">\n",
       "  <thead>\n",
       "    <tr style=\"text-align: right;\">\n",
       "      <th></th>\n",
       "      <th>airline_AirAsia</th>\n",
       "      <th>airline_Air_India</th>\n",
       "      <th>airline_GO_FIRST</th>\n",
       "      <th>airline_Indigo</th>\n",
       "      <th>airline_SpiceJet</th>\n",
       "      <th>airline_Vistara</th>\n",
       "      <th>source_city_Bangalore</th>\n",
       "      <th>source_city_Chennai</th>\n",
       "      <th>source_city_Delhi</th>\n",
       "      <th>source_city_Hyderabad</th>\n",
       "      <th>...</th>\n",
       "      <th>destination_city_Bangalore</th>\n",
       "      <th>destination_city_Chennai</th>\n",
       "      <th>destination_city_Delhi</th>\n",
       "      <th>destination_city_Hyderabad</th>\n",
       "      <th>destination_city_Kolkata</th>\n",
       "      <th>destination_city_Mumbai</th>\n",
       "      <th>class_Business</th>\n",
       "      <th>class_Economy</th>\n",
       "      <th>duration</th>\n",
       "      <th>days_left</th>\n",
       "    </tr>\n",
       "  </thead>\n",
       "  <tbody>\n",
       "    <tr>\n",
       "      <th>0</th>\n",
       "      <td>0</td>\n",
       "      <td>0</td>\n",
       "      <td>0</td>\n",
       "      <td>0</td>\n",
       "      <td>1</td>\n",
       "      <td>0</td>\n",
       "      <td>0</td>\n",
       "      <td>0</td>\n",
       "      <td>1</td>\n",
       "      <td>0</td>\n",
       "      <td>...</td>\n",
       "      <td>0</td>\n",
       "      <td>0</td>\n",
       "      <td>0</td>\n",
       "      <td>0</td>\n",
       "      <td>0</td>\n",
       "      <td>1</td>\n",
       "      <td>0</td>\n",
       "      <td>1</td>\n",
       "      <td>2.17</td>\n",
       "      <td>1</td>\n",
       "    </tr>\n",
       "    <tr>\n",
       "      <th>1</th>\n",
       "      <td>0</td>\n",
       "      <td>0</td>\n",
       "      <td>0</td>\n",
       "      <td>0</td>\n",
       "      <td>1</td>\n",
       "      <td>0</td>\n",
       "      <td>0</td>\n",
       "      <td>0</td>\n",
       "      <td>1</td>\n",
       "      <td>0</td>\n",
       "      <td>...</td>\n",
       "      <td>0</td>\n",
       "      <td>0</td>\n",
       "      <td>0</td>\n",
       "      <td>0</td>\n",
       "      <td>0</td>\n",
       "      <td>1</td>\n",
       "      <td>0</td>\n",
       "      <td>1</td>\n",
       "      <td>2.33</td>\n",
       "      <td>1</td>\n",
       "    </tr>\n",
       "    <tr>\n",
       "      <th>2</th>\n",
       "      <td>1</td>\n",
       "      <td>0</td>\n",
       "      <td>0</td>\n",
       "      <td>0</td>\n",
       "      <td>0</td>\n",
       "      <td>0</td>\n",
       "      <td>0</td>\n",
       "      <td>0</td>\n",
       "      <td>1</td>\n",
       "      <td>0</td>\n",
       "      <td>...</td>\n",
       "      <td>0</td>\n",
       "      <td>0</td>\n",
       "      <td>0</td>\n",
       "      <td>0</td>\n",
       "      <td>0</td>\n",
       "      <td>1</td>\n",
       "      <td>0</td>\n",
       "      <td>1</td>\n",
       "      <td>2.17</td>\n",
       "      <td>1</td>\n",
       "    </tr>\n",
       "    <tr>\n",
       "      <th>3</th>\n",
       "      <td>0</td>\n",
       "      <td>0</td>\n",
       "      <td>0</td>\n",
       "      <td>0</td>\n",
       "      <td>0</td>\n",
       "      <td>1</td>\n",
       "      <td>0</td>\n",
       "      <td>0</td>\n",
       "      <td>1</td>\n",
       "      <td>0</td>\n",
       "      <td>...</td>\n",
       "      <td>0</td>\n",
       "      <td>0</td>\n",
       "      <td>0</td>\n",
       "      <td>0</td>\n",
       "      <td>0</td>\n",
       "      <td>1</td>\n",
       "      <td>0</td>\n",
       "      <td>1</td>\n",
       "      <td>2.25</td>\n",
       "      <td>1</td>\n",
       "    </tr>\n",
       "    <tr>\n",
       "      <th>4</th>\n",
       "      <td>0</td>\n",
       "      <td>0</td>\n",
       "      <td>0</td>\n",
       "      <td>0</td>\n",
       "      <td>0</td>\n",
       "      <td>1</td>\n",
       "      <td>0</td>\n",
       "      <td>0</td>\n",
       "      <td>1</td>\n",
       "      <td>0</td>\n",
       "      <td>...</td>\n",
       "      <td>0</td>\n",
       "      <td>0</td>\n",
       "      <td>0</td>\n",
       "      <td>0</td>\n",
       "      <td>0</td>\n",
       "      <td>1</td>\n",
       "      <td>0</td>\n",
       "      <td>1</td>\n",
       "      <td>2.33</td>\n",
       "      <td>1</td>\n",
       "    </tr>\n",
       "  </tbody>\n",
       "</table>\n",
       "<p>5 rows × 37 columns</p>\n",
       "</div>"
      ],
      "text/plain": [
       "   airline_AirAsia  airline_Air_India  airline_GO_FIRST  airline_Indigo  \\\n",
       "0                0                  0                 0               0   \n",
       "1                0                  0                 0               0   \n",
       "2                1                  0                 0               0   \n",
       "3                0                  0                 0               0   \n",
       "4                0                  0                 0               0   \n",
       "\n",
       "   airline_SpiceJet  airline_Vistara  source_city_Bangalore  \\\n",
       "0                 1                0                      0   \n",
       "1                 1                0                      0   \n",
       "2                 0                0                      0   \n",
       "3                 0                1                      0   \n",
       "4                 0                1                      0   \n",
       "\n",
       "   source_city_Chennai  source_city_Delhi  source_city_Hyderabad  ...  \\\n",
       "0                    0                  1                      0  ...   \n",
       "1                    0                  1                      0  ...   \n",
       "2                    0                  1                      0  ...   \n",
       "3                    0                  1                      0  ...   \n",
       "4                    0                  1                      0  ...   \n",
       "\n",
       "   destination_city_Bangalore  destination_city_Chennai  \\\n",
       "0                           0                         0   \n",
       "1                           0                         0   \n",
       "2                           0                         0   \n",
       "3                           0                         0   \n",
       "4                           0                         0   \n",
       "\n",
       "   destination_city_Delhi  destination_city_Hyderabad  \\\n",
       "0                       0                           0   \n",
       "1                       0                           0   \n",
       "2                       0                           0   \n",
       "3                       0                           0   \n",
       "4                       0                           0   \n",
       "\n",
       "   destination_city_Kolkata  destination_city_Mumbai  class_Business  \\\n",
       "0                         0                        1               0   \n",
       "1                         0                        1               0   \n",
       "2                         0                        1               0   \n",
       "3                         0                        1               0   \n",
       "4                         0                        1               0   \n",
       "\n",
       "   class_Economy  duration  days_left  \n",
       "0              1      2.17          1  \n",
       "1              1      2.33          1  \n",
       "2              1      2.17          1  \n",
       "3              1      2.25          1  \n",
       "4              1      2.33          1  \n",
       "\n",
       "[5 rows x 37 columns]"
      ]
     },
     "metadata": {},
     "output_type": "display_data"
    },
    {
     "data": {
      "text/plain": [
       "0    5953\n",
       "1    5953\n",
       "2    5956\n",
       "3    5955\n",
       "4    5955\n",
       "Name: price, dtype: int64"
      ]
     },
     "metadata": {},
     "output_type": "display_data"
    }
   ],
   "source": [
    "display(X.head(), y.head())"
   ]
  },
  {
   "cell_type": "code",
   "execution_count": 66,
   "id": "56c53d97",
   "metadata": {},
   "outputs": [],
   "source": [
    "train_X, test_X, train_y, test_y = train_test_split(X,y,test_size = 0.2, random_state = 32)"
   ]
  },
  {
   "cell_type": "code",
   "execution_count": 67,
   "id": "a374b7a2",
   "metadata": {},
   "outputs": [],
   "source": [
    "model = RandomForestRegressor()"
   ]
  },
  {
   "cell_type": "code",
   "execution_count": 68,
   "id": "b65006d4",
   "metadata": {},
   "outputs": [
    {
     "data": {
      "text/plain": [
       "RandomForestRegressor()"
      ]
     },
     "execution_count": 68,
     "metadata": {},
     "output_type": "execute_result"
    }
   ],
   "source": [
    "model.fit(X,y)"
   ]
  },
  {
   "cell_type": "code",
   "execution_count": 69,
   "id": "4aa1a188",
   "metadata": {},
   "outputs": [
    {
     "data": {
      "text/plain": [
       "<AxesSubplot:>"
      ]
     },
     "execution_count": 69,
     "metadata": {},
     "output_type": "execute_result"
    },
    {
     "data": {
      "image/png": "[encoded data removed]",
      "text/plain": [
       "<Figure size 432x288 with 1 Axes>"
      ]
     },
     "metadata": {
      "needs_background": "light"
     },
     "output_type": "display_data"
    }
   ],
   "source": [
    "pd.Series(model.feature_importances_, index = [X.columns]).sort_values(ascending=False)[:10].plot(kind = 'bar')"
   ]
  },
  {
   "cell_type": "code",
   "execution_count": 70,
   "id": "36e291f0",
   "metadata": {},
   "outputs": [],
   "source": [
    "def rmsle(y_true, y_pred):\n",
    "    return 1 - np.sqrt(np.square(np.log10(y_pred + 1) - np.log10(y_true + 1)).mean())"
   ]
  },
  {
   "cell_type": "markdown",
   "id": "7e3c2997",
   "metadata": {},
   "source": [
    "#### Result"
   ]
  },
  {
   "cell_type": "code",
   "execution_count": 71,
   "id": "83dee062",
   "metadata": {},
   "outputs": [
    {
     "name": "stdout",
     "output_type": "stream",
     "text": [
      "TRAIN RMSLE :  0.9766797497000552\n",
      "TEST RMSLE :  0.9764248058948866\n"
     ]
    }
   ],
   "source": [
    "train_pred = model.predict(train_X)\n",
    "test_pred = model.predict(test_X)\n",
    "print(\"TRAIN RMSLE : \", rmsle(train_y, train_pred))\n",
    "print(\"TEST RMSLE : \", rmsle(test_y, test_pred))"
   ]
  },
  {
   "cell_type": "code",
   "execution_count": null,
   "id": "cc4398a4",
   "metadata": {},
   "outputs": [],
   "source": []
  },
  {
   "cell_type": "code",
   "execution_count": null,
   "id": "af4f69e6",
   "metadata": {},
   "outputs": [],
   "source": []
  },
  {
   "cell_type": "code",
   "execution_count": null,
   "id": "b2cf7325",
   "metadata": {},
   "outputs": [],
   "source": []
  }
 ],
 "metadata": {
  "kernelspec": {
   "display_name": "Python 3 (ipykernel)",
   "language": "python",
   "name": "python3"
  },
  "language_info": {
   "codemirror_mode": {
    "name": "ipython",
    "version": 3
   },
   "file_extension": ".py",
   "mimetype": "text/x-python",
   "name": "python",
   "nbconvert_exporter": "python",
   "pygments_lexer": "ipython3",
   "version": "3.9.7"
  }
 },
 "nbformat": 4,
 "nbformat_minor": 5
}
