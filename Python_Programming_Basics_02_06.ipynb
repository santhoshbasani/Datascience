{
 "cells": [
  {
   "cell_type": "markdown",
   "id": "cf652a97",
   "metadata": {},
   "source": [
    "## 2nd day session - 6th February 2022 on python"
   ]
  },
  {
   "cell_type": "markdown",
   "id": "721445a1",
   "metadata": {},
   "source": [
    "### keyword"
   ]
  },
  {
   "cell_type": "code",
   "execution_count": null,
   "id": "6fe225c2",
   "metadata": {},
   "outputs": [],
   "source": []
  },
  {
   "cell_type": "code",
   "execution_count": 10,
   "id": "1b8b6f3a",
   "metadata": {},
   "outputs": [
    {
     "data": {
      "text/plain": [
       "['False',\n",
       " 'None',\n",
       " 'True',\n",
       " '__peg_parser__',\n",
       " 'and',\n",
       " 'as',\n",
       " 'assert',\n",
       " 'async',\n",
       " 'await',\n",
       " 'break',\n",
       " 'class',\n",
       " 'continue',\n",
       " 'def',\n",
       " 'del',\n",
       " 'elif',\n",
       " 'else',\n",
       " 'except',\n",
       " 'finally',\n",
       " 'for',\n",
       " 'from',\n",
       " 'global',\n",
       " 'if',\n",
       " 'import',\n",
       " 'in',\n",
       " 'is',\n",
       " 'lambda',\n",
       " 'nonlocal',\n",
       " 'not',\n",
       " 'or',\n",
       " 'pass',\n",
       " 'raise',\n",
       " 'return',\n",
       " 'try',\n",
       " 'while',\n",
       " 'with',\n",
       " 'yield']"
      ]
     },
     "execution_count": 10,
     "metadata": {},
     "output_type": "execute_result"
    }
   ],
   "source": [
    "import keyword\n",
    "keyword.kwlist"
   ]
  },
  {
   "cell_type": "code",
   "execution_count": 6,
   "id": "07ede00a",
   "metadata": {},
   "outputs": [],
   "source": [
    "for i in range(10,1): print(i)"
   ]
  },
  {
   "cell_type": "markdown",
   "id": "d2c304e9",
   "metadata": {},
   "source": [
    "## create user defined packages"
   ]
  },
  {
   "cell_type": "code",
   "execution_count": 11,
   "id": "845494b5",
   "metadata": {},
   "outputs": [],
   "source": [
    "from my_package import test_package"
   ]
  },
  {
   "cell_type": "code",
   "execution_count": 12,
   "id": "2c3b9d05",
   "metadata": {},
   "outputs": [
    {
     "data": {
      "text/plain": [
       "'santhosh'"
      ]
     },
     "execution_count": 12,
     "metadata": {},
     "output_type": "execute_result"
    }
   ],
   "source": [
    "test_package.NAME"
   ]
  },
  {
   "cell_type": "markdown",
   "id": "95d7ed6e",
   "metadata": {},
   "source": [
    "## LIST"
   ]
  },
  {
   "cell_type": "code",
   "execution_count": 17,
   "id": "2f17e4f6",
   "metadata": {},
   "outputs": [
    {
     "name": "stdout",
     "output_type": "stream",
     "text": [
      "1\n",
      "san\n",
      "it\n",
      "2\n",
      "raj\n",
      "bank\n"
     ]
    }
   ],
   "source": [
    "list1 = [1,'san','it',2,'raj','bank']\n",
    "for i in list1:\n",
    "    print(i)"
   ]
  },
  {
   "cell_type": "markdown",
   "id": "a8f250db",
   "metadata": {},
   "source": [
    "### List Comprehension"
   ]
  },
  {
   "cell_type": "code",
   "execution_count": 25,
   "id": "7bd23c22",
   "metadata": {},
   "outputs": [
    {
     "data": {
      "text/plain": [
       "['raj']"
      ]
     },
     "execution_count": 25,
     "metadata": {},
     "output_type": "execute_result"
    }
   ],
   "source": [
    "list1 = [1,'san','it',2,'raj','bank']\n",
    "[a for a in list1 if a=='raj'] "
   ]
  },
  {
   "cell_type": "code",
   "execution_count": 30,
   "id": "9b0e97e3",
   "metadata": {},
   "outputs": [
    {
     "data": {
      "text/plain": [
       "[0, 1, 2, 3, 4, 5, 6, 7, 8, 9, 10]"
      ]
     },
     "execution_count": 30,
     "metadata": {},
     "output_type": "execute_result"
    }
   ],
   "source": [
    "list(range(11))\n"
   ]
  },
  {
   "cell_type": "markdown",
   "id": "4974e580",
   "metadata": {},
   "source": [
    "## first for loop will execute and will check the if condition and then will go into the expression. \n",
    "## a**2 -> expression (3)\n",
    "## for a in range(11)   --> loop  (1)\n",
    "##if a%2==0  -> condition (2)"
   ]
  },
  {
   "cell_type": "code",
   "execution_count": 32,
   "id": "b6bf737a",
   "metadata": {},
   "outputs": [
    {
     "name": "stdout",
     "output_type": "stream",
     "text": [
      "[0, 4, 16, 36, 64, 100]\n"
     ]
    }
   ],
   "source": [
    "power2= [a**2 for a in range(11) if a%2==0]   \n",
    "print(power2)"
   ]
  },
  {
   "cell_type": "markdown",
   "id": "2fcab3b8",
   "metadata": {},
   "source": [
    "## SLICING - LIST"
   ]
  },
  {
   "cell_type": "code",
   "execution_count": 6,
   "id": "b6ef698c",
   "metadata": {},
   "outputs": [
    {
     "data": {
      "text/plain": [
       "4"
      ]
     },
     "execution_count": 6,
     "metadata": {},
     "output_type": "execute_result"
    }
   ],
   "source": [
    "list3 = [1,2,3,4,5,6,7,3,8,9,10]\n",
    "list3[3]"
   ]
  },
  {
   "cell_type": "code",
   "execution_count": 7,
   "id": "6de5f895",
   "metadata": {},
   "outputs": [
    {
     "name": "stdout",
     "output_type": "stream",
     "text": [
      "10\n",
      "[3, 4, 5]\n",
      "4\n",
      "[1, 2, 3, 12, 5, 6, 7, 3, 8, 9, 10]\n",
      "12\n",
      "9\n",
      "[7, 3, 8, 9]\n",
      "[7, 3, 8, 9, 10]\n"
     ]
    }
   ],
   "source": [
    "print(list3[-1])\n",
    "print(list3[2:5])\n",
    "print(list3[3])\n",
    "list3[3]=12    ## list is mutable\n",
    "print(list3)\n",
    "print(list3[3])\n",
    "print(list3[-2])\n",
    "print(list3[-5:-1])\n",
    "print(list3[-5:])"
   ]
  },
  {
   "cell_type": "markdown",
   "id": "70861e09",
   "metadata": {},
   "source": [
    "## Tuple\n",
    "## Tuple is immutable"
   ]
  },
  {
   "cell_type": "code",
   "execution_count": 49,
   "id": "0535af85",
   "metadata": {},
   "outputs": [
    {
     "data": {
      "text/plain": [
       "(3, 4)"
      ]
     },
     "execution_count": 49,
     "metadata": {},
     "output_type": "execute_result"
    }
   ],
   "source": [
    "a = (1,2,3,4,5)\n",
    "a[2:4]"
   ]
  },
  {
   "cell_type": "code",
   "execution_count": 50,
   "id": "e7983d9d",
   "metadata": {
    "scrolled": true
   },
   "outputs": [
    {
     "ename": "TypeError",
     "evalue": "'tuple' object does not support item assignment",
     "output_type": "error",
     "traceback": [
      "\u001b[1;31m---------------------------------------------------------------------------\u001b[0m",
      "\u001b[1;31mTypeError\u001b[0m                                 Traceback (most recent call last)",
      "\u001b[1;32m~\\AppData\\Local\\Temp/ipykernel_40248/1724992242.py\u001b[0m in \u001b[0;36m<module>\u001b[1;34m\u001b[0m\n\u001b[1;32m----> 1\u001b[1;33m \u001b[0ma\u001b[0m\u001b[1;33m[\u001b[0m\u001b[1;36m2\u001b[0m\u001b[1;33m]\u001b[0m \u001b[1;33m=\u001b[0m \u001b[1;36m13\u001b[0m \u001b[1;31m## can't assign value to tuple variable\u001b[0m\u001b[1;33m\u001b[0m\u001b[1;33m\u001b[0m\u001b[0m\n\u001b[0m",
      "\u001b[1;31mTypeError\u001b[0m: 'tuple' object does not support item assignment"
     ]
    }
   ],
   "source": [
    "a[2] = 13 ## can't assign value to tuple variable"
   ]
  },
  {
   "cell_type": "markdown",
   "id": "2d137a51",
   "metadata": {},
   "source": [
    "## String"
   ]
  },
  {
   "cell_type": "code",
   "execution_count": 51,
   "id": "c781f44b",
   "metadata": {},
   "outputs": [
    {
     "name": "stdout",
     "output_type": "stream",
     "text": [
      "thsi is santhosh\n"
     ]
    },
    {
     "data": {
      "text/plain": [
       "'i'"
      ]
     },
     "execution_count": 51,
     "metadata": {},
     "output_type": "execute_result"
    }
   ],
   "source": [
    "s='thsi is santhosh'\n",
    "print(s)\n",
    "type(s)\n",
    "s[5]"
   ]
  },
  {
   "cell_type": "code",
   "execution_count": 56,
   "id": "539b5d27",
   "metadata": {},
   "outputs": [
    {
     "name": "stdout",
     "output_type": "stream",
     "text": [
      "thosh\n",
      "thos\n"
     ]
    }
   ],
   "source": [
    "print(s[-5:])\n",
    "print(s[-5:-1])"
   ]
  },
  {
   "cell_type": "code",
   "execution_count": 59,
   "id": "155aec83",
   "metadata": {},
   "outputs": [
    {
     "ename": "NameError",
     "evalue": "name 'rev' is not defined",
     "output_type": "error",
     "traceback": [
      "\u001b[1;31m---------------------------------------------------------------------------\u001b[0m",
      "\u001b[1;31mNameError\u001b[0m                                 Traceback (most recent call last)",
      "\u001b[1;32m~\\AppData\\Local\\Temp/ipykernel_40248/350387620.py\u001b[0m in \u001b[0;36m<module>\u001b[1;34m\u001b[0m\n\u001b[1;32m----> 1\u001b[1;33m \u001b[0mrev\u001b[0m\u001b[1;33m(\u001b[0m\u001b[0ms\u001b[0m\u001b[1;33m)\u001b[0m\u001b[1;33m\u001b[0m\u001b[1;33m\u001b[0m\u001b[0m\n\u001b[0m\u001b[0;32m      2\u001b[0m \u001b[0ms\u001b[0m\u001b[1;33m[\u001b[0m\u001b[1;36m5\u001b[0m\u001b[1;33m]\u001b[0m\u001b[1;33m=\u001b[0m\u001b[1;34m'k'\u001b[0m\u001b[1;33m\u001b[0m\u001b[1;33m\u001b[0m\u001b[0m\n",
      "\u001b[1;31mNameError\u001b[0m: name 'rev' is not defined"
     ]
    }
   ],
   "source": [
    "s[5]='k'"
   ]
  },
  {
   "cell_type": "markdown",
   "id": "7e200352",
   "metadata": {},
   "source": [
    "## SET - unordered - set is not allowed slicing option and index"
   ]
  },
  {
   "cell_type": "code",
   "execution_count": 60,
   "id": "d003cb41",
   "metadata": {},
   "outputs": [
    {
     "data": {
      "text/plain": [
       "set"
      ]
     },
     "execution_count": 60,
     "metadata": {},
     "output_type": "execute_result"
    }
   ],
   "source": [
    "set1 = {1,2,3,4,6}\n",
    "type(set1)"
   ]
  },
  {
   "cell_type": "code",
   "execution_count": 64,
   "id": "a398834a",
   "metadata": {},
   "outputs": [
    {
     "ename": "TypeError",
     "evalue": "'set' object is not subscriptable",
     "output_type": "error",
     "traceback": [
      "\u001b[1;31m---------------------------------------------------------------------------\u001b[0m",
      "\u001b[1;31mTypeError\u001b[0m                                 Traceback (most recent call last)",
      "\u001b[1;32m~\\AppData\\Local\\Temp/ipykernel_40248/2205921943.py\u001b[0m in \u001b[0;36m<module>\u001b[1;34m\u001b[0m\n\u001b[1;32m----> 1\u001b[1;33m \u001b[0mset1\u001b[0m\u001b[1;33m[\u001b[0m\u001b[1;36m4\u001b[0m\u001b[1;33m]\u001b[0m\u001b[1;33m\u001b[0m\u001b[1;33m\u001b[0m\u001b[0m\n\u001b[0m",
      "\u001b[1;31mTypeError\u001b[0m: 'set' object is not subscriptable"
     ]
    }
   ],
   "source": [
    "set1[4]"
   ]
  },
  {
   "cell_type": "code",
   "execution_count": 61,
   "id": "136210b7",
   "metadata": {},
   "outputs": [
    {
     "data": {
      "text/plain": [
       "{1, 2, 3, 4, 6}"
      ]
     },
     "execution_count": 61,
     "metadata": {},
     "output_type": "execute_result"
    }
   ],
   "source": [
    "set1"
   ]
  },
  {
   "cell_type": "code",
   "execution_count": null,
   "id": "0e1e2591",
   "metadata": {},
   "outputs": [],
   "source": []
  },
  {
   "cell_type": "code",
   "execution_count": 66,
   "id": "12a86f2d",
   "metadata": {},
   "outputs": [
    {
     "data": {
      "text/plain": [
       "{0, 1, 10, 13, 2, 3, 4, 5, 6, 'sant', 'string'}"
      ]
     },
     "execution_count": 66,
     "metadata": {},
     "output_type": "execute_result"
    }
   ],
   "source": [
    "set2 = {1,2,13,13,0,2,3,4,4,4,5,10,6,6,6,6,6,6,'string','string','sant'}\n",
    "set2"
   ]
  },
  {
   "cell_type": "markdown",
   "id": "ee5e69e1",
   "metadata": {},
   "source": [
    "## Dictionary\n",
    "## unordered collection of key value pair"
   ]
  },
  {
   "cell_type": "code",
   "execution_count": 5,
   "id": "655cdfea",
   "metadata": {},
   "outputs": [
    {
     "data": {
      "text/plain": [
       "{1: 'sant', 2: 'kaly', 3: 'shiv', 4: 'santhosh'}"
      ]
     },
     "execution_count": 5,
     "metadata": {},
     "output_type": "execute_result"
    }
   ],
   "source": [
    "dict1 = {1: 'sant', 2: 'kaly', 3: 'shiv', 4: 'shourya', 4: 'santhosh'}\n",
    "type(dict1)\n",
    "dict1"
   ]
  },
  {
   "cell_type": "code",
   "execution_count": 9,
   "id": "4f2b523a",
   "metadata": {
    "scrolled": true
   },
   "outputs": [
    {
     "data": {
      "text/plain": [
       "'santhosh'"
      ]
     },
     "execution_count": 9,
     "metadata": {},
     "output_type": "execute_result"
    }
   ],
   "source": [
    "dict1[4]"
   ]
  },
  {
   "cell_type": "code",
   "execution_count": null,
   "id": "092c26a9",
   "metadata": {},
   "outputs": [],
   "source": [
    "dict1 = {1: 'sant', 2: 'kaly', 3: 'shiv', 4: 'shourya'}"
   ]
  },
  {
   "cell_type": "code",
   "execution_count": null,
   "id": "83832047",
   "metadata": {},
   "outputs": [],
   "source": []
  },
  {
   "cell_type": "code",
   "execution_count": null,
   "id": "b24ca7d4",
   "metadata": {},
   "outputs": [],
   "source": []
  },
  {
   "cell_type": "code",
   "execution_count": null,
   "id": "0670276c",
   "metadata": {},
   "outputs": [],
   "source": []
  }
 ],
 "metadata": {
  "kernelspec": {
   "display_name": "Python 3 (ipykernel)",
   "language": "python",
   "name": "python3"
  },
  "language_info": {
   "codemirror_mode": {
    "name": "ipython",
    "version": 3
   },
   "file_extension": ".py",
   "mimetype": "text/x-python",
   "name": "python",
   "nbconvert_exporter": "python",
   "pygments_lexer": "ipython3",
   "version": "3.9.7"
  }
 },
 "nbformat": 4,
 "nbformat_minor": 5
}
