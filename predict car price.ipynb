{
 "cells": [
  {
   "cell_type": "markdown",
   "id": "f28d74cb",
   "metadata": {},
   "source": [
    "### car price prediction"
   ]
  },
  {
   "cell_type": "code",
   "execution_count": 2,
   "id": "e995722e",
   "metadata": {},
   "outputs": [],
   "source": [
    "import numpy as np\n",
    "import pandas as pd\n",
    "import matplotlib.pyplot as plt\n",
    "import seaborn as sns\n",
    "from statsmodels.stats.outliers_influence import variance_inflation_factor\n",
    "from sklearn.model_selection import train_test_split\n",
    "from sklearn.linear_model import LinearRegression \n",
    "from sklearn.metrics import mean_squared_error, mean_absolute_error, mean_absolute_percentage_error\n",
    "from sklearn.preprocessing import StandardScaler, MinMaxScaler"
   ]
  },
  {
   "cell_type": "code",
   "execution_count": 4,
   "id": "5f0f013e",
   "metadata": {},
   "outputs": [],
   "source": [
    "import os"
   ]
  },
  {
   "cell_type": "code",
   "execution_count": 5,
   "id": "27eb101b",
   "metadata": {},
   "outputs": [],
   "source": [
    "os.chdir(r\"C:\\Users\\kalya\\Santhosh\\Data Science\\Notebook\\Preprocessing\")"
   ]
  },
  {
   "cell_type": "code",
   "execution_count": 6,
   "id": "e79c6923",
   "metadata": {},
   "outputs": [],
   "source": [
    "data = pd.read_csv(\"Predict Cab price.csv\")"
   ]
  },
  {
   "cell_type": "code",
   "execution_count": 7,
   "id": "bef1d2c0",
   "metadata": {},
   "outputs": [
    {
     "data": {
      "text/html": [
       "<div>\n",
       "<style scoped>\n",
       "    .dataframe tbody tr th:only-of-type {\n",
       "        vertical-align: middle;\n",
       "    }\n",
       "\n",
       "    .dataframe tbody tr th {\n",
       "        vertical-align: top;\n",
       "    }\n",
       "\n",
       "    .dataframe thead th {\n",
       "        text-align: right;\n",
       "    }\n",
       "</style>\n",
       "<table border=\"1\" class=\"dataframe\">\n",
       "  <thead>\n",
       "    <tr style=\"text-align: right;\">\n",
       "      <th></th>\n",
       "      <th>miles</th>\n",
       "      <th>temp</th>\n",
       "      <th>rain</th>\n",
       "      <th>ncabs</th>\n",
       "      <th>price</th>\n",
       "    </tr>\n",
       "  </thead>\n",
       "  <tbody>\n",
       "    <tr>\n",
       "      <th>0</th>\n",
       "      <td>1</td>\n",
       "      <td>30</td>\n",
       "      <td>0</td>\n",
       "      <td>10</td>\n",
       "      <td>20</td>\n",
       "    </tr>\n",
       "    <tr>\n",
       "      <th>1</th>\n",
       "      <td>1</td>\n",
       "      <td>38</td>\n",
       "      <td>0</td>\n",
       "      <td>5</td>\n",
       "      <td>40</td>\n",
       "    </tr>\n",
       "    <tr>\n",
       "      <th>2</th>\n",
       "      <td>1</td>\n",
       "      <td>25</td>\n",
       "      <td>0</td>\n",
       "      <td>1</td>\n",
       "      <td>50</td>\n",
       "    </tr>\n",
       "    <tr>\n",
       "      <th>3</th>\n",
       "      <td>1</td>\n",
       "      <td>20</td>\n",
       "      <td>1</td>\n",
       "      <td>10</td>\n",
       "      <td>50</td>\n",
       "    </tr>\n",
       "    <tr>\n",
       "      <th>4</th>\n",
       "      <td>1</td>\n",
       "      <td>15</td>\n",
       "      <td>1</td>\n",
       "      <td>4</td>\n",
       "      <td>80</td>\n",
       "    </tr>\n",
       "  </tbody>\n",
       "</table>\n",
       "</div>"
      ],
      "text/plain": [
       "   miles  temp  rain  ncabs  price\n",
       "0      1    30     0     10     20\n",
       "1      1    38     0      5     40\n",
       "2      1    25     0      1     50\n",
       "3      1    20     1     10     50\n",
       "4      1    15     1      4     80"
      ]
     },
     "execution_count": 7,
     "metadata": {},
     "output_type": "execute_result"
    }
   ],
   "source": [
    "data.head()"
   ]
  },
  {
   "cell_type": "code",
   "execution_count": 8,
   "id": "594c8e6d",
   "metadata": {},
   "outputs": [
    {
     "data": {
      "text/plain": [
       "1    12\n",
       "2    12\n",
       "3    12\n",
       "4    12\n",
       "5    12\n",
       "Name: miles, dtype: int64"
      ]
     },
     "execution_count": 8,
     "metadata": {},
     "output_type": "execute_result"
    }
   ],
   "source": [
    "data['miles'].value_counts()"
   ]
  },
  {
   "cell_type": "code",
   "execution_count": 9,
   "id": "d4355135",
   "metadata": {},
   "outputs": [
    {
     "name": "stdout",
     "output_type": "stream",
     "text": [
      "<class 'pandas.core.frame.DataFrame'>\n",
      "RangeIndex: 60 entries, 0 to 59\n",
      "Data columns (total 5 columns):\n",
      " #   Column  Non-Null Count  Dtype\n",
      "---  ------  --------------  -----\n",
      " 0   miles   60 non-null     int64\n",
      " 1   temp    60 non-null     int64\n",
      " 2   rain    60 non-null     int64\n",
      " 3   ncabs   60 non-null     int64\n",
      " 4   price   60 non-null     int64\n",
      "dtypes: int64(5)\n",
      "memory usage: 2.5 KB\n"
     ]
    }
   ],
   "source": [
    "data.info()"
   ]
  },
  {
   "cell_type": "code",
   "execution_count": 11,
   "id": "3eb80849",
   "metadata": {},
   "outputs": [
    {
     "data": {
      "text/html": [
       "<div>\n",
       "<style scoped>\n",
       "    .dataframe tbody tr th:only-of-type {\n",
       "        vertical-align: middle;\n",
       "    }\n",
       "\n",
       "    .dataframe tbody tr th {\n",
       "        vertical-align: top;\n",
       "    }\n",
       "\n",
       "    .dataframe thead th {\n",
       "        text-align: right;\n",
       "    }\n",
       "</style>\n",
       "<table border=\"1\" class=\"dataframe\">\n",
       "  <thead>\n",
       "    <tr style=\"text-align: right;\">\n",
       "      <th></th>\n",
       "      <th>count</th>\n",
       "      <th>mean</th>\n",
       "      <th>std</th>\n",
       "      <th>min</th>\n",
       "      <th>25%</th>\n",
       "      <th>50%</th>\n",
       "      <th>75%</th>\n",
       "      <th>max</th>\n",
       "    </tr>\n",
       "  </thead>\n",
       "  <tbody>\n",
       "    <tr>\n",
       "      <th>miles</th>\n",
       "      <td>60.0</td>\n",
       "      <td>3.000000</td>\n",
       "      <td>1.426148</td>\n",
       "      <td>1.0</td>\n",
       "      <td>2.0</td>\n",
       "      <td>3.0</td>\n",
       "      <td>4.00</td>\n",
       "      <td>5.0</td>\n",
       "    </tr>\n",
       "    <tr>\n",
       "      <th>temp</th>\n",
       "      <td>60.0</td>\n",
       "      <td>23.350000</td>\n",
       "      <td>9.166677</td>\n",
       "      <td>10.0</td>\n",
       "      <td>15.0</td>\n",
       "      <td>21.0</td>\n",
       "      <td>30.00</td>\n",
       "      <td>39.0</td>\n",
       "    </tr>\n",
       "    <tr>\n",
       "      <th>rain</th>\n",
       "      <td>60.0</td>\n",
       "      <td>0.500000</td>\n",
       "      <td>0.504219</td>\n",
       "      <td>0.0</td>\n",
       "      <td>0.0</td>\n",
       "      <td>0.5</td>\n",
       "      <td>1.00</td>\n",
       "      <td>1.0</td>\n",
       "    </tr>\n",
       "    <tr>\n",
       "      <th>ncabs</th>\n",
       "      <td>60.0</td>\n",
       "      <td>5.416667</td>\n",
       "      <td>3.632675</td>\n",
       "      <td>1.0</td>\n",
       "      <td>2.0</td>\n",
       "      <td>4.5</td>\n",
       "      <td>10.00</td>\n",
       "      <td>11.0</td>\n",
       "    </tr>\n",
       "    <tr>\n",
       "      <th>price</th>\n",
       "      <td>60.0</td>\n",
       "      <td>157.683333</td>\n",
       "      <td>119.883629</td>\n",
       "      <td>20.0</td>\n",
       "      <td>80.0</td>\n",
       "      <td>123.5</td>\n",
       "      <td>200.25</td>\n",
       "      <td>555.0</td>\n",
       "    </tr>\n",
       "  </tbody>\n",
       "</table>\n",
       "</div>"
      ],
      "text/plain": [
       "       count        mean         std   min   25%    50%     75%    max\n",
       "miles   60.0    3.000000    1.426148   1.0   2.0    3.0    4.00    5.0\n",
       "temp    60.0   23.350000    9.166677  10.0  15.0   21.0   30.00   39.0\n",
       "rain    60.0    0.500000    0.504219   0.0   0.0    0.5    1.00    1.0\n",
       "ncabs   60.0    5.416667    3.632675   1.0   2.0    4.5   10.00   11.0\n",
       "price   60.0  157.683333  119.883629  20.0  80.0  123.5  200.25  555.0"
      ]
     },
     "execution_count": 11,
     "metadata": {},
     "output_type": "execute_result"
    }
   ],
   "source": [
    "data.describe().T"
   ]
  },
  {
   "cell_type": "code",
   "execution_count": 12,
   "id": "42495c8d",
   "metadata": {},
   "outputs": [],
   "source": [
    "scale = StandardScaler()\n",
    "X = pd.DataFrame(scale.fit_transform(data.drop(columns='price')), columns = data.drop(columns='price').columns)"
   ]
  },
  {
   "cell_type": "code",
   "execution_count": 14,
   "id": "093bccad",
   "metadata": {},
   "outputs": [
    {
     "data": {
      "text/html": [
       "<div>\n",
       "<style scoped>\n",
       "    .dataframe tbody tr th:only-of-type {\n",
       "        vertical-align: middle;\n",
       "    }\n",
       "\n",
       "    .dataframe tbody tr th {\n",
       "        vertical-align: top;\n",
       "    }\n",
       "\n",
       "    .dataframe thead th {\n",
       "        text-align: right;\n",
       "    }\n",
       "</style>\n",
       "<table border=\"1\" class=\"dataframe\">\n",
       "  <thead>\n",
       "    <tr style=\"text-align: right;\">\n",
       "      <th></th>\n",
       "      <th>miles</th>\n",
       "      <th>temp</th>\n",
       "      <th>rain</th>\n",
       "      <th>ncabs</th>\n",
       "    </tr>\n",
       "  </thead>\n",
       "  <tbody>\n",
       "    <tr>\n",
       "      <th>0</th>\n",
       "      <td>-1.414214</td>\n",
       "      <td>0.731576</td>\n",
       "      <td>-1.0</td>\n",
       "      <td>1.272344</td>\n",
       "    </tr>\n",
       "    <tr>\n",
       "      <th>1</th>\n",
       "      <td>-1.414214</td>\n",
       "      <td>1.611667</td>\n",
       "      <td>-1.0</td>\n",
       "      <td>-0.115668</td>\n",
       "    </tr>\n",
       "    <tr>\n",
       "      <th>2</th>\n",
       "      <td>-1.414214</td>\n",
       "      <td>0.181519</td>\n",
       "      <td>-1.0</td>\n",
       "      <td>-1.226077</td>\n",
       "    </tr>\n",
       "    <tr>\n",
       "      <th>3</th>\n",
       "      <td>-1.414214</td>\n",
       "      <td>-0.368538</td>\n",
       "      <td>1.0</td>\n",
       "      <td>1.272344</td>\n",
       "    </tr>\n",
       "    <tr>\n",
       "      <th>4</th>\n",
       "      <td>-1.414214</td>\n",
       "      <td>-0.918595</td>\n",
       "      <td>1.0</td>\n",
       "      <td>-0.393270</td>\n",
       "    </tr>\n",
       "  </tbody>\n",
       "</table>\n",
       "</div>"
      ],
      "text/plain": [
       "      miles      temp  rain     ncabs\n",
       "0 -1.414214  0.731576  -1.0  1.272344\n",
       "1 -1.414214  1.611667  -1.0 -0.115668\n",
       "2 -1.414214  0.181519  -1.0 -1.226077\n",
       "3 -1.414214 -0.368538   1.0  1.272344\n",
       "4 -1.414214 -0.918595   1.0 -0.393270"
      ]
     },
     "execution_count": 14,
     "metadata": {},
     "output_type": "execute_result"
    }
   ],
   "source": [
    "X.head()"
   ]
  },
  {
   "cell_type": "code",
   "execution_count": 15,
   "id": "fca67318",
   "metadata": {},
   "outputs": [],
   "source": [
    "y = data['price']"
   ]
  },
  {
   "cell_type": "code",
   "execution_count": 16,
   "id": "f3f22ad6",
   "metadata": {},
   "outputs": [
    {
     "data": {
      "text/plain": [
       "0    20\n",
       "1    40\n",
       "2    50\n",
       "3    50\n",
       "4    80\n",
       "Name: price, dtype: int64"
      ]
     },
     "execution_count": 16,
     "metadata": {},
     "output_type": "execute_result"
    }
   ],
   "source": [
    "y.head()"
   ]
  },
  {
   "cell_type": "code",
   "execution_count": 17,
   "id": "a90b7572",
   "metadata": {},
   "outputs": [],
   "source": [
    "train_X, test_X, train_y, test_y = train_test_split(X,y,test_size = 0.3, random_state=2)"
   ]
  },
  {
   "cell_type": "code",
   "execution_count": 18,
   "id": "7834c055",
   "metadata": {},
   "outputs": [
    {
     "data": {
      "text/plain": [
       "((42, 4), (18, 4), (42,), (18,))"
      ]
     },
     "execution_count": 18,
     "metadata": {},
     "output_type": "execute_result"
    }
   ],
   "source": [
    "train_X.shape, test_X.shape, train_y.shape, test_y.shape"
   ]
  },
  {
   "cell_type": "code",
   "execution_count": 19,
   "id": "7e31ed55",
   "metadata": {},
   "outputs": [],
   "source": [
    "model = LinearRegression()"
   ]
  },
  {
   "cell_type": "code",
   "execution_count": 20,
   "id": "a37f6d55",
   "metadata": {},
   "outputs": [
    {
     "data": {
      "text/plain": [
       "LinearRegression()"
      ]
     },
     "execution_count": 20,
     "metadata": {},
     "output_type": "execute_result"
    }
   ],
   "source": [
    "model.fit(train_X,train_y)"
   ]
  },
  {
   "cell_type": "code",
   "execution_count": 21,
   "id": "d2cdf9ef",
   "metadata": {},
   "outputs": [
    {
     "data": {
      "text/plain": [
       "array([ 77.88736938, -32.30545748,  40.46802441, -39.72558695])"
      ]
     },
     "execution_count": 21,
     "metadata": {},
     "output_type": "execute_result"
    }
   ],
   "source": [
    "model.coef_"
   ]
  },
  {
   "cell_type": "code",
   "execution_count": 22,
   "id": "d9e82e00",
   "metadata": {},
   "outputs": [
    {
     "data": {
      "text/plain": [
       "155.0496741740503"
      ]
     },
     "execution_count": 22,
     "metadata": {},
     "output_type": "execute_result"
    }
   ],
   "source": [
    "model.intercept_"
   ]
  },
  {
   "cell_type": "code",
   "execution_count": 23,
   "id": "0ddc3c59",
   "metadata": {},
   "outputs": [],
   "source": [
    "train_pred = model.predict(train_X)"
   ]
  },
  {
   "cell_type": "code",
   "execution_count": 24,
   "id": "d1f35003",
   "metadata": {},
   "outputs": [
    {
     "name": "stdout",
     "output_type": "stream",
     "text": [
      "<class 'pandas.core.frame.DataFrame'>\n",
      "RangeIndex: 60 entries, 0 to 59\n",
      "Data columns (total 4 columns):\n",
      " #   Column  Non-Null Count  Dtype  \n",
      "---  ------  --------------  -----  \n",
      " 0   miles   60 non-null     float64\n",
      " 1   temp    60 non-null     float64\n",
      " 2   rain    60 non-null     float64\n",
      " 3   ncabs   60 non-null     float64\n",
      "dtypes: float64(4)\n",
      "memory usage: 2.0 KB\n"
     ]
    }
   ],
   "source": [
    "X.info()"
   ]
  },
  {
   "cell_type": "code",
   "execution_count": null,
   "id": "de2ba471",
   "metadata": {},
   "outputs": [],
   "source": [
    "## car price = 77.88 * miles   - 32.30 * temp + 40.46 * rain - 39.72 * ncabs"
   ]
  },
  {
   "cell_type": "code",
   "execution_count": 25,
   "id": "3a6a25a1",
   "metadata": {},
   "outputs": [],
   "source": [
    "train_pred = model.predict(train_X)"
   ]
  },
  {
   "cell_type": "code",
   "execution_count": 26,
   "id": "eacf93ce",
   "metadata": {},
   "outputs": [
    {
     "data": {
      "text/plain": [
       "array([390.79126221, 226.71478614, 280.64188809, 340.30368392,\n",
       "        43.95711821, 328.60863791,  40.40314959, 157.42422459,\n",
       "       143.44458646, 240.81621567,  47.27485048, 177.260348  ,\n",
       "       122.18566095, 263.47429013, -14.67153747, 214.90529517,\n",
       "       150.5525237 , 170.49251398, 208.39960307,  32.14762725,\n",
       "       130.66684156, 109.45747478,  46.72951052,  98.25022896,\n",
       "         8.48231821, 212.49891165, 267.57359871,  88.3698994 ,\n",
       "       211.95357169, 285.22899687, -28.45651695, 112.16498087,\n",
       "        12.03628683, 383.68332496, 225.56720104,  95.47783665,\n",
       "        70.66494251, 295.89090273, 102.34953754, 153.32491601,\n",
       "       156.87888464, 175.07962275])"
      ]
     },
     "execution_count": 26,
     "metadata": {},
     "output_type": "execute_result"
    }
   ],
   "source": [
    "train_pred"
   ]
  },
  {
   "cell_type": "code",
   "execution_count": 28,
   "id": "c502e3d4",
   "metadata": {},
   "outputs": [],
   "source": [
    "train_mse = mean_squared_error(train_y, train_pred)"
   ]
  },
  {
   "cell_type": "code",
   "execution_count": 29,
   "id": "eddba72d",
   "metadata": {},
   "outputs": [],
   "source": [
    "train_mae = mean_absolute_error(train_y, train_pred)\n",
    "train_rmse = np.sqrt(mean_squared_error(train_y, train_pred))\n",
    "\n",
    "train_mape = mean_absolute_percentage_error(train_y, train_pred)\n",
    "\n",
    "test_pred = model.predict(test_X)\n",
    "\n",
    "test_mse = mean_squared_error(test_y, test_pred)\n",
    "\n",
    "test_mae = mean_absolute_error(test_y, test_pred)\n",
    "\n",
    "test_rmse = np.sqrt(mean_squared_error(test_y, test_pred))\n",
    "\n",
    "test_mape = mean_absolute_percentage_error(test_y, test_pred)"
   ]
  },
  {
   "cell_type": "code",
   "execution_count": 30,
   "id": "b17e18e0",
   "metadata": {},
   "outputs": [
    {
     "data": {
      "text/plain": [
       "(3735.9623695960513, 44.01851456548739, 61.12251933286169, 0.3410900628910891)"
      ]
     },
     "execution_count": 30,
     "metadata": {},
     "output_type": "execute_result"
    }
   ],
   "source": [
    "train_mse, train_mae, train_rmse, train_mape"
   ]
  },
  {
   "cell_type": "code",
   "execution_count": 31,
   "id": "9738097d",
   "metadata": {},
   "outputs": [
    {
     "data": {
      "text/plain": [
       "(4241.036823711411, 56.65748412326996, 65.12324334453415, 0.9614094758065784)"
      ]
     },
     "execution_count": 31,
     "metadata": {},
     "output_type": "execute_result"
    }
   ],
   "source": [
    "test_mse, test_mae, test_rmse, test_mape"
   ]
  },
  {
   "cell_type": "code",
   "execution_count": 37,
   "id": "061a7236",
   "metadata": {},
   "outputs": [
    {
     "data": {
      "text/plain": [
       "-1133.482550324787"
      ]
     },
     "execution_count": 37,
     "metadata": {},
     "output_type": "execute_result"
    }
   ],
   "source": [
    "model.predict([[1,30,0,10]])[0]"
   ]
  },
  {
   "cell_type": "code",
   "execution_count": 38,
   "id": "7f845644",
   "metadata": {},
   "outputs": [
    {
     "data": {
      "text/plain": [
       "0    20\n",
       "1    40\n",
       "2    50\n",
       "3    50\n",
       "4    80\n",
       "Name: price, dtype: int64"
      ]
     },
     "execution_count": 38,
     "metadata": {},
     "output_type": "execute_result"
    }
   ],
   "source": [
    "y.head()"
   ]
  },
  {
   "cell_type": "code",
   "execution_count": 33,
   "id": "7047051b",
   "metadata": {},
   "outputs": [
    {
     "data": {
      "text/html": [
       "<div>\n",
       "<style scoped>\n",
       "    .dataframe tbody tr th:only-of-type {\n",
       "        vertical-align: middle;\n",
       "    }\n",
       "\n",
       "    .dataframe tbody tr th {\n",
       "        vertical-align: top;\n",
       "    }\n",
       "\n",
       "    .dataframe thead th {\n",
       "        text-align: right;\n",
       "    }\n",
       "</style>\n",
       "<table border=\"1\" class=\"dataframe\">\n",
       "  <thead>\n",
       "    <tr style=\"text-align: right;\">\n",
       "      <th></th>\n",
       "      <th>miles</th>\n",
       "      <th>temp</th>\n",
       "      <th>rain</th>\n",
       "      <th>ncabs</th>\n",
       "    </tr>\n",
       "  </thead>\n",
       "  <tbody>\n",
       "    <tr>\n",
       "      <th>0</th>\n",
       "      <td>-1.414214</td>\n",
       "      <td>0.731576</td>\n",
       "      <td>-1.0</td>\n",
       "      <td>1.272344</td>\n",
       "    </tr>\n",
       "    <tr>\n",
       "      <th>1</th>\n",
       "      <td>-1.414214</td>\n",
       "      <td>1.611667</td>\n",
       "      <td>-1.0</td>\n",
       "      <td>-0.115668</td>\n",
       "    </tr>\n",
       "    <tr>\n",
       "      <th>2</th>\n",
       "      <td>-1.414214</td>\n",
       "      <td>0.181519</td>\n",
       "      <td>-1.0</td>\n",
       "      <td>-1.226077</td>\n",
       "    </tr>\n",
       "    <tr>\n",
       "      <th>3</th>\n",
       "      <td>-1.414214</td>\n",
       "      <td>-0.368538</td>\n",
       "      <td>1.0</td>\n",
       "      <td>1.272344</td>\n",
       "    </tr>\n",
       "    <tr>\n",
       "      <th>4</th>\n",
       "      <td>-1.414214</td>\n",
       "      <td>-0.918595</td>\n",
       "      <td>1.0</td>\n",
       "      <td>-0.393270</td>\n",
       "    </tr>\n",
       "  </tbody>\n",
       "</table>\n",
       "</div>"
      ],
      "text/plain": [
       "      miles      temp  rain     ncabs\n",
       "0 -1.414214  0.731576  -1.0  1.272344\n",
       "1 -1.414214  1.611667  -1.0 -0.115668\n",
       "2 -1.414214  0.181519  -1.0 -1.226077\n",
       "3 -1.414214 -0.368538   1.0  1.272344\n",
       "4 -1.414214 -0.918595   1.0 -0.393270"
      ]
     },
     "execution_count": 33,
     "metadata": {},
     "output_type": "execute_result"
    }
   ],
   "source": [
    "X.head()"
   ]
  },
  {
   "cell_type": "code",
   "execution_count": 35,
   "id": "e83b406e",
   "metadata": {},
   "outputs": [
    {
     "data": {
      "text/html": [
       "<div>\n",
       "<style scoped>\n",
       "    .dataframe tbody tr th:only-of-type {\n",
       "        vertical-align: middle;\n",
       "    }\n",
       "\n",
       "    .dataframe tbody tr th {\n",
       "        vertical-align: top;\n",
       "    }\n",
       "\n",
       "    .dataframe thead th {\n",
       "        text-align: right;\n",
       "    }\n",
       "</style>\n",
       "<table border=\"1\" class=\"dataframe\">\n",
       "  <thead>\n",
       "    <tr style=\"text-align: right;\">\n",
       "      <th></th>\n",
       "      <th>miles</th>\n",
       "      <th>temp</th>\n",
       "      <th>rain</th>\n",
       "      <th>ncabs</th>\n",
       "      <th>price</th>\n",
       "    </tr>\n",
       "  </thead>\n",
       "  <tbody>\n",
       "    <tr>\n",
       "      <th>0</th>\n",
       "      <td>1</td>\n",
       "      <td>30</td>\n",
       "      <td>0</td>\n",
       "      <td>10</td>\n",
       "      <td>20</td>\n",
       "    </tr>\n",
       "    <tr>\n",
       "      <th>1</th>\n",
       "      <td>1</td>\n",
       "      <td>38</td>\n",
       "      <td>0</td>\n",
       "      <td>5</td>\n",
       "      <td>40</td>\n",
       "    </tr>\n",
       "    <tr>\n",
       "      <th>2</th>\n",
       "      <td>1</td>\n",
       "      <td>25</td>\n",
       "      <td>0</td>\n",
       "      <td>1</td>\n",
       "      <td>50</td>\n",
       "    </tr>\n",
       "    <tr>\n",
       "      <th>3</th>\n",
       "      <td>1</td>\n",
       "      <td>20</td>\n",
       "      <td>1</td>\n",
       "      <td>10</td>\n",
       "      <td>50</td>\n",
       "    </tr>\n",
       "    <tr>\n",
       "      <th>4</th>\n",
       "      <td>1</td>\n",
       "      <td>15</td>\n",
       "      <td>1</td>\n",
       "      <td>4</td>\n",
       "      <td>80</td>\n",
       "    </tr>\n",
       "  </tbody>\n",
       "</table>\n",
       "</div>"
      ],
      "text/plain": [
       "   miles  temp  rain  ncabs  price\n",
       "0      1    30     0     10     20\n",
       "1      1    38     0      5     40\n",
       "2      1    25     0      1     50\n",
       "3      1    20     1     10     50\n",
       "4      1    15     1      4     80"
      ]
     },
     "execution_count": 35,
     "metadata": {},
     "output_type": "execute_result"
    }
   ],
   "source": [
    "data.head()"
   ]
  }
 ],
 "metadata": {
  "kernelspec": {
   "display_name": "Python 3 (ipykernel)",
   "language": "python",
   "name": "python3"
  },
  "language_info": {
   "codemirror_mode": {
    "name": "ipython",
    "version": 3
   },
   "file_extension": ".py",
   "mimetype": "text/x-python",
   "name": "python",
   "nbconvert_exporter": "python",
   "pygments_lexer": "ipython3",
   "version": "3.9.7"
  }
 },
 "nbformat": 4,
 "nbformat_minor": 5
}
