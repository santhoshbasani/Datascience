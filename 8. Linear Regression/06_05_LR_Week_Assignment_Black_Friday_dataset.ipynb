{
 "cells": [
  {
   "cell_type": "markdown",
   "id": "e5e2b1d7",
   "metadata": {},
   "source": [
    "## Got the Black Friday files(train, Test, and Sample) from Analytics Vidhya to predict the values based on the given input columns using the Linear Regression Model. \n",
    "\n",
    "Go to the link - https://datahack.analyticsvidhya.com/contest/black-friday/#ProblemStatement  for the files"
   ]
  },
  {
   "cell_type": "code",
   "execution_count": 1,
   "id": "639558e7",
   "metadata": {},
   "outputs": [],
   "source": [
    "import os\n",
    "import pandas as pd\n",
    "import numpy as np"
   ]
  },
  {
   "cell_type": "code",
   "execution_count": 3,
   "id": "3a6f6440",
   "metadata": {},
   "outputs": [],
   "source": [
    "os.chdir(r\"C:\\Users\\kalya\\Santhosh\\Data Science\\Notebook\\Preprocessing\")"
   ]
  },
  {
   "cell_type": "code",
   "execution_count": 4,
   "id": "87e5ce9c",
   "metadata": {},
   "outputs": [],
   "source": [
    "train = pd.read_csv('Black_Friday_train.csv')"
   ]
  },
  {
   "cell_type": "code",
   "execution_count": 5,
   "id": "65143867",
   "metadata": {},
   "outputs": [],
   "source": [
    "test = pd.read_csv('Black_Friday_test.csv')"
   ]
  },
  {
   "cell_type": "code",
   "execution_count": 6,
   "id": "782aa41c",
   "metadata": {},
   "outputs": [],
   "source": [
    "sample = pd.read_csv('Black_Friday_sample_submission.csv')"
   ]
  },
  {
   "cell_type": "code",
   "execution_count": 93,
   "id": "8a9e1f0e",
   "metadata": {},
   "outputs": [
    {
     "data": {
      "text/plain": [
       "Index(['Purchase', 'User_ID', 'Product_ID'], dtype='object')"
      ]
     },
     "execution_count": 93,
     "metadata": {},
     "output_type": "execute_result"
    }
   ],
   "source": [
    "sample.columns"
   ]
  },
  {
   "cell_type": "code",
   "execution_count": 8,
   "id": "9403ac62",
   "metadata": {},
   "outputs": [
    {
     "data": {
      "text/plain": [
       "((550068, 12), (233599, 11), (233599, 3))"
      ]
     },
     "execution_count": 8,
     "metadata": {},
     "output_type": "execute_result"
    }
   ],
   "source": [
    "train.shape, test.shape, sample.shape"
   ]
  },
  {
   "cell_type": "code",
   "execution_count": 9,
   "id": "ebbb4d3d",
   "metadata": {},
   "outputs": [
    {
     "name": "stdout",
     "output_type": "stream",
     "text": [
      "<class 'pandas.core.frame.DataFrame'>\n",
      "RangeIndex: 550068 entries, 0 to 550067\n",
      "Data columns (total 12 columns):\n",
      " #   Column                      Non-Null Count   Dtype  \n",
      "---  ------                      --------------   -----  \n",
      " 0   User_ID                     550068 non-null  int64  \n",
      " 1   Product_ID                  550068 non-null  object \n",
      " 2   Gender                      550068 non-null  object \n",
      " 3   Age                         550068 non-null  object \n",
      " 4   Occupation                  550068 non-null  int64  \n",
      " 5   City_Category               550068 non-null  object \n",
      " 6   Stay_In_Current_City_Years  550068 non-null  object \n",
      " 7   Marital_Status              550068 non-null  int64  \n",
      " 8   Product_Category_1          550068 non-null  int64  \n",
      " 9   Product_Category_2          376430 non-null  float64\n",
      " 10  Product_Category_3          166821 non-null  float64\n",
      " 11  Purchase                    550068 non-null  int64  \n",
      "dtypes: float64(2), int64(5), object(5)\n",
      "memory usage: 50.4+ MB\n"
     ]
    }
   ],
   "source": [
    "train.info()"
   ]
  },
  {
   "cell_type": "code",
   "execution_count": 10,
   "id": "e035b86e",
   "metadata": {},
   "outputs": [
    {
     "name": "stdout",
     "output_type": "stream",
     "text": [
      "<class 'pandas.core.frame.DataFrame'>\n",
      "RangeIndex: 233599 entries, 0 to 233598\n",
      "Data columns (total 11 columns):\n",
      " #   Column                      Non-Null Count   Dtype  \n",
      "---  ------                      --------------   -----  \n",
      " 0   User_ID                     233599 non-null  int64  \n",
      " 1   Product_ID                  233599 non-null  object \n",
      " 2   Gender                      233599 non-null  object \n",
      " 3   Age                         233599 non-null  object \n",
      " 4   Occupation                  233599 non-null  int64  \n",
      " 5   City_Category               233599 non-null  object \n",
      " 6   Stay_In_Current_City_Years  233599 non-null  object \n",
      " 7   Marital_Status              233599 non-null  int64  \n",
      " 8   Product_Category_1          233599 non-null  int64  \n",
      " 9   Product_Category_2          161255 non-null  float64\n",
      " 10  Product_Category_3          71037 non-null   float64\n",
      "dtypes: float64(2), int64(4), object(5)\n",
      "memory usage: 19.6+ MB\n"
     ]
    }
   ],
   "source": [
    "test.info()"
   ]
  },
  {
   "cell_type": "code",
   "execution_count": 13,
   "id": "24f2c325",
   "metadata": {
    "scrolled": true
   },
   "outputs": [
    {
     "data": {
      "text/html": [
       "<div>\n",
       "<style scoped>\n",
       "    .dataframe tbody tr th:only-of-type {\n",
       "        vertical-align: middle;\n",
       "    }\n",
       "\n",
       "    .dataframe tbody tr th {\n",
       "        vertical-align: top;\n",
       "    }\n",
       "\n",
       "    .dataframe thead th {\n",
       "        text-align: right;\n",
       "    }\n",
       "</style>\n",
       "<table border=\"1\" class=\"dataframe\">\n",
       "  <thead>\n",
       "    <tr style=\"text-align: right;\">\n",
       "      <th></th>\n",
       "      <th>count</th>\n",
       "      <th>unique</th>\n",
       "      <th>top</th>\n",
       "      <th>freq</th>\n",
       "      <th>mean</th>\n",
       "      <th>std</th>\n",
       "      <th>min</th>\n",
       "      <th>25%</th>\n",
       "      <th>50%</th>\n",
       "      <th>75%</th>\n",
       "      <th>max</th>\n",
       "    </tr>\n",
       "  </thead>\n",
       "  <tbody>\n",
       "    <tr>\n",
       "      <th>User_ID</th>\n",
       "      <td>550068.0</td>\n",
       "      <td>NaN</td>\n",
       "      <td>NaN</td>\n",
       "      <td>NaN</td>\n",
       "      <td>1003028.842401</td>\n",
       "      <td>1727.591586</td>\n",
       "      <td>1000001.0</td>\n",
       "      <td>1001516.0</td>\n",
       "      <td>1003077.0</td>\n",
       "      <td>1004478.0</td>\n",
       "      <td>1006040.0</td>\n",
       "    </tr>\n",
       "    <tr>\n",
       "      <th>Product_ID</th>\n",
       "      <td>550068</td>\n",
       "      <td>3631</td>\n",
       "      <td>P00265242</td>\n",
       "      <td>1880</td>\n",
       "      <td>NaN</td>\n",
       "      <td>NaN</td>\n",
       "      <td>NaN</td>\n",
       "      <td>NaN</td>\n",
       "      <td>NaN</td>\n",
       "      <td>NaN</td>\n",
       "      <td>NaN</td>\n",
       "    </tr>\n",
       "    <tr>\n",
       "      <th>Gender</th>\n",
       "      <td>550068</td>\n",
       "      <td>2</td>\n",
       "      <td>M</td>\n",
       "      <td>414259</td>\n",
       "      <td>NaN</td>\n",
       "      <td>NaN</td>\n",
       "      <td>NaN</td>\n",
       "      <td>NaN</td>\n",
       "      <td>NaN</td>\n",
       "      <td>NaN</td>\n",
       "      <td>NaN</td>\n",
       "    </tr>\n",
       "    <tr>\n",
       "      <th>Age</th>\n",
       "      <td>550068</td>\n",
       "      <td>7</td>\n",
       "      <td>26-35</td>\n",
       "      <td>219587</td>\n",
       "      <td>NaN</td>\n",
       "      <td>NaN</td>\n",
       "      <td>NaN</td>\n",
       "      <td>NaN</td>\n",
       "      <td>NaN</td>\n",
       "      <td>NaN</td>\n",
       "      <td>NaN</td>\n",
       "    </tr>\n",
       "    <tr>\n",
       "      <th>Occupation</th>\n",
       "      <td>550068.0</td>\n",
       "      <td>NaN</td>\n",
       "      <td>NaN</td>\n",
       "      <td>NaN</td>\n",
       "      <td>8.076707</td>\n",
       "      <td>6.52266</td>\n",
       "      <td>0.0</td>\n",
       "      <td>2.0</td>\n",
       "      <td>7.0</td>\n",
       "      <td>14.0</td>\n",
       "      <td>20.0</td>\n",
       "    </tr>\n",
       "    <tr>\n",
       "      <th>City_Category</th>\n",
       "      <td>550068</td>\n",
       "      <td>3</td>\n",
       "      <td>B</td>\n",
       "      <td>231173</td>\n",
       "      <td>NaN</td>\n",
       "      <td>NaN</td>\n",
       "      <td>NaN</td>\n",
       "      <td>NaN</td>\n",
       "      <td>NaN</td>\n",
       "      <td>NaN</td>\n",
       "      <td>NaN</td>\n",
       "    </tr>\n",
       "    <tr>\n",
       "      <th>Stay_In_Current_City_Years</th>\n",
       "      <td>550068</td>\n",
       "      <td>5</td>\n",
       "      <td>1</td>\n",
       "      <td>193821</td>\n",
       "      <td>NaN</td>\n",
       "      <td>NaN</td>\n",
       "      <td>NaN</td>\n",
       "      <td>NaN</td>\n",
       "      <td>NaN</td>\n",
       "      <td>NaN</td>\n",
       "      <td>NaN</td>\n",
       "    </tr>\n",
       "    <tr>\n",
       "      <th>Marital_Status</th>\n",
       "      <td>550068.0</td>\n",
       "      <td>NaN</td>\n",
       "      <td>NaN</td>\n",
       "      <td>NaN</td>\n",
       "      <td>0.409653</td>\n",
       "      <td>0.49177</td>\n",
       "      <td>0.0</td>\n",
       "      <td>0.0</td>\n",
       "      <td>0.0</td>\n",
       "      <td>1.0</td>\n",
       "      <td>1.0</td>\n",
       "    </tr>\n",
       "    <tr>\n",
       "      <th>Product_Category_1</th>\n",
       "      <td>550068.0</td>\n",
       "      <td>NaN</td>\n",
       "      <td>NaN</td>\n",
       "      <td>NaN</td>\n",
       "      <td>5.40427</td>\n",
       "      <td>3.936211</td>\n",
       "      <td>1.0</td>\n",
       "      <td>1.0</td>\n",
       "      <td>5.0</td>\n",
       "      <td>8.0</td>\n",
       "      <td>20.0</td>\n",
       "    </tr>\n",
       "    <tr>\n",
       "      <th>Product_Category_2</th>\n",
       "      <td>376430.0</td>\n",
       "      <td>NaN</td>\n",
       "      <td>NaN</td>\n",
       "      <td>NaN</td>\n",
       "      <td>9.842329</td>\n",
       "      <td>5.08659</td>\n",
       "      <td>2.0</td>\n",
       "      <td>5.0</td>\n",
       "      <td>9.0</td>\n",
       "      <td>15.0</td>\n",
       "      <td>18.0</td>\n",
       "    </tr>\n",
       "    <tr>\n",
       "      <th>Product_Category_3</th>\n",
       "      <td>166821.0</td>\n",
       "      <td>NaN</td>\n",
       "      <td>NaN</td>\n",
       "      <td>NaN</td>\n",
       "      <td>12.668243</td>\n",
       "      <td>4.125338</td>\n",
       "      <td>3.0</td>\n",
       "      <td>9.0</td>\n",
       "      <td>14.0</td>\n",
       "      <td>16.0</td>\n",
       "      <td>18.0</td>\n",
       "    </tr>\n",
       "    <tr>\n",
       "      <th>Purchase</th>\n",
       "      <td>550068.0</td>\n",
       "      <td>NaN</td>\n",
       "      <td>NaN</td>\n",
       "      <td>NaN</td>\n",
       "      <td>9263.968713</td>\n",
       "      <td>5023.065394</td>\n",
       "      <td>12.0</td>\n",
       "      <td>5823.0</td>\n",
       "      <td>8047.0</td>\n",
       "      <td>12054.0</td>\n",
       "      <td>23961.0</td>\n",
       "    </tr>\n",
       "  </tbody>\n",
       "</table>\n",
       "</div>"
      ],
      "text/plain": [
       "                               count unique        top    freq  \\\n",
       "User_ID                     550068.0    NaN        NaN     NaN   \n",
       "Product_ID                    550068   3631  P00265242    1880   \n",
       "Gender                        550068      2          M  414259   \n",
       "Age                           550068      7      26-35  219587   \n",
       "Occupation                  550068.0    NaN        NaN     NaN   \n",
       "City_Category                 550068      3          B  231173   \n",
       "Stay_In_Current_City_Years    550068      5          1  193821   \n",
       "Marital_Status              550068.0    NaN        NaN     NaN   \n",
       "Product_Category_1          550068.0    NaN        NaN     NaN   \n",
       "Product_Category_2          376430.0    NaN        NaN     NaN   \n",
       "Product_Category_3          166821.0    NaN        NaN     NaN   \n",
       "Purchase                    550068.0    NaN        NaN     NaN   \n",
       "\n",
       "                                      mean          std        min        25%  \\\n",
       "User_ID                     1003028.842401  1727.591586  1000001.0  1001516.0   \n",
       "Product_ID                             NaN          NaN        NaN        NaN   \n",
       "Gender                                 NaN          NaN        NaN        NaN   \n",
       "Age                                    NaN          NaN        NaN        NaN   \n",
       "Occupation                        8.076707      6.52266        0.0        2.0   \n",
       "City_Category                          NaN          NaN        NaN        NaN   \n",
       "Stay_In_Current_City_Years             NaN          NaN        NaN        NaN   \n",
       "Marital_Status                    0.409653      0.49177        0.0        0.0   \n",
       "Product_Category_1                 5.40427     3.936211        1.0        1.0   \n",
       "Product_Category_2                9.842329      5.08659        2.0        5.0   \n",
       "Product_Category_3               12.668243     4.125338        3.0        9.0   \n",
       "Purchase                       9263.968713  5023.065394       12.0     5823.0   \n",
       "\n",
       "                                  50%        75%        max  \n",
       "User_ID                     1003077.0  1004478.0  1006040.0  \n",
       "Product_ID                        NaN        NaN        NaN  \n",
       "Gender                            NaN        NaN        NaN  \n",
       "Age                               NaN        NaN        NaN  \n",
       "Occupation                        7.0       14.0       20.0  \n",
       "City_Category                     NaN        NaN        NaN  \n",
       "Stay_In_Current_City_Years        NaN        NaN        NaN  \n",
       "Marital_Status                    0.0        1.0        1.0  \n",
       "Product_Category_1                5.0        8.0       20.0  \n",
       "Product_Category_2                9.0       15.0       18.0  \n",
       "Product_Category_3               14.0       16.0       18.0  \n",
       "Purchase                       8047.0    12054.0    23961.0  "
      ]
     },
     "execution_count": 13,
     "metadata": {},
     "output_type": "execute_result"
    }
   ],
   "source": [
    "train.describe(include='all').T"
   ]
  },
  {
   "cell_type": "code",
   "execution_count": 14,
   "id": "5ac438e5",
   "metadata": {},
   "outputs": [
    {
     "data": {
      "text/plain": [
       "User_ID                            0\n",
       "Product_ID                         0\n",
       "Gender                             0\n",
       "Age                                0\n",
       "Occupation                         0\n",
       "City_Category                      0\n",
       "Stay_In_Current_City_Years         0\n",
       "Marital_Status                     0\n",
       "Product_Category_1                 0\n",
       "Product_Category_2            173638\n",
       "Product_Category_3            383247\n",
       "Purchase                           0\n",
       "dtype: int64"
      ]
     },
     "execution_count": 14,
     "metadata": {},
     "output_type": "execute_result"
    }
   ],
   "source": [
    "train.isnull().sum()"
   ]
  },
  {
   "cell_type": "code",
   "execution_count": 16,
   "id": "d173669c",
   "metadata": {},
   "outputs": [
    {
     "data": {
      "text/plain": [
       "16.0    32636\n",
       "15.0    28013\n",
       "14.0    18428\n",
       "17.0    16702\n",
       "5.0     16658\n",
       "8.0     12562\n",
       "9.0     11579\n",
       "12.0     9246\n",
       "13.0     5459\n",
       "6.0      4890\n",
       "18.0     4629\n",
       "4.0      1875\n",
       "11.0     1805\n",
       "10.0     1726\n",
       "3.0       613\n",
       "Name: Product_Category_3, dtype: int64"
      ]
     },
     "execution_count": 16,
     "metadata": {},
     "output_type": "execute_result"
    }
   ],
   "source": [
    "train.Product_Category_3.value_counts()"
   ]
  },
  {
   "cell_type": "code",
   "execution_count": 19,
   "id": "101e4836",
   "metadata": {},
   "outputs": [
    {
     "data": {
      "text/plain": [
       "Index(['Product_ID', 'Gender', 'Age', 'City_Category',\n",
       "       'Stay_In_Current_City_Years'],\n",
       "      dtype='object')"
      ]
     },
     "execution_count": 19,
     "metadata": {},
     "output_type": "execute_result"
    }
   ],
   "source": [
    "train.columns[train.dtypes == 'object']"
   ]
  },
  {
   "cell_type": "code",
   "execution_count": 20,
   "id": "6a8a8176",
   "metadata": {},
   "outputs": [
    {
     "data": {
      "text/plain": [
       "Index(['User_ID', 'Product_ID', 'Gender', 'Age', 'Occupation', 'City_Category',\n",
       "       'Stay_In_Current_City_Years', 'Marital_Status', 'Product_Category_1',\n",
       "       'Product_Category_2', 'Product_Category_3', 'Purchase'],\n",
       "      dtype='object')"
      ]
     },
     "execution_count": 20,
     "metadata": {},
     "output_type": "execute_result"
    }
   ],
   "source": [
    "train.columns"
   ]
  },
  {
   "cell_type": "code",
   "execution_count": null,
   "id": "12c01439",
   "metadata": {},
   "outputs": [],
   "source": [
    "Problem:\n",
    "\n",
    "1. User_ID - Int\n",
    "2. Product_ID - Object, remove p in the product ID and then given product id convert from object to int\n",
    "3. Gender - Object, use one hot encoding\n",
    "4. Age - Object, one hot encoding\n",
    "5. Occupation - Int\n",
    "6. City_Category - Object, one hot encoding\n",
    "7. Stay_In_Current_City_Years - Object, convert object datatype to integer datatype\n",
    "8. Marital_Status - Int\n",
    "9. Product_Category_1 - Float\n",
    "10. Product_Category_2 - Float\n",
    "11. Product_Category_3 - Float\n",
    "12. Purchase - output variable\n",
    "\n"
   ]
  },
  {
   "cell_type": "code",
   "execution_count": 81,
   "id": "a499a526",
   "metadata": {},
   "outputs": [
    {
     "data": {
      "text/plain": [
       "0"
      ]
     },
     "execution_count": 81,
     "metadata": {},
     "output_type": "execute_result"
    }
   ],
   "source": [
    "train.duplicated().sum()"
   ]
  },
  {
   "cell_type": "code",
   "execution_count": 75,
   "id": "4269d921",
   "metadata": {},
   "outputs": [
    {
     "data": {
      "text/plain": [
       "265242    1880\n",
       "25442     1615\n",
       "110742    1612\n",
       "112142    1562\n",
       "57642     1470\n",
       "          ... \n",
       "314842       1\n",
       "298842       1\n",
       "231642       1\n",
       "204442       1\n",
       "66342        1\n",
       "Name: Product_ID, Length: 3631, dtype: int64"
      ]
     },
     "execution_count": 75,
     "metadata": {},
     "output_type": "execute_result"
    }
   ],
   "source": [
    "train.Product_ID.str[1:9].astype(int).value_counts()"
   ]
  },
  {
   "cell_type": "code",
   "execution_count": 251,
   "id": "eb233fc9",
   "metadata": {},
   "outputs": [
    {
     "data": {
      "text/plain": [
       "0    P00069042\n",
       "1    P00248942\n",
       "2    P00087842\n",
       "3    P00085442\n",
       "4    P00285442\n",
       "Name: Product_ID, dtype: object"
      ]
     },
     "execution_count": 251,
     "metadata": {},
     "output_type": "execute_result"
    }
   ],
   "source": [
    "train.Product_ID[:5]"
   ]
  },
  {
   "cell_type": "code",
   "execution_count": 254,
   "id": "5f3fc407",
   "metadata": {},
   "outputs": [
    {
     "data": {
      "text/plain": [
       "00265242    2709\n",
       "00025442    2310\n",
       "00110742    2292\n",
       "00112142    2279\n",
       "00046742    2084\n",
       "            ... \n",
       "00185942       1\n",
       "00104342       1\n",
       "00074742       1\n",
       "00081342       1\n",
       "00253842       1\n",
       "Name: Product_ID, Length: 3677, dtype: int64"
      ]
     },
     "execution_count": 254,
     "metadata": {},
     "output_type": "execute_result"
    }
   ],
   "source": [
    "data.Product_ID.str[1:9].value_counts()"
   ]
  },
  {
   "cell_type": "code",
   "execution_count": 253,
   "id": "668c5dc1",
   "metadata": {
    "scrolled": true
   },
   "outputs": [
    {
     "data": {
      "text/plain": [
       "P    783667\n",
       "Name: Product_ID, dtype: int64"
      ]
     },
     "execution_count": 253,
     "metadata": {},
     "output_type": "execute_result"
    }
   ],
   "source": [
    "data.Product_ID.str[0:1].value_counts()"
   ]
  },
  {
   "cell_type": "code",
   "execution_count": 54,
   "id": "a97042a4",
   "metadata": {},
   "outputs": [
    {
     "data": {
      "text/plain": [
       "F    135809\n",
       "M    414259\n",
       "Name: Gender, dtype: int64"
      ]
     },
     "execution_count": 54,
     "metadata": {},
     "output_type": "execute_result"
    }
   ],
   "source": [
    "train.Gender.value_counts().sort_values()"
   ]
  },
  {
   "cell_type": "code",
   "execution_count": 55,
   "id": "d29c801e",
   "metadata": {},
   "outputs": [
    {
     "data": {
      "text/plain": [
       "B    231173\n",
       "C    171175\n",
       "A    147720\n",
       "Name: City_Category, dtype: int64"
      ]
     },
     "execution_count": 55,
     "metadata": {},
     "output_type": "execute_result"
    }
   ],
   "source": [
    "train.City_Category.value_counts()"
   ]
  },
  {
   "cell_type": "code",
   "execution_count": 56,
   "id": "48dcea08",
   "metadata": {
    "scrolled": true
   },
   "outputs": [
    {
     "data": {
      "text/plain": [
       "1     193821\n",
       "2     101838\n",
       "3      95285\n",
       "4+     84726\n",
       "0      74398\n",
       "Name: Stay_In_Current_City_Years, dtype: int64"
      ]
     },
     "execution_count": 56,
     "metadata": {},
     "output_type": "execute_result"
    }
   ],
   "source": [
    "train.Stay_In_Current_City_Years.value_counts()"
   ]
  },
  {
   "cell_type": "code",
   "execution_count": 69,
   "id": "3018bd4c",
   "metadata": {},
   "outputs": [
    {
     "data": {
      "text/plain": [
       "User_ID                         int64\n",
       "Product_ID                     object\n",
       "Gender                         object\n",
       "Age                            object\n",
       "Occupation                      int64\n",
       "City_Category                  object\n",
       "Stay_In_Current_City_Years     object\n",
       "Marital_Status                  int64\n",
       "Product_Category_1              int64\n",
       "Product_Category_2            float64\n",
       "Product_Category_3            float64\n",
       "Purchase                        int64\n",
       "dtype: object"
      ]
     },
     "execution_count": 69,
     "metadata": {},
     "output_type": "execute_result"
    }
   ],
   "source": [
    "train.dtypes "
   ]
  },
  {
   "cell_type": "code",
   "execution_count": 72,
   "id": "2a61b42b",
   "metadata": {},
   "outputs": [
    {
     "data": {
      "text/plain": [
       "1    193821\n",
       "2    101838\n",
       "3     95285\n",
       "4     84726\n",
       "0     74398\n",
       "Name: Stay_In_Current_City_Years, dtype: int64"
      ]
     },
     "execution_count": 72,
     "metadata": {},
     "output_type": "execute_result"
    }
   ],
   "source": [
    "train.Stay_In_Current_City_Years.str[:1].astype(int).value_counts()"
   ]
  },
  {
   "cell_type": "code",
   "execution_count": 82,
   "id": "2f021336",
   "metadata": {},
   "outputs": [],
   "source": [
    "train['source'] = 'train'\n",
    "test['source'] = 'test'"
   ]
  },
  {
   "cell_type": "code",
   "execution_count": 90,
   "id": "5fe6f0d0",
   "metadata": {},
   "outputs": [
    {
     "data": {
      "text/plain": [
       "(550068, 13)"
      ]
     },
     "execution_count": 90,
     "metadata": {},
     "output_type": "execute_result"
    }
   ],
   "source": [
    "train.shape"
   ]
  },
  {
   "cell_type": "code",
   "execution_count": 85,
   "id": "b2294f2e",
   "metadata": {},
   "outputs": [
    {
     "data": {
      "text/html": [
       "<div>\n",
       "<style scoped>\n",
       "    .dataframe tbody tr th:only-of-type {\n",
       "        vertical-align: middle;\n",
       "    }\n",
       "\n",
       "    .dataframe tbody tr th {\n",
       "        vertical-align: top;\n",
       "    }\n",
       "\n",
       "    .dataframe thead th {\n",
       "        text-align: right;\n",
       "    }\n",
       "</style>\n",
       "<table border=\"1\" class=\"dataframe\">\n",
       "  <thead>\n",
       "    <tr style=\"text-align: right;\">\n",
       "      <th></th>\n",
       "      <th>User_ID</th>\n",
       "      <th>Product_ID</th>\n",
       "      <th>Gender</th>\n",
       "      <th>Age</th>\n",
       "      <th>Occupation</th>\n",
       "      <th>City_Category</th>\n",
       "      <th>Stay_In_Current_City_Years</th>\n",
       "      <th>Marital_Status</th>\n",
       "      <th>Product_Category_1</th>\n",
       "      <th>Product_Category_2</th>\n",
       "      <th>Product_Category_3</th>\n",
       "      <th>Purchase</th>\n",
       "      <th>source</th>\n",
       "    </tr>\n",
       "  </thead>\n",
       "  <tbody>\n",
       "    <tr>\n",
       "      <th>0</th>\n",
       "      <td>1000001</td>\n",
       "      <td>P00069042</td>\n",
       "      <td>F</td>\n",
       "      <td>0-17</td>\n",
       "      <td>10</td>\n",
       "      <td>A</td>\n",
       "      <td>2</td>\n",
       "      <td>0</td>\n",
       "      <td>3</td>\n",
       "      <td>NaN</td>\n",
       "      <td>NaN</td>\n",
       "      <td>8370</td>\n",
       "      <td>train</td>\n",
       "    </tr>\n",
       "    <tr>\n",
       "      <th>1</th>\n",
       "      <td>1000001</td>\n",
       "      <td>P00248942</td>\n",
       "      <td>F</td>\n",
       "      <td>0-17</td>\n",
       "      <td>10</td>\n",
       "      <td>A</td>\n",
       "      <td>2</td>\n",
       "      <td>0</td>\n",
       "      <td>1</td>\n",
       "      <td>6.0</td>\n",
       "      <td>14.0</td>\n",
       "      <td>15200</td>\n",
       "      <td>train</td>\n",
       "    </tr>\n",
       "    <tr>\n",
       "      <th>2</th>\n",
       "      <td>1000001</td>\n",
       "      <td>P00087842</td>\n",
       "      <td>F</td>\n",
       "      <td>0-17</td>\n",
       "      <td>10</td>\n",
       "      <td>A</td>\n",
       "      <td>2</td>\n",
       "      <td>0</td>\n",
       "      <td>12</td>\n",
       "      <td>NaN</td>\n",
       "      <td>NaN</td>\n",
       "      <td>1422</td>\n",
       "      <td>train</td>\n",
       "    </tr>\n",
       "    <tr>\n",
       "      <th>3</th>\n",
       "      <td>1000001</td>\n",
       "      <td>P00085442</td>\n",
       "      <td>F</td>\n",
       "      <td>0-17</td>\n",
       "      <td>10</td>\n",
       "      <td>A</td>\n",
       "      <td>2</td>\n",
       "      <td>0</td>\n",
       "      <td>12</td>\n",
       "      <td>14.0</td>\n",
       "      <td>NaN</td>\n",
       "      <td>1057</td>\n",
       "      <td>train</td>\n",
       "    </tr>\n",
       "    <tr>\n",
       "      <th>4</th>\n",
       "      <td>1000002</td>\n",
       "      <td>P00285442</td>\n",
       "      <td>M</td>\n",
       "      <td>55+</td>\n",
       "      <td>16</td>\n",
       "      <td>C</td>\n",
       "      <td>4+</td>\n",
       "      <td>0</td>\n",
       "      <td>8</td>\n",
       "      <td>NaN</td>\n",
       "      <td>NaN</td>\n",
       "      <td>7969</td>\n",
       "      <td>train</td>\n",
       "    </tr>\n",
       "    <tr>\n",
       "      <th>...</th>\n",
       "      <td>...</td>\n",
       "      <td>...</td>\n",
       "      <td>...</td>\n",
       "      <td>...</td>\n",
       "      <td>...</td>\n",
       "      <td>...</td>\n",
       "      <td>...</td>\n",
       "      <td>...</td>\n",
       "      <td>...</td>\n",
       "      <td>...</td>\n",
       "      <td>...</td>\n",
       "      <td>...</td>\n",
       "      <td>...</td>\n",
       "    </tr>\n",
       "    <tr>\n",
       "      <th>550063</th>\n",
       "      <td>1006033</td>\n",
       "      <td>P00372445</td>\n",
       "      <td>M</td>\n",
       "      <td>51-55</td>\n",
       "      <td>13</td>\n",
       "      <td>B</td>\n",
       "      <td>1</td>\n",
       "      <td>1</td>\n",
       "      <td>20</td>\n",
       "      <td>NaN</td>\n",
       "      <td>NaN</td>\n",
       "      <td>368</td>\n",
       "      <td>train</td>\n",
       "    </tr>\n",
       "    <tr>\n",
       "      <th>550064</th>\n",
       "      <td>1006035</td>\n",
       "      <td>P00375436</td>\n",
       "      <td>F</td>\n",
       "      <td>26-35</td>\n",
       "      <td>1</td>\n",
       "      <td>C</td>\n",
       "      <td>3</td>\n",
       "      <td>0</td>\n",
       "      <td>20</td>\n",
       "      <td>NaN</td>\n",
       "      <td>NaN</td>\n",
       "      <td>371</td>\n",
       "      <td>train</td>\n",
       "    </tr>\n",
       "    <tr>\n",
       "      <th>550065</th>\n",
       "      <td>1006036</td>\n",
       "      <td>P00375436</td>\n",
       "      <td>F</td>\n",
       "      <td>26-35</td>\n",
       "      <td>15</td>\n",
       "      <td>B</td>\n",
       "      <td>4+</td>\n",
       "      <td>1</td>\n",
       "      <td>20</td>\n",
       "      <td>NaN</td>\n",
       "      <td>NaN</td>\n",
       "      <td>137</td>\n",
       "      <td>train</td>\n",
       "    </tr>\n",
       "    <tr>\n",
       "      <th>550066</th>\n",
       "      <td>1006038</td>\n",
       "      <td>P00375436</td>\n",
       "      <td>F</td>\n",
       "      <td>55+</td>\n",
       "      <td>1</td>\n",
       "      <td>C</td>\n",
       "      <td>2</td>\n",
       "      <td>0</td>\n",
       "      <td>20</td>\n",
       "      <td>NaN</td>\n",
       "      <td>NaN</td>\n",
       "      <td>365</td>\n",
       "      <td>train</td>\n",
       "    </tr>\n",
       "    <tr>\n",
       "      <th>550067</th>\n",
       "      <td>1006039</td>\n",
       "      <td>P00371644</td>\n",
       "      <td>F</td>\n",
       "      <td>46-50</td>\n",
       "      <td>0</td>\n",
       "      <td>B</td>\n",
       "      <td>4+</td>\n",
       "      <td>1</td>\n",
       "      <td>20</td>\n",
       "      <td>NaN</td>\n",
       "      <td>NaN</td>\n",
       "      <td>490</td>\n",
       "      <td>train</td>\n",
       "    </tr>\n",
       "  </tbody>\n",
       "</table>\n",
       "<p>550068 rows × 13 columns</p>\n",
       "</div>"
      ],
      "text/plain": [
       "        User_ID Product_ID Gender    Age  Occupation City_Category  \\\n",
       "0       1000001  P00069042      F   0-17          10             A   \n",
       "1       1000001  P00248942      F   0-17          10             A   \n",
       "2       1000001  P00087842      F   0-17          10             A   \n",
       "3       1000001  P00085442      F   0-17          10             A   \n",
       "4       1000002  P00285442      M    55+          16             C   \n",
       "...         ...        ...    ...    ...         ...           ...   \n",
       "550063  1006033  P00372445      M  51-55          13             B   \n",
       "550064  1006035  P00375436      F  26-35           1             C   \n",
       "550065  1006036  P00375436      F  26-35          15             B   \n",
       "550066  1006038  P00375436      F    55+           1             C   \n",
       "550067  1006039  P00371644      F  46-50           0             B   \n",
       "\n",
       "       Stay_In_Current_City_Years  Marital_Status  Product_Category_1  \\\n",
       "0                               2               0                   3   \n",
       "1                               2               0                   1   \n",
       "2                               2               0                  12   \n",
       "3                               2               0                  12   \n",
       "4                              4+               0                   8   \n",
       "...                           ...             ...                 ...   \n",
       "550063                          1               1                  20   \n",
       "550064                          3               0                  20   \n",
       "550065                         4+               1                  20   \n",
       "550066                          2               0                  20   \n",
       "550067                         4+               1                  20   \n",
       "\n",
       "        Product_Category_2  Product_Category_3  Purchase source  \n",
       "0                      NaN                 NaN      8370  train  \n",
       "1                      6.0                14.0     15200  train  \n",
       "2                      NaN                 NaN      1422  train  \n",
       "3                     14.0                 NaN      1057  train  \n",
       "4                      NaN                 NaN      7969  train  \n",
       "...                    ...                 ...       ...    ...  \n",
       "550063                 NaN                 NaN       368  train  \n",
       "550064                 NaN                 NaN       371  train  \n",
       "550065                 NaN                 NaN       137  train  \n",
       "550066                 NaN                 NaN       365  train  \n",
       "550067                 NaN                 NaN       490  train  \n",
       "\n",
       "[550068 rows x 13 columns]"
      ]
     },
     "execution_count": 85,
     "metadata": {},
     "output_type": "execute_result"
    }
   ],
   "source": [
    "train"
   ]
  },
  {
   "cell_type": "code",
   "execution_count": 91,
   "id": "37520cb3",
   "metadata": {},
   "outputs": [
    {
     "data": {
      "text/plain": [
       "(233599, 12)"
      ]
     },
     "execution_count": 91,
     "metadata": {},
     "output_type": "execute_result"
    }
   ],
   "source": [
    "test.shape"
   ]
  },
  {
   "cell_type": "code",
   "execution_count": 86,
   "id": "c68dbab2",
   "metadata": {},
   "outputs": [
    {
     "data": {
      "text/html": [
       "<div>\n",
       "<style scoped>\n",
       "    .dataframe tbody tr th:only-of-type {\n",
       "        vertical-align: middle;\n",
       "    }\n",
       "\n",
       "    .dataframe tbody tr th {\n",
       "        vertical-align: top;\n",
       "    }\n",
       "\n",
       "    .dataframe thead th {\n",
       "        text-align: right;\n",
       "    }\n",
       "</style>\n",
       "<table border=\"1\" class=\"dataframe\">\n",
       "  <thead>\n",
       "    <tr style=\"text-align: right;\">\n",
       "      <th></th>\n",
       "      <th>User_ID</th>\n",
       "      <th>Product_ID</th>\n",
       "      <th>Gender</th>\n",
       "      <th>Age</th>\n",
       "      <th>Occupation</th>\n",
       "      <th>City_Category</th>\n",
       "      <th>Stay_In_Current_City_Years</th>\n",
       "      <th>Marital_Status</th>\n",
       "      <th>Product_Category_1</th>\n",
       "      <th>Product_Category_2</th>\n",
       "      <th>Product_Category_3</th>\n",
       "      <th>source</th>\n",
       "    </tr>\n",
       "  </thead>\n",
       "  <tbody>\n",
       "    <tr>\n",
       "      <th>0</th>\n",
       "      <td>1000004</td>\n",
       "      <td>P00128942</td>\n",
       "      <td>M</td>\n",
       "      <td>46-50</td>\n",
       "      <td>7</td>\n",
       "      <td>B</td>\n",
       "      <td>2</td>\n",
       "      <td>1</td>\n",
       "      <td>1</td>\n",
       "      <td>11.0</td>\n",
       "      <td>NaN</td>\n",
       "      <td>test</td>\n",
       "    </tr>\n",
       "    <tr>\n",
       "      <th>1</th>\n",
       "      <td>1000009</td>\n",
       "      <td>P00113442</td>\n",
       "      <td>M</td>\n",
       "      <td>26-35</td>\n",
       "      <td>17</td>\n",
       "      <td>C</td>\n",
       "      <td>0</td>\n",
       "      <td>0</td>\n",
       "      <td>3</td>\n",
       "      <td>5.0</td>\n",
       "      <td>NaN</td>\n",
       "      <td>test</td>\n",
       "    </tr>\n",
       "    <tr>\n",
       "      <th>2</th>\n",
       "      <td>1000010</td>\n",
       "      <td>P00288442</td>\n",
       "      <td>F</td>\n",
       "      <td>36-45</td>\n",
       "      <td>1</td>\n",
       "      <td>B</td>\n",
       "      <td>4+</td>\n",
       "      <td>1</td>\n",
       "      <td>5</td>\n",
       "      <td>14.0</td>\n",
       "      <td>NaN</td>\n",
       "      <td>test</td>\n",
       "    </tr>\n",
       "    <tr>\n",
       "      <th>3</th>\n",
       "      <td>1000010</td>\n",
       "      <td>P00145342</td>\n",
       "      <td>F</td>\n",
       "      <td>36-45</td>\n",
       "      <td>1</td>\n",
       "      <td>B</td>\n",
       "      <td>4+</td>\n",
       "      <td>1</td>\n",
       "      <td>4</td>\n",
       "      <td>9.0</td>\n",
       "      <td>NaN</td>\n",
       "      <td>test</td>\n",
       "    </tr>\n",
       "    <tr>\n",
       "      <th>4</th>\n",
       "      <td>1000011</td>\n",
       "      <td>P00053842</td>\n",
       "      <td>F</td>\n",
       "      <td>26-35</td>\n",
       "      <td>1</td>\n",
       "      <td>C</td>\n",
       "      <td>1</td>\n",
       "      <td>0</td>\n",
       "      <td>4</td>\n",
       "      <td>5.0</td>\n",
       "      <td>12.0</td>\n",
       "      <td>test</td>\n",
       "    </tr>\n",
       "    <tr>\n",
       "      <th>...</th>\n",
       "      <td>...</td>\n",
       "      <td>...</td>\n",
       "      <td>...</td>\n",
       "      <td>...</td>\n",
       "      <td>...</td>\n",
       "      <td>...</td>\n",
       "      <td>...</td>\n",
       "      <td>...</td>\n",
       "      <td>...</td>\n",
       "      <td>...</td>\n",
       "      <td>...</td>\n",
       "      <td>...</td>\n",
       "    </tr>\n",
       "    <tr>\n",
       "      <th>233594</th>\n",
       "      <td>1006036</td>\n",
       "      <td>P00118942</td>\n",
       "      <td>F</td>\n",
       "      <td>26-35</td>\n",
       "      <td>15</td>\n",
       "      <td>B</td>\n",
       "      <td>4+</td>\n",
       "      <td>1</td>\n",
       "      <td>8</td>\n",
       "      <td>NaN</td>\n",
       "      <td>NaN</td>\n",
       "      <td>test</td>\n",
       "    </tr>\n",
       "    <tr>\n",
       "      <th>233595</th>\n",
       "      <td>1006036</td>\n",
       "      <td>P00254642</td>\n",
       "      <td>F</td>\n",
       "      <td>26-35</td>\n",
       "      <td>15</td>\n",
       "      <td>B</td>\n",
       "      <td>4+</td>\n",
       "      <td>1</td>\n",
       "      <td>5</td>\n",
       "      <td>8.0</td>\n",
       "      <td>NaN</td>\n",
       "      <td>test</td>\n",
       "    </tr>\n",
       "    <tr>\n",
       "      <th>233596</th>\n",
       "      <td>1006036</td>\n",
       "      <td>P00031842</td>\n",
       "      <td>F</td>\n",
       "      <td>26-35</td>\n",
       "      <td>15</td>\n",
       "      <td>B</td>\n",
       "      <td>4+</td>\n",
       "      <td>1</td>\n",
       "      <td>1</td>\n",
       "      <td>5.0</td>\n",
       "      <td>12.0</td>\n",
       "      <td>test</td>\n",
       "    </tr>\n",
       "    <tr>\n",
       "      <th>233597</th>\n",
       "      <td>1006037</td>\n",
       "      <td>P00124742</td>\n",
       "      <td>F</td>\n",
       "      <td>46-50</td>\n",
       "      <td>1</td>\n",
       "      <td>C</td>\n",
       "      <td>4+</td>\n",
       "      <td>0</td>\n",
       "      <td>10</td>\n",
       "      <td>16.0</td>\n",
       "      <td>NaN</td>\n",
       "      <td>test</td>\n",
       "    </tr>\n",
       "    <tr>\n",
       "      <th>233598</th>\n",
       "      <td>1006039</td>\n",
       "      <td>P00316642</td>\n",
       "      <td>F</td>\n",
       "      <td>46-50</td>\n",
       "      <td>0</td>\n",
       "      <td>B</td>\n",
       "      <td>4+</td>\n",
       "      <td>1</td>\n",
       "      <td>4</td>\n",
       "      <td>5.0</td>\n",
       "      <td>NaN</td>\n",
       "      <td>test</td>\n",
       "    </tr>\n",
       "  </tbody>\n",
       "</table>\n",
       "<p>233599 rows × 12 columns</p>\n",
       "</div>"
      ],
      "text/plain": [
       "        User_ID Product_ID Gender    Age  Occupation City_Category  \\\n",
       "0       1000004  P00128942      M  46-50           7             B   \n",
       "1       1000009  P00113442      M  26-35          17             C   \n",
       "2       1000010  P00288442      F  36-45           1             B   \n",
       "3       1000010  P00145342      F  36-45           1             B   \n",
       "4       1000011  P00053842      F  26-35           1             C   \n",
       "...         ...        ...    ...    ...         ...           ...   \n",
       "233594  1006036  P00118942      F  26-35          15             B   \n",
       "233595  1006036  P00254642      F  26-35          15             B   \n",
       "233596  1006036  P00031842      F  26-35          15             B   \n",
       "233597  1006037  P00124742      F  46-50           1             C   \n",
       "233598  1006039  P00316642      F  46-50           0             B   \n",
       "\n",
       "       Stay_In_Current_City_Years  Marital_Status  Product_Category_1  \\\n",
       "0                               2               1                   1   \n",
       "1                               0               0                   3   \n",
       "2                              4+               1                   5   \n",
       "3                              4+               1                   4   \n",
       "4                               1               0                   4   \n",
       "...                           ...             ...                 ...   \n",
       "233594                         4+               1                   8   \n",
       "233595                         4+               1                   5   \n",
       "233596                         4+               1                   1   \n",
       "233597                         4+               0                  10   \n",
       "233598                         4+               1                   4   \n",
       "\n",
       "        Product_Category_2  Product_Category_3 source  \n",
       "0                     11.0                 NaN   test  \n",
       "1                      5.0                 NaN   test  \n",
       "2                     14.0                 NaN   test  \n",
       "3                      9.0                 NaN   test  \n",
       "4                      5.0                12.0   test  \n",
       "...                    ...                 ...    ...  \n",
       "233594                 NaN                 NaN   test  \n",
       "233595                 8.0                 NaN   test  \n",
       "233596                 5.0                12.0   test  \n",
       "233597                16.0                 NaN   test  \n",
       "233598                 5.0                 NaN   test  \n",
       "\n",
       "[233599 rows x 12 columns]"
      ]
     },
     "execution_count": 86,
     "metadata": {},
     "output_type": "execute_result"
    }
   ],
   "source": [
    "test"
   ]
  },
  {
   "cell_type": "code",
   "execution_count": 87,
   "id": "43a40778",
   "metadata": {},
   "outputs": [],
   "source": [
    "data = pd.concat([train,test])"
   ]
  },
  {
   "cell_type": "code",
   "execution_count": 88,
   "id": "6ffbfeb7",
   "metadata": {},
   "outputs": [
    {
     "data": {
      "text/html": [
       "<div>\n",
       "<style scoped>\n",
       "    .dataframe tbody tr th:only-of-type {\n",
       "        vertical-align: middle;\n",
       "    }\n",
       "\n",
       "    .dataframe tbody tr th {\n",
       "        vertical-align: top;\n",
       "    }\n",
       "\n",
       "    .dataframe thead th {\n",
       "        text-align: right;\n",
       "    }\n",
       "</style>\n",
       "<table border=\"1\" class=\"dataframe\">\n",
       "  <thead>\n",
       "    <tr style=\"text-align: right;\">\n",
       "      <th></th>\n",
       "      <th>User_ID</th>\n",
       "      <th>Product_ID</th>\n",
       "      <th>Gender</th>\n",
       "      <th>Age</th>\n",
       "      <th>Occupation</th>\n",
       "      <th>City_Category</th>\n",
       "      <th>Stay_In_Current_City_Years</th>\n",
       "      <th>Marital_Status</th>\n",
       "      <th>Product_Category_1</th>\n",
       "      <th>Product_Category_2</th>\n",
       "      <th>Product_Category_3</th>\n",
       "      <th>Purchase</th>\n",
       "      <th>source</th>\n",
       "    </tr>\n",
       "  </thead>\n",
       "  <tbody>\n",
       "    <tr>\n",
       "      <th>0</th>\n",
       "      <td>1000001</td>\n",
       "      <td>P00069042</td>\n",
       "      <td>F</td>\n",
       "      <td>0-17</td>\n",
       "      <td>10</td>\n",
       "      <td>A</td>\n",
       "      <td>2</td>\n",
       "      <td>0</td>\n",
       "      <td>3</td>\n",
       "      <td>NaN</td>\n",
       "      <td>NaN</td>\n",
       "      <td>8370.0</td>\n",
       "      <td>train</td>\n",
       "    </tr>\n",
       "    <tr>\n",
       "      <th>1</th>\n",
       "      <td>1000001</td>\n",
       "      <td>P00248942</td>\n",
       "      <td>F</td>\n",
       "      <td>0-17</td>\n",
       "      <td>10</td>\n",
       "      <td>A</td>\n",
       "      <td>2</td>\n",
       "      <td>0</td>\n",
       "      <td>1</td>\n",
       "      <td>6.0</td>\n",
       "      <td>14.0</td>\n",
       "      <td>15200.0</td>\n",
       "      <td>train</td>\n",
       "    </tr>\n",
       "    <tr>\n",
       "      <th>2</th>\n",
       "      <td>1000001</td>\n",
       "      <td>P00087842</td>\n",
       "      <td>F</td>\n",
       "      <td>0-17</td>\n",
       "      <td>10</td>\n",
       "      <td>A</td>\n",
       "      <td>2</td>\n",
       "      <td>0</td>\n",
       "      <td>12</td>\n",
       "      <td>NaN</td>\n",
       "      <td>NaN</td>\n",
       "      <td>1422.0</td>\n",
       "      <td>train</td>\n",
       "    </tr>\n",
       "    <tr>\n",
       "      <th>3</th>\n",
       "      <td>1000001</td>\n",
       "      <td>P00085442</td>\n",
       "      <td>F</td>\n",
       "      <td>0-17</td>\n",
       "      <td>10</td>\n",
       "      <td>A</td>\n",
       "      <td>2</td>\n",
       "      <td>0</td>\n",
       "      <td>12</td>\n",
       "      <td>14.0</td>\n",
       "      <td>NaN</td>\n",
       "      <td>1057.0</td>\n",
       "      <td>train</td>\n",
       "    </tr>\n",
       "    <tr>\n",
       "      <th>4</th>\n",
       "      <td>1000002</td>\n",
       "      <td>P00285442</td>\n",
       "      <td>M</td>\n",
       "      <td>55+</td>\n",
       "      <td>16</td>\n",
       "      <td>C</td>\n",
       "      <td>4+</td>\n",
       "      <td>0</td>\n",
       "      <td>8</td>\n",
       "      <td>NaN</td>\n",
       "      <td>NaN</td>\n",
       "      <td>7969.0</td>\n",
       "      <td>train</td>\n",
       "    </tr>\n",
       "    <tr>\n",
       "      <th>...</th>\n",
       "      <td>...</td>\n",
       "      <td>...</td>\n",
       "      <td>...</td>\n",
       "      <td>...</td>\n",
       "      <td>...</td>\n",
       "      <td>...</td>\n",
       "      <td>...</td>\n",
       "      <td>...</td>\n",
       "      <td>...</td>\n",
       "      <td>...</td>\n",
       "      <td>...</td>\n",
       "      <td>...</td>\n",
       "      <td>...</td>\n",
       "    </tr>\n",
       "    <tr>\n",
       "      <th>233594</th>\n",
       "      <td>1006036</td>\n",
       "      <td>P00118942</td>\n",
       "      <td>F</td>\n",
       "      <td>26-35</td>\n",
       "      <td>15</td>\n",
       "      <td>B</td>\n",
       "      <td>4+</td>\n",
       "      <td>1</td>\n",
       "      <td>8</td>\n",
       "      <td>NaN</td>\n",
       "      <td>NaN</td>\n",
       "      <td>NaN</td>\n",
       "      <td>test</td>\n",
       "    </tr>\n",
       "    <tr>\n",
       "      <th>233595</th>\n",
       "      <td>1006036</td>\n",
       "      <td>P00254642</td>\n",
       "      <td>F</td>\n",
       "      <td>26-35</td>\n",
       "      <td>15</td>\n",
       "      <td>B</td>\n",
       "      <td>4+</td>\n",
       "      <td>1</td>\n",
       "      <td>5</td>\n",
       "      <td>8.0</td>\n",
       "      <td>NaN</td>\n",
       "      <td>NaN</td>\n",
       "      <td>test</td>\n",
       "    </tr>\n",
       "    <tr>\n",
       "      <th>233596</th>\n",
       "      <td>1006036</td>\n",
       "      <td>P00031842</td>\n",
       "      <td>F</td>\n",
       "      <td>26-35</td>\n",
       "      <td>15</td>\n",
       "      <td>B</td>\n",
       "      <td>4+</td>\n",
       "      <td>1</td>\n",
       "      <td>1</td>\n",
       "      <td>5.0</td>\n",
       "      <td>12.0</td>\n",
       "      <td>NaN</td>\n",
       "      <td>test</td>\n",
       "    </tr>\n",
       "    <tr>\n",
       "      <th>233597</th>\n",
       "      <td>1006037</td>\n",
       "      <td>P00124742</td>\n",
       "      <td>F</td>\n",
       "      <td>46-50</td>\n",
       "      <td>1</td>\n",
       "      <td>C</td>\n",
       "      <td>4+</td>\n",
       "      <td>0</td>\n",
       "      <td>10</td>\n",
       "      <td>16.0</td>\n",
       "      <td>NaN</td>\n",
       "      <td>NaN</td>\n",
       "      <td>test</td>\n",
       "    </tr>\n",
       "    <tr>\n",
       "      <th>233598</th>\n",
       "      <td>1006039</td>\n",
       "      <td>P00316642</td>\n",
       "      <td>F</td>\n",
       "      <td>46-50</td>\n",
       "      <td>0</td>\n",
       "      <td>B</td>\n",
       "      <td>4+</td>\n",
       "      <td>1</td>\n",
       "      <td>4</td>\n",
       "      <td>5.0</td>\n",
       "      <td>NaN</td>\n",
       "      <td>NaN</td>\n",
       "      <td>test</td>\n",
       "    </tr>\n",
       "  </tbody>\n",
       "</table>\n",
       "<p>783667 rows × 13 columns</p>\n",
       "</div>"
      ],
      "text/plain": [
       "        User_ID Product_ID Gender    Age  Occupation City_Category  \\\n",
       "0       1000001  P00069042      F   0-17          10             A   \n",
       "1       1000001  P00248942      F   0-17          10             A   \n",
       "2       1000001  P00087842      F   0-17          10             A   \n",
       "3       1000001  P00085442      F   0-17          10             A   \n",
       "4       1000002  P00285442      M    55+          16             C   \n",
       "...         ...        ...    ...    ...         ...           ...   \n",
       "233594  1006036  P00118942      F  26-35          15             B   \n",
       "233595  1006036  P00254642      F  26-35          15             B   \n",
       "233596  1006036  P00031842      F  26-35          15             B   \n",
       "233597  1006037  P00124742      F  46-50           1             C   \n",
       "233598  1006039  P00316642      F  46-50           0             B   \n",
       "\n",
       "       Stay_In_Current_City_Years  Marital_Status  Product_Category_1  \\\n",
       "0                               2               0                   3   \n",
       "1                               2               0                   1   \n",
       "2                               2               0                  12   \n",
       "3                               2               0                  12   \n",
       "4                              4+               0                   8   \n",
       "...                           ...             ...                 ...   \n",
       "233594                         4+               1                   8   \n",
       "233595                         4+               1                   5   \n",
       "233596                         4+               1                   1   \n",
       "233597                         4+               0                  10   \n",
       "233598                         4+               1                   4   \n",
       "\n",
       "        Product_Category_2  Product_Category_3  Purchase source  \n",
       "0                      NaN                 NaN    8370.0  train  \n",
       "1                      6.0                14.0   15200.0  train  \n",
       "2                      NaN                 NaN    1422.0  train  \n",
       "3                     14.0                 NaN    1057.0  train  \n",
       "4                      NaN                 NaN    7969.0  train  \n",
       "...                    ...                 ...       ...    ...  \n",
       "233594                 NaN                 NaN       NaN   test  \n",
       "233595                 8.0                 NaN       NaN   test  \n",
       "233596                 5.0                12.0       NaN   test  \n",
       "233597                16.0                 NaN       NaN   test  \n",
       "233598                 5.0                 NaN       NaN   test  \n",
       "\n",
       "[783667 rows x 13 columns]"
      ]
     },
     "execution_count": 88,
     "metadata": {},
     "output_type": "execute_result"
    }
   ],
   "source": [
    "data"
   ]
  },
  {
   "cell_type": "code",
   "execution_count": 89,
   "id": "8c53f4cb",
   "metadata": {},
   "outputs": [
    {
     "data": {
      "text/plain": [
       "(783667, 13)"
      ]
     },
     "execution_count": 89,
     "metadata": {},
     "output_type": "execute_result"
    }
   ],
   "source": [
    "data.shape"
   ]
  },
  {
   "cell_type": "code",
   "execution_count": 92,
   "id": "6ddb13ff",
   "metadata": {},
   "outputs": [
    {
     "data": {
      "text/plain": [
       "User_ID                            0\n",
       "Product_ID                         0\n",
       "Gender                             0\n",
       "Age                                0\n",
       "Occupation                         0\n",
       "City_Category                      0\n",
       "Stay_In_Current_City_Years         0\n",
       "Marital_Status                     0\n",
       "Product_Category_1                 0\n",
       "Product_Category_2            245982\n",
       "Product_Category_3            545809\n",
       "Purchase                      233599\n",
       "source                             0\n",
       "dtype: int64"
      ]
     },
     "execution_count": 92,
     "metadata": {},
     "output_type": "execute_result"
    }
   ],
   "source": [
    "data.isna().sum()"
   ]
  },
  {
   "cell_type": "code",
   "execution_count": 100,
   "id": "2da33932",
   "metadata": {},
   "outputs": [],
   "source": [
    "data['Product_ID_int'] = data.Product_ID.str[1:9].astype(int) "
   ]
  },
  {
   "cell_type": "code",
   "execution_count": 116,
   "id": "95f93a90",
   "metadata": {},
   "outputs": [
    {
     "data": {
      "text/plain": [
       "0    590031\n",
       "1    193636\n",
       "Name: Gender, dtype: int64"
      ]
     },
     "execution_count": 116,
     "metadata": {},
     "output_type": "execute_result"
    }
   ],
   "source": [
    "data.Gender.value_counts()"
   ]
  },
  {
   "cell_type": "code",
   "execution_count": 125,
   "id": "f52a6a37",
   "metadata": {},
   "outputs": [],
   "source": [
    "data['Gender'].replace({'M' :0, 'F':'1'}, inplace = True)"
   ]
  },
  {
   "cell_type": "code",
   "execution_count": 126,
   "id": "740c0d6a",
   "metadata": {},
   "outputs": [],
   "source": [
    "data['Gender'] = data.Gender.astype(int)"
   ]
  },
  {
   "cell_type": "code",
   "execution_count": 127,
   "id": "021e8141",
   "metadata": {
    "scrolled": false
   },
   "outputs": [
    {
     "name": "stdout",
     "output_type": "stream",
     "text": [
      "<class 'pandas.core.frame.DataFrame'>\n",
      "Int64Index: 783667 entries, 0 to 233598\n",
      "Data columns (total 15 columns):\n",
      " #   Column                          Non-Null Count   Dtype  \n",
      "---  ------                          --------------   -----  \n",
      " 0   User_ID                         783667 non-null  int64  \n",
      " 1   Product_ID                      783667 non-null  object \n",
      " 2   Gender                          783667 non-null  int32  \n",
      " 3   Age                             783667 non-null  object \n",
      " 4   Occupation                      783667 non-null  int64  \n",
      " 5   City_Category                   783667 non-null  object \n",
      " 6   Stay_In_Current_City_Years      783667 non-null  object \n",
      " 7   Marital_Status                  783667 non-null  int64  \n",
      " 8   Product_Category_1              783667 non-null  int64  \n",
      " 9   Product_Category_2              783667 non-null  int32  \n",
      " 10  Product_Category_3              783667 non-null  int32  \n",
      " 11  Purchase                        550068 non-null  float64\n",
      " 12  source                          783667 non-null  object \n",
      " 13  Product_ID_int                  783667 non-null  int32  \n",
      " 14  Stay_In_Current_City_Years_int  783667 non-null  int32  \n",
      "dtypes: float64(1), int32(5), int64(4), object(5)\n",
      "memory usage: 80.7+ MB\n"
     ]
    }
   ],
   "source": [
    "data.info()"
   ]
  },
  {
   "cell_type": "code",
   "execution_count": 128,
   "id": "597ba200",
   "metadata": {},
   "outputs": [
    {
     "data": {
      "text/plain": [
       "B    329739\n",
       "C    243684\n",
       "A    210244\n",
       "Name: City_Category, dtype: int64"
      ]
     },
     "execution_count": 128,
     "metadata": {},
     "output_type": "execute_result"
    }
   ],
   "source": [
    "data.City_Category.value_counts()"
   ]
  },
  {
   "cell_type": "code",
   "execution_count": 117,
   "id": "1c1f5983",
   "metadata": {
    "scrolled": true
   },
   "outputs": [
    {
     "data": {
      "text/plain": [
       "User_ID                                0\n",
       "Product_ID                             0\n",
       "Gender                                 0\n",
       "Age                                    0\n",
       "Occupation                             0\n",
       "City_Category                          0\n",
       "Stay_In_Current_City_Years             0\n",
       "Marital_Status                         0\n",
       "Product_Category_1                     0\n",
       "Product_Category_2                     0\n",
       "Product_Category_3                     0\n",
       "Purchase                          233599\n",
       "source                                 0\n",
       "Product_ID_int                         0\n",
       "Stay_In_Current_City_Years_int         0\n",
       "dtype: int64"
      ]
     },
     "execution_count": 117,
     "metadata": {},
     "output_type": "execute_result"
    }
   ],
   "source": [
    "data.isnull().sum()"
   ]
  },
  {
   "cell_type": "code",
   "execution_count": 103,
   "id": "c1adaf51",
   "metadata": {},
   "outputs": [],
   "source": [
    "data['Stay_In_Current_City_Years_int'] = data.Stay_In_Current_City_Years.str[:1].astype(int)"
   ]
  },
  {
   "cell_type": "markdown",
   "id": "639b7b5d",
   "metadata": {},
   "source": [
    "### Handling missing values"
   ]
  },
  {
   "cell_type": "code",
   "execution_count": 113,
   "id": "d3721727",
   "metadata": {},
   "outputs": [],
   "source": [
    "data['Product_Category_2'].fillna(0,inplace = True)\n",
    "data['Product_Category_3'].fillna(0,inplace = True)\n",
    "data['Product_Category_2'] = data['Product_Category_2'].astype(int) \n",
    "data['Product_Category_3'] = data['Product_Category_3'].astype(int) "
   ]
  },
  {
   "cell_type": "code",
   "execution_count": 129,
   "id": "11ec11cc",
   "metadata": {
    "scrolled": true
   },
   "outputs": [
    {
     "name": "stdout",
     "output_type": "stream",
     "text": [
      "<class 'pandas.core.frame.DataFrame'>\n",
      "Int64Index: 783667 entries, 0 to 233598\n",
      "Data columns (total 15 columns):\n",
      " #   Column                          Non-Null Count   Dtype  \n",
      "---  ------                          --------------   -----  \n",
      " 0   User_ID                         783667 non-null  int64  \n",
      " 1   Product_ID                      783667 non-null  object \n",
      " 2   Gender                          783667 non-null  int32  \n",
      " 3   Age                             783667 non-null  object \n",
      " 4   Occupation                      783667 non-null  int64  \n",
      " 5   City_Category                   783667 non-null  object \n",
      " 6   Stay_In_Current_City_Years      783667 non-null  object \n",
      " 7   Marital_Status                  783667 non-null  int64  \n",
      " 8   Product_Category_1              783667 non-null  int64  \n",
      " 9   Product_Category_2              783667 non-null  int32  \n",
      " 10  Product_Category_3              783667 non-null  int32  \n",
      " 11  Purchase                        550068 non-null  float64\n",
      " 12  source                          783667 non-null  object \n",
      " 13  Product_ID_int                  783667 non-null  int32  \n",
      " 14  Stay_In_Current_City_Years_int  783667 non-null  int32  \n",
      "dtypes: float64(1), int32(5), int64(4), object(5)\n",
      "memory usage: 80.7+ MB\n"
     ]
    }
   ],
   "source": [
    "data.info()"
   ]
  },
  {
   "cell_type": "code",
   "execution_count": 105,
   "id": "50c2a000",
   "metadata": {},
   "outputs": [
    {
     "data": {
      "text/plain": [
       "1    276425\n",
       "2    145427\n",
       "3    135428\n",
       "4    120671\n",
       "0    105716\n",
       "Name: Stay_In_Current_City_Years_int, dtype: int64"
      ]
     },
     "execution_count": 105,
     "metadata": {},
     "output_type": "execute_result"
    }
   ],
   "source": [
    "data.Stay_In_Current_City_Years_int.value_counts()"
   ]
  },
  {
   "cell_type": "code",
   "execution_count": 120,
   "id": "c9bcd74a",
   "metadata": {
    "scrolled": true
   },
   "outputs": [
    {
     "name": "stdout",
     "output_type": "stream",
     "text": [
      "<class 'pandas.core.frame.DataFrame'>\n",
      "Int64Index: 783667 entries, 0 to 233598\n",
      "Data columns (total 15 columns):\n",
      " #   Column                          Non-Null Count   Dtype  \n",
      "---  ------                          --------------   -----  \n",
      " 0   User_ID                         783667 non-null  int64  \n",
      " 1   Product_ID                      783667 non-null  object \n",
      " 2   Gender                          783667 non-null  object \n",
      " 3   Age                             783667 non-null  object \n",
      " 4   Occupation                      783667 non-null  int64  \n",
      " 5   City_Category                   783667 non-null  object \n",
      " 6   Stay_In_Current_City_Years      783667 non-null  object \n",
      " 7   Marital_Status                  783667 non-null  int64  \n",
      " 8   Product_Category_1              783667 non-null  int64  \n",
      " 9   Product_Category_2              783667 non-null  int32  \n",
      " 10  Product_Category_3              783667 non-null  int32  \n",
      " 11  Purchase                        550068 non-null  float64\n",
      " 12  source                          783667 non-null  object \n",
      " 13  Product_ID_int                  783667 non-null  int32  \n",
      " 14  Stay_In_Current_City_Years_int  783667 non-null  int32  \n",
      "dtypes: float64(1), int32(4), int64(4), object(6)\n",
      "memory usage: 83.7+ MB\n"
     ]
    }
   ],
   "source": [
    "data.info()"
   ]
  },
  {
   "cell_type": "code",
   "execution_count": 130,
   "id": "fca8b327",
   "metadata": {},
   "outputs": [],
   "source": [
    "data_numbers = data.select_dtypes(include=np.number)"
   ]
  },
  {
   "cell_type": "code",
   "execution_count": 132,
   "id": "7b33ac8a",
   "metadata": {},
   "outputs": [
    {
     "data": {
      "text/plain": [
       "(783667, 10)"
      ]
     },
     "execution_count": 132,
     "metadata": {},
     "output_type": "execute_result"
    }
   ],
   "source": [
    "data_numbers.shape"
   ]
  },
  {
   "cell_type": "code",
   "execution_count": 131,
   "id": "0ceefc73",
   "metadata": {},
   "outputs": [
    {
     "data": {
      "text/html": [
       "<div>\n",
       "<style scoped>\n",
       "    .dataframe tbody tr th:only-of-type {\n",
       "        vertical-align: middle;\n",
       "    }\n",
       "\n",
       "    .dataframe tbody tr th {\n",
       "        vertical-align: top;\n",
       "    }\n",
       "\n",
       "    .dataframe thead th {\n",
       "        text-align: right;\n",
       "    }\n",
       "</style>\n",
       "<table border=\"1\" class=\"dataframe\">\n",
       "  <thead>\n",
       "    <tr style=\"text-align: right;\">\n",
       "      <th></th>\n",
       "      <th>User_ID</th>\n",
       "      <th>Gender</th>\n",
       "      <th>Occupation</th>\n",
       "      <th>Marital_Status</th>\n",
       "      <th>Product_Category_1</th>\n",
       "      <th>Product_Category_2</th>\n",
       "      <th>Product_Category_3</th>\n",
       "      <th>Purchase</th>\n",
       "      <th>Product_ID_int</th>\n",
       "      <th>Stay_In_Current_City_Years_int</th>\n",
       "    </tr>\n",
       "  </thead>\n",
       "  <tbody>\n",
       "    <tr>\n",
       "      <th>0</th>\n",
       "      <td>1000001</td>\n",
       "      <td>1</td>\n",
       "      <td>10</td>\n",
       "      <td>0</td>\n",
       "      <td>3</td>\n",
       "      <td>0</td>\n",
       "      <td>0</td>\n",
       "      <td>8370.0</td>\n",
       "      <td>69042</td>\n",
       "      <td>2</td>\n",
       "    </tr>\n",
       "    <tr>\n",
       "      <th>1</th>\n",
       "      <td>1000001</td>\n",
       "      <td>1</td>\n",
       "      <td>10</td>\n",
       "      <td>0</td>\n",
       "      <td>1</td>\n",
       "      <td>6</td>\n",
       "      <td>14</td>\n",
       "      <td>15200.0</td>\n",
       "      <td>248942</td>\n",
       "      <td>2</td>\n",
       "    </tr>\n",
       "    <tr>\n",
       "      <th>2</th>\n",
       "      <td>1000001</td>\n",
       "      <td>1</td>\n",
       "      <td>10</td>\n",
       "      <td>0</td>\n",
       "      <td>12</td>\n",
       "      <td>0</td>\n",
       "      <td>0</td>\n",
       "      <td>1422.0</td>\n",
       "      <td>87842</td>\n",
       "      <td>2</td>\n",
       "    </tr>\n",
       "    <tr>\n",
       "      <th>3</th>\n",
       "      <td>1000001</td>\n",
       "      <td>1</td>\n",
       "      <td>10</td>\n",
       "      <td>0</td>\n",
       "      <td>12</td>\n",
       "      <td>14</td>\n",
       "      <td>0</td>\n",
       "      <td>1057.0</td>\n",
       "      <td>85442</td>\n",
       "      <td>2</td>\n",
       "    </tr>\n",
       "    <tr>\n",
       "      <th>4</th>\n",
       "      <td>1000002</td>\n",
       "      <td>0</td>\n",
       "      <td>16</td>\n",
       "      <td>0</td>\n",
       "      <td>8</td>\n",
       "      <td>0</td>\n",
       "      <td>0</td>\n",
       "      <td>7969.0</td>\n",
       "      <td>285442</td>\n",
       "      <td>4</td>\n",
       "    </tr>\n",
       "  </tbody>\n",
       "</table>\n",
       "</div>"
      ],
      "text/plain": [
       "   User_ID  Gender  Occupation  Marital_Status  Product_Category_1  \\\n",
       "0  1000001       1          10               0                   3   \n",
       "1  1000001       1          10               0                   1   \n",
       "2  1000001       1          10               0                  12   \n",
       "3  1000001       1          10               0                  12   \n",
       "4  1000002       0          16               0                   8   \n",
       "\n",
       "   Product_Category_2  Product_Category_3  Purchase  Product_ID_int  \\\n",
       "0                   0                   0    8370.0           69042   \n",
       "1                   6                  14   15200.0          248942   \n",
       "2                   0                   0    1422.0           87842   \n",
       "3                  14                   0    1057.0           85442   \n",
       "4                   0                   0    7969.0          285442   \n",
       "\n",
       "   Stay_In_Current_City_Years_int  \n",
       "0                               2  \n",
       "1                               2  \n",
       "2                               2  \n",
       "3                               2  \n",
       "4                               4  "
      ]
     },
     "execution_count": 131,
     "metadata": {},
     "output_type": "execute_result"
    }
   ],
   "source": [
    "data_numbers.head()"
   ]
  },
  {
   "cell_type": "code",
   "execution_count": 134,
   "id": "ab316b69",
   "metadata": {},
   "outputs": [
    {
     "data": {
      "text/html": [
       "<div>\n",
       "<style scoped>\n",
       "    .dataframe tbody tr th:only-of-type {\n",
       "        vertical-align: middle;\n",
       "    }\n",
       "\n",
       "    .dataframe tbody tr th {\n",
       "        vertical-align: top;\n",
       "    }\n",
       "\n",
       "    .dataframe thead th {\n",
       "        text-align: right;\n",
       "    }\n",
       "</style>\n",
       "<table border=\"1\" class=\"dataframe\">\n",
       "  <thead>\n",
       "    <tr style=\"text-align: right;\">\n",
       "      <th></th>\n",
       "      <th>count</th>\n",
       "      <th>mean</th>\n",
       "      <th>std</th>\n",
       "      <th>min</th>\n",
       "      <th>25%</th>\n",
       "      <th>50%</th>\n",
       "      <th>75%</th>\n",
       "      <th>max</th>\n",
       "    </tr>\n",
       "  </thead>\n",
       "  <tbody>\n",
       "    <tr>\n",
       "      <th>User_ID</th>\n",
       "      <td>783667.0</td>\n",
       "      <td>1.003029e+06</td>\n",
       "      <td>1727.266668</td>\n",
       "      <td>1000001.0</td>\n",
       "      <td>1001519.0</td>\n",
       "      <td>1003075.0</td>\n",
       "      <td>1004478.0</td>\n",
       "      <td>1006040.0</td>\n",
       "    </tr>\n",
       "    <tr>\n",
       "      <th>Gender</th>\n",
       "      <td>783667.0</td>\n",
       "      <td>2.470896e-01</td>\n",
       "      <td>0.431320</td>\n",
       "      <td>0.0</td>\n",
       "      <td>0.0</td>\n",
       "      <td>0.0</td>\n",
       "      <td>0.0</td>\n",
       "      <td>1.0</td>\n",
       "    </tr>\n",
       "    <tr>\n",
       "      <th>Occupation</th>\n",
       "      <td>783667.0</td>\n",
       "      <td>8.079300e+00</td>\n",
       "      <td>6.522206</td>\n",
       "      <td>0.0</td>\n",
       "      <td>2.0</td>\n",
       "      <td>7.0</td>\n",
       "      <td>14.0</td>\n",
       "      <td>20.0</td>\n",
       "    </tr>\n",
       "    <tr>\n",
       "      <th>Marital_Status</th>\n",
       "      <td>783667.0</td>\n",
       "      <td>4.097774e-01</td>\n",
       "      <td>0.491793</td>\n",
       "      <td>0.0</td>\n",
       "      <td>0.0</td>\n",
       "      <td>0.0</td>\n",
       "      <td>1.0</td>\n",
       "      <td>1.0</td>\n",
       "    </tr>\n",
       "    <tr>\n",
       "      <th>Product_Category_1</th>\n",
       "      <td>783667.0</td>\n",
       "      <td>5.366196e+00</td>\n",
       "      <td>3.878160</td>\n",
       "      <td>1.0</td>\n",
       "      <td>1.0</td>\n",
       "      <td>5.0</td>\n",
       "      <td>8.0</td>\n",
       "      <td>20.0</td>\n",
       "    </tr>\n",
       "    <tr>\n",
       "      <th>Product_Category_2</th>\n",
       "      <td>783667.0</td>\n",
       "      <td>6.754454e+00</td>\n",
       "      <td>6.216205</td>\n",
       "      <td>0.0</td>\n",
       "      <td>0.0</td>\n",
       "      <td>5.0</td>\n",
       "      <td>14.0</td>\n",
       "      <td>18.0</td>\n",
       "    </tr>\n",
       "    <tr>\n",
       "      <th>Product_Category_3</th>\n",
       "      <td>783667.0</td>\n",
       "      <td>3.845165e+00</td>\n",
       "      <td>6.252476</td>\n",
       "      <td>0.0</td>\n",
       "      <td>0.0</td>\n",
       "      <td>0.0</td>\n",
       "      <td>8.0</td>\n",
       "      <td>18.0</td>\n",
       "    </tr>\n",
       "    <tr>\n",
       "      <th>Purchase</th>\n",
       "      <td>550068.0</td>\n",
       "      <td>9.263969e+03</td>\n",
       "      <td>5023.065394</td>\n",
       "      <td>12.0</td>\n",
       "      <td>5823.0</td>\n",
       "      <td>8047.0</td>\n",
       "      <td>12054.0</td>\n",
       "      <td>23961.0</td>\n",
       "    </tr>\n",
       "    <tr>\n",
       "      <th>Product_ID_int</th>\n",
       "      <td>783667.0</td>\n",
       "      <td>1.742690e+05</td>\n",
       "      <td>102432.938860</td>\n",
       "      <td>142.0</td>\n",
       "      <td>97042.0</td>\n",
       "      <td>169042.0</td>\n",
       "      <td>258742.0</td>\n",
       "      <td>375436.0</td>\n",
       "    </tr>\n",
       "    <tr>\n",
       "      <th>Stay_In_Current_City_Years_int</th>\n",
       "      <td>783667.0</td>\n",
       "      <td>1.858247e+00</td>\n",
       "      <td>1.288790</td>\n",
       "      <td>0.0</td>\n",
       "      <td>1.0</td>\n",
       "      <td>2.0</td>\n",
       "      <td>3.0</td>\n",
       "      <td>4.0</td>\n",
       "    </tr>\n",
       "  </tbody>\n",
       "</table>\n",
       "</div>"
      ],
      "text/plain": [
       "                                   count          mean            std  \\\n",
       "User_ID                         783667.0  1.003029e+06    1727.266668   \n",
       "Gender                          783667.0  2.470896e-01       0.431320   \n",
       "Occupation                      783667.0  8.079300e+00       6.522206   \n",
       "Marital_Status                  783667.0  4.097774e-01       0.491793   \n",
       "Product_Category_1              783667.0  5.366196e+00       3.878160   \n",
       "Product_Category_2              783667.0  6.754454e+00       6.216205   \n",
       "Product_Category_3              783667.0  3.845165e+00       6.252476   \n",
       "Purchase                        550068.0  9.263969e+03    5023.065394   \n",
       "Product_ID_int                  783667.0  1.742690e+05  102432.938860   \n",
       "Stay_In_Current_City_Years_int  783667.0  1.858247e+00       1.288790   \n",
       "\n",
       "                                      min        25%        50%        75%  \\\n",
       "User_ID                         1000001.0  1001519.0  1003075.0  1004478.0   \n",
       "Gender                                0.0        0.0        0.0        0.0   \n",
       "Occupation                            0.0        2.0        7.0       14.0   \n",
       "Marital_Status                        0.0        0.0        0.0        1.0   \n",
       "Product_Category_1                    1.0        1.0        5.0        8.0   \n",
       "Product_Category_2                    0.0        0.0        5.0       14.0   \n",
       "Product_Category_3                    0.0        0.0        0.0        8.0   \n",
       "Purchase                             12.0     5823.0     8047.0    12054.0   \n",
       "Product_ID_int                      142.0    97042.0   169042.0   258742.0   \n",
       "Stay_In_Current_City_Years_int        0.0        1.0        2.0        3.0   \n",
       "\n",
       "                                      max  \n",
       "User_ID                         1006040.0  \n",
       "Gender                                1.0  \n",
       "Occupation                           20.0  \n",
       "Marital_Status                        1.0  \n",
       "Product_Category_1                   20.0  \n",
       "Product_Category_2                   18.0  \n",
       "Product_Category_3                   18.0  \n",
       "Purchase                          23961.0  \n",
       "Product_ID_int                   375436.0  \n",
       "Stay_In_Current_City_Years_int        4.0  "
      ]
     },
     "execution_count": 134,
     "metadata": {},
     "output_type": "execute_result"
    }
   ],
   "source": [
    "data_numbers.describe().T"
   ]
  },
  {
   "cell_type": "code",
   "execution_count": 118,
   "id": "4f8088a5",
   "metadata": {},
   "outputs": [
    {
     "data": {
      "text/html": [
       "<div>\n",
       "<style scoped>\n",
       "    .dataframe tbody tr th:only-of-type {\n",
       "        vertical-align: middle;\n",
       "    }\n",
       "\n",
       "    .dataframe tbody tr th {\n",
       "        vertical-align: top;\n",
       "    }\n",
       "\n",
       "    .dataframe thead th {\n",
       "        text-align: right;\n",
       "    }\n",
       "</style>\n",
       "<table border=\"1\" class=\"dataframe\">\n",
       "  <thead>\n",
       "    <tr style=\"text-align: right;\">\n",
       "      <th></th>\n",
       "      <th>Product_Category_1</th>\n",
       "      <th>Product_Category_2</th>\n",
       "      <th>Product_Category_3</th>\n",
       "    </tr>\n",
       "  </thead>\n",
       "  <tbody>\n",
       "    <tr>\n",
       "      <th>0</th>\n",
       "      <td>3</td>\n",
       "      <td>0</td>\n",
       "      <td>0</td>\n",
       "    </tr>\n",
       "    <tr>\n",
       "      <th>1</th>\n",
       "      <td>1</td>\n",
       "      <td>6</td>\n",
       "      <td>14</td>\n",
       "    </tr>\n",
       "    <tr>\n",
       "      <th>2</th>\n",
       "      <td>12</td>\n",
       "      <td>0</td>\n",
       "      <td>0</td>\n",
       "    </tr>\n",
       "    <tr>\n",
       "      <th>3</th>\n",
       "      <td>12</td>\n",
       "      <td>14</td>\n",
       "      <td>0</td>\n",
       "    </tr>\n",
       "    <tr>\n",
       "      <th>4</th>\n",
       "      <td>8</td>\n",
       "      <td>0</td>\n",
       "      <td>0</td>\n",
       "    </tr>\n",
       "    <tr>\n",
       "      <th>...</th>\n",
       "      <td>...</td>\n",
       "      <td>...</td>\n",
       "      <td>...</td>\n",
       "    </tr>\n",
       "    <tr>\n",
       "      <th>233594</th>\n",
       "      <td>8</td>\n",
       "      <td>0</td>\n",
       "      <td>0</td>\n",
       "    </tr>\n",
       "    <tr>\n",
       "      <th>233595</th>\n",
       "      <td>5</td>\n",
       "      <td>8</td>\n",
       "      <td>0</td>\n",
       "    </tr>\n",
       "    <tr>\n",
       "      <th>233596</th>\n",
       "      <td>1</td>\n",
       "      <td>5</td>\n",
       "      <td>12</td>\n",
       "    </tr>\n",
       "    <tr>\n",
       "      <th>233597</th>\n",
       "      <td>10</td>\n",
       "      <td>16</td>\n",
       "      <td>0</td>\n",
       "    </tr>\n",
       "    <tr>\n",
       "      <th>233598</th>\n",
       "      <td>4</td>\n",
       "      <td>5</td>\n",
       "      <td>0</td>\n",
       "    </tr>\n",
       "  </tbody>\n",
       "</table>\n",
       "<p>783667 rows × 3 columns</p>\n",
       "</div>"
      ],
      "text/plain": [
       "        Product_Category_1  Product_Category_2  Product_Category_3\n",
       "0                        3                   0                   0\n",
       "1                        1                   6                  14\n",
       "2                       12                   0                   0\n",
       "3                       12                  14                   0\n",
       "4                        8                   0                   0\n",
       "...                    ...                 ...                 ...\n",
       "233594                   8                   0                   0\n",
       "233595                   5                   8                   0\n",
       "233596                   1                   5                  12\n",
       "233597                  10                  16                   0\n",
       "233598                   4                   5                   0\n",
       "\n",
       "[783667 rows x 3 columns]"
      ]
     },
     "execution_count": 118,
     "metadata": {},
     "output_type": "execute_result"
    }
   ],
   "source": [
    "data[['Product_Category_1','Product_Category_2','Product_Category_3']]"
   ]
  },
  {
   "cell_type": "code",
   "execution_count": 119,
   "id": "5ced3c63",
   "metadata": {},
   "outputs": [
    {
     "data": {
      "text/plain": [
       "0          3\n",
       "1         21\n",
       "2         12\n",
       "3         26\n",
       "4          8\n",
       "          ..\n",
       "233594     8\n",
       "233595    13\n",
       "233596    18\n",
       "233597    26\n",
       "233598     9\n",
       "Length: 783667, dtype: int64"
      ]
     },
     "execution_count": 119,
     "metadata": {},
     "output_type": "execute_result"
    }
   ],
   "source": [
    "data['Product_Category_1']+data['Product_Category_2']+data['Product_Category_3']"
   ]
  },
  {
   "cell_type": "code",
   "execution_count": 133,
   "id": "b3427641",
   "metadata": {},
   "outputs": [],
   "source": [
    "from sklearn.preprocessing import StandardScaler"
   ]
  },
  {
   "cell_type": "code",
   "execution_count": 135,
   "id": "4ca7740b",
   "metadata": {},
   "outputs": [],
   "source": [
    "scale = StandardScaler()\n",
    "scaled = scale.fit_transform(data_numbers.drop(columns=\"Purchase\"))\n",
    "data_numbers = pd.DataFrame(scaled, columns=data_numbers.drop(columns=\"Purchase\").columns)"
   ]
  },
  {
   "cell_type": "code",
   "execution_count": 136,
   "id": "1c5e60a8",
   "metadata": {},
   "outputs": [
    {
     "data": {
      "text/html": [
       "<div>\n",
       "<style scoped>\n",
       "    .dataframe tbody tr th:only-of-type {\n",
       "        vertical-align: middle;\n",
       "    }\n",
       "\n",
       "    .dataframe tbody tr th {\n",
       "        vertical-align: top;\n",
       "    }\n",
       "\n",
       "    .dataframe thead th {\n",
       "        text-align: right;\n",
       "    }\n",
       "</style>\n",
       "<table border=\"1\" class=\"dataframe\">\n",
       "  <thead>\n",
       "    <tr style=\"text-align: right;\">\n",
       "      <th></th>\n",
       "      <th>User_ID</th>\n",
       "      <th>Gender</th>\n",
       "      <th>Occupation</th>\n",
       "      <th>Marital_Status</th>\n",
       "      <th>Product_Category_1</th>\n",
       "      <th>Product_Category_2</th>\n",
       "      <th>Product_Category_3</th>\n",
       "      <th>Product_ID_int</th>\n",
       "      <th>Stay_In_Current_City_Years_int</th>\n",
       "    </tr>\n",
       "  </thead>\n",
       "  <tbody>\n",
       "    <tr>\n",
       "      <th>0</th>\n",
       "      <td>-1.753057</td>\n",
       "      <td>1.745599</td>\n",
       "      <td>0.294486</td>\n",
       "      <td>-0.833232</td>\n",
       "      <td>-0.610134</td>\n",
       "      <td>-1.086589</td>\n",
       "      <td>-0.614983</td>\n",
       "      <td>-1.027277</td>\n",
       "      <td>0.109989</td>\n",
       "    </tr>\n",
       "    <tr>\n",
       "      <th>1</th>\n",
       "      <td>-1.753057</td>\n",
       "      <td>1.745599</td>\n",
       "      <td>0.294486</td>\n",
       "      <td>-0.833232</td>\n",
       "      <td>-1.125843</td>\n",
       "      <td>-0.121369</td>\n",
       "      <td>1.624131</td>\n",
       "      <td>0.728995</td>\n",
       "      <td>0.109989</td>\n",
       "    </tr>\n",
       "    <tr>\n",
       "      <th>2</th>\n",
       "      <td>-1.753057</td>\n",
       "      <td>1.745599</td>\n",
       "      <td>0.294486</td>\n",
       "      <td>-0.833232</td>\n",
       "      <td>1.710556</td>\n",
       "      <td>-1.086589</td>\n",
       "      <td>-0.614983</td>\n",
       "      <td>-0.843742</td>\n",
       "      <td>0.109989</td>\n",
       "    </tr>\n",
       "    <tr>\n",
       "      <th>3</th>\n",
       "      <td>-1.753057</td>\n",
       "      <td>1.745599</td>\n",
       "      <td>0.294486</td>\n",
       "      <td>-0.833232</td>\n",
       "      <td>1.710556</td>\n",
       "      <td>1.165591</td>\n",
       "      <td>-0.614983</td>\n",
       "      <td>-0.867172</td>\n",
       "      <td>0.109989</td>\n",
       "    </tr>\n",
       "    <tr>\n",
       "      <th>4</th>\n",
       "      <td>-1.752478</td>\n",
       "      <td>-0.572869</td>\n",
       "      <td>1.214421</td>\n",
       "      <td>-0.833232</td>\n",
       "      <td>0.679138</td>\n",
       "      <td>-1.086589</td>\n",
       "      <td>-0.614983</td>\n",
       "      <td>1.085326</td>\n",
       "      <td>1.661833</td>\n",
       "    </tr>\n",
       "    <tr>\n",
       "      <th>...</th>\n",
       "      <td>...</td>\n",
       "      <td>...</td>\n",
       "      <td>...</td>\n",
       "      <td>...</td>\n",
       "      <td>...</td>\n",
       "      <td>...</td>\n",
       "      <td>...</td>\n",
       "      <td>...</td>\n",
       "      <td>...</td>\n",
       "    </tr>\n",
       "    <tr>\n",
       "      <th>783662</th>\n",
       "      <td>1.740904</td>\n",
       "      <td>1.745599</td>\n",
       "      <td>1.061099</td>\n",
       "      <td>1.200146</td>\n",
       "      <td>0.679138</td>\n",
       "      <td>-1.086589</td>\n",
       "      <td>-0.614983</td>\n",
       "      <td>-0.540129</td>\n",
       "      <td>1.661833</td>\n",
       "    </tr>\n",
       "    <tr>\n",
       "      <th>783663</th>\n",
       "      <td>1.740904</td>\n",
       "      <td>1.745599</td>\n",
       "      <td>1.061099</td>\n",
       "      <td>1.200146</td>\n",
       "      <td>-0.094425</td>\n",
       "      <td>0.200371</td>\n",
       "      <td>-0.614983</td>\n",
       "      <td>0.784641</td>\n",
       "      <td>1.661833</td>\n",
       "    </tr>\n",
       "    <tr>\n",
       "      <th>783664</th>\n",
       "      <td>1.740904</td>\n",
       "      <td>1.745599</td>\n",
       "      <td>1.061099</td>\n",
       "      <td>1.200146</td>\n",
       "      <td>-1.125843</td>\n",
       "      <td>-0.282239</td>\n",
       "      <td>1.304258</td>\n",
       "      <td>-1.390442</td>\n",
       "      <td>1.661833</td>\n",
       "    </tr>\n",
       "    <tr>\n",
       "      <th>783665</th>\n",
       "      <td>1.741483</td>\n",
       "      <td>1.745599</td>\n",
       "      <td>-1.085416</td>\n",
       "      <td>-0.833232</td>\n",
       "      <td>1.194847</td>\n",
       "      <td>1.487331</td>\n",
       "      <td>-0.614983</td>\n",
       "      <td>-0.483507</td>\n",
       "      <td>1.661833</td>\n",
       "    </tr>\n",
       "    <tr>\n",
       "      <th>783666</th>\n",
       "      <td>1.742641</td>\n",
       "      <td>1.745599</td>\n",
       "      <td>-1.238738</td>\n",
       "      <td>1.200146</td>\n",
       "      <td>-0.352280</td>\n",
       "      <td>-0.282239</td>\n",
       "      <td>-0.614983</td>\n",
       "      <td>1.389915</td>\n",
       "      <td>1.661833</td>\n",
       "    </tr>\n",
       "  </tbody>\n",
       "</table>\n",
       "<p>783667 rows × 9 columns</p>\n",
       "</div>"
      ],
      "text/plain": [
       "         User_ID    Gender  Occupation  Marital_Status  Product_Category_1  \\\n",
       "0      -1.753057  1.745599    0.294486       -0.833232           -0.610134   \n",
       "1      -1.753057  1.745599    0.294486       -0.833232           -1.125843   \n",
       "2      -1.753057  1.745599    0.294486       -0.833232            1.710556   \n",
       "3      -1.753057  1.745599    0.294486       -0.833232            1.710556   \n",
       "4      -1.752478 -0.572869    1.214421       -0.833232            0.679138   \n",
       "...          ...       ...         ...             ...                 ...   \n",
       "783662  1.740904  1.745599    1.061099        1.200146            0.679138   \n",
       "783663  1.740904  1.745599    1.061099        1.200146           -0.094425   \n",
       "783664  1.740904  1.745599    1.061099        1.200146           -1.125843   \n",
       "783665  1.741483  1.745599   -1.085416       -0.833232            1.194847   \n",
       "783666  1.742641  1.745599   -1.238738        1.200146           -0.352280   \n",
       "\n",
       "        Product_Category_2  Product_Category_3  Product_ID_int  \\\n",
       "0                -1.086589           -0.614983       -1.027277   \n",
       "1                -0.121369            1.624131        0.728995   \n",
       "2                -1.086589           -0.614983       -0.843742   \n",
       "3                 1.165591           -0.614983       -0.867172   \n",
       "4                -1.086589           -0.614983        1.085326   \n",
       "...                    ...                 ...             ...   \n",
       "783662           -1.086589           -0.614983       -0.540129   \n",
       "783663            0.200371           -0.614983        0.784641   \n",
       "783664           -0.282239            1.304258       -1.390442   \n",
       "783665            1.487331           -0.614983       -0.483507   \n",
       "783666           -0.282239           -0.614983        1.389915   \n",
       "\n",
       "        Stay_In_Current_City_Years_int  \n",
       "0                             0.109989  \n",
       "1                             0.109989  \n",
       "2                             0.109989  \n",
       "3                             0.109989  \n",
       "4                             1.661833  \n",
       "...                                ...  \n",
       "783662                        1.661833  \n",
       "783663                        1.661833  \n",
       "783664                        1.661833  \n",
       "783665                        1.661833  \n",
       "783666                        1.661833  \n",
       "\n",
       "[783667 rows x 9 columns]"
      ]
     },
     "execution_count": 136,
     "metadata": {},
     "output_type": "execute_result"
    }
   ],
   "source": [
    "data_numbers"
   ]
  },
  {
   "cell_type": "code",
   "execution_count": 137,
   "id": "1e09b11b",
   "metadata": {},
   "outputs": [],
   "source": [
    "data_category = data.select_dtypes(exclude=np.number)"
   ]
  },
  {
   "cell_type": "code",
   "execution_count": 138,
   "id": "6a8bf1ac",
   "metadata": {},
   "outputs": [
    {
     "data": {
      "text/plain": [
       "Index(['Product_ID', 'Age', 'City_Category', 'Stay_In_Current_City_Years',\n",
       "       'source'],\n",
       "      dtype='object')"
      ]
     },
     "execution_count": 138,
     "metadata": {},
     "output_type": "execute_result"
    }
   ],
   "source": [
    "data_category.columns"
   ]
  },
  {
   "cell_type": "code",
   "execution_count": 139,
   "id": "b81fe99b",
   "metadata": {},
   "outputs": [],
   "source": [
    "data_category_one_hot = pd.get_dummies(data_category.drop(columns=['source','Product_ID', 'Stay_In_Current_City_Years']))"
   ]
  },
  {
   "cell_type": "code",
   "execution_count": 140,
   "id": "068f3491",
   "metadata": {},
   "outputs": [],
   "source": [
    "data_numbers = data_numbers.reset_index(drop=True)\n",
    "data_category_one_hot = data_category_one_hot.reset_index(drop=True )\n",
    "data = data.reset_index(drop =True)"
   ]
  },
  {
   "cell_type": "code",
   "execution_count": 195,
   "id": "ee1af5ee",
   "metadata": {},
   "outputs": [
    {
     "data": {
      "text/plain": [
       "Index(['User_ID', 'Gender', 'Occupation', 'Marital_Status',\n",
       "       'Product_Category_1', 'Product_Category_2', 'Product_Category_3',\n",
       "       'Product_ID_int', 'Stay_In_Current_City_Years_int', 'Age_0-17',\n",
       "       'Age_18-25', 'Age_26-35', 'Age_36-45', 'Age_46-50', 'Age_51-55',\n",
       "       'Age_55+', 'City_Category_A', 'City_Category_B', 'City_Category_C',\n",
       "       'Product_ID', 'Stay_In_Current_City_Years', 'source', 'Purchase',\n",
       "       'User_ID'],\n",
       "      dtype='object')"
      ]
     },
     "execution_count": 195,
     "metadata": {},
     "output_type": "execute_result"
    }
   ],
   "source": [
    "data_preprocessed = pd.concat([data_numbers, data_category_one_hot, data[['Product_ID','Stay_In_Current_City_Years','source','Purchase','User_ID']]], axis = 1)\n",
    "data_preprocessed.columns"
   ]
  },
  {
   "cell_type": "code",
   "execution_count": 196,
   "id": "2a5837da",
   "metadata": {},
   "outputs": [
    {
     "data": {
      "text/plain": [
       "Index(['Age_0-17', 'Age_18-25', 'Age_26-35', 'Age_36-45', 'Age_46-50',\n",
       "       'Age_51-55', 'Age_55+', 'City_Category_A', 'City_Category_B',\n",
       "       'City_Category_C'],\n",
       "      dtype='object')"
      ]
     },
     "execution_count": 196,
     "metadata": {},
     "output_type": "execute_result"
    }
   ],
   "source": [
    "data_category_one_hot.columns"
   ]
  },
  {
   "cell_type": "code",
   "execution_count": 197,
   "id": "9cbb7634",
   "metadata": {},
   "outputs": [
    {
     "data": {
      "text/plain": [
       "Index(['User_ID', 'Gender', 'Occupation', 'Marital_Status',\n",
       "       'Product_Category_1', 'Product_Category_2', 'Product_Category_3',\n",
       "       'Product_ID_int', 'Stay_In_Current_City_Years_int'],\n",
       "      dtype='object')"
      ]
     },
     "execution_count": 197,
     "metadata": {},
     "output_type": "execute_result"
    }
   ],
   "source": [
    "data_numbers.columns"
   ]
  },
  {
   "cell_type": "code",
   "execution_count": 198,
   "id": "96b87bdb",
   "metadata": {},
   "outputs": [
    {
     "data": {
      "text/plain": [
       "Index(['User_ID', 'Product_ID', 'Gender', 'Age', 'Occupation', 'City_Category',\n",
       "       'Stay_In_Current_City_Years', 'Marital_Status', 'Product_Category_1',\n",
       "       'Product_Category_2', 'Product_Category_3', 'Purchase', 'source',\n",
       "       'Product_ID_int', 'Stay_In_Current_City_Years_int'],\n",
       "      dtype='object')"
      ]
     },
     "execution_count": 198,
     "metadata": {},
     "output_type": "execute_result"
    }
   ],
   "source": [
    "data.columns"
   ]
  },
  {
   "cell_type": "code",
   "execution_count": 199,
   "id": "877420dd",
   "metadata": {},
   "outputs": [
    {
     "data": {
      "text/plain": [
       "train    550068\n",
       "test     233599\n",
       "Name: source, dtype: int64"
      ]
     },
     "execution_count": 199,
     "metadata": {},
     "output_type": "execute_result"
    }
   ],
   "source": [
    "data_preprocessed.source.value_counts()"
   ]
  },
  {
   "cell_type": "code",
   "execution_count": 200,
   "id": "85f6ff36",
   "metadata": {},
   "outputs": [],
   "source": [
    "train_preprocessed = data_preprocessed[data_preprocessed['source']=='train'].drop(columns='source')\n",
    "test_preprocessed = data_preprocessed[data_preprocessed['source']=='test'].drop(columns=['source', 'Purchase'])"
   ]
  },
  {
   "cell_type": "code",
   "execution_count": 201,
   "id": "dc87e3de",
   "metadata": {},
   "outputs": [],
   "source": [
    "train_preprocessed.to_csv(\"Black_Friday_train_preprocessed.csv\", index = False)\n",
    "test_preprocessed.to_csv(\"Black_Friday_test_preprocessed.csv\", index = False)"
   ]
  },
  {
   "cell_type": "code",
   "execution_count": 202,
   "id": "60cd2138",
   "metadata": {},
   "outputs": [],
   "source": [
    "train1 = pd.read_csv(\"Black_Friday_train_preprocessed.csv\")\n",
    "test1 = pd.read_csv(\"Black_Friday_test_preprocessed.csv\")\n",
    "sample1 = pd.read_csv(\"Black_Friday_sample_submission.csv\")"
   ]
  },
  {
   "cell_type": "code",
   "execution_count": 203,
   "id": "50a23d70",
   "metadata": {},
   "outputs": [
    {
     "data": {
      "text/html": [
       "<div>\n",
       "<style scoped>\n",
       "    .dataframe tbody tr th:only-of-type {\n",
       "        vertical-align: middle;\n",
       "    }\n",
       "\n",
       "    .dataframe tbody tr th {\n",
       "        vertical-align: top;\n",
       "    }\n",
       "\n",
       "    .dataframe thead th {\n",
       "        text-align: right;\n",
       "    }\n",
       "</style>\n",
       "<table border=\"1\" class=\"dataframe\">\n",
       "  <thead>\n",
       "    <tr style=\"text-align: right;\">\n",
       "      <th></th>\n",
       "      <th>Purchase</th>\n",
       "      <th>User_ID</th>\n",
       "      <th>Product_ID</th>\n",
       "    </tr>\n",
       "  </thead>\n",
       "  <tbody>\n",
       "    <tr>\n",
       "      <th>0</th>\n",
       "      <td>100</td>\n",
       "      <td>1000004</td>\n",
       "      <td>P00128942</td>\n",
       "    </tr>\n",
       "    <tr>\n",
       "      <th>1</th>\n",
       "      <td>100</td>\n",
       "      <td>1000009</td>\n",
       "      <td>P00113442</td>\n",
       "    </tr>\n",
       "    <tr>\n",
       "      <th>2</th>\n",
       "      <td>100</td>\n",
       "      <td>1000010</td>\n",
       "      <td>P00288442</td>\n",
       "    </tr>\n",
       "    <tr>\n",
       "      <th>3</th>\n",
       "      <td>100</td>\n",
       "      <td>1000010</td>\n",
       "      <td>P00145342</td>\n",
       "    </tr>\n",
       "    <tr>\n",
       "      <th>4</th>\n",
       "      <td>100</td>\n",
       "      <td>1000011</td>\n",
       "      <td>P00053842</td>\n",
       "    </tr>\n",
       "  </tbody>\n",
       "</table>\n",
       "</div>"
      ],
      "text/plain": [
       "   Purchase  User_ID Product_ID\n",
       "0       100  1000004  P00128942\n",
       "1       100  1000009  P00113442\n",
       "2       100  1000010  P00288442\n",
       "3       100  1000010  P00145342\n",
       "4       100  1000011  P00053842"
      ]
     },
     "execution_count": 203,
     "metadata": {},
     "output_type": "execute_result"
    }
   ],
   "source": [
    "sample1.head()"
   ]
  },
  {
   "cell_type": "code",
   "execution_count": 217,
   "id": "ae83910e",
   "metadata": {},
   "outputs": [
    {
     "name": "stdout",
     "output_type": "stream",
     "text": [
      "<class 'pandas.core.frame.DataFrame'>\n",
      "RangeIndex: 233599 entries, 0 to 233598\n",
      "Data columns (total 22 columns):\n",
      " #   Column                          Non-Null Count   Dtype  \n",
      "---  ------                          --------------   -----  \n",
      " 0   User_ID                         233599 non-null  float64\n",
      " 1   Gender                          233599 non-null  float64\n",
      " 2   Occupation                      233599 non-null  float64\n",
      " 3   Marital_Status                  233599 non-null  float64\n",
      " 4   Product_Category_1              233599 non-null  float64\n",
      " 5   Product_Category_2              233599 non-null  float64\n",
      " 6   Product_Category_3              233599 non-null  float64\n",
      " 7   Product_ID_int                  233599 non-null  float64\n",
      " 8   Stay_In_Current_City_Years_int  233599 non-null  float64\n",
      " 9   Age_0-17                        233599 non-null  int64  \n",
      " 10  Age_18-25                       233599 non-null  int64  \n",
      " 11  Age_26-35                       233599 non-null  int64  \n",
      " 12  Age_36-45                       233599 non-null  int64  \n",
      " 13  Age_46-50                       233599 non-null  int64  \n",
      " 14  Age_51-55                       233599 non-null  int64  \n",
      " 15  Age_55+                         233599 non-null  int64  \n",
      " 16  City_Category_A                 233599 non-null  int64  \n",
      " 17  City_Category_B                 233599 non-null  int64  \n",
      " 18  City_Category_C                 233599 non-null  int64  \n",
      " 19  Product_ID                      233599 non-null  object \n",
      " 20  Stay_In_Current_City_Years      233599 non-null  object \n",
      " 21  User_ID.1                       233599 non-null  int64  \n",
      "dtypes: float64(9), int64(11), object(2)\n",
      "memory usage: 39.2+ MB\n"
     ]
    }
   ],
   "source": [
    "test1.info()"
   ]
  },
  {
   "cell_type": "code",
   "execution_count": 204,
   "id": "d6775e67",
   "metadata": {},
   "outputs": [
    {
     "name": "stdout",
     "output_type": "stream",
     "text": [
      "<class 'pandas.core.frame.DataFrame'>\n",
      "RangeIndex: 550068 entries, 0 to 550067\n",
      "Data columns (total 23 columns):\n",
      " #   Column                          Non-Null Count   Dtype  \n",
      "---  ------                          --------------   -----  \n",
      " 0   User_ID                         550068 non-null  float64\n",
      " 1   Gender                          550068 non-null  float64\n",
      " 2   Occupation                      550068 non-null  float64\n",
      " 3   Marital_Status                  550068 non-null  float64\n",
      " 4   Product_Category_1              550068 non-null  float64\n",
      " 5   Product_Category_2              550068 non-null  float64\n",
      " 6   Product_Category_3              550068 non-null  float64\n",
      " 7   Product_ID_int                  550068 non-null  float64\n",
      " 8   Stay_In_Current_City_Years_int  550068 non-null  float64\n",
      " 9   Age_0-17                        550068 non-null  int64  \n",
      " 10  Age_18-25                       550068 non-null  int64  \n",
      " 11  Age_26-35                       550068 non-null  int64  \n",
      " 12  Age_36-45                       550068 non-null  int64  \n",
      " 13  Age_46-50                       550068 non-null  int64  \n",
      " 14  Age_51-55                       550068 non-null  int64  \n",
      " 15  Age_55+                         550068 non-null  int64  \n",
      " 16  City_Category_A                 550068 non-null  int64  \n",
      " 17  City_Category_B                 550068 non-null  int64  \n",
      " 18  City_Category_C                 550068 non-null  int64  \n",
      " 19  Product_ID                      550068 non-null  object \n",
      " 20  Stay_In_Current_City_Years      550068 non-null  object \n",
      " 21  Purchase                        550068 non-null  float64\n",
      " 22  User_ID.1                       550068 non-null  int64  \n",
      "dtypes: float64(10), int64(11), object(2)\n",
      "memory usage: 96.5+ MB\n"
     ]
    }
   ],
   "source": [
    "train1.info()"
   ]
  },
  {
   "cell_type": "code",
   "execution_count": 205,
   "id": "1b485c0d",
   "metadata": {},
   "outputs": [
    {
     "data": {
      "text/plain": [
       "Index(['User_ID', 'Gender', 'Occupation', 'Marital_Status',\n",
       "       'Product_Category_1', 'Product_Category_2', 'Product_Category_3',\n",
       "       'Product_ID_int', 'Stay_In_Current_City_Years_int', 'Age_0-17',\n",
       "       'Age_18-25', 'Age_26-35', 'Age_36-45', 'Age_46-50', 'Age_51-55',\n",
       "       'Age_55+', 'City_Category_A', 'City_Category_B', 'City_Category_C',\n",
       "       'Product_ID', 'Stay_In_Current_City_Years', 'Purchase', 'User_ID.1'],\n",
       "      dtype='object')"
      ]
     },
     "execution_count": 205,
     "metadata": {},
     "output_type": "execute_result"
    }
   ],
   "source": [
    "train1.columns"
   ]
  },
  {
   "cell_type": "code",
   "execution_count": 206,
   "id": "b8a97b9d",
   "metadata": {},
   "outputs": [],
   "source": [
    "X = train1.drop(columns = [\"Product_ID\", \"User_ID\", \"Stay_In_Current_City_Years\", \"Purchase\"])\n",
    "y = train1['Purchase']"
   ]
  },
  {
   "cell_type": "markdown",
   "id": "922b37bb",
   "metadata": {},
   "source": [
    "## Modeling"
   ]
  },
  {
   "cell_type": "code",
   "execution_count": 207,
   "id": "2fb557e1",
   "metadata": {},
   "outputs": [],
   "source": [
    "from sklearn.model_selection import train_test_split"
   ]
  },
  {
   "cell_type": "code",
   "execution_count": 208,
   "id": "73fd3fd8",
   "metadata": {},
   "outputs": [],
   "source": [
    "train_X, test_X, train_y, test_y = train_test_split(X,y, test_size = 0.2, random_state=32)"
   ]
  },
  {
   "cell_type": "code",
   "execution_count": 209,
   "id": "19c1bd02",
   "metadata": {},
   "outputs": [],
   "source": [
    "from sklearn.linear_model import LinearRegression"
   ]
  },
  {
   "cell_type": "code",
   "execution_count": 210,
   "id": "b82d5136",
   "metadata": {
    "scrolled": true
   },
   "outputs": [],
   "source": [
    "model = LinearRegression()"
   ]
  },
  {
   "cell_type": "code",
   "execution_count": 211,
   "id": "dada17d0",
   "metadata": {},
   "outputs": [
    {
     "name": "stdout",
     "output_type": "stream",
     "text": [
      "<class 'pandas.core.frame.DataFrame'>\n",
      "Int64Index: 440054 entries, 19432 to 10967\n",
      "Data columns (total 19 columns):\n",
      " #   Column                          Non-Null Count   Dtype  \n",
      "---  ------                          --------------   -----  \n",
      " 0   Gender                          440054 non-null  float64\n",
      " 1   Occupation                      440054 non-null  float64\n",
      " 2   Marital_Status                  440054 non-null  float64\n",
      " 3   Product_Category_1              440054 non-null  float64\n",
      " 4   Product_Category_2              440054 non-null  float64\n",
      " 5   Product_Category_3              440054 non-null  float64\n",
      " 6   Product_ID_int                  440054 non-null  float64\n",
      " 7   Stay_In_Current_City_Years_int  440054 non-null  float64\n",
      " 8   Age_0-17                        440054 non-null  int64  \n",
      " 9   Age_18-25                       440054 non-null  int64  \n",
      " 10  Age_26-35                       440054 non-null  int64  \n",
      " 11  Age_36-45                       440054 non-null  int64  \n",
      " 12  Age_46-50                       440054 non-null  int64  \n",
      " 13  Age_51-55                       440054 non-null  int64  \n",
      " 14  Age_55+                         440054 non-null  int64  \n",
      " 15  City_Category_A                 440054 non-null  int64  \n",
      " 16  City_Category_B                 440054 non-null  int64  \n",
      " 17  City_Category_C                 440054 non-null  int64  \n",
      " 18  User_ID.1                       440054 non-null  int64  \n",
      "dtypes: float64(8), int64(11)\n",
      "memory usage: 67.1 MB\n"
     ]
    }
   ],
   "source": [
    "train_X.info()"
   ]
  },
  {
   "cell_type": "code",
   "execution_count": 212,
   "id": "e7ab551a",
   "metadata": {},
   "outputs": [
    {
     "data": {
      "text/plain": [
       "19432      9809.0\n",
       "347539     6908.0\n",
       "148255     9622.0\n",
       "197865    15864.0\n",
       "110099     7854.0\n",
       "           ...   \n",
       "384403     3925.0\n",
       "387160    16660.0\n",
       "282558     7139.0\n",
       "370219    11486.0\n",
       "10967      8800.0\n",
       "Name: Purchase, Length: 440054, dtype: float64"
      ]
     },
     "execution_count": 212,
     "metadata": {},
     "output_type": "execute_result"
    }
   ],
   "source": [
    "train_y "
   ]
  },
  {
   "cell_type": "code",
   "execution_count": 213,
   "id": "b2d63a99",
   "metadata": {
    "scrolled": true
   },
   "outputs": [
    {
     "data": {
      "text/plain": [
       "LinearRegression()"
      ]
     },
     "execution_count": 213,
     "metadata": {},
     "output_type": "execute_result"
    }
   ],
   "source": [
    "model.fit(train_X, train_y)"
   ]
  },
  {
   "cell_type": "code",
   "execution_count": 214,
   "id": "eddfb243",
   "metadata": {},
   "outputs": [
    {
     "data": {
      "text/plain": [
       "array([-2.12466610e+02,  4.06117287e+01, -1.65810761e+01, -1.34491896e+03,\n",
       "        5.25665503e+01,  8.64056413e+02, -2.77846394e+02,  1.25186059e+01,\n",
       "       -5.16867697e+02, -1.86053911e+02, -1.13280619e+00,  7.92573690e+01,\n",
       "        5.15410591e+01,  3.72159755e+02,  2.01096231e+02, -2.74016033e+02,\n",
       "       -1.26286142e+02,  4.00302175e+02,  1.11050576e-02])"
      ]
     },
     "execution_count": 214,
     "metadata": {},
     "output_type": "execute_result"
    }
   ],
   "source": [
    "model.coef_"
   ]
  },
  {
   "cell_type": "code",
   "execution_count": 215,
   "id": "b6fbc876",
   "metadata": {},
   "outputs": [
    {
     "data": {
      "text/plain": [
       "-1858.5847330773813"
      ]
     },
     "execution_count": 215,
     "metadata": {},
     "output_type": "execute_result"
    }
   ],
   "source": [
    "model.intercept_"
   ]
  },
  {
   "cell_type": "code",
   "execution_count": 216,
   "id": "58da9236",
   "metadata": {},
   "outputs": [
    {
     "data": {
      "text/plain": [
       "Index(['User_ID', 'Gender', 'Occupation', 'Marital_Status',\n",
       "       'Product_Category_1', 'Product_Category_2', 'Product_Category_3',\n",
       "       'Product_ID_int', 'Stay_In_Current_City_Years_int', 'Age_0-17',\n",
       "       'Age_18-25', 'Age_26-35', 'Age_36-45', 'Age_46-50', 'Age_51-55',\n",
       "       'Age_55+', 'City_Category_A', 'City_Category_B', 'City_Category_C',\n",
       "       'Product_ID', 'Stay_In_Current_City_Years', 'User_ID.1'],\n",
       "      dtype='object')"
      ]
     },
     "execution_count": 216,
     "metadata": {},
     "output_type": "execute_result"
    }
   ],
   "source": [
    "test1.columns"
   ]
  },
  {
   "cell_type": "code",
   "execution_count": 222,
   "id": "976bb2b2",
   "metadata": {},
   "outputs": [
    {
     "data": {
      "text/plain": [
       "0         1000004\n",
       "1         1000009\n",
       "2         1000010\n",
       "3         1000010\n",
       "4         1000011\n",
       "           ...   \n",
       "233594    1006036\n",
       "233595    1006036\n",
       "233596    1006036\n",
       "233597    1006037\n",
       "233598    1006039\n",
       "Name: User_ID.1, Length: 233599, dtype: int64"
      ]
     },
     "execution_count": 222,
     "metadata": {},
     "output_type": "execute_result"
    }
   ],
   "source": [
    "test1['User_ID.1']"
   ]
  },
  {
   "cell_type": "code",
   "execution_count": 223,
   "id": "479f7875",
   "metadata": {},
   "outputs": [],
   "source": [
    "train_X_pred = model.predict(train_X)\n",
    "test_X_pred = model.predict(test_X)\n",
    "\n",
    "#actual test data from hackathon\n",
    "test_pred = model.predict(test1.drop(columns = [\"Product_ID\", \"Stay_In_Current_City_Years\",\"User_ID.1\"]))"
   ]
  },
  {
   "cell_type": "code",
   "execution_count": 224,
   "id": "904b18c7",
   "metadata": {},
   "outputs": [],
   "source": [
    "from sklearn.metrics import mean_squared_error, mean_absolute_error, mean_absolute_percentage_error, r2_score"
   ]
  },
  {
   "cell_type": "code",
   "execution_count": 225,
   "id": "46228832",
   "metadata": {
    "scrolled": true
   },
   "outputs": [],
   "source": [
    "train_X_RMSE = np.sqrt(mean_squared_error(train_y, train_X_pred))\n",
    "test_X_RMSE = np.sqrt(mean_squared_error(test_y, test_X_pred))"
   ]
  },
  {
   "cell_type": "code",
   "execution_count": 226,
   "id": "e3b87645",
   "metadata": {},
   "outputs": [
    {
     "name": "stdout",
     "output_type": "stream",
     "text": [
      "Train RMSE :  4616.50699523221\n",
      "Test RMSE :  4610.652295833031\n"
     ]
    }
   ],
   "source": [
    "print(\"Train RMSE : \",train_X_RMSE)\n",
    "print(\"Test RMSE : \",test_X_RMSE)"
   ]
  },
  {
   "cell_type": "code",
   "execution_count": 227,
   "id": "86f7138e",
   "metadata": {},
   "outputs": [],
   "source": [
    "train_X_R2 = r2_score(train_y, train_X_pred)\n",
    "test_X_R2 = r2_score(test_y, test_X_pred)"
   ]
  },
  {
   "cell_type": "code",
   "execution_count": 228,
   "id": "b6d00f44",
   "metadata": {},
   "outputs": [
    {
     "name": "stdout",
     "output_type": "stream",
     "text": [
      "Train R2 :  0.15652481958296172\n",
      "Test R2 :  0.15262177677395972\n"
     ]
    }
   ],
   "source": [
    "print(\"Train R2 : \",train_X_R2)\n",
    "print(\"Test R2 : \",test_X_R2)"
   ]
  },
  {
   "cell_type": "code",
   "execution_count": 233,
   "id": "94e032e4",
   "metadata": {},
   "outputs": [],
   "source": [
    "test_pred_modified = np.where(test_pred<0,0,test_pred)"
   ]
  },
  {
   "cell_type": "code",
   "execution_count": 234,
   "id": "8036e4a5",
   "metadata": {},
   "outputs": [
    {
     "data": {
      "text/plain": [
       "array([  0.        , 299.59380437,   0.        , ...,   0.        ,\n",
       "         6.91482794,   0.        ])"
      ]
     },
     "execution_count": 234,
     "metadata": {},
     "output_type": "execute_result"
    }
   ],
   "source": [
    "test_pred_modified"
   ]
  },
  {
   "cell_type": "code",
   "execution_count": 235,
   "id": "f7622b25",
   "metadata": {},
   "outputs": [],
   "source": [
    "test1['Purchase'] = test_pred_modified"
   ]
  },
  {
   "cell_type": "code",
   "execution_count": 236,
   "id": "4a077379",
   "metadata": {},
   "outputs": [
    {
     "data": {
      "text/html": [
       "<div>\n",
       "<style scoped>\n",
       "    .dataframe tbody tr th:only-of-type {\n",
       "        vertical-align: middle;\n",
       "    }\n",
       "\n",
       "    .dataframe tbody tr th {\n",
       "        vertical-align: top;\n",
       "    }\n",
       "\n",
       "    .dataframe thead th {\n",
       "        text-align: right;\n",
       "    }\n",
       "</style>\n",
       "<table border=\"1\" class=\"dataframe\">\n",
       "  <thead>\n",
       "    <tr style=\"text-align: right;\">\n",
       "      <th></th>\n",
       "      <th>User_ID</th>\n",
       "      <th>Gender</th>\n",
       "      <th>Occupation</th>\n",
       "      <th>Marital_Status</th>\n",
       "      <th>Product_Category_1</th>\n",
       "      <th>Product_Category_2</th>\n",
       "      <th>Product_Category_3</th>\n",
       "      <th>Product_ID_int</th>\n",
       "      <th>Stay_In_Current_City_Years_int</th>\n",
       "      <th>Age_0-17</th>\n",
       "      <th>...</th>\n",
       "      <th>Age_46-50</th>\n",
       "      <th>Age_51-55</th>\n",
       "      <th>Age_55+</th>\n",
       "      <th>City_Category_A</th>\n",
       "      <th>City_Category_B</th>\n",
       "      <th>City_Category_C</th>\n",
       "      <th>Product_ID</th>\n",
       "      <th>Stay_In_Current_City_Years</th>\n",
       "      <th>User_ID.1</th>\n",
       "      <th>Purchase</th>\n",
       "    </tr>\n",
       "  </thead>\n",
       "  <tbody>\n",
       "    <tr>\n",
       "      <th>0</th>\n",
       "      <td>-1.751321</td>\n",
       "      <td>-0.572869</td>\n",
       "      <td>-0.165481</td>\n",
       "      <td>1.200146</td>\n",
       "      <td>-1.125843</td>\n",
       "      <td>0.682981</td>\n",
       "      <td>-0.614983</td>\n",
       "      <td>-0.442504</td>\n",
       "      <td>0.109989</td>\n",
       "      <td>0</td>\n",
       "      <td>...</td>\n",
       "      <td>1</td>\n",
       "      <td>0</td>\n",
       "      <td>0</td>\n",
       "      <td>0</td>\n",
       "      <td>1</td>\n",
       "      <td>0</td>\n",
       "      <td>P00128942</td>\n",
       "      <td>2</td>\n",
       "      <td>1000004</td>\n",
       "      <td>0.000000</td>\n",
       "    </tr>\n",
       "    <tr>\n",
       "      <th>1</th>\n",
       "      <td>-1.748426</td>\n",
       "      <td>-0.572869</td>\n",
       "      <td>1.367744</td>\n",
       "      <td>-0.833232</td>\n",
       "      <td>-0.610134</td>\n",
       "      <td>-0.282239</td>\n",
       "      <td>-0.614983</td>\n",
       "      <td>-0.593823</td>\n",
       "      <td>-1.441855</td>\n",
       "      <td>0</td>\n",
       "      <td>...</td>\n",
       "      <td>0</td>\n",
       "      <td>0</td>\n",
       "      <td>0</td>\n",
       "      <td>0</td>\n",
       "      <td>0</td>\n",
       "      <td>1</td>\n",
       "      <td>P00113442</td>\n",
       "      <td>0</td>\n",
       "      <td>1000009</td>\n",
       "      <td>299.593804</td>\n",
       "    </tr>\n",
       "    <tr>\n",
       "      <th>2</th>\n",
       "      <td>-1.747847</td>\n",
       "      <td>1.745599</td>\n",
       "      <td>-1.085416</td>\n",
       "      <td>1.200146</td>\n",
       "      <td>-0.094425</td>\n",
       "      <td>1.165591</td>\n",
       "      <td>-0.614983</td>\n",
       "      <td>1.114613</td>\n",
       "      <td>1.661833</td>\n",
       "      <td>0</td>\n",
       "      <td>...</td>\n",
       "      <td>0</td>\n",
       "      <td>0</td>\n",
       "      <td>0</td>\n",
       "      <td>0</td>\n",
       "      <td>1</td>\n",
       "      <td>0</td>\n",
       "      <td>P00288442</td>\n",
       "      <td>4+</td>\n",
       "      <td>1000010</td>\n",
       "      <td>0.000000</td>\n",
       "    </tr>\n",
       "    <tr>\n",
       "      <th>3</th>\n",
       "      <td>-1.747847</td>\n",
       "      <td>1.745599</td>\n",
       "      <td>-1.085416</td>\n",
       "      <td>1.200146</td>\n",
       "      <td>-0.352280</td>\n",
       "      <td>0.361241</td>\n",
       "      <td>-0.614983</td>\n",
       "      <td>-0.282399</td>\n",
       "      <td>1.661833</td>\n",
       "      <td>0</td>\n",
       "      <td>...</td>\n",
       "      <td>0</td>\n",
       "      <td>0</td>\n",
       "      <td>0</td>\n",
       "      <td>0</td>\n",
       "      <td>1</td>\n",
       "      <td>0</td>\n",
       "      <td>P00145342</td>\n",
       "      <td>4+</td>\n",
       "      <td>1000010</td>\n",
       "      <td>0.000000</td>\n",
       "    </tr>\n",
       "    <tr>\n",
       "      <th>4</th>\n",
       "      <td>-1.747268</td>\n",
       "      <td>1.745599</td>\n",
       "      <td>-1.085416</td>\n",
       "      <td>-0.833232</td>\n",
       "      <td>-0.352280</td>\n",
       "      <td>-0.282239</td>\n",
       "      <td>1.304258</td>\n",
       "      <td>-1.175667</td>\n",
       "      <td>-0.665933</td>\n",
       "      <td>0</td>\n",
       "      <td>...</td>\n",
       "      <td>0</td>\n",
       "      <td>0</td>\n",
       "      <td>0</td>\n",
       "      <td>0</td>\n",
       "      <td>0</td>\n",
       "      <td>1</td>\n",
       "      <td>P00053842</td>\n",
       "      <td>1</td>\n",
       "      <td>1000011</td>\n",
       "      <td>0.000000</td>\n",
       "    </tr>\n",
       "  </tbody>\n",
       "</table>\n",
       "<p>5 rows × 23 columns</p>\n",
       "</div>"
      ],
      "text/plain": [
       "    User_ID    Gender  Occupation  Marital_Status  Product_Category_1  \\\n",
       "0 -1.751321 -0.572869   -0.165481        1.200146           -1.125843   \n",
       "1 -1.748426 -0.572869    1.367744       -0.833232           -0.610134   \n",
       "2 -1.747847  1.745599   -1.085416        1.200146           -0.094425   \n",
       "3 -1.747847  1.745599   -1.085416        1.200146           -0.352280   \n",
       "4 -1.747268  1.745599   -1.085416       -0.833232           -0.352280   \n",
       "\n",
       "   Product_Category_2  Product_Category_3  Product_ID_int  \\\n",
       "0            0.682981           -0.614983       -0.442504   \n",
       "1           -0.282239           -0.614983       -0.593823   \n",
       "2            1.165591           -0.614983        1.114613   \n",
       "3            0.361241           -0.614983       -0.282399   \n",
       "4           -0.282239            1.304258       -1.175667   \n",
       "\n",
       "   Stay_In_Current_City_Years_int  Age_0-17  ...  Age_46-50  Age_51-55  \\\n",
       "0                        0.109989         0  ...          1          0   \n",
       "1                       -1.441855         0  ...          0          0   \n",
       "2                        1.661833         0  ...          0          0   \n",
       "3                        1.661833         0  ...          0          0   \n",
       "4                       -0.665933         0  ...          0          0   \n",
       "\n",
       "   Age_55+  City_Category_A  City_Category_B  City_Category_C  Product_ID  \\\n",
       "0        0                0                1                0   P00128942   \n",
       "1        0                0                0                1   P00113442   \n",
       "2        0                0                1                0   P00288442   \n",
       "3        0                0                1                0   P00145342   \n",
       "4        0                0                0                1   P00053842   \n",
       "\n",
       "   Stay_In_Current_City_Years  User_ID.1    Purchase  \n",
       "0                           2    1000004    0.000000  \n",
       "1                           0    1000009  299.593804  \n",
       "2                          4+    1000010    0.000000  \n",
       "3                          4+    1000010    0.000000  \n",
       "4                           1    1000011    0.000000  \n",
       "\n",
       "[5 rows x 23 columns]"
      ]
     },
     "execution_count": 236,
     "metadata": {},
     "output_type": "execute_result"
    }
   ],
   "source": [
    "test1.head()"
   ]
  },
  {
   "cell_type": "code",
   "execution_count": 242,
   "id": "3638da06",
   "metadata": {},
   "outputs": [],
   "source": [
    "Output = test1[[\"User_ID.1\",\"Product_ID\",\"Purchase\"]]"
   ]
  },
  {
   "cell_type": "code",
   "execution_count": 246,
   "id": "f05ae5d1",
   "metadata": {},
   "outputs": [
    {
     "data": {
      "text/html": [
       "<div>\n",
       "<style scoped>\n",
       "    .dataframe tbody tr th:only-of-type {\n",
       "        vertical-align: middle;\n",
       "    }\n",
       "\n",
       "    .dataframe tbody tr th {\n",
       "        vertical-align: top;\n",
       "    }\n",
       "\n",
       "    .dataframe thead th {\n",
       "        text-align: right;\n",
       "    }\n",
       "</style>\n",
       "<table border=\"1\" class=\"dataframe\">\n",
       "  <thead>\n",
       "    <tr style=\"text-align: right;\">\n",
       "      <th></th>\n",
       "      <th>User_ID</th>\n",
       "      <th>Product_ID</th>\n",
       "      <th>Purchase</th>\n",
       "    </tr>\n",
       "  </thead>\n",
       "  <tbody>\n",
       "    <tr>\n",
       "      <th>0</th>\n",
       "      <td>1000004</td>\n",
       "      <td>P00128942</td>\n",
       "      <td>0.000000</td>\n",
       "    </tr>\n",
       "    <tr>\n",
       "      <th>1</th>\n",
       "      <td>1000009</td>\n",
       "      <td>P00113442</td>\n",
       "      <td>299.593804</td>\n",
       "    </tr>\n",
       "    <tr>\n",
       "      <th>2</th>\n",
       "      <td>1000010</td>\n",
       "      <td>P00288442</td>\n",
       "      <td>0.000000</td>\n",
       "    </tr>\n",
       "    <tr>\n",
       "      <th>3</th>\n",
       "      <td>1000010</td>\n",
       "      <td>P00145342</td>\n",
       "      <td>0.000000</td>\n",
       "    </tr>\n",
       "    <tr>\n",
       "      <th>4</th>\n",
       "      <td>1000011</td>\n",
       "      <td>P00053842</td>\n",
       "      <td>0.000000</td>\n",
       "    </tr>\n",
       "    <tr>\n",
       "      <th>...</th>\n",
       "      <td>...</td>\n",
       "      <td>...</td>\n",
       "      <td>...</td>\n",
       "    </tr>\n",
       "    <tr>\n",
       "      <th>233594</th>\n",
       "      <td>1006036</td>\n",
       "      <td>P00118942</td>\n",
       "      <td>0.000000</td>\n",
       "    </tr>\n",
       "    <tr>\n",
       "      <th>233595</th>\n",
       "      <td>1006036</td>\n",
       "      <td>P00254642</td>\n",
       "      <td>0.000000</td>\n",
       "    </tr>\n",
       "    <tr>\n",
       "      <th>233596</th>\n",
       "      <td>1006036</td>\n",
       "      <td>P00031842</td>\n",
       "      <td>0.000000</td>\n",
       "    </tr>\n",
       "    <tr>\n",
       "      <th>233597</th>\n",
       "      <td>1006037</td>\n",
       "      <td>P00124742</td>\n",
       "      <td>6.914828</td>\n",
       "    </tr>\n",
       "    <tr>\n",
       "      <th>233598</th>\n",
       "      <td>1006039</td>\n",
       "      <td>P00316642</td>\n",
       "      <td>0.000000</td>\n",
       "    </tr>\n",
       "  </tbody>\n",
       "</table>\n",
       "<p>233599 rows × 3 columns</p>\n",
       "</div>"
      ],
      "text/plain": [
       "        User_ID Product_ID    Purchase\n",
       "0       1000004  P00128942    0.000000\n",
       "1       1000009  P00113442  299.593804\n",
       "2       1000010  P00288442    0.000000\n",
       "3       1000010  P00145342    0.000000\n",
       "4       1000011  P00053842    0.000000\n",
       "...         ...        ...         ...\n",
       "233594  1006036  P00118942    0.000000\n",
       "233595  1006036  P00254642    0.000000\n",
       "233596  1006036  P00031842    0.000000\n",
       "233597  1006037  P00124742    6.914828\n",
       "233598  1006039  P00316642    0.000000\n",
       "\n",
       "[233599 rows x 3 columns]"
      ]
     },
     "execution_count": 246,
     "metadata": {},
     "output_type": "execute_result"
    }
   ],
   "source": [
    "Output"
   ]
  },
  {
   "cell_type": "code",
   "execution_count": 245,
   "id": "6298f85d",
   "metadata": {},
   "outputs": [],
   "source": [
    "Output.rename(columns = {\"User_ID.1\":\"User_ID\"}, inplace = True)"
   ]
  },
  {
   "cell_type": "code",
   "execution_count": 247,
   "id": "528739cb",
   "metadata": {},
   "outputs": [],
   "source": [
    "Output.to_csv(\"Black_Friday_Result_LR_with_80percent_traindata_abs.csv\", index = False)"
   ]
  },
  {
   "cell_type": "code",
   "execution_count": 241,
   "id": "8fc3ebb7",
   "metadata": {
    "scrolled": true
   },
   "outputs": [
    {
     "data": {
      "text/html": [
       "<div>\n",
       "<style scoped>\n",
       "    .dataframe tbody tr th:only-of-type {\n",
       "        vertical-align: middle;\n",
       "    }\n",
       "\n",
       "    .dataframe tbody tr th {\n",
       "        vertical-align: top;\n",
       "    }\n",
       "\n",
       "    .dataframe thead th {\n",
       "        text-align: right;\n",
       "    }\n",
       "</style>\n",
       "<table border=\"1\" class=\"dataframe\">\n",
       "  <thead>\n",
       "    <tr style=\"text-align: right;\">\n",
       "      <th></th>\n",
       "      <th>Purchase</th>\n",
       "      <th>User_ID</th>\n",
       "      <th>Product_ID</th>\n",
       "    </tr>\n",
       "  </thead>\n",
       "  <tbody>\n",
       "    <tr>\n",
       "      <th>0</th>\n",
       "      <td>100</td>\n",
       "      <td>1000004</td>\n",
       "      <td>P00128942</td>\n",
       "    </tr>\n",
       "    <tr>\n",
       "      <th>1</th>\n",
       "      <td>100</td>\n",
       "      <td>1000009</td>\n",
       "      <td>P00113442</td>\n",
       "    </tr>\n",
       "    <tr>\n",
       "      <th>2</th>\n",
       "      <td>100</td>\n",
       "      <td>1000010</td>\n",
       "      <td>P00288442</td>\n",
       "    </tr>\n",
       "    <tr>\n",
       "      <th>3</th>\n",
       "      <td>100</td>\n",
       "      <td>1000010</td>\n",
       "      <td>P00145342</td>\n",
       "    </tr>\n",
       "    <tr>\n",
       "      <th>4</th>\n",
       "      <td>100</td>\n",
       "      <td>1000011</td>\n",
       "      <td>P00053842</td>\n",
       "    </tr>\n",
       "    <tr>\n",
       "      <th>...</th>\n",
       "      <td>...</td>\n",
       "      <td>...</td>\n",
       "      <td>...</td>\n",
       "    </tr>\n",
       "    <tr>\n",
       "      <th>233594</th>\n",
       "      <td>100</td>\n",
       "      <td>1006036</td>\n",
       "      <td>P00118942</td>\n",
       "    </tr>\n",
       "    <tr>\n",
       "      <th>233595</th>\n",
       "      <td>100</td>\n",
       "      <td>1006036</td>\n",
       "      <td>P00254642</td>\n",
       "    </tr>\n",
       "    <tr>\n",
       "      <th>233596</th>\n",
       "      <td>100</td>\n",
       "      <td>1006036</td>\n",
       "      <td>P00031842</td>\n",
       "    </tr>\n",
       "    <tr>\n",
       "      <th>233597</th>\n",
       "      <td>100</td>\n",
       "      <td>1006037</td>\n",
       "      <td>P00124742</td>\n",
       "    </tr>\n",
       "    <tr>\n",
       "      <th>233598</th>\n",
       "      <td>100</td>\n",
       "      <td>1006039</td>\n",
       "      <td>P00316642</td>\n",
       "    </tr>\n",
       "  </tbody>\n",
       "</table>\n",
       "<p>233599 rows × 3 columns</p>\n",
       "</div>"
      ],
      "text/plain": [
       "        Purchase  User_ID Product_ID\n",
       "0            100  1000004  P00128942\n",
       "1            100  1000009  P00113442\n",
       "2            100  1000010  P00288442\n",
       "3            100  1000010  P00145342\n",
       "4            100  1000011  P00053842\n",
       "...          ...      ...        ...\n",
       "233594       100  1006036  P00118942\n",
       "233595       100  1006036  P00254642\n",
       "233596       100  1006036  P00031842\n",
       "233597       100  1006037  P00124742\n",
       "233598       100  1006039  P00316642\n",
       "\n",
       "[233599 rows x 3 columns]"
      ]
     },
     "execution_count": 241,
     "metadata": {},
     "output_type": "execute_result"
    }
   ],
   "source": [
    "sample"
   ]
  }
 ],
 "metadata": {
  "kernelspec": {
   "display_name": "Python 3 (ipykernel)",
   "language": "python",
   "name": "python3"
  },
  "language_info": {
   "codemirror_mode": {
    "name": "ipython",
    "version": 3
   },
   "file_extension": ".py",
   "mimetype": "text/x-python",
   "name": "python",
   "nbconvert_exporter": "python",
   "pygments_lexer": "ipython3",
   "version": "3.9.7"
  }
 },
 "nbformat": 4,
 "nbformat_minor": 5
}
