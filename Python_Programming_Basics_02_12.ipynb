{
 "cells": [
  {
   "cell_type": "markdown",
   "id": "ad06a2c8",
   "metadata": {},
   "source": [
    "## Data type conversion"
   ]
  },
  {
   "cell_type": "code",
   "execution_count": 1,
   "id": "9e577ce1",
   "metadata": {},
   "outputs": [
    {
     "data": {
      "text/plain": [
       "10.0"
      ]
     },
     "execution_count": 1,
     "metadata": {},
     "output_type": "execute_result"
    }
   ],
   "source": [
    "i=10;\n",
    "float(i)"
   ]
  },
  {
   "cell_type": "code",
   "execution_count": 2,
   "id": "cfc26fed",
   "metadata": {},
   "outputs": [
    {
     "data": {
      "text/plain": [
       "10"
      ]
     },
     "execution_count": 2,
     "metadata": {},
     "output_type": "execute_result"
    }
   ],
   "source": [
    "int(10.5)"
   ]
  },
  {
   "cell_type": "code",
   "execution_count": 5,
   "id": "3026f82e",
   "metadata": {},
   "outputs": [
    {
     "data": {
      "text/plain": [
       "5.5"
      ]
     },
     "execution_count": 5,
     "metadata": {},
     "output_type": "execute_result"
    }
   ],
   "source": [
    "float('5.5')"
   ]
  },
  {
   "cell_type": "code",
   "execution_count": 6,
   "id": "60368615",
   "metadata": {},
   "outputs": [
    {
     "data": {
      "text/plain": [
       "'20'"
      ]
     },
     "execution_count": 6,
     "metadata": {},
     "output_type": "execute_result"
    }
   ],
   "source": [
    "str(20)  ## it'ss like a varchar - accepts numerics, floating and char values"
   ]
  },
  {
   "cell_type": "code",
   "execution_count": 7,
   "id": "7490e6a1",
   "metadata": {},
   "outputs": [
    {
     "data": {
      "text/plain": [
       "'20.2'"
      ]
     },
     "execution_count": 7,
     "metadata": {},
     "output_type": "execute_result"
    }
   ],
   "source": [
    "str(20.2)"
   ]
  },
  {
   "cell_type": "markdown",
   "id": "c80bc9c8",
   "metadata": {},
   "source": [
    "## conversion of sequence from one to another"
   ]
  },
  {
   "cell_type": "code",
   "execution_count": 12,
   "id": "5cffc396",
   "metadata": {},
   "outputs": [
    {
     "data": {
      "text/plain": [
       "{1, 2, 3, 5}"
      ]
     },
     "metadata": {},
     "output_type": "display_data"
    },
    {
     "data": {
      "text/plain": [
       "(1, 5, 2, 3, 3)"
      ]
     },
     "metadata": {},
     "output_type": "display_data"
    }
   ],
   "source": [
    "list1=[1,5,2,3,3]\n",
    "display(set(list1))\n",
    "display(tuple(list1))"
   ]
  },
  {
   "cell_type": "code",
   "execution_count": 13,
   "id": "686accf5",
   "metadata": {},
   "outputs": [
    {
     "data": {
      "text/plain": [
       "(8, 3, 83)"
      ]
     },
     "execution_count": 13,
     "metadata": {},
     "output_type": "execute_result"
    }
   ],
   "source": [
    "set1={3,8,8,83}\n",
    "tuple(set1)"
   ]
  },
  {
   "cell_type": "code",
   "execution_count": 15,
   "id": "5a0376a8",
   "metadata": {},
   "outputs": [
    {
     "data": {
      "text/plain": [
       "['L', 'I', 'S', 'T', '0', '9', '4']"
      ]
     },
     "execution_count": 15,
     "metadata": {},
     "output_type": "execute_result"
    }
   ],
   "source": [
    "list('LIST094')  ## CONVERTING INTO LIST"
   ]
  },
  {
   "cell_type": "code",
   "execution_count": 20,
   "id": "11b3f80e",
   "metadata": {},
   "outputs": [
    {
     "data": {
      "text/plain": [
       "['abc', 'xyz']"
      ]
     },
     "execution_count": 20,
     "metadata": {},
     "output_type": "execute_result"
    }
   ],
   "source": [
    "list(['abc','xyz'])"
   ]
  },
  {
   "cell_type": "code",
   "execution_count": 18,
   "id": "03ebdff5",
   "metadata": {},
   "outputs": [
    {
     "name": "stdout",
     "output_type": "stream",
     "text": [
      "{'name': 'john', 10: 50}\n"
     ]
    }
   ],
   "source": [
    "print(dict([[\"name\",\"john\"],[10,50]]))   ## CONVERTING INTO DICTIONARY WITH 2 DIMENTIONAL ARRAY"
   ]
  },
  {
   "cell_type": "markdown",
   "id": "1005e581",
   "metadata": {},
   "source": [
    "## Type Conversion\n",
    "\n",
    "- Implicit Conversion\n",
    "- Explicit Conversion"
   ]
  },
  {
   "cell_type": "code",
   "execution_count": 24,
   "id": "a6032a00",
   "metadata": {
    "scrolled": true
   },
   "outputs": [
    {
     "name": "stdout",
     "output_type": "stream",
     "text": [
      "Data type of int_var is:  <class 'int'>\n",
      "Data type of float_var is:  <class 'float'>\n",
      "The new value after conversion:  25.5\n",
      "Datatype of conversion1 is:  <class 'float'>\n"
     ]
    }
   ],
   "source": [
    "int_var =10\n",
    "float_var =15.5\n",
    "conversion1 = int_var + float_var\n",
    "print('Data type of int_var is: ', type(int_var))\n",
    "print('Data type of float_var is: ', type(float_var))\n",
    "print('The new value after conversion: ', conversion1)\n",
    "print('Datatype of conversion1 is: ', type(conversion1))"
   ]
  },
  {
   "cell_type": "code",
   "execution_count": 27,
   "id": "147898cd",
   "metadata": {},
   "outputs": [
    {
     "name": "stdout",
     "output_type": "stream",
     "text": [
      "Data type of int_var is:  <class 'int'>\n",
      "Data type of float_var is:  <class 'float'>\n",
      "The new value after conversion:  25.5\n",
      "Datatype of conversion1 is:  <class 'float'>\n"
     ]
    }
   ],
   "source": [
    "int_var =10\n",
    "string_var = \"15.5\"\n",
    "conversion1 = int_var + float(string_var)     ## converting from string to float\n",
    "print('Data type of int_var is: ', type(int_var))\n",
    "print('Data type of float_var is: ', type(float_var))\n",
    "print('The new value after conversion: ', conversion1)\n",
    "print('Datatype of conversion1 is: ', type(conversion1))"
   ]
  },
  {
   "cell_type": "code",
   "execution_count": 28,
   "id": "14963c60",
   "metadata": {},
   "outputs": [
    {
     "name": "stdout",
     "output_type": "stream",
     "text": [
      "Data type of int_var is:  <class 'int'>\n",
      "Data type of float_var is:  <class 'float'>\n",
      "The new value after conversion:  25.5\n",
      "Datatype of conversion1 is:  <class 'float'>\n"
     ]
    }
   ],
   "source": [
    "int_var =10\n",
    "string_var = float(\"15.5\")           ## converting from string to float\n",
    "conversion1 = int_var + string_var     \n",
    "print('Data type of int_var is: ', type(int_var))\n",
    "print('Data type of float_var is: ', type(float_var))\n",
    "print('The new value after conversion: ', conversion1)\n",
    "print('Datatype of conversion1 is: ', type(conversion1))"
   ]
  },
  {
   "cell_type": "code",
   "execution_count": 36,
   "id": "e69c3737",
   "metadata": {},
   "outputs": [
    {
     "name": "stdout",
     "output_type": "stream",
     "text": [
      "santhosh kumar\n"
     ]
    }
   ],
   "source": [
    "str='santhosh'+' '+'kumar'\n",
    "print(str)"
   ]
  },
  {
   "cell_type": "markdown",
   "id": "abc9f001",
   "metadata": {},
   "source": [
    "## Input"
   ]
  },
  {
   "cell_type": "code",
   "execution_count": 37,
   "id": "7680593d",
   "metadata": {},
   "outputs": [
    {
     "name": "stdout",
     "output_type": "stream",
     "text": [
      "Enter the value:11\n",
      "66\n"
     ]
    }
   ],
   "source": [
    "num = input('Enter the value:')\n",
    "\n",
    "add = int(num) + 55   ## must need to convert the entered value as per your requirement and calculation\n",
    "print(add)"
   ]
  },
  {
   "cell_type": "code",
   "execution_count": null,
   "id": "89b7691e",
   "metadata": {},
   "outputs": [],
   "source": [
    "num1 = input('Enter the first number:')\n",
    "num2 = input('Enter the second number:')\n",
    "\n",
    "add = int(num) + 55   ## must need to convert the entered value as per your requirement and calculation\n",
    "print(add)"
   ]
  },
  {
   "cell_type": "code",
   "execution_count": 38,
   "id": "9a4ee1cd",
   "metadata": {},
   "outputs": [
    {
     "name": "stdout",
     "output_type": "stream",
     "text": [
      "80\n"
     ]
    }
   ],
   "source": [
    "a = eval('10*8')    ## Eval will internally convert from string into integer and will calculate the multiplication\n",
    "print(a)"
   ]
  },
  {
   "cell_type": "markdown",
   "id": "a6eaecef",
   "metadata": {},
   "source": [
    "## Operators  addition, multiplication, sub, div, "
   ]
  },
  {
   "cell_type": "code",
   "execution_count": 47,
   "id": "86854a20",
   "metadata": {},
   "outputs": [
    {
     "name": "stdout",
     "output_type": "stream",
     "text": [
      "9\n",
      "-1\n",
      "20\n",
      "0.8\n",
      "0\n",
      "<class 'int'>\n",
      "1024\n",
      "4\n"
     ]
    }
   ],
   "source": [
    "x = 4\n",
    "y = 5\n",
    "\n",
    "print(x + y)\n",
    "print(x - y)\n",
    "print(x * y)\n",
    "print(x / y)\n",
    "print(round(x // y))     ## remove the floating values and will rounded the value\n",
    "print(type(x // y))\n",
    "print(x ** y)\n",
    "print(x%y)\n"
   ]
  },
  {
   "cell_type": "markdown",
   "id": "b30cf287",
   "metadata": {},
   "source": [
    "## Logical Operators"
   ]
  },
  {
   "cell_type": "code",
   "execution_count": 49,
   "id": "a66fa161",
   "metadata": {},
   "outputs": [
    {
     "name": "stdout",
     "output_type": "stream",
     "text": [
      "False\n",
      "True\n",
      "False\n"
     ]
    }
   ],
   "source": [
    "x = True\n",
    "y = False\n",
    "print(x and y)\n",
    "print(x or y)\n",
    "print(not x)"
   ]
  },
  {
   "cell_type": "markdown",
   "id": "4458490c",
   "metadata": {},
   "source": [
    "## Assignment operators"
   ]
  },
  {
   "cell_type": "code",
   "execution_count": 50,
   "id": "17b2e66c",
   "metadata": {},
   "outputs": [],
   "source": [
    "x1 = 15\n",
    "y1 = 15\n",
    "\n",
    "x2 = 'Hello'\n",
    "y2 = 'Hello'\n",
    "\n",
    "x3 = [1,2,3]  ## it stores in one address location\n",
    "y3 = [1,2,3]  ## it stores in different address location\n",
    "\n",
    "x4 = (1,2,3)\n",
    "y4 = (1,2,3)\n",
    "\n"
   ]
  },
  {
   "cell_type": "code",
   "execution_count": 52,
   "id": "c1771000",
   "metadata": {},
   "outputs": [
    {
     "name": "stdout",
     "output_type": "stream",
     "text": [
      "True\n"
     ]
    }
   ],
   "source": [
    "print(x1 is y1)\n",
    "## print(x1 is not y1)"
   ]
  },
  {
   "cell_type": "code",
   "execution_count": 53,
   "id": "7a3be15a",
   "metadata": {},
   "outputs": [
    {
     "name": "stdout",
     "output_type": "stream",
     "text": [
      "True\n"
     ]
    }
   ],
   "source": [
    "print(x2 is y2)"
   ]
  },
  {
   "cell_type": "code",
   "execution_count": 63,
   "id": "7d94424e",
   "metadata": {},
   "outputs": [
    {
     "name": "stdout",
     "output_type": "stream",
     "text": [
      "False\n",
      "True\n"
     ]
    }
   ],
   "source": [
    "print(x3 is y3)   ## we can't compare the list with other list value. \n",
    "                  ## position comparision will work. \n",
    "                  ## because array size can increase in future. \n",
    "                  ## So python didn't code internally to allow comparision list to list same way tuple to tuple\n",
    "print(x3[1] is y3[1])   ## we can't compare the list with other list value. position comparision will work"
   ]
  },
  {
   "cell_type": "code",
   "execution_count": 55,
   "id": "f6cef78c",
   "metadata": {},
   "outputs": [
    {
     "name": "stdout",
     "output_type": "stream",
     "text": [
      "False\n"
     ]
    }
   ],
   "source": [
    "print(x4 is y4)"
   ]
  },
  {
   "cell_type": "code",
   "execution_count": 61,
   "id": "32b6b4a9",
   "metadata": {},
   "outputs": [
    {
     "data": {
      "text/plain": [
       "(1725988629232, 1725988629232)"
      ]
     },
     "execution_count": 61,
     "metadata": {},
     "output_type": "execute_result"
    }
   ],
   "source": [
    "id(x1), id(y1)  ## it is used to get the address where the value is stored(returns the reference number)"
   ]
  },
  {
   "cell_type": "code",
   "execution_count": null,
   "id": "165e1391",
   "metadata": {},
   "outputs": [],
   "source": [
    "id(x2), id(y3)"
   ]
  },
  {
   "cell_type": "code",
   "execution_count": 59,
   "id": "0a440bbb",
   "metadata": {},
   "outputs": [
    {
     "data": {
      "text/plain": [
       "(1726070714880, 1726070652736)"
      ]
     },
     "execution_count": 59,
     "metadata": {},
     "output_type": "execute_result"
    }
   ],
   "source": [
    "id(x3), id(y3)"
   ]
  },
  {
   "cell_type": "code",
   "execution_count": 64,
   "id": "ce4f7cc9",
   "metadata": {},
   "outputs": [
    {
     "data": {
      "text/plain": [
       "(1725988628784, 1725988628784)"
      ]
     },
     "execution_count": 64,
     "metadata": {},
     "output_type": "execute_result"
    }
   ],
   "source": [
    "id(x3[0]), id(y3[0])"
   ]
  },
  {
   "cell_type": "code",
   "execution_count": 62,
   "id": "6e1634bc",
   "metadata": {},
   "outputs": [
    {
     "data": {
      "text/plain": [
       "(1725988628816, 1725988628816)"
      ]
     },
     "execution_count": 62,
     "metadata": {},
     "output_type": "execute_result"
    }
   ],
   "source": [
    "id(x4[1]), id(y4[1])"
   ]
  },
  {
   "cell_type": "markdown",
   "id": "2c0cf32b",
   "metadata": {},
   "source": [
    "## Membership operators"
   ]
  },
  {
   "cell_type": "code",
   "execution_count": 72,
   "id": "00f42bd7",
   "metadata": {},
   "outputs": [],
   "source": [
    "x = 'Hello word'\n",
    "y = {10: 'a', 12: 'b'}\n",
    "\n"
   ]
  },
  {
   "cell_type": "code",
   "execution_count": 73,
   "id": "a4f284cb",
   "metadata": {},
   "outputs": [
    {
     "name": "stdout",
     "output_type": "stream",
     "text": [
      "False\n",
      "True\n"
     ]
    }
   ],
   "source": [
    "print('h' in x)  ## Case sensitive that's why it's false\n",
    "print('H' in x)"
   ]
  },
  {
   "cell_type": "code",
   "execution_count": 74,
   "id": "e8916571",
   "metadata": {},
   "outputs": [
    {
     "name": "stdout",
     "output_type": "stream",
     "text": [
      "False\n"
     ]
    }
   ],
   "source": [
    "print('hello' in x)"
   ]
  },
  {
   "cell_type": "code",
   "execution_count": 75,
   "id": "647d35c0",
   "metadata": {},
   "outputs": [
    {
     "name": "stdout",
     "output_type": "stream",
     "text": [
      "True\n"
     ]
    }
   ],
   "source": [
    "print(10 in y)  ## checking in the dictionary and checking with key values"
   ]
  },
  {
   "cell_type": "code",
   "execution_count": 76,
   "id": "9c2df9e5",
   "metadata": {},
   "outputs": [
    {
     "name": "stdout",
     "output_type": "stream",
     "text": [
      "False\n"
     ]
    }
   ],
   "source": [
    "print('a' in y)  ## we can only refer to the keys in dictionary and not to the values"
   ]
  },
  {
   "cell_type": "code",
   "execution_count": null,
   "id": "db954798",
   "metadata": {},
   "outputs": [],
   "source": [
    "x = 'Hello word'\n",
    "y = {10: 'a', 12: 'b', 10: 'c'}   "
   ]
  },
  {
   "cell_type": "code",
   "execution_count": 77,
   "id": "d836679e",
   "metadata": {},
   "outputs": [
    {
     "name": "stdout",
     "output_type": "stream",
     "text": [
      "c\n"
     ]
    }
   ],
   "source": [
    "print(y[10])   ## it will take the last entered value"
   ]
  },
  {
   "cell_type": "markdown",
   "id": "3257e15c",
   "metadata": {},
   "source": [
    "## If Statements"
   ]
  },
  {
   "cell_type": "code",
   "execution_count": 85,
   "id": "25063c3a",
   "metadata": {
    "scrolled": true
   },
   "outputs": [
    {
     "name": "stdout",
     "output_type": "stream",
     "text": [
      "enter the value:-5\n"
     ]
    }
   ],
   "source": [
    "num = int(input('enter the value:'))"
   ]
  },
  {
   "cell_type": "code",
   "execution_count": 88,
   "id": "62d03bc0",
   "metadata": {},
   "outputs": [
    {
     "name": "stdout",
     "output_type": "stream",
     "text": [
      "enter the value:5\n",
      "positive value entered\n"
     ]
    }
   ],
   "source": [
    "num = int(input('enter the value:'))\n",
    "if num > 0:\n",
    "    print('positive value entered')\n",
    "else:\n",
    "    print('negative value entered')"
   ]
  },
  {
   "cell_type": "markdown",
   "id": "dbf6f8e5",
   "metadata": {},
   "source": [
    "## if else"
   ]
  },
  {
   "cell_type": "code",
   "execution_count": 87,
   "id": "1ebce8d6",
   "metadata": {},
   "outputs": [
    {
     "name": "stdout",
     "output_type": "stream",
     "text": [
      "enter the value:0\n",
      "zero value entered\n"
     ]
    }
   ],
   "source": [
    "num = int(input('enter the value:'))\n",
    "if num > 0:\n",
    "    print('positive value entered')\n",
    "elif num == 0:\n",
    "    print('zero value entered')\n",
    "else:\n",
    "    print('negative value entered')"
   ]
  },
  {
   "cell_type": "markdown",
   "id": "c32326e1",
   "metadata": {},
   "source": [
    "## Nested if"
   ]
  },
  {
   "cell_type": "code",
   "execution_count": 91,
   "id": "3ff0e385",
   "metadata": {},
   "outputs": [
    {
     "name": "stdout",
     "output_type": "stream",
     "text": [
      "enter the value:-1\n",
      "negative value entered\n"
     ]
    }
   ],
   "source": [
    "num = int(input('enter the value:'))\n",
    "if num >= 0:\n",
    "    if num == 0:\n",
    "        print('zero value entered')\n",
    "    else:\n",
    "        print('negative value entered')\n",
    "else:\n",
    "    print('negative value entered')"
   ]
  },
  {
   "cell_type": "code",
   "execution_count": 89,
   "id": "b3752ff5",
   "metadata": {},
   "outputs": [
    {
     "name": "stdout",
     "output_type": "stream",
     "text": [
      "enter the value:-4\n",
      "negative value entered\n"
     ]
    }
   ],
   "source": [
    "num = int(input('enter the value:'))\n",
    "if num > 0:\n",
    "    print('positive value entered')\n",
    "else:\n",
    "    if num == 0:\n",
    "        print('zero value entered')\n",
    "    else:\n",
    "        print('negative value entered')"
   ]
  },
  {
   "cell_type": "markdown",
   "id": "d8856664",
   "metadata": {},
   "source": [
    "## for loop"
   ]
  },
  {
   "cell_type": "code",
   "execution_count": 127,
   "id": "c741519d",
   "metadata": {},
   "outputs": [],
   "source": [
    "##list = [1,2,3,4,5,6]"
   ]
  },
  {
   "cell_type": "code",
   "execution_count": 128,
   "id": "45688279",
   "metadata": {},
   "outputs": [],
   "source": [
    "##list1 = [91,6,7,8,10]"
   ]
  },
  {
   "cell_type": "code",
   "execution_count": 129,
   "id": "f11178c5",
   "metadata": {},
   "outputs": [],
   "source": [
    "##list1[0]"
   ]
  },
  {
   "cell_type": "code",
   "execution_count": 130,
   "id": "eb4dc3ca",
   "metadata": {},
   "outputs": [],
   "source": [
    "##list[3]"
   ]
  },
  {
   "cell_type": "code",
   "execution_count": 131,
   "id": "04798440",
   "metadata": {},
   "outputs": [],
   "source": [
    "##list([10,33,44])   ## functions wont work when you use list keyword as object for the list"
   ]
  },
  {
   "cell_type": "code",
   "execution_count": 132,
   "id": "20712e5a",
   "metadata": {},
   "outputs": [],
   "source": [
    "var_list = [1,2,3]"
   ]
  },
  {
   "cell_type": "code",
   "execution_count": 133,
   "id": "c6c63cc3",
   "metadata": {},
   "outputs": [
    {
     "ename": "TypeError",
     "evalue": "'list' object is not callable",
     "output_type": "error",
     "traceback": [
      "\u001b[1;31m---------------------------------------------------------------------------\u001b[0m",
      "\u001b[1;31mTypeError\u001b[0m                                 Traceback (most recent call last)",
      "\u001b[1;32m~\\AppData\\Local\\Temp/ipykernel_15940/1696652840.py\u001b[0m in \u001b[0;36m<module>\u001b[1;34m\u001b[0m\n\u001b[1;32m----> 1\u001b[1;33m \u001b[0mvar_list2\u001b[0m \u001b[1;33m=\u001b[0m \u001b[0mlist\u001b[0m\u001b[1;33m(\u001b[0m\u001b[1;33m[\u001b[0m\u001b[1;36m35\u001b[0m\u001b[1;33m,\u001b[0m \u001b[1;36m21\u001b[0m\u001b[1;33m,\u001b[0m \u001b[1;36m33\u001b[0m\u001b[1;33m]\u001b[0m\u001b[1;33m)\u001b[0m\u001b[1;33m\u001b[0m\u001b[1;33m\u001b[0m\u001b[0m\n\u001b[0m",
      "\u001b[1;31mTypeError\u001b[0m: 'list' object is not callable"
     ]
    }
   ],
   "source": [
    "var_list2 = list([35, 21, 33])  ## this will work out"
   ]
  },
  {
   "cell_type": "code",
   "execution_count": 134,
   "id": "7c8b0915",
   "metadata": {},
   "outputs": [],
   "source": [
    "del list   ## you need to delete the keyword created variable with list "
   ]
  },
  {
   "cell_type": "code",
   "execution_count": 141,
   "id": "c2b0b420",
   "metadata": {},
   "outputs": [
    {
     "name": "stdout",
     "output_type": "stream",
     "text": [
      "33\n",
      "[35, 21, 33]\n"
     ]
    }
   ],
   "source": [
    "var_list2 = list([35, 21, 33])\n",
    "print(var_list2[2])\n",
    "print(var_list2)"
   ]
  },
  {
   "cell_type": "code",
   "execution_count": 147,
   "id": "7ed665bf",
   "metadata": {},
   "outputs": [
    {
     "name": "stdout",
     "output_type": "stream",
     "text": [
      "11\n",
      "33\n",
      "66\n",
      "110\n",
      "165\n"
     ]
    }
   ],
   "source": [
    "list1 = [11,22,33,44,55]\n",
    "add = 0\n",
    "\n",
    "for i in list1:               ## for loop\n",
    "    add = add + i\n",
    "    print(add)"
   ]
  },
  {
   "cell_type": "code",
   "execution_count": 149,
   "id": "da070c27",
   "metadata": {},
   "outputs": [
    {
     "name": "stdout",
     "output_type": "stream",
     "text": [
      "11 176\n",
      "22 198\n",
      "33 231\n",
      "44 275\n",
      "55 330\n"
     ]
    }
   ],
   "source": [
    "##list1 = [11,22,33,44,55]\n",
    "##add = 0\n",
    "\n",
    "for i in list1:               ## for loop\n",
    "    add = add + i\n",
    "    print(i,add)"
   ]
  },
  {
   "cell_type": "code",
   "execution_count": 151,
   "id": "d3e770ce",
   "metadata": {},
   "outputs": [
    {
     "name": "stdout",
     "output_type": "stream",
     "text": [
      "11 11\n",
      "22 33\n"
     ]
    }
   ],
   "source": [
    "##list1 = [11,22,33,44,55]\n",
    "add = 0\n",
    "\n",
    "for i in list1:               ## for loop\n",
    "    if i == 33:\n",
    "        break\n",
    "    add = add + i\n",
    "    print(i,add)"
   ]
  },
  {
   "cell_type": "code",
   "execution_count": 145,
   "id": "1dd4806c",
   "metadata": {},
   "outputs": [
    {
     "name": "stdout",
     "output_type": "stream",
     "text": [
      "10 \n",
      " santhosh\n"
     ]
    }
   ],
   "source": [
    "print('10','\\n','santhosh')"
   ]
  },
  {
   "cell_type": "code",
   "execution_count": null,
   "id": "bb5d6bfd",
   "metadata": {},
   "outputs": [],
   "source": []
  },
  {
   "cell_type": "code",
   "execution_count": null,
   "id": "63a45dec",
   "metadata": {},
   "outputs": [],
   "source": []
  },
  {
   "cell_type": "code",
   "execution_count": null,
   "id": "131d3c84",
   "metadata": {},
   "outputs": [],
   "source": []
  },
  {
   "cell_type": "code",
   "execution_count": null,
   "id": "c5ec2680",
   "metadata": {},
   "outputs": [],
   "source": []
  },
  {
   "cell_type": "code",
   "execution_count": null,
   "id": "e40b8558",
   "metadata": {},
   "outputs": [],
   "source": []
  },
  {
   "cell_type": "code",
   "execution_count": null,
   "id": "4190f387",
   "metadata": {},
   "outputs": [],
   "source": []
  },
  {
   "cell_type": "code",
   "execution_count": null,
   "id": "d870580d",
   "metadata": {},
   "outputs": [],
   "source": []
  }
 ],
 "metadata": {
  "kernelspec": {
   "display_name": "Python 3 (ipykernel)",
   "language": "python",
   "name": "python3"
  },
  "language_info": {
   "codemirror_mode": {
    "name": "ipython",
    "version": 3
   },
   "file_extension": ".py",
   "mimetype": "text/x-python",
   "name": "python",
   "nbconvert_exporter": "python",
   "pygments_lexer": "ipython3",
   "version": "3.9.7"
  }
 },
 "nbformat": 4,
 "nbformat_minor": 5
}
