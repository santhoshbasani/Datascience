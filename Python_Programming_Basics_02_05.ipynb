{
 "cells": [
  {
   "cell_type": "markdown",
   "id": "47c15a23",
   "metadata": {},
   "source": [
    "## first code in python"
   ]
  },
  {
   "cell_type": "code",
   "execution_count": 4,
   "id": "acb269d8",
   "metadata": {
    "scrolled": false
   },
   "outputs": [
    {
     "name": "stdout",
     "output_type": "stream",
     "text": [
      "10a\n",
      "28\n",
      "58\n",
      "88\n",
      "1 \n",
      " 2 \n",
      " 3\n",
      "[1, 5, 9, 13, 17]\n",
      "1\n",
      "2\n",
      "3\n",
      "4\n",
      "1\n",
      "2\n",
      "3\n",
      "4\n",
      "5\n",
      "6\n",
      "7\n",
      "1\n",
      "2\n",
      "True\n"
     ]
    }
   ],
   "source": [
    "a='10a'\n",
    "print(a)\n",
    "5<4\n",
    "var=10\n",
    "digit=1+2+3 +4+ \\\n",
    "5+6\\\n",
    "+7\n",
    "print(digit)\n",
    "digit1=(1+32+3 +4+ \\\n",
    "5+6\n",
    "+7)\n",
    "print(digit1)\n",
    "digit2=(1+32+33 +4+   ## multi line code\n",
    "5+6\n",
    "+7)\n",
    "print(digit2)\n",
    "\n",
    "a=1; b=2; c=3;\n",
    "print(a,'\\n',b,'\\n',c)\n",
    "\n",
    "x=list(range(1,20,4))   ## indendation\n",
    "print(x)\n",
    "\n",
    "for p in range(1,10):   ## for loop\n",
    "    if (p<5):\n",
    "        print(p)\n",
    "        \n",
    "for q in range(1,8):   ## for loop\n",
    "    print(q)\n",
    "    if (p==5):\n",
    "        break\n",
    "        \n",
    "for i in range(1, 3): print(i)\n",
    "\n",
    "if True: print('True')"
   ]
  },
  {
   "cell_type": "code",
   "execution_count": 2,
   "id": "e3a6cc7d",
   "metadata": {},
   "outputs": [],
   "source": [
    "#=# comment section on short cut keys\n",
    "# print('i am a software engineer')   -> ctrl+/ to comment set of lines and to uncomment the linesb\n",
    "# print('i am marrier')\n"
   ]
  },
  {
   "cell_type": "code",
   "execution_count": 37,
   "id": "d342093e",
   "metadata": {},
   "outputs": [
    {
     "data": {
      "text/plain": [
       "' this is my first class\\nstarted on 05-02-2022\\nimran is my tutor'"
      ]
     },
     "execution_count": 37,
     "metadata": {},
     "output_type": "execute_result"
    }
   ],
   "source": [
    "# multi line comments\n",
    "\n",
    "\"\"\" this is my first class\n",
    "started on 05-02-2022\n",
    "imran is my tutor\"\"\"\n"
   ]
  },
  {
   "cell_type": "markdown",
   "id": "4e749dcb",
   "metadata": {},
   "source": [
    "## functions"
   ]
  },
  {
   "cell_type": "markdown",
   "id": "d8e9cd2d",
   "metadata": {},
   "source": [
    "### new comment"
   ]
  },
  {
   "cell_type": "code",
   "execution_count": 49,
   "id": "b3805d74",
   "metadata": {},
   "outputs": [
    {
     "name": "stdout",
     "output_type": "stream",
     "text": [
      "this is my first function in the python program\n",
      "first function pgm\n",
      "function to add two values\n",
      "11\n",
      "11\n"
     ]
    }
   ],
   "source": [
    "def function1():\n",
    "    \"\"\"this is my first function in the python program\"\"\"\n",
    "    print('first function pgm')\n",
    ";\n",
    "    \n",
    "def add_fun(a,b):\n",
    "    \"\"\"function to add two values\"\"\"\n",
    "    return a+b\n",
    "\n",
    "print(function1.__doc__)    ## doc string\n",
    "function1()\n",
    "print(add_fun.__doc__)\n",
    "print(add_fun(5,6))\n",
    "a1=add_fun(5,6)\n",
    "if (a1>10):\n",
    "    print(a1)"
   ]
  },
  {
   "cell_type": "code",
   "execution_count": null,
   "id": "169734b5",
   "metadata": {},
   "outputs": [],
   "source": []
  }
 ],
 "metadata": {
  "kernelspec": {
   "display_name": "Python 3 (ipykernel)",
   "language": "python",
   "name": "python3"
  },
  "language_info": {
   "codemirror_mode": {
    "name": "ipython",
    "version": 3
   },
   "file_extension": ".py",
   "mimetype": "text/x-python",
   "name": "python",
   "nbconvert_exporter": "python",
   "pygments_lexer": "ipython3",
   "version": "3.9.7"
  }
 },
 "nbformat": 4,
 "nbformat_minor": 5
}
