{
 "cells": [
  {
   "cell_type": "markdown",
   "id": "d1fdcdbd",
   "metadata": {},
   "source": [
    "## Day-7 session - 26th February 2022 on python\n",
    "\n",
    "1. Numpy\n",
    "\n",
    "    a. shape, ndim, reshape, default array\n",
    "    \n",
    "    b. Create an array with existing data\n",
    "    \n",
    "    c. Array from numerical ranges\n",
    "    \n",
    "    d. Slicing\n",
    "    \n",
    "    e. Integer Indexing\n",
    "    \n",
    "    f. nan (null values concept)`"
   ]
  },
  {
   "cell_type": "markdown",
   "id": "aec38bc2",
   "metadata": {},
   "source": [
    "### Numpy and Pandas\n",
    "\n",
    "Numpy(Numerical python) - it is for arrays, numeric calculations\n",
    "\n",
    "Pandas is for a dataframes(table), calculation, performance is slow"
   ]
  },
  {
   "cell_type": "markdown",
   "id": "0b2a128d",
   "metadata": {},
   "source": [
    "### Numpy"
   ]
  },
  {
   "cell_type": "code",
   "execution_count": 2,
   "id": "6846191a",
   "metadata": {},
   "outputs": [],
   "source": [
    "import numpy as np"
   ]
  },
  {
   "cell_type": "code",
   "execution_count": 12,
   "id": "690009e9",
   "metadata": {},
   "outputs": [],
   "source": [
    "array1 = np.array([1, 2, 3, 4, 5])"
   ]
  },
  {
   "cell_type": "code",
   "execution_count": 4,
   "id": "14d7926a",
   "metadata": {},
   "outputs": [
    {
     "data": {
      "text/plain": [
       "array([1, 2, 3, 4, 5])"
      ]
     },
     "execution_count": 4,
     "metadata": {},
     "output_type": "execute_result"
    }
   ],
   "source": [
    "array1"
   ]
  },
  {
   "cell_type": "code",
   "execution_count": 5,
   "id": "16b97581",
   "metadata": {},
   "outputs": [
    {
     "data": {
      "text/plain": [
       "numpy.ndarray"
      ]
     },
     "execution_count": 5,
     "metadata": {},
     "output_type": "execute_result"
    }
   ],
   "source": [
    "type(array1)"
   ]
  },
  {
   "cell_type": "code",
   "execution_count": 7,
   "id": "a400f7a6",
   "metadata": {},
   "outputs": [
    {
     "data": {
      "text/plain": [
       "(5,)"
      ]
     },
     "execution_count": 7,
     "metadata": {},
     "output_type": "execute_result"
    }
   ],
   "source": [
    "array1.shape"
   ]
  },
  {
   "cell_type": "code",
   "execution_count": 13,
   "id": "9e1278d2",
   "metadata": {},
   "outputs": [
    {
     "data": {
      "text/plain": [
       "1"
      ]
     },
     "execution_count": 13,
     "metadata": {},
     "output_type": "execute_result"
    }
   ],
   "source": [
    "array1.ndim"
   ]
  },
  {
   "cell_type": "code",
   "execution_count": 14,
   "id": "d0703714",
   "metadata": {},
   "outputs": [],
   "source": [
    "array2 = np.array([[1, 2, 3, 4, 5], [11, 22, 33, 44, 55]])"
   ]
  },
  {
   "cell_type": "code",
   "execution_count": 16,
   "id": "5abe1fd4",
   "metadata": {},
   "outputs": [
    {
     "data": {
      "text/plain": [
       "(2, 5)"
      ]
     },
     "execution_count": 16,
     "metadata": {},
     "output_type": "execute_result"
    }
   ],
   "source": [
    "array2.shape"
   ]
  },
  {
   "cell_type": "code",
   "execution_count": 17,
   "id": "e0f10014",
   "metadata": {},
   "outputs": [
    {
     "data": {
      "text/plain": [
       "array([[ 1,  2,  3,  4,  5],\n",
       "       [11, 22, 33, 44, 55]])"
      ]
     },
     "execution_count": 17,
     "metadata": {},
     "output_type": "execute_result"
    }
   ],
   "source": [
    "array2"
   ]
  },
  {
   "cell_type": "code",
   "execution_count": 18,
   "id": "110c3d66",
   "metadata": {},
   "outputs": [
    {
     "ename": "TypeError",
     "evalue": "Field elements must be 2- or 3-tuples, got '4'",
     "output_type": "error",
     "traceback": [
      "\u001b[1;31m---------------------------------------------------------------------------\u001b[0m",
      "\u001b[1;31mTypeError\u001b[0m                                 Traceback (most recent call last)",
      "\u001b[1;32m~\\AppData\\Local\\Temp/ipykernel_16128/1648075744.py\u001b[0m in \u001b[0;36m<module>\u001b[1;34m\u001b[0m\n\u001b[1;32m----> 1\u001b[1;33m \u001b[0marray3\u001b[0m \u001b[1;33m=\u001b[0m \u001b[0mnp\u001b[0m\u001b[1;33m.\u001b[0m\u001b[0marray\u001b[0m\u001b[1;33m(\u001b[0m\u001b[1;33m[\u001b[0m\u001b[1;36m1\u001b[0m\u001b[1;33m,\u001b[0m\u001b[1;36m2\u001b[0m\u001b[1;33m,\u001b[0m\u001b[1;36m3\u001b[0m\u001b[1;33m]\u001b[0m\u001b[1;33m,\u001b[0m \u001b[1;33m[\u001b[0m\u001b[1;36m4\u001b[0m\u001b[1;33m,\u001b[0m\u001b[1;36m5\u001b[0m\u001b[1;33m,\u001b[0m\u001b[1;36m6\u001b[0m\u001b[1;33m,\u001b[0m\u001b[1;36m7\u001b[0m\u001b[1;33m]\u001b[0m\u001b[1;33m)\u001b[0m \u001b[1;31m# arrays sequence should be in order\u001b[0m\u001b[1;33m\u001b[0m\u001b[1;33m\u001b[0m\u001b[0m\n\u001b[0m",
      "\u001b[1;31mTypeError\u001b[0m: Field elements must be 2- or 3-tuples, got '4'"
     ]
    }
   ],
   "source": [
    "array3 = np.array([1,2,3], [4,5,6,7]) # arrays sequence should be in order"
   ]
  },
  {
   "cell_type": "code",
   "execution_count": 24,
   "id": "a89c5be1",
   "metadata": {},
   "outputs": [],
   "source": [
    "array4 = np.array([[1, 'sant', 50.9], [2, 'imran', 89.87], [3, 'Raj', 100.0]])"
   ]
  },
  {
   "cell_type": "code",
   "execution_count": 25,
   "id": "65138df0",
   "metadata": {},
   "outputs": [
    {
     "data": {
      "text/plain": [
       "(3, 3)"
      ]
     },
     "execution_count": 25,
     "metadata": {},
     "output_type": "execute_result"
    }
   ],
   "source": [
    "array4.shape"
   ]
  },
  {
   "cell_type": "code",
   "execution_count": 26,
   "id": "0fd4577a",
   "metadata": {},
   "outputs": [
    {
     "data": {
      "text/plain": [
       "array([['1', 'sant', '50.9'],\n",
       "       ['2', 'imran', '89.87'],\n",
       "       ['3', 'Raj', '100.0']], dtype='<U32')"
      ]
     },
     "execution_count": 26,
     "metadata": {},
     "output_type": "execute_result"
    }
   ],
   "source": [
    "array4"
   ]
  },
  {
   "cell_type": "code",
   "execution_count": 27,
   "id": "ffff767f",
   "metadata": {},
   "outputs": [],
   "source": [
    "array5 = np.array([[1, 2, 3, 4, 5], [11, 22, 33, 44, 55]], dtype = float)"
   ]
  },
  {
   "cell_type": "code",
   "execution_count": 28,
   "id": "55814225",
   "metadata": {},
   "outputs": [
    {
     "data": {
      "text/plain": [
       "array([[ 1.,  2.,  3.,  4.,  5.],\n",
       "       [11., 22., 33., 44., 55.]])"
      ]
     },
     "execution_count": 28,
     "metadata": {},
     "output_type": "execute_result"
    }
   ],
   "source": [
    "array5"
   ]
  },
  {
   "cell_type": "code",
   "execution_count": 29,
   "id": "5414570c",
   "metadata": {},
   "outputs": [
    {
     "data": {
      "text/plain": [
       "(2, 5)"
      ]
     },
     "execution_count": 29,
     "metadata": {},
     "output_type": "execute_result"
    }
   ],
   "source": [
    "array5.shape"
   ]
  },
  {
   "cell_type": "code",
   "execution_count": 41,
   "id": "feeb45ef",
   "metadata": {},
   "outputs": [],
   "source": [
    "array_reshape = array5.reshape(5,2)"
   ]
  },
  {
   "cell_type": "code",
   "execution_count": 42,
   "id": "c2b40575",
   "metadata": {},
   "outputs": [
    {
     "data": {
      "text/plain": [
       "array([[ 1.,  2.],\n",
       "       [ 3.,  4.],\n",
       "       [ 5., 11.],\n",
       "       [22., 33.],\n",
       "       [44., 55.]])"
      ]
     },
     "execution_count": 42,
     "metadata": {},
     "output_type": "execute_result"
    }
   ],
   "source": [
    "array_reshape"
   ]
  },
  {
   "cell_type": "code",
   "execution_count": 43,
   "id": "79bcfa69",
   "metadata": {},
   "outputs": [],
   "source": [
    "array_reshape = array5.reshape(10,1)"
   ]
  },
  {
   "cell_type": "code",
   "execution_count": 44,
   "id": "03d24395",
   "metadata": {},
   "outputs": [
    {
     "data": {
      "text/plain": [
       "array([[ 1.],\n",
       "       [ 2.],\n",
       "       [ 3.],\n",
       "       [ 4.],\n",
       "       [ 5.],\n",
       "       [11.],\n",
       "       [22.],\n",
       "       [33.],\n",
       "       [44.],\n",
       "       [55.]])"
      ]
     },
     "execution_count": 44,
     "metadata": {},
     "output_type": "execute_result"
    }
   ],
   "source": [
    "array_reshape"
   ]
  },
  {
   "cell_type": "code",
   "execution_count": 45,
   "id": "d73c4c95",
   "metadata": {},
   "outputs": [],
   "source": [
    "array_reshape = array5.reshape(1,10)"
   ]
  },
  {
   "cell_type": "code",
   "execution_count": 46,
   "id": "aec4dc45",
   "metadata": {},
   "outputs": [
    {
     "data": {
      "text/plain": [
       "array([[ 1.,  2.,  3.,  4.,  5., 11., 22., 33., 44., 55.]])"
      ]
     },
     "execution_count": 46,
     "metadata": {},
     "output_type": "execute_result"
    }
   ],
   "source": [
    "array_reshape"
   ]
  },
  {
   "cell_type": "code",
   "execution_count": null,
   "id": "dabacb25",
   "metadata": {},
   "outputs": [],
   "source": [
    "array_zero = np.zeros(8)"
   ]
  },
  {
   "cell_type": "code",
   "execution_count": 50,
   "id": "d13386bb",
   "metadata": {},
   "outputs": [],
   "source": [
    "array5.shape?"
   ]
  },
  {
   "cell_type": "code",
   "execution_count": 51,
   "id": "27f75195",
   "metadata": {},
   "outputs": [],
   "source": [
    "array6 = np.array([[[[1,2,3,4,5],[4,5,6,7,8],[1.2,3.4,5.6,7.8,9.1],[4,4,4,4,5]]]])\n"
   ]
  },
  {
   "cell_type": "code",
   "execution_count": 52,
   "id": "c6fd2eb3",
   "metadata": {},
   "outputs": [
    {
     "data": {
      "text/plain": [
       "array([[[[1. , 2. , 3. , 4. , 5. ],\n",
       "         [4. , 5. , 6. , 7. , 8. ],\n",
       "         [1.2, 3.4, 5.6, 7.8, 9.1],\n",
       "         [4. , 4. , 4. , 4. , 5. ]]]])"
      ]
     },
     "execution_count": 52,
     "metadata": {},
     "output_type": "execute_result"
    }
   ],
   "source": [
    "array6"
   ]
  },
  {
   "cell_type": "code",
   "execution_count": 61,
   "id": "3b12d480",
   "metadata": {},
   "outputs": [
    {
     "data": {
      "text/plain": [
       "(1, 1, 4, 5)"
      ]
     },
     "execution_count": 61,
     "metadata": {},
     "output_type": "execute_result"
    }
   ],
   "source": [
    "array6.shape   ## No use with this example having multiple dimensions in the same"
   ]
  },
  {
   "cell_type": "code",
   "execution_count": 55,
   "id": "ef1703ff",
   "metadata": {},
   "outputs": [],
   "source": [
    "array7 = np.array([[1,2,3,4,5],[4,5,6,7,8],[1.2,3.4,5.6,7.8,9.1],[4,4,4,4,5]])\n"
   ]
  },
  {
   "cell_type": "code",
   "execution_count": 56,
   "id": "6f18ccb3",
   "metadata": {},
   "outputs": [
    {
     "data": {
      "text/plain": [
       "(4, 5)"
      ]
     },
     "execution_count": 56,
     "metadata": {},
     "output_type": "execute_result"
    }
   ],
   "source": [
    "array7.shape"
   ]
  },
  {
   "cell_type": "code",
   "execution_count": 63,
   "id": "9544fafc",
   "metadata": {},
   "outputs": [],
   "source": [
    "iter?"
   ]
  },
  {
   "cell_type": "code",
   "execution_count": 66,
   "id": "e2c2a44c",
   "metadata": {},
   "outputs": [],
   "source": [
    "array7 = np.array([[[1,2,3,4,5],[4,5,6,7,8]],[[1,3,5,7,9],[4,4,4,4,5]]])"
   ]
  },
  {
   "cell_type": "code",
   "execution_count": 122,
   "id": "3ab338d7",
   "metadata": {},
   "outputs": [
    {
     "data": {
      "text/plain": [
       "2"
      ]
     },
     "execution_count": 122,
     "metadata": {},
     "output_type": "execute_result"
    }
   ],
   "source": [
    "len(array7)"
   ]
  },
  {
   "cell_type": "code",
   "execution_count": 67,
   "id": "dc07af2f",
   "metadata": {},
   "outputs": [
    {
     "data": {
      "text/plain": [
       "(2, 2, 5)"
      ]
     },
     "execution_count": 67,
     "metadata": {},
     "output_type": "execute_result"
    }
   ],
   "source": [
    "array7.shape"
   ]
  },
  {
   "cell_type": "code",
   "execution_count": 68,
   "id": "e6a40ce5",
   "metadata": {},
   "outputs": [],
   "source": [
    "array_zero = np.zeros(8)"
   ]
  },
  {
   "cell_type": "code",
   "execution_count": 69,
   "id": "c9e60271",
   "metadata": {},
   "outputs": [
    {
     "data": {
      "text/plain": [
       "array([0., 0., 0., 0., 0., 0., 0., 0.])"
      ]
     },
     "execution_count": 69,
     "metadata": {},
     "output_type": "execute_result"
    }
   ],
   "source": [
    "array_zero"
   ]
  },
  {
   "cell_type": "code",
   "execution_count": 73,
   "id": "939ac2ba",
   "metadata": {},
   "outputs": [],
   "source": [
    "array_ones = np.ones([3,3], dtype=int)"
   ]
  },
  {
   "cell_type": "code",
   "execution_count": 74,
   "id": "f6e55efb",
   "metadata": {},
   "outputs": [
    {
     "data": {
      "text/plain": [
       "array([[1, 1, 1],\n",
       "       [1, 1, 1],\n",
       "       [1, 1, 1]])"
      ]
     },
     "execution_count": 74,
     "metadata": {},
     "output_type": "execute_result"
    }
   ],
   "source": [
    "array_ones"
   ]
  },
  {
   "cell_type": "markdown",
   "id": "f7d16e4c",
   "metadata": {},
   "source": [
    "### Creating an array with existing data"
   ]
  },
  {
   "cell_type": "code",
   "execution_count": 81,
   "id": "d2d48e20",
   "metadata": {},
   "outputs": [],
   "source": [
    "x1 = ([3, 5], [5,4], [6,7])"
   ]
  },
  {
   "cell_type": "code",
   "execution_count": 256,
   "id": "21d9c849",
   "metadata": {},
   "outputs": [
    {
     "ename": "SyntaxError",
     "evalue": "invalid syntax (Temp/ipykernel_16128/1213016252.py, line 1)",
     "output_type": "error",
     "traceback": [
      "\u001b[1;36m  File \u001b[1;32m\"C:\\Users\\kalya\\AppData\\Local\\Temp/ipykernel_16128/1213016252.py\"\u001b[1;36m, line \u001b[1;32m1\u001b[0m\n\u001b[1;33m    n1 = ([[3, 5], [5,4], [6,7]], dtype = float)\u001b[0m\n\u001b[1;37m                                        ^\u001b[0m\n\u001b[1;31mSyntaxError\u001b[0m\u001b[1;31m:\u001b[0m invalid syntax\n"
     ]
    }
   ],
   "source": [
    "n1 = ([[3, 5], [5,4], [6,7]], dtype = float)"
   ]
  },
  {
   "cell_type": "code",
   "execution_count": 82,
   "id": "3a408dae",
   "metadata": {},
   "outputs": [],
   "source": [
    "a1 = np.asarray(x1, dtype=float)  ## asarray() is a function"
   ]
  },
  {
   "cell_type": "code",
   "execution_count": 83,
   "id": "c29fe02f",
   "metadata": {},
   "outputs": [
    {
     "data": {
      "text/plain": [
       "tuple"
      ]
     },
     "execution_count": 83,
     "metadata": {},
     "output_type": "execute_result"
    }
   ],
   "source": [
    "type(x1)"
   ]
  },
  {
   "cell_type": "code",
   "execution_count": 84,
   "id": "830a2c53",
   "metadata": {},
   "outputs": [
    {
     "data": {
      "text/plain": [
       "([3, 5], [5, 4], [6, 7])"
      ]
     },
     "execution_count": 84,
     "metadata": {},
     "output_type": "execute_result"
    }
   ],
   "source": [
    "x1"
   ]
  },
  {
   "cell_type": "code",
   "execution_count": 85,
   "id": "cf2a027a",
   "metadata": {},
   "outputs": [
    {
     "data": {
      "text/plain": [
       "array([[3., 5.],\n",
       "       [5., 4.],\n",
       "       [6., 7.]])"
      ]
     },
     "execution_count": 85,
     "metadata": {},
     "output_type": "execute_result"
    }
   ],
   "source": [
    "a1"
   ]
  },
  {
   "cell_type": "markdown",
   "id": "66673ce6",
   "metadata": {},
   "source": [
    "### Array from Numerical ranges"
   ]
  },
  {
   "cell_type": "code",
   "execution_count": 92,
   "id": "954fa6e3",
   "metadata": {},
   "outputs": [],
   "source": [
    "a1 = np.arange(0,20,3)"
   ]
  },
  {
   "cell_type": "code",
   "execution_count": 93,
   "id": "706e072e",
   "metadata": {},
   "outputs": [
    {
     "data": {
      "text/plain": [
       "array([ 0,  3,  6,  9, 12, 15, 18])"
      ]
     },
     "execution_count": 93,
     "metadata": {},
     "output_type": "execute_result"
    }
   ],
   "source": [
    "a1"
   ]
  },
  {
   "cell_type": "code",
   "execution_count": 96,
   "id": "003556fe",
   "metadata": {},
   "outputs": [],
   "source": [
    "a1 = np.linspace(10,20,3)"
   ]
  },
  {
   "cell_type": "code",
   "execution_count": 97,
   "id": "6286ef75",
   "metadata": {},
   "outputs": [
    {
     "data": {
      "text/plain": [
       "array([10., 15., 20.])"
      ]
     },
     "execution_count": 97,
     "metadata": {},
     "output_type": "execute_result"
    }
   ],
   "source": [
    "a1"
   ]
  },
  {
   "cell_type": "code",
   "execution_count": 98,
   "id": "dd2a78ab",
   "metadata": {},
   "outputs": [],
   "source": [
    "a1 = np.linspace(10,20,6)"
   ]
  },
  {
   "cell_type": "code",
   "execution_count": 99,
   "id": "b589cbb8",
   "metadata": {},
   "outputs": [
    {
     "data": {
      "text/plain": [
       "array([10., 12., 14., 16., 18., 20.])"
      ]
     },
     "execution_count": 99,
     "metadata": {},
     "output_type": "execute_result"
    }
   ],
   "source": [
    "a1"
   ]
  },
  {
   "cell_type": "code",
   "execution_count": 100,
   "id": "a47b29f3",
   "metadata": {},
   "outputs": [],
   "source": [
    "a1 = np.linspace(10,20,5)"
   ]
  },
  {
   "cell_type": "code",
   "execution_count": 101,
   "id": "292f1ec1",
   "metadata": {},
   "outputs": [
    {
     "data": {
      "text/plain": [
       "array([10. , 12.5, 15. , 17.5, 20. ])"
      ]
     },
     "execution_count": 101,
     "metadata": {},
     "output_type": "execute_result"
    }
   ],
   "source": [
    "a1"
   ]
  },
  {
   "cell_type": "markdown",
   "id": "9d0d3190",
   "metadata": {},
   "source": [
    "### Slicing "
   ]
  },
  {
   "cell_type": "code",
   "execution_count": 107,
   "id": "7a442825",
   "metadata": {},
   "outputs": [],
   "source": [
    "list1 = np.arange(10)\n",
    "\n",
    "#list1"
   ]
  },
  {
   "cell_type": "code",
   "execution_count": 108,
   "id": "78586357",
   "metadata": {},
   "outputs": [],
   "source": [
    "array1 = slice(2,9,2)\n"
   ]
  },
  {
   "cell_type": "code",
   "execution_count": 110,
   "id": "31c066eb",
   "metadata": {},
   "outputs": [
    {
     "data": {
      "text/plain": [
       "array([2, 4, 6, 8])"
      ]
     },
     "execution_count": 110,
     "metadata": {},
     "output_type": "execute_result"
    }
   ],
   "source": [
    "list1[array1]"
   ]
  },
  {
   "cell_type": "code",
   "execution_count": 112,
   "id": "bd3b2954",
   "metadata": {},
   "outputs": [],
   "source": [
    "list2 = list1[array1]"
   ]
  },
  {
   "cell_type": "code",
   "execution_count": 113,
   "id": "df7d48a1",
   "metadata": {},
   "outputs": [
    {
     "data": {
      "text/plain": [
       "array([2, 4, 6, 8])"
      ]
     },
     "execution_count": 113,
     "metadata": {},
     "output_type": "execute_result"
    }
   ],
   "source": [
    "list2"
   ]
  },
  {
   "cell_type": "code",
   "execution_count": 111,
   "id": "6af47925",
   "metadata": {},
   "outputs": [
    {
     "data": {
      "text/plain": [
       "array([0, 1, 2, 3, 4, 5, 6, 7, 8, 9])"
      ]
     },
     "execution_count": 111,
     "metadata": {},
     "output_type": "execute_result"
    }
   ],
   "source": [
    "list1"
   ]
  },
  {
   "cell_type": "code",
   "execution_count": 114,
   "id": "4144e48d",
   "metadata": {},
   "outputs": [
    {
     "data": {
      "text/plain": [
       "array([2, 3, 4, 5, 6, 7, 8])"
      ]
     },
     "execution_count": 114,
     "metadata": {},
     "output_type": "execute_result"
    }
   ],
   "source": [
    "array2 = slice(2,9)\n",
    "list1[array2]"
   ]
  },
  {
   "cell_type": "code",
   "execution_count": 116,
   "id": "8c85ca26",
   "metadata": {},
   "outputs": [
    {
     "data": {
      "text/plain": [
       "array([2, 4, 6, 8])"
      ]
     },
     "execution_count": 116,
     "metadata": {},
     "output_type": "execute_result"
    }
   ],
   "source": [
    "list1 = np.arange(10)\n",
    "array1 = list1[2: 9: 2]\n",
    "list1[array1]"
   ]
  },
  {
   "cell_type": "code",
   "execution_count": 119,
   "id": "b70d5a5c",
   "metadata": {},
   "outputs": [],
   "source": [
    "array1 = list1[2: 9]"
   ]
  },
  {
   "cell_type": "code",
   "execution_count": 120,
   "id": "2b533e3a",
   "metadata": {},
   "outputs": [
    {
     "data": {
      "text/plain": [
       "array([2, 3, 4, 5, 6, 7, 8])"
      ]
     },
     "execution_count": 120,
     "metadata": {},
     "output_type": "execute_result"
    }
   ],
   "source": [
    "array1"
   ]
  },
  {
   "cell_type": "code",
   "execution_count": 121,
   "id": "e79b6087",
   "metadata": {},
   "outputs": [
    {
     "data": {
      "text/plain": [
       "7"
      ]
     },
     "execution_count": 121,
     "metadata": {},
     "output_type": "execute_result"
    }
   ],
   "source": [
    "len(array1)"
   ]
  },
  {
   "cell_type": "code",
   "execution_count": 123,
   "id": "c53046ac",
   "metadata": {},
   "outputs": [
    {
     "data": {
      "text/plain": [
       "1"
      ]
     },
     "execution_count": 123,
     "metadata": {},
     "output_type": "execute_result"
    }
   ],
   "source": [
    "array1.ndim"
   ]
  },
  {
   "cell_type": "code",
   "execution_count": 148,
   "id": "bf2d5367",
   "metadata": {},
   "outputs": [],
   "source": [
    "array7 = np.array([[[1,2,3,4,5],[4,5,6,7,8]],[[1,3,5,7,9],[4,4,4,4,5]]])"
   ]
  },
  {
   "cell_type": "code",
   "execution_count": 143,
   "id": "6f403840",
   "metadata": {},
   "outputs": [
    {
     "data": {
      "text/plain": [
       "5"
      ]
     },
     "execution_count": 143,
     "metadata": {},
     "output_type": "execute_result"
    }
   ],
   "source": [
    "len(array7[1][1])"
   ]
  },
  {
   "cell_type": "code",
   "execution_count": 144,
   "id": "ca4d6095",
   "metadata": {},
   "outputs": [
    {
     "data": {
      "text/plain": [
       "(2, 2, 5)"
      ]
     },
     "execution_count": 144,
     "metadata": {},
     "output_type": "execute_result"
    }
   ],
   "source": [
    "array7.shape"
   ]
  },
  {
   "cell_type": "code",
   "execution_count": 149,
   "id": "46d72559",
   "metadata": {},
   "outputs": [
    {
     "data": {
      "text/plain": [
       "3"
      ]
     },
     "execution_count": 149,
     "metadata": {},
     "output_type": "execute_result"
    }
   ],
   "source": [
    "array7.ndim"
   ]
  },
  {
   "cell_type": "code",
   "execution_count": 134,
   "id": "6fd71ddb",
   "metadata": {},
   "outputs": [
    {
     "data": {
      "text/plain": [
       "5"
      ]
     },
     "execution_count": 134,
     "metadata": {},
     "output_type": "execute_result"
    }
   ],
   "source": [
    "len(array7[0][1])"
   ]
  },
  {
   "cell_type": "code",
   "execution_count": 153,
   "id": "000c238c",
   "metadata": {},
   "outputs": [],
   "source": [
    "array7 = np.array([[1,2,3,4,5],[4,5,6,7,8],[1,3,5,7,9],[4,4,4,4,5]])"
   ]
  },
  {
   "cell_type": "code",
   "execution_count": 154,
   "id": "966117f8",
   "metadata": {},
   "outputs": [
    {
     "data": {
      "text/plain": [
       "4"
      ]
     },
     "execution_count": 154,
     "metadata": {},
     "output_type": "execute_result"
    }
   ],
   "source": [
    "len(array7)"
   ]
  },
  {
   "cell_type": "code",
   "execution_count": 155,
   "id": "3193b884",
   "metadata": {},
   "outputs": [
    {
     "data": {
      "text/plain": [
       "5"
      ]
     },
     "execution_count": 155,
     "metadata": {},
     "output_type": "execute_result"
    }
   ],
   "source": [
    "len(array7[2])"
   ]
  },
  {
   "cell_type": "code",
   "execution_count": 146,
   "id": "3805cfe8",
   "metadata": {},
   "outputs": [
    {
     "data": {
      "text/plain": [
       "(4, 5)"
      ]
     },
     "execution_count": 146,
     "metadata": {},
     "output_type": "execute_result"
    }
   ],
   "source": [
    "array7.shape"
   ]
  },
  {
   "cell_type": "code",
   "execution_count": 147,
   "id": "1d913e36",
   "metadata": {},
   "outputs": [
    {
     "data": {
      "text/plain": [
       "2"
      ]
     },
     "execution_count": 147,
     "metadata": {},
     "output_type": "execute_result"
    }
   ],
   "source": [
    "array7.ndim"
   ]
  },
  {
   "cell_type": "code",
   "execution_count": 156,
   "id": "a5bbc746",
   "metadata": {},
   "outputs": [],
   "source": [
    "array7= np.array([[[1,3,4,5],[3,4,5,6],[3,4,5,6]],[[5,4,5,6],[3,4,5,6],[3,4,5,6]],[[5,4,5,6],[3,4,5,6],[3,4,5,6]]])\n"
   ]
  },
  {
   "cell_type": "code",
   "execution_count": 157,
   "id": "c8c5a545",
   "metadata": {},
   "outputs": [
    {
     "data": {
      "text/plain": [
       "array([[[1, 3, 4, 5],\n",
       "        [3, 4, 5, 6],\n",
       "        [3, 4, 5, 6]],\n",
       "\n",
       "       [[5, 4, 5, 6],\n",
       "        [3, 4, 5, 6],\n",
       "        [3, 4, 5, 6]],\n",
       "\n",
       "       [[5, 4, 5, 6],\n",
       "        [3, 4, 5, 6],\n",
       "        [3, 4, 5, 6]]])"
      ]
     },
     "execution_count": 157,
     "metadata": {},
     "output_type": "execute_result"
    }
   ],
   "source": [
    "array7"
   ]
  },
  {
   "cell_type": "code",
   "execution_count": 158,
   "id": "7e53f97a",
   "metadata": {},
   "outputs": [
    {
     "data": {
      "text/plain": [
       "3"
      ]
     },
     "execution_count": 158,
     "metadata": {},
     "output_type": "execute_result"
    }
   ],
   "source": [
    "array7.ndim"
   ]
  },
  {
   "cell_type": "code",
   "execution_count": 159,
   "id": "82e0aa4e",
   "metadata": {},
   "outputs": [
    {
     "data": {
      "text/plain": [
       "(3, 3, 4)"
      ]
     },
     "execution_count": 159,
     "metadata": {},
     "output_type": "execute_result"
    }
   ],
   "source": [
    "array7.shape"
   ]
  },
  {
   "cell_type": "markdown",
   "id": "cc5c49f9",
   "metadata": {},
   "source": [
    "### Integer indexing"
   ]
  },
  {
   "cell_type": "code",
   "execution_count": 161,
   "id": "d652a823",
   "metadata": {},
   "outputs": [],
   "source": [
    "a = np.array([[1,2],[3,4],[5,6]])\n",
    "b = a[[0,1,2],[0,1,0]]"
   ]
  },
  {
   "cell_type": "code",
   "execution_count": 163,
   "id": "d26ef68e",
   "metadata": {},
   "outputs": [
    {
     "data": {
      "text/plain": [
       "array([[1, 2],\n",
       "       [3, 4],\n",
       "       [5, 6]])"
      ]
     },
     "execution_count": 163,
     "metadata": {},
     "output_type": "execute_result"
    }
   ],
   "source": [
    "a"
   ]
  },
  {
   "cell_type": "code",
   "execution_count": 164,
   "id": "c8ffbab3",
   "metadata": {},
   "outputs": [
    {
     "data": {
      "text/plain": [
       "array([1, 4, 5])"
      ]
     },
     "execution_count": 164,
     "metadata": {},
     "output_type": "execute_result"
    }
   ],
   "source": [
    "b"
   ]
  },
  {
   "cell_type": "code",
   "execution_count": 167,
   "id": "aec187fd",
   "metadata": {},
   "outputs": [
    {
     "data": {
      "text/plain": [
       "3"
      ]
     },
     "execution_count": 167,
     "metadata": {},
     "output_type": "execute_result"
    }
   ],
   "source": [
    "a[1][0]"
   ]
  },
  {
   "cell_type": "code",
   "execution_count": 183,
   "id": "4d3a3efe",
   "metadata": {},
   "outputs": [],
   "source": [
    "a1 = np.array([[1,2,3,4],[11,22,33,44],[111,222,333,444],[1111,2222,3333,4444]])"
   ]
  },
  {
   "cell_type": "code",
   "execution_count": 188,
   "id": "aa68921e",
   "metadata": {},
   "outputs": [],
   "source": [
    "b1 = a1[1:,1:]"
   ]
  },
  {
   "cell_type": "code",
   "execution_count": 189,
   "id": "8b69bd40",
   "metadata": {},
   "outputs": [
    {
     "data": {
      "text/plain": [
       "array([[  22,   33,   44],\n",
       "       [ 222,  333,  444],\n",
       "       [2222, 3333, 4444]])"
      ]
     },
     "execution_count": 189,
     "metadata": {},
     "output_type": "execute_result"
    }
   ],
   "source": [
    "b1"
   ]
  },
  {
   "cell_type": "code",
   "execution_count": 190,
   "id": "909b31e9",
   "metadata": {},
   "outputs": [
    {
     "data": {
      "text/plain": [
       "array([[ 111,  222,  333,  444],\n",
       "       [1111, 2222, 3333, 4444]])"
      ]
     },
     "execution_count": 190,
     "metadata": {},
     "output_type": "execute_result"
    }
   ],
   "source": [
    "a1[1:][1:]   # don't use it"
   ]
  },
  {
   "cell_type": "code",
   "execution_count": 191,
   "id": "a4a5ad35",
   "metadata": {},
   "outputs": [
    {
     "data": {
      "text/plain": [
       "array([[  22,   33],\n",
       "       [ 222,  333],\n",
       "       [2222, 3333]])"
      ]
     },
     "execution_count": 191,
     "metadata": {},
     "output_type": "execute_result"
    }
   ],
   "source": [
    "a1[1:4,1:3]"
   ]
  },
  {
   "cell_type": "code",
   "execution_count": 192,
   "id": "baf7d7c4",
   "metadata": {},
   "outputs": [],
   "source": [
    "b = np.array([[1, 2, 3], [4, 5, 6], [7, 8, 9], [10, 11, 12]])"
   ]
  },
  {
   "cell_type": "code",
   "execution_count": 195,
   "id": "ed77a9e9",
   "metadata": {},
   "outputs": [
    {
     "data": {
      "text/plain": [
       "array([[ 1,  2,  3],\n",
       "       [ 4,  5,  6],\n",
       "       [ 7,  8,  9],\n",
       "       [10, 11, 12]])"
      ]
     },
     "execution_count": 195,
     "metadata": {},
     "output_type": "execute_result"
    }
   ],
   "source": [
    "b"
   ]
  },
  {
   "cell_type": "code",
   "execution_count": 193,
   "id": "20dc05f3",
   "metadata": {},
   "outputs": [],
   "source": [
    "b1 = b[1:4, [1,2]]"
   ]
  },
  {
   "cell_type": "code",
   "execution_count": 194,
   "id": "ead400d4",
   "metadata": {},
   "outputs": [
    {
     "data": {
      "text/plain": [
       "array([[ 5,  6],\n",
       "       [ 8,  9],\n",
       "       [11, 12]])"
      ]
     },
     "execution_count": 194,
     "metadata": {},
     "output_type": "execute_result"
    }
   ],
   "source": [
    "b1"
   ]
  },
  {
   "cell_type": "code",
   "execution_count": 196,
   "id": "030d2863",
   "metadata": {},
   "outputs": [],
   "source": [
    "b1 = b[:4, :3]"
   ]
  },
  {
   "cell_type": "code",
   "execution_count": 197,
   "id": "7b1cc6f1",
   "metadata": {},
   "outputs": [
    {
     "data": {
      "text/plain": [
       "array([[ 1,  2,  3],\n",
       "       [ 4,  5,  6],\n",
       "       [ 7,  8,  9],\n",
       "       [10, 11, 12]])"
      ]
     },
     "execution_count": 197,
     "metadata": {},
     "output_type": "execute_result"
    }
   ],
   "source": [
    "b1"
   ]
  },
  {
   "cell_type": "code",
   "execution_count": 198,
   "id": "64cdfa38",
   "metadata": {},
   "outputs": [],
   "source": [
    "a1 = np.array([[1,2,3,4],[11,22,33,44],[111,222,333,444],[1111,2222,3333,4444]])"
   ]
  },
  {
   "cell_type": "code",
   "execution_count": 199,
   "id": "1a32275f",
   "metadata": {},
   "outputs": [
    {
     "data": {
      "text/plain": [
       "array([[   1,    2,    3,    4],\n",
       "       [  11,   22,   33,   44],\n",
       "       [ 111,  222,  333,  444],\n",
       "       [1111, 2222, 3333, 4444]])"
      ]
     },
     "execution_count": 199,
     "metadata": {},
     "output_type": "execute_result"
    }
   ],
   "source": [
    "a1"
   ]
  },
  {
   "cell_type": "code",
   "execution_count": 200,
   "id": "7ae77ee9",
   "metadata": {},
   "outputs": [],
   "source": [
    "x = a1[1:5, [1,2,3]]"
   ]
  },
  {
   "cell_type": "code",
   "execution_count": 201,
   "id": "d203b373",
   "metadata": {},
   "outputs": [
    {
     "data": {
      "text/plain": [
       "array([[  22,   33,   44],\n",
       "       [ 222,  333,  444],\n",
       "       [2222, 3333, 4444]])"
      ]
     },
     "execution_count": 201,
     "metadata": {},
     "output_type": "execute_result"
    }
   ],
   "source": [
    "x"
   ]
  },
  {
   "cell_type": "code",
   "execution_count": 202,
   "id": "306a5ded",
   "metadata": {},
   "outputs": [
    {
     "data": {
      "text/plain": [
       "array([[   2,    3,    4],\n",
       "       [  22,   33,   44],\n",
       "       [ 222,  333,  444],\n",
       "       [2222, 3333, 4444]])"
      ]
     },
     "execution_count": 202,
     "metadata": {},
     "output_type": "execute_result"
    }
   ],
   "source": [
    "a1[0:, [1,2,3]]"
   ]
  },
  {
   "cell_type": "code",
   "execution_count": 206,
   "id": "d20f4a78",
   "metadata": {},
   "outputs": [
    {
     "data": {
      "text/plain": [
       "array([[   2,    3],\n",
       "       [  22,   33],\n",
       "       [ 222,  333],\n",
       "       [2222, 3333]])"
      ]
     },
     "execution_count": 206,
     "metadata": {},
     "output_type": "execute_result"
    }
   ],
   "source": [
    "a1[0:, [1,2]]"
   ]
  },
  {
   "cell_type": "code",
   "execution_count": 213,
   "id": "7ec2f50d",
   "metadata": {},
   "outputs": [
    {
     "data": {
      "text/plain": [
       "array([[  22,   33],\n",
       "       [ 222,  333],\n",
       "       [2222, 3333]])"
      ]
     },
     "execution_count": 213,
     "metadata": {},
     "output_type": "execute_result"
    }
   ],
   "source": [
    "a1[1:,[1,2]]"
   ]
  },
  {
   "cell_type": "code",
   "execution_count": 220,
   "id": "9cc8c9d9",
   "metadata": {},
   "outputs": [
    {
     "data": {
      "text/plain": [
       "array([[  22,   33],\n",
       "       [ 222,  333],\n",
       "       [2222, 3333]])"
      ]
     },
     "execution_count": 220,
     "metadata": {},
     "output_type": "execute_result"
    }
   ],
   "source": [
    "a1[[1,2,3],1:3]"
   ]
  },
  {
   "cell_type": "code",
   "execution_count": 221,
   "id": "49ce33b5",
   "metadata": {},
   "outputs": [
    {
     "data": {
      "text/plain": [
       "array([[   1,    2,    3,    4],\n",
       "       [  11,   22,   33,   44],\n",
       "       [ 111,  222,  333,  444],\n",
       "       [1111, 2222, 3333, 4444]])"
      ]
     },
     "execution_count": 221,
     "metadata": {},
     "output_type": "execute_result"
    }
   ],
   "source": [
    "a1"
   ]
  },
  {
   "cell_type": "code",
   "execution_count": 223,
   "id": "216253f2",
   "metadata": {},
   "outputs": [
    {
     "data": {
      "text/plain": [
       "array([1, 2, 3])"
      ]
     },
     "execution_count": 223,
     "metadata": {},
     "output_type": "execute_result"
    }
   ],
   "source": [
    "a1[a1<4]"
   ]
  },
  {
   "cell_type": "code",
   "execution_count": 224,
   "id": "7e67328e",
   "metadata": {},
   "outputs": [
    {
     "data": {
      "text/plain": [
       "array([   4,   11,   22,   33,   44,  111,  222,  333,  444, 1111, 2222,\n",
       "       3333, 4444])"
      ]
     },
     "execution_count": 224,
     "metadata": {},
     "output_type": "execute_result"
    }
   ],
   "source": [
    "a1[a1>=4]"
   ]
  },
  {
   "cell_type": "markdown",
   "id": "227894c0",
   "metadata": {},
   "source": [
    "### nan example - null values"
   ]
  },
  {
   "cell_type": "code",
   "execution_count": 231,
   "id": "46f4f931",
   "metadata": {},
   "outputs": [],
   "source": [
    "a2 = np.array([1, 5, np.nan, 8, np.nan, 52, 65, np.nan])   # nan means a null value"
   ]
  },
  {
   "cell_type": "code",
   "execution_count": 228,
   "id": "85b63768",
   "metadata": {},
   "outputs": [
    {
     "data": {
      "text/plain": [
       "array([ 1.,  5., nan,  8., nan, 52., 65., nan])"
      ]
     },
     "execution_count": 228,
     "metadata": {},
     "output_type": "execute_result"
    }
   ],
   "source": [
    "a2"
   ]
  },
  {
   "cell_type": "code",
   "execution_count": 229,
   "id": "3f2bb468",
   "metadata": {},
   "outputs": [
    {
     "data": {
      "text/plain": [
       "array([nan, nan, nan])"
      ]
     },
     "execution_count": 229,
     "metadata": {},
     "output_type": "execute_result"
    }
   ],
   "source": [
    "a2[np.isnan(a2)]"
   ]
  },
  {
   "cell_type": "code",
   "execution_count": 230,
   "id": "5fe0e025",
   "metadata": {},
   "outputs": [
    {
     "data": {
      "text/plain": [
       "array([ 1.,  5.,  8., 52., 65.])"
      ]
     },
     "execution_count": 230,
     "metadata": {},
     "output_type": "execute_result"
    }
   ],
   "source": [
    "a2[~np.isnan(a2)]"
   ]
  },
  {
   "cell_type": "code",
   "execution_count": 232,
   "id": "b1c1248c",
   "metadata": {},
   "outputs": [
    {
     "data": {
      "text/plain": [
       "array([[   1,    2,    3,    4],\n",
       "       [  11,   22,   33,   44],\n",
       "       [ 111,  222,  333,  444],\n",
       "       [1111, 2222, 3333, 4444]])"
      ]
     },
     "execution_count": 232,
     "metadata": {},
     "output_type": "execute_result"
    }
   ],
   "source": [
    "a1"
   ]
  },
  {
   "cell_type": "code",
   "execution_count": 252,
   "id": "7128f4e8",
   "metadata": {},
   "outputs": [
    {
     "data": {
      "text/plain": [
       "array([], dtype=int32)"
      ]
     },
     "execution_count": 252,
     "metadata": {},
     "output_type": "execute_result"
    }
   ],
   "source": [
    "a1[np.isnan(a1)]"
   ]
  },
  {
   "cell_type": "code",
   "execution_count": 233,
   "id": "183a2828",
   "metadata": {},
   "outputs": [
    {
     "data": {
      "text/plain": [
       "444"
      ]
     },
     "execution_count": 233,
     "metadata": {},
     "output_type": "execute_result"
    }
   ],
   "source": [
    "a1[2,3]"
   ]
  },
  {
   "cell_type": "code",
   "execution_count": 251,
   "id": "05d672e0",
   "metadata": {},
   "outputs": [
    {
     "ename": "ValueError",
     "evalue": "The truth value of an array with more than one element is ambiguous. Use a.any() or a.all()",
     "output_type": "error",
     "traceback": [
      "\u001b[1;31m---------------------------------------------------------------------------\u001b[0m",
      "\u001b[1;31mValueError\u001b[0m                                Traceback (most recent call last)",
      "\u001b[1;32m~\\AppData\\Local\\Temp/ipykernel_16128/4285666519.py\u001b[0m in \u001b[0;36m<module>\u001b[1;34m\u001b[0m\n\u001b[0;32m      1\u001b[0m \u001b[1;32mfor\u001b[0m \u001b[0ma\u001b[0m \u001b[1;32min\u001b[0m \u001b[0ma1\u001b[0m\u001b[1;33m:\u001b[0m\u001b[1;33m\u001b[0m\u001b[1;33m\u001b[0m\u001b[0m\n\u001b[1;32m----> 2\u001b[1;33m     \u001b[1;32mif\u001b[0m \u001b[0ma\u001b[0m \u001b[1;33m==\u001b[0m \u001b[1;36m222\u001b[0m\u001b[1;33m:\u001b[0m\u001b[1;33m\u001b[0m\u001b[1;33m\u001b[0m\u001b[0m\n\u001b[0m\u001b[0;32m      3\u001b[0m         \u001b[0mprint\u001b[0m\u001b[1;33m(\u001b[0m\u001b[0ma\u001b[0m\u001b[1;33m)\u001b[0m\u001b[1;33m\u001b[0m\u001b[1;33m\u001b[0m\u001b[0m\n",
      "\u001b[1;31mValueError\u001b[0m: The truth value of an array with more than one element is ambiguous. Use a.any() or a.all()"
     ]
    }
   ],
   "source": [
    "for a in a1:\n",
    "    if a == 222:\n",
    "        print(a)"
   ]
  },
  {
   "cell_type": "code",
   "execution_count": null,
   "id": "c496bc4a",
   "metadata": {},
   "outputs": [],
   "source": []
  }
 ],
 "metadata": {
  "kernelspec": {
   "display_name": "Python 3 (ipykernel)",
   "language": "python",
   "name": "python3"
  },
  "language_info": {
   "codemirror_mode": {
    "name": "ipython",
    "version": 3
   },
   "file_extension": ".py",
   "mimetype": "text/x-python",
   "name": "python",
   "nbconvert_exporter": "python",
   "pygments_lexer": "ipython3",
   "version": "3.9.7"
  }
 },
 "nbformat": 4,
 "nbformat_minor": 5
}
