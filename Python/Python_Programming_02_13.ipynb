{
 "cells": [
  {
   "cell_type": "markdown",
   "id": "9368d077",
   "metadata": {},
   "source": [
    "## Day-4 session - 13th February 2022 on python\n",
    "1. Length function\n",
    "2. While loop\n",
    "3. Break, Continue and Pass\n",
    "4. Functions\n",
    "5. Local and Global Variables\n",
    "6. Function arguments\n",
    "    a. Positional argumented functions\n",
    "    b. Default arugmented functions\n",
    "    c. Keyword argumented functions\n",
    "7. Function recursion\n",
    "8. Lambda Function\n",
    "9. Filter and Map Operations"
   ]
  },
  {
   "cell_type": "markdown",
   "id": "6a0eb6df",
   "metadata": {},
   "source": [
    "## Get the length of the list"
   ]
  },
  {
   "cell_type": "code",
   "execution_count": 5,
   "id": "6f43604b",
   "metadata": {},
   "outputs": [
    {
     "data": {
      "text/plain": [
       "4"
      ]
     },
     "execution_count": 5,
     "metadata": {},
     "output_type": "execute_result"
    }
   ],
   "source": [
    "list_city = ['Chennai', 'Kolkata', 'Mumbai','Hyderabad']\n",
    "len1 = len(list_city)"
   ]
  },
  {
   "cell_type": "code",
   "execution_count": 9,
   "id": "1a9648f3",
   "metadata": {},
   "outputs": [
    {
     "name": "stdout",
     "output_type": "stream",
     "text": [
      "I like to go to: Chennai\n",
      "I like to go to: Kolkata\n",
      "I like to go to: Mumbai\n",
      "I like to go to: Hyderabad\n"
     ]
    }
   ],
   "source": [
    "for i in range(len(list_city)):\n",
    "    print('I like to go to:', list_city[i])\n",
    "        "
   ]
  },
  {
   "cell_type": "code",
   "execution_count": 13,
   "id": "565e8a5a",
   "metadata": {},
   "outputs": [
    {
     "name": "stdout",
     "output_type": "stream",
     "text": [
      "the number is: 1\n"
     ]
    }
   ],
   "source": [
    "num = [1, 10, 100]\n",
    "\n",
    "for i in num:\n",
    "    if i == 10:\n",
    "        break\n",
    "    print('the number is:', i)\n",
    "else:\n",
    "    print('I have', i, 'days')"
   ]
  },
  {
   "cell_type": "code",
   "execution_count": 16,
   "id": "f5a120ce",
   "metadata": {},
   "outputs": [
    {
     "name": "stdout",
     "output_type": "stream",
     "text": [
      "I have 1 days\n"
     ]
    }
   ],
   "source": [
    "num = [1, 10, 100]\n",
    "\n",
    "for i in num:\n",
    "    if i==10:\n",
    "        break\n",
    "##        print('the number is:', i)\n",
    "    else:\n",
    "        print('I have', i, 'days')"
   ]
  },
  {
   "cell_type": "markdown",
   "id": "42ad2632",
   "metadata": {},
   "source": [
    "## While loop"
   ]
  },
  {
   "cell_type": "code",
   "execution_count": 23,
   "id": "ec0574cf",
   "metadata": {},
   "outputs": [
    {
     "name": "stdout",
     "output_type": "stream",
     "text": [
      "Enter the number: 5\n",
      "The sum of numbers is 10\n"
     ]
    }
   ],
   "source": [
    "num = int(input('Enter the number: '))\n",
    "\n",
    "i = 0\n",
    "sum_var = 0\n",
    "\n",
    "while i < num:\n",
    "    sum_var = sum_var + i\n",
    "    i = i + 1\n",
    "    \n",
    "print(\"The sum of numbers is\", sum_var)"
   ]
  },
  {
   "cell_type": "code",
   "execution_count": 41,
   "id": "d32e3c11",
   "metadata": {},
   "outputs": [
    {
     "name": "stdout",
     "output_type": "stream",
     "text": [
      "enter the value: 3\n",
      "3\n"
     ]
    }
   ],
   "source": [
    "num_var = int(input('enter the value: '))\n",
    "sum1 = 0\n",
    "for i in range(num_var):    ## for loop vs while loop\n",
    "    sum1 = i + sum1\n",
    "##    print(i)\n",
    "print(sum1)\n",
    "    \n",
    "    "
   ]
  },
  {
   "cell_type": "code",
   "execution_count": 27,
   "id": "e0aaacab",
   "metadata": {},
   "outputs": [
    {
     "name": "stdout",
     "output_type": "stream",
     "text": [
      "Enter the number: 3\n",
      "3\n",
      "The sum of numbers is 3\n"
     ]
    }
   ],
   "source": [
    "num = int(input('Enter the number: '))\n",
    "\n",
    "i = 0\n",
    "sum_var = 0\n",
    "\n",
    "while i < num:\n",
    "    sum_var = sum_var + i\n",
    "    i = i + 1\n",
    "else:\n",
    "    print(i)\n",
    "    \n",
    "print(\"The sum of numbers is\", sum_var)"
   ]
  },
  {
   "cell_type": "markdown",
   "id": "12941c4b",
   "metadata": {},
   "source": [
    "## Break and Continue and Pass"
   ]
  },
  {
   "cell_type": "code",
   "execution_count": 28,
   "id": "ebc22e4d",
   "metadata": {},
   "outputs": [
    {
     "name": "stdout",
     "output_type": "stream",
     "text": [
      "C\n",
      "o\n",
      "u\n",
      "n\n",
      "t\n"
     ]
    }
   ],
   "source": [
    "for i in 'Country':\n",
    "    if i == 'r':\n",
    "        break\n",
    "    print(i)"
   ]
  },
  {
   "cell_type": "code",
   "execution_count": 43,
   "id": "299e9721",
   "metadata": {},
   "outputs": [
    {
     "name": "stdout",
     "output_type": "stream",
     "text": [
      "C\n",
      "o\n",
      "n\n",
      "t\n",
      "y\n"
     ]
    }
   ],
   "source": [
    "for i in 'Country':\n",
    "    if i in ['r','u']:\n",
    "        continue\n",
    "    print(i)"
   ]
  },
  {
   "cell_type": "code",
   "execution_count": 34,
   "id": "73a21199",
   "metadata": {},
   "outputs": [],
   "source": [
    "## pass statement explanation\n",
    "list_val = ['p','a','s','s']\n",
    "for i in list_val:\n",
    "    pass   ## add some logic later"
   ]
  },
  {
   "cell_type": "code",
   "execution_count": null,
   "id": "708ba735",
   "metadata": {},
   "outputs": [],
   "source": [
    "list_val = ['p','a','s','s']\n",
    "for i in list_val:\n",
    "    pass "
   ]
  },
  {
   "cell_type": "markdown",
   "id": "fcb2fb3d",
   "metadata": {},
   "source": [
    "## Functions"
   ]
  },
  {
   "cell_type": "code",
   "execution_count": 45,
   "id": "cde38556",
   "metadata": {},
   "outputs": [],
   "source": [
    "def greetings(name):\n",
    "    \"\"\"function to greet someone\"\"\"\n",
    "    print(\"Hello\", name, \"How're you\")\n",
    "\n"
   ]
  },
  {
   "cell_type": "code",
   "execution_count": 46,
   "id": "112a15f9",
   "metadata": {},
   "outputs": [
    {
     "name": "stdout",
     "output_type": "stream",
     "text": [
      "Hello Friends How're you\n"
     ]
    }
   ],
   "source": [
    "greetings('Friends')"
   ]
  },
  {
   "cell_type": "code",
   "execution_count": 48,
   "id": "3ad01b19",
   "metadata": {},
   "outputs": [
    {
     "name": "stdout",
     "output_type": "stream",
     "text": [
      "function to greet someone\n"
     ]
    }
   ],
   "source": [
    "print(greetings.__doc__)"
   ]
  },
  {
   "cell_type": "code",
   "execution_count": 49,
   "id": "4ec2af82",
   "metadata": {},
   "outputs": [
    {
     "name": "stdout",
     "output_type": "stream",
     "text": [
      "9\n"
     ]
    }
   ],
   "source": [
    "def absolute_fun(val_var):\n",
    "    \"\"\"function to generate absolute value\"\"\"\n",
    "    val1=abs(val_var)\n",
    "    print(val1)\n",
    "\n",
    "absolute_fun(-9)\n",
    "    "
   ]
  },
  {
   "cell_type": "code",
   "execution_count": 50,
   "id": "b5742721",
   "metadata": {},
   "outputs": [
    {
     "name": "stdout",
     "output_type": "stream",
     "text": [
      "9\n"
     ]
    }
   ],
   "source": [
    "def absolute_fun(val_var):\n",
    "    \"\"\"function to generate absolute value\"\"\"\n",
    "    if val_var > 0:\n",
    "        print(val_var) \n",
    "    else:\n",
    "        val_var = val_var * -1\n",
    "        print(val_var)\n",
    "\n",
    "absolute_fun(-9)"
   ]
  },
  {
   "cell_type": "code",
   "execution_count": 51,
   "id": "0ec66e1b",
   "metadata": {},
   "outputs": [
    {
     "data": {
      "text/plain": [
       "9"
      ]
     },
     "execution_count": 51,
     "metadata": {},
     "output_type": "execute_result"
    }
   ],
   "source": [
    "def absolute_fun(val_var):\n",
    "    \"\"\"function to generate absolute value\"\"\"\n",
    "    if val_var > 0:\n",
    "        return val_var \n",
    "    else:\n",
    "        val_var = val_var * -1\n",
    "        return val_var\n",
    "\n",
    "absolute_fun(-9)"
   ]
  },
  {
   "cell_type": "code",
   "execution_count": 53,
   "id": "accce1e0",
   "metadata": {},
   "outputs": [
    {
     "data": {
      "text/plain": [
       "9"
      ]
     },
     "execution_count": 53,
     "metadata": {},
     "output_type": "execute_result"
    }
   ],
   "source": [
    "def absolute_fun(val_var):\n",
    "    \"\"\"function to generate absolute value\"\"\"\n",
    "    if val_var > 0:\n",
    "        return val_var \n",
    "    else:\n",
    "        return -val_var\n",
    "\n",
    "absolute_fun(-9)"
   ]
  },
  {
   "cell_type": "code",
   "execution_count": 57,
   "id": "c85fd4d1",
   "metadata": {},
   "outputs": [
    {
     "data": {
      "text/plain": [
       "' '"
      ]
     },
     "execution_count": 57,
     "metadata": {},
     "output_type": "execute_result"
    }
   ],
   "source": [
    "def absolute_fun(val_var):\n",
    "    \"\"\"function to generate absolute value\"\"\"\n",
    "    len1 = len(val_var)\n",
    "    if len1 > 0:\n",
    "        return val_var \n",
    "    else:\n",
    "        return -val_var\n",
    "\n",
    "absolute_fun(' ')"
   ]
  },
  {
   "cell_type": "markdown",
   "id": "1c35cb65",
   "metadata": {},
   "source": [
    "## Local variables and Global variables inside and outside functions "
   ]
  },
  {
   "cell_type": "code",
   "execution_count": 58,
   "id": "3a17518e",
   "metadata": {},
   "outputs": [
    {
     "name": "stdout",
     "output_type": "stream",
     "text": [
      "Inside the function  10\n",
      "Outside the function 20\n"
     ]
    }
   ],
   "source": [
    "def func():\n",
    "    a = 10  ## local variable\n",
    "    print('Inside the function ', a)\n",
    "    \n",
    "a = 20   ## Global variable\n",
    "func()\n",
    "\n",
    "print('Outside the function', a)"
   ]
  },
  {
   "cell_type": "code",
   "execution_count": 95,
   "id": "581ebc2f",
   "metadata": {},
   "outputs": [
    {
     "name": "stdout",
     "output_type": "stream",
     "text": [
      "Inside the function  10\n"
     ]
    },
    {
     "ename": "NameError",
     "evalue": "name 'b' is not defined",
     "output_type": "error",
     "traceback": [
      "\u001b[1;31m---------------------------------------------------------------------------\u001b[0m",
      "\u001b[1;31mNameError\u001b[0m                                 Traceback (most recent call last)",
      "\u001b[1;32m~\\AppData\\Local\\Temp/ipykernel_20988/1531041514.py\u001b[0m in \u001b[0;36m<module>\u001b[1;34m\u001b[0m\n\u001b[0;32m      7\u001b[0m \u001b[0mfunc\u001b[0m\u001b[1;33m(\u001b[0m\u001b[1;33m)\u001b[0m\u001b[1;33m\u001b[0m\u001b[1;33m\u001b[0m\u001b[0m\n\u001b[0;32m      8\u001b[0m \u001b[1;33m\u001b[0m\u001b[0m\n\u001b[1;32m----> 9\u001b[1;33m \u001b[0mprint\u001b[0m\u001b[1;33m(\u001b[0m\u001b[1;34m'Outside the function'\u001b[0m\u001b[1;33m,\u001b[0m \u001b[0ma\u001b[0m\u001b[1;33m,\u001b[0m\u001b[0mb\u001b[0m\u001b[1;33m)\u001b[0m\u001b[1;33m\u001b[0m\u001b[1;33m\u001b[0m\u001b[0m\n\u001b[0m",
      "\u001b[1;31mNameError\u001b[0m: name 'b' is not defined"
     ]
    }
   ],
   "source": [
    "def func():\n",
    "    a = 10  ## local variable\n",
    "    b = 30\n",
    "    print('Inside the function ', a)\n",
    "    \n",
    "a = 20   ## Global variable\n",
    "func()\n",
    "\n",
    "print('Outside the function', a,b)"
   ]
  },
  {
   "cell_type": "markdown",
   "id": "22a0fd33",
   "metadata": {},
   "source": [
    "## Function arguments\n"
   ]
  },
  {
   "cell_type": "markdown",
   "id": "cbc83ef2",
   "metadata": {},
   "source": [
    "### positional argument in functions"
   ]
  },
  {
   "cell_type": "code",
   "execution_count": 60,
   "id": "c6b15e75",
   "metadata": {},
   "outputs": [],
   "source": [
    "def greet(arg1,arg2):\n",
    "    \"\"\"function with arguments\"\"\"\n",
    "    print(arg1, arg2, 'everyone')"
   ]
  },
  {
   "cell_type": "code",
   "execution_count": 68,
   "id": "bae102b0",
   "metadata": {},
   "outputs": [
    {
     "name": "stdout",
     "output_type": "stream",
     "text": [
      "Hi, Good Morning everyone\n"
     ]
    }
   ],
   "source": [
    "greet('Hi, Good','Morning')"
   ]
  },
  {
   "cell_type": "code",
   "execution_count": 70,
   "id": "ac8f710b",
   "metadata": {},
   "outputs": [
    {
     "name": "stdout",
     "output_type": "stream",
     "text": [
      "Hi, Good   everyone\n"
     ]
    }
   ],
   "source": [
    "greet('Hi, Good',' ')"
   ]
  },
  {
   "cell_type": "code",
   "execution_count": 71,
   "id": "f7c1da1d",
   "metadata": {},
   "outputs": [
    {
     "ename": "TypeError",
     "evalue": "greet() missing 1 required positional argument: 'arg2'",
     "output_type": "error",
     "traceback": [
      "\u001b[1;31m---------------------------------------------------------------------------\u001b[0m",
      "\u001b[1;31mTypeError\u001b[0m                                 Traceback (most recent call last)",
      "\u001b[1;32m~\\AppData\\Local\\Temp/ipykernel_20988/995577882.py\u001b[0m in \u001b[0;36m<module>\u001b[1;34m\u001b[0m\n\u001b[1;32m----> 1\u001b[1;33m \u001b[0mgreet\u001b[0m\u001b[1;33m(\u001b[0m\u001b[1;34m'Hi, Good'\u001b[0m\u001b[1;33m)\u001b[0m\u001b[1;33m\u001b[0m\u001b[1;33m\u001b[0m\u001b[0m\n\u001b[0m",
      "\u001b[1;31mTypeError\u001b[0m: greet() missing 1 required positional argument: 'arg2'"
     ]
    }
   ],
   "source": [
    "greet('Hi, Good')"
   ]
  },
  {
   "cell_type": "markdown",
   "id": "3dc6f228",
   "metadata": {},
   "source": [
    "### Default arguements in functions"
   ]
  },
  {
   "cell_type": "code",
   "execution_count": 72,
   "id": "3cccf263",
   "metadata": {},
   "outputs": [],
   "source": [
    "def greet(arg1, arg2 = 'Morning'):\n",
    "    \"\"\"Greet to everyone\"\"\"\n",
    "    print(arg1,arg2,'Everyone')\n",
    "    "
   ]
  },
  {
   "cell_type": "code",
   "execution_count": 74,
   "id": "39b2ff55",
   "metadata": {},
   "outputs": [
    {
     "name": "stdout",
     "output_type": "stream",
     "text": [
      "Hi, Good Morning Everyone\n"
     ]
    }
   ],
   "source": [
    "greet('Hi, Good')"
   ]
  },
  {
   "cell_type": "code",
   "execution_count": 75,
   "id": "77f4a5e9",
   "metadata": {},
   "outputs": [
    {
     "name": "stdout",
     "output_type": "stream",
     "text": [
      "Hi, Good Evening Everyone\n"
     ]
    }
   ],
   "source": [
    "greet('Hi, Good', 'Evening')"
   ]
  },
  {
   "cell_type": "code",
   "execution_count": 78,
   "id": "8b042d24",
   "metadata": {},
   "outputs": [
    {
     "ename": "SyntaxError",
     "evalue": "non-default argument follows default argument (Temp/ipykernel_20988/3829680925.py, line 1)",
     "output_type": "error",
     "traceback": [
      "\u001b[1;36m  File \u001b[1;32m\"C:\\Users\\kalya\\AppData\\Local\\Temp/ipykernel_20988/3829680925.py\"\u001b[1;36m, line \u001b[1;32m1\u001b[0m\n\u001b[1;33m    def greet(arg2 = 'Morning',arg1):  ## we can't have default arguments first instead po\u001b[0m\n\u001b[1;37m                                   ^\u001b[0m\n\u001b[1;31mSyntaxError\u001b[0m\u001b[1;31m:\u001b[0m non-default argument follows default argument\n"
     ]
    }
   ],
   "source": [
    "def greet(arg2 = 'Morning',arg1):  ## we can't have default arguments first instead po\n",
    "    print(\"Hello\", arg1, arg2)\n"
   ]
  },
  {
   "cell_type": "markdown",
   "id": "d5349ac6",
   "metadata": {},
   "source": [
    "## Keyword arguments"
   ]
  },
  {
   "cell_type": "code",
   "execution_count": 89,
   "id": "835cc56b",
   "metadata": {},
   "outputs": [
    {
     "name": "stdout",
     "output_type": "stream",
     "text": [
      "Hi Everyone Everyone\n",
      "Hi Everyone Everyone\n",
      "Hi Everyone Everyone\n",
      "Hi Everyone Everyone\n",
      "Hi Everyone Everyone\n"
     ]
    },
    {
     "ename": "TypeError",
     "evalue": "greet() got an unexpected keyword argument 'a1'",
     "output_type": "error",
     "traceback": [
      "\u001b[1;31m---------------------------------------------------------------------------\u001b[0m",
      "\u001b[1;31mTypeError\u001b[0m                                 Traceback (most recent call last)",
      "\u001b[1;32m~\\AppData\\Local\\Temp/ipykernel_20988/4129349127.py\u001b[0m in \u001b[0;36m<module>\u001b[1;34m\u001b[0m\n\u001b[0;32m      4\u001b[0m \u001b[0mgreet\u001b[0m\u001b[1;33m(\u001b[0m\u001b[0marg2\u001b[0m \u001b[1;33m=\u001b[0m \u001b[1;34m'Everyone'\u001b[0m\u001b[1;33m,\u001b[0m \u001b[0marg1\u001b[0m \u001b[1;33m=\u001b[0m \u001b[1;34m'Hi'\u001b[0m\u001b[1;33m)\u001b[0m\u001b[1;33m\u001b[0m\u001b[1;33m\u001b[0m\u001b[0m\n\u001b[0;32m      5\u001b[0m \u001b[0mgreet\u001b[0m\u001b[1;33m(\u001b[0m\u001b[1;34m'Hi'\u001b[0m\u001b[1;33m,\u001b[0m \u001b[0marg2\u001b[0m \u001b[1;33m=\u001b[0m \u001b[1;34m'Everyone'\u001b[0m\u001b[1;33m)\u001b[0m\u001b[1;33m\u001b[0m\u001b[1;33m\u001b[0m\u001b[0m\n\u001b[1;32m----> 6\u001b[1;33m \u001b[0mgreet\u001b[0m\u001b[1;33m(\u001b[0m\u001b[0ma1\u001b[0m \u001b[1;33m=\u001b[0m \u001b[1;34m'Hi'\u001b[0m\u001b[1;33m,\u001b[0m \u001b[0ma2\u001b[0m \u001b[1;33m=\u001b[0m \u001b[1;34m'Everyone'\u001b[0m\u001b[1;33m)\u001b[0m  \u001b[1;31m## this won't work, because when you use keyword arguements - argument names should be same in the called and calling function\u001b[0m\u001b[1;33m\u001b[0m\u001b[1;33m\u001b[0m\u001b[0m\n\u001b[0m",
      "\u001b[1;31mTypeError\u001b[0m: greet() got an unexpected keyword argument 'a1'"
     ]
    }
   ],
   "source": [
    "greet(arg1 = 'Hi', arg2 = 'Everyone')\n",
    "greet(arg1 = 'Hi', arg2 = 'Everyone')\n",
    "greet(arg2 = 'Everyone', arg1 = 'Hi')\n",
    "greet(arg2 = 'Everyone', arg1 = 'Hi')\n",
    "greet('Hi', arg2 = 'Everyone')\n",
    "greet(a1 = 'Hi', a2 = 'Everyone')  ## this won't work, because when you use keyword arguements - argument names should be same in the called and calling function\n"
   ]
  },
  {
   "cell_type": "code",
   "execution_count": 91,
   "id": "72db2728",
   "metadata": {},
   "outputs": [
    {
     "name": "stdout",
     "output_type": "stream",
     "text": [
      "Hi Everyone Everyone\n"
     ]
    }
   ],
   "source": [
    "a1 = 'Hi'\n",
    "a2 = 'Everyone'\n",
    "greet(a1,a2)\n"
   ]
  },
  {
   "cell_type": "code",
   "execution_count": 96,
   "id": "efe0c08e",
   "metadata": {},
   "outputs": [
    {
     "ename": "SyntaxError",
     "evalue": "positional argument follows keyword argument (Temp/ipykernel_20988/2118644564.py, line 2)",
     "output_type": "error",
     "traceback": [
      "\u001b[1;36m  File \u001b[1;32m\"C:\\Users\\kalya\\AppData\\Local\\Temp/ipykernel_20988/2118644564.py\"\u001b[1;36m, line \u001b[1;32m2\u001b[0m\n\u001b[1;33m    greet(arg2 = 'Hi', arg1)   ## arg1 is expecting value in the calling function\u001b[0m\n\u001b[1;37m                           ^\u001b[0m\n\u001b[1;31mSyntaxError\u001b[0m\u001b[1;31m:\u001b[0m positional argument follows keyword argument\n"
     ]
    }
   ],
   "source": [
    "arg1 = 'everyone'\n",
    "greet(arg2 = 'Hi', arg1)   ## arg1 is expecting value in the calling function"
   ]
  },
  {
   "cell_type": "markdown",
   "id": "c67bae58",
   "metadata": {},
   "source": [
    "## Function Recursion "
   ]
  },
  {
   "cell_type": "code",
   "execution_count": 99,
   "id": "7f32f44b",
   "metadata": {},
   "outputs": [],
   "source": [
    "def fun1():\n",
    "    print('hi')  ## statement\n",
    "    "
   ]
  },
  {
   "cell_type": "code",
   "execution_count": 98,
   "id": "c8977b58",
   "metadata": {},
   "outputs": [
    {
     "name": "stdout",
     "output_type": "stream",
     "text": [
      "hi\n"
     ]
    }
   ],
   "source": [
    "fun1()"
   ]
  },
  {
   "cell_type": "code",
   "execution_count": null,
   "id": "9f280fce",
   "metadata": {},
   "outputs": [],
   "source": [
    "def fun1():\n",
    "    print('hi')\n",
    "    fun1()\n",
    "    fun2()"
   ]
  },
  {
   "cell_type": "code",
   "execution_count": null,
   "id": "8e3977d0",
   "metadata": {},
   "outputs": [],
   "source": [
    "# factorial of a number\n",
    "# 5 factoria is : 5 * 4 * 3 * 2 * 1 = 120"
   ]
  },
  {
   "cell_type": "code",
   "execution_count": 105,
   "id": "9bfec7e6",
   "metadata": {},
   "outputs": [
    {
     "name": "stdout",
     "output_type": "stream",
     "text": [
      "enter the value : 3\n",
      "Factorial of :  3 is 6\n"
     ]
    }
   ],
   "source": [
    "def recursion(x):\n",
    "    if x == 1:\n",
    "        return x\n",
    "    else:\n",
    "        return (x * recursion(x-1))\n",
    "num = int(input('enter the value : '))\n",
    "print(\"Factorial of : \", num, 'is', recursion(num))"
   ]
  },
  {
   "cell_type": "code",
   "execution_count": 119,
   "id": "5a74fc25",
   "metadata": {},
   "outputs": [
    {
     "name": "stdout",
     "output_type": "stream",
     "text": [
      "Enter a number: 5\n",
      "The factorial of 5 is 120\n"
     ]
    }
   ],
   "source": [
    "# above same function recusion has done below using for loop\n",
    "# factorial of a number provided by us using for loop.\n",
    "\n",
    "# change the value for a different result\n",
    "#num = 7\n",
    "\n",
    "# To take input from the user\n",
    "num = int(input(\"Enter a number: \"))\n",
    "\n",
    "factorial = 1\n",
    "\n",
    "# check if the number is negative, positive or zero\n",
    "if num < 0:\n",
    "   print(\"Sorry, factorial does not exist for negative numbers\")\n",
    "elif num == 0:\n",
    "   print(\"The factorial of 0 is 1\")\n",
    "else:\n",
    "   for i in range(1,num + 1):\n",
    "       factorial = factorial*i\n",
    "print(\"The factorial of\",num,\"is\",factorial)"
   ]
  },
  {
   "cell_type": "markdown",
   "id": "496a9016",
   "metadata": {},
   "source": [
    "## Lambda - (Anonymous) Function"
   ]
  },
  {
   "cell_type": "code",
   "execution_count": 122,
   "id": "29fc5f9e",
   "metadata": {},
   "outputs": [
    {
     "data": {
      "text/plain": [
       "8"
      ]
     },
     "execution_count": 122,
     "metadata": {},
     "output_type": "execute_result"
    }
   ],
   "source": [
    "cube = lambda x : x * x * x\n",
    "cube(2)"
   ]
  },
  {
   "cell_type": "code",
   "execution_count": 125,
   "id": "86eca5f9",
   "metadata": {},
   "outputs": [
    {
     "data": {
      "text/plain": [
       "33.0"
      ]
     },
     "execution_count": 125,
     "metadata": {},
     "output_type": "execute_result"
    }
   ],
   "source": [
    "cube = lambda x, y, z : x * y * z \n",
    "float(cube(2,3,4))"
   ]
  },
  {
   "cell_type": "markdown",
   "id": "9e6e44b3",
   "metadata": {},
   "source": [
    "## Filter and Map operations"
   ]
  },
  {
   "cell_type": "markdown",
   "id": "466135f5",
   "metadata": {},
   "source": [
    "## Filter "
   ]
  },
  {
   "cell_type": "code",
   "execution_count": 149,
   "id": "51c8f6f9",
   "metadata": {},
   "outputs": [],
   "source": [
    "## Filter takes in a function and list of argument/dictionary\n",
    "## The function is called with the items in the list, and a new list is returned and \n",
    "##      that containing the items for which the function evaluates to True"
   ]
  },
  {
   "cell_type": "code",
   "execution_count": 132,
   "id": "dba04880",
   "metadata": {},
   "outputs": [
    {
     "name": "stdout",
     "output_type": "stream",
     "text": [
      "[0, 1, 2, 3, 4, 5, 6, 7, 8, 9, 10, 11, 12, 13, 14, 15, 16, 17, 18, 19]\n"
     ]
    }
   ],
   "source": [
    "my_list = list(range(20))\n",
    "print(my_list)"
   ]
  },
  {
   "cell_type": "code",
   "execution_count": 133,
   "id": "22d02f24",
   "metadata": {},
   "outputs": [
    {
     "name": "stdout",
     "output_type": "stream",
     "text": [
      "Applying the filter operation:  [0, 2, 4, 6, 8, 10, 12, 14, 16, 18]\n"
     ]
    }
   ],
   "source": [
    "filt1 = list(filter(lambda x : x % 2 == 0, my_list))\n",
    "print(\"Applying the filter operation: \", filt1)"
   ]
  },
  {
   "cell_type": "markdown",
   "id": "23ffd2fa",
   "metadata": {},
   "source": [
    "## Map Function"
   ]
  },
  {
   "cell_type": "code",
   "execution_count": 150,
   "id": "5e568a69",
   "metadata": {},
   "outputs": [],
   "source": [
    "## Map takes in a function and a list of argument/dictionary\n",
    "## Every items in the list will be returned based on the function that we're performing"
   ]
  },
  {
   "cell_type": "code",
   "execution_count": 135,
   "id": "80f607ae",
   "metadata": {},
   "outputs": [
    {
     "name": "stdout",
     "output_type": "stream",
     "text": [
      "[2, 10, 8, 12, 16, 22, 6, 24]\n"
     ]
    }
   ],
   "source": [
    "my_list = [1, 5, 4, 6, 8, 11, 3, 12]\n",
    "new_list = list(map(lambda x: x*2, my_list))\n",
    "print(new_list)"
   ]
  },
  {
   "cell_type": "code",
   "execution_count": 138,
   "id": "a6527b5a",
   "metadata": {},
   "outputs": [
    {
     "name": "stdout",
     "output_type": "stream",
     "text": [
      "[1, 1, 0, 0, 0, 1, 1, 0]\n"
     ]
    }
   ],
   "source": [
    "my_list = [1, 5, 4, 6, 8, 11, 3, 12]\n",
    "new_list = list(map(lambda x: x%2, my_list))\n",
    "print(new_list)"
   ]
  },
  {
   "cell_type": "code",
   "execution_count": 137,
   "id": "6467ac77",
   "metadata": {},
   "outputs": [
    {
     "name": "stdout",
     "output_type": "stream",
     "text": [
      "[False, False, True, True, True, False, False, True]\n"
     ]
    }
   ],
   "source": [
    "my_list = [1, 5, 4, 6, 8, 11, 3, 12]\n",
    "new_list = list(map(lambda x: x%2 == 0, my_list))\n",
    "print(new_list)"
   ]
  },
  {
   "cell_type": "code",
   "execution_count": 139,
   "id": "6a958020",
   "metadata": {},
   "outputs": [
    {
     "name": "stdout",
     "output_type": "stream",
     "text": [
      "Applying the filter operation:  [1, 5, 4, 6, 8, 11, 3, 12]\n"
     ]
    }
   ],
   "source": [
    "filt1 = list(filter(lambda x : x * 2, my_list))   ## map vs filter\n",
    "print(\"Applying the filter operation: \", filt1)"
   ]
  },
  {
   "cell_type": "code",
   "execution_count": 157,
   "id": "6f17ab11",
   "metadata": {},
   "outputs": [
    {
     "name": "stdout",
     "output_type": "stream",
     "text": [
      "[20, 30, 40, 50]\n"
     ]
    }
   ],
   "source": [
    "my_dict = {10: 'B', 20: 'A', 30: 'A', 40: 'B', 50: 'A'}  \n",
    "filt1 = list((filter(lambda x : x > 10,my_dict)))\n",
    "print(filt1)"
   ]
  },
  {
   "cell_type": "code",
   "execution_count": 152,
   "id": "52ebec64",
   "metadata": {},
   "outputs": [
    {
     "name": "stdout",
     "output_type": "stream",
     "text": [
      "['a', 'e']\n"
     ]
    }
   ],
   "source": [
    "def fun(var):\n",
    "    letters = ['a', 'e', 'i', 'o', 'u']\n",
    "    if var in letters:\n",
    "        return True\n",
    "    else:\n",
    "        return False\n",
    "    \n",
    "seq = ['a', 'b', 'c', 'd', 'e']\n",
    "fil = list(filter(fun,seq))\n",
    "print(fil)"
   ]
  },
  {
   "cell_type": "code",
   "execution_count": null,
   "id": "89316abf",
   "metadata": {},
   "outputs": [],
   "source": []
  },
  {
   "cell_type": "code",
   "execution_count": null,
   "id": "0ac680ad",
   "metadata": {},
   "outputs": [],
   "source": []
  },
  {
   "cell_type": "code",
   "execution_count": null,
   "id": "44ab3e3c",
   "metadata": {},
   "outputs": [],
   "source": []
  },
  {
   "cell_type": "code",
   "execution_count": null,
   "id": "a8d5a70f",
   "metadata": {},
   "outputs": [],
   "source": []
  },
  {
   "cell_type": "code",
   "execution_count": null,
   "id": "d5d78301",
   "metadata": {},
   "outputs": [],
   "source": []
  },
  {
   "cell_type": "code",
   "execution_count": null,
   "id": "d8a5c575",
   "metadata": {},
   "outputs": [],
   "source": []
  },
  {
   "cell_type": "code",
   "execution_count": null,
   "id": "1042e809",
   "metadata": {},
   "outputs": [],
   "source": []
  },
  {
   "cell_type": "code",
   "execution_count": null,
   "id": "94cca560",
   "metadata": {},
   "outputs": [],
   "source": []
  }
 ],
 "metadata": {
  "kernelspec": {
   "display_name": "Python 3 (ipykernel)",
   "language": "python",
   "name": "python3"
  },
  "language_info": {
   "codemirror_mode": {
    "name": "ipython",
    "version": 3
   },
   "file_extension": ".py",
   "mimetype": "text/x-python",
   "name": "python",
   "nbconvert_exporter": "python",
   "pygments_lexer": "ipython3",
   "version": "3.9.7"
  }
 },
 "nbformat": 4,
 "nbformat_minor": 5
}
