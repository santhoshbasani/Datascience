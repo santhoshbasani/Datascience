{
 "cells": [
  {
   "cell_type": "markdown",
   "id": "ac2dd1b4",
   "metadata": {},
   "source": [
    "## Week3 - Assignment for the classes 02/26 and 02/27"
   ]
  },
  {
   "cell_type": "markdown",
   "id": "8f25aa9d",
   "metadata": {},
   "source": [
    "### 1.\tCreate a file calc.py which has following functions\n",
    "a.\tFunction to find the factorial of a number\n",
    "\n",
    "b.\tFunction to convert degree to Fahrenheit\n",
    "\n",
    "Write a new program in file “maths.py” such that you import functions of the file calc.py to your new program. Use from <module> import <functions> statement to import the functions from the calc module\n"
   ]
  },
  {
   "cell_type": "code",
   "execution_count": 136,
   "id": "b8f6256d",
   "metadata": {},
   "outputs": [],
   "source": [
    "from fact_Fahr_cal import fact_Fahr_cal_pkg"
   ]
  },
  {
   "cell_type": "code",
   "execution_count": 237,
   "id": "34ce20af",
   "metadata": {},
   "outputs": [
    {
     "name": "stdout",
     "output_type": "stream",
     "text": [
      "Enter the value for factorial : 6\n",
      "this function is to calculate the factorial of a number\n",
      "factorial of a number 6 is : 720\n",
      "Enter degree value to convert into fahrenheit : 55\n",
      "this function is to convert from celcius to fahrenheit for the given number\n",
      "conversion of a number 55 is : 131.0\n"
     ]
    }
   ],
   "source": [
    "# factorial of a given number\n",
    "\n",
    "a = int(input('Enter the value for factorial : '))\n",
    "print(fact_func.__doc__)\n",
    "print('factorial of a number', a, 'is :', fact_func(a))\n",
    "\n",
    "a = int(input('Enter degree value to convert into fahrenheit : '))\n",
    "print(fahr_func.__doc__)\n",
    "print('conversion of a number', a, 'is :', fahr_func(a))"
   ]
  },
  {
   "cell_type": "markdown",
   "id": "28517b4b",
   "metadata": {},
   "source": [
    "### 2.\tImplement a simple generator for Fibonacci series "
   ]
  },
  {
   "cell_type": "code",
   "execution_count": 225,
   "id": "59d403b2",
   "metadata": {},
   "outputs": [],
   "source": [
    "def generator_func1(a):\n",
    "    '''Get the fibanocci series for the given value'''\n",
    "    i = 0\n",
    "    j = 1\n",
    "    if a == 0:\n",
    "        j = a\n",
    "        print('accept the value greater than 0')\n",
    "        yield j\n",
    "    else:\n",
    "        if a == 1:\n",
    "            j = i\n",
    "            yield j\n",
    "        else:\n",
    "            for b in range(2,a+1):\n",
    "                if b == 2:\n",
    "                    print(i)\n",
    "                k = i + j\n",
    "                i = j\n",
    "                j = k\n",
    "                yield j     "
   ]
  },
  {
   "cell_type": "code",
   "execution_count": 230,
   "id": "1b6c0d14",
   "metadata": {},
   "outputs": [
    {
     "name": "stdout",
     "output_type": "stream",
     "text": [
      "Enter the value for factorial : 9\n",
      "0\n",
      "1\n",
      "2\n",
      "3\n",
      "5\n",
      "8\n",
      "13\n",
      "21\n",
      "34\n"
     ]
    }
   ],
   "source": [
    "a = int(input('Enter the value for factorial : '))\n",
    "fib = generator_func1(a)\n",
    "if a > 2:\n",
    "    for i in range(a-1):\n",
    "        print(next(fib))\n",
    "else:\n",
    "    print(next(fib))"
   ]
  },
  {
   "cell_type": "markdown",
   "id": "d98ad38b",
   "metadata": {},
   "source": [
    "### 3.\tWrite an iterator class to iterate over a sequence of values in the reverse direction"
   ]
  },
  {
   "cell_type": "code",
   "execution_count": 233,
   "id": "7ab2a4e2",
   "metadata": {},
   "outputs": [],
   "source": [
    "def gen_rev(arg1):\n",
    "    a = ''\n",
    "    len1 = len(arg1)\n",
    "    for i in range(len1-1,-1,-1):\n",
    "        a = a + arg1[i]\n",
    "    my_iter = iter(a)\n",
    "    print(a)\n",
    "    for i in range(len1):\n",
    "        print(next(my_iter))     \n"
   ]
  },
  {
   "cell_type": "code",
   "execution_count": 234,
   "id": "02e860c3",
   "metadata": {
    "scrolled": true
   },
   "outputs": [
    {
     "name": "stdout",
     "output_type": "stream",
     "text": [
      "HSOHTNAS\n",
      "H\n",
      "S\n",
      "O\n",
      "H\n",
      "T\n",
      "N\n",
      "A\n",
      "S\n"
     ]
    }
   ],
   "source": [
    "rev = gen_rev('SANTHOSH')"
   ]
  },
  {
   "cell_type": "markdown",
   "id": "49a1dbed",
   "metadata": {},
   "source": [
    "### 4.\tWrite a function “salary” that takes in base pay, HRA and special allowance as arguments and \n",
    "### returns the sum of all the 3 salary elements. Then create a decorator function to add an additional element \n",
    "### “Tax” (30% of base pay) and assign it back to base pay variable, and return the function \n",
    "### (i.e., the final calculation of salary also includes tax)"
   ]
  },
  {
   "cell_type": "markdown",
   "id": "a7525ce5",
   "metadata": {},
   "source": [
    "### Method - 1"
   ]
  },
  {
   "cell_type": "code",
   "execution_count": 25,
   "id": "7d562f65",
   "metadata": {},
   "outputs": [],
   "source": [
    "def decorating_fn(fn):\n",
    "    def nested_fn(base_pay,hra,sp_allow):   ## decorating function\n",
    "        tax = 0\n",
    "        \n",
    "        print(\"Base Pay : \", base_pay, ' HRA : ', hra, ' special allownce : ', sp_allow)\n",
    "        print(' ')\n",
    "        \n",
    "        tax = (base_pay * 30)/100\n",
    "                \n",
    "        return fn(base_pay,hra,sp_allow), tax\n",
    "    return nested_fn"
   ]
  },
  {
   "cell_type": "code",
   "execution_count": 26,
   "id": "49c15b9e",
   "metadata": {},
   "outputs": [],
   "source": [
    "@decorating_fn   ### place the decorating function on top of the fn that needs to be decorated\n",
    "def ordinary_fn(base_pay,hra,sp_allow):\n",
    "    return (base_pay + hra + sp_allow)"
   ]
  },
  {
   "cell_type": "code",
   "execution_count": 27,
   "id": "6777fa21",
   "metadata": {},
   "outputs": [
    {
     "name": "stdout",
     "output_type": "stream",
     "text": [
      "Enter the amount for BASIC Pay : 25000\n",
      "Enter the amount for HRA : 30000\n",
      "Enter the amount for Special allowances : 200\n",
      " \n",
      "Base Pay :  25000  HRA :  30000  special allownce :  200\n",
      " \n",
      "Total salary of an employee is :  55200 \n",
      "\n",
      "Net Salary after tax deduction is :  47700.0 \n",
      "\n",
      "tax deducted on the total salary is :  7500.0\n"
     ]
    }
   ],
   "source": [
    "base_pay = int(input('Enter the amount for BASIC Pay : '))\n",
    "hra      = int(input('Enter the amount for HRA : '))\n",
    "sp_allow = int(input('Enter the amount for Special allowances : '))\n",
    "print(' ')\n",
    "\n",
    "if (base_pay == 0 & hra == 0):\n",
    "    print('Invalid salary amount received')\n",
    "else: \n",
    "    tot_sal, tax_ded = ordinary_fn(base_pay, hra, sp_allow)\n",
    "    print('Total salary of an employee is : ', tot_sal,'\\n')\n",
    "    print('Net Salary after tax deduction is : ', tot_sal - tax_ded ,'\\n')\n",
    "    print('tax deducted on the total salary is : ', tax_ded)"
   ]
  },
  {
   "cell_type": "markdown",
   "id": "950d8687",
   "metadata": {},
   "source": [
    "### Method - 2"
   ]
  },
  {
   "cell_type": "code",
   "execution_count": 23,
   "id": "dd5b6a8a",
   "metadata": {},
   "outputs": [
    {
     "name": "stdout",
     "output_type": "stream",
     "text": [
      "Enter the amount for BASIC Pay : 2500\n",
      "Enter the amount for HRA : 1000\n",
      "Enter the amount for Special allowances : 200\n",
      " \n",
      "Total salary of an employee is :  3700\n",
      "Net Salary after tax deduction is :  2950.0 \n",
      "\n",
      "tax deducted on the total salary is :  750.0\n"
     ]
    }
   ],
   "source": [
    "def decorating_fun(fn):                    ##  #---> 3\n",
    "    def nested_fn(base_pay,hra,sp_allow):\n",
    "        tot_sal = 0\n",
    "        tot_sal = fn(base_pay,hra,sp_allow)\n",
    "        tax = (base_pay*30)/100             ##  #---> 5\n",
    "        return tot_sal, tax\n",
    "    return nested_fn                       ##  #---> 4\n",
    "\n",
    "def ordinary_fn(base_pay,hra,sp_allow):\n",
    "    return (base_pay + hra + sp_allow)\n",
    "    \n",
    "dec = decorating_fun(ordinary_fn)          ##  #---> 2\n",
    "\n",
    "a = int(input('Enter the amount for BASIC Pay : '))\n",
    "b = int(input('Enter the amount for HRA : '))\n",
    "c = int(input('Enter the amount for Special allowances : '))\n",
    "print(' ')\n",
    "\n",
    "tot_sal,tax_ded = dec(a,b,c)\n",
    "\n",
    "print('Total salary of an employee is : ', tot_sal)\n",
    "print('Net Salary after tax deduction is : ', tot_sal - tax_ded ,'\\n')\n",
    "print('tax deducted on the total salary is : ', tax_ded)"
   ]
  },
  {
   "cell_type": "markdown",
   "id": "5d86bb0f",
   "metadata": {},
   "source": [
    "### 5.\tWrite 3 examples on possible methods to changing a tuple"
   ]
  },
  {
   "cell_type": "code",
   "execution_count": 93,
   "id": "61dfaae3",
   "metadata": {},
   "outputs": [],
   "source": [
    "tup1 = ('sant', 'imran', 'raj', [3,4,5])"
   ]
  },
  {
   "cell_type": "code",
   "execution_count": 94,
   "id": "671268e4",
   "metadata": {},
   "outputs": [
    {
     "ename": "TypeError",
     "evalue": "'tuple' object does not support item assignment",
     "output_type": "error",
     "traceback": [
      "\u001b[1;31m---------------------------------------------------------------------------\u001b[0m",
      "\u001b[1;31mTypeError\u001b[0m                                 Traceback (most recent call last)",
      "\u001b[1;32m~\\AppData\\Local\\Temp/ipykernel_9792/528722130.py\u001b[0m in \u001b[0;36m<module>\u001b[1;34m\u001b[0m\n\u001b[1;32m----> 1\u001b[1;33m \u001b[0mtup1\u001b[0m\u001b[1;33m[\u001b[0m\u001b[1;36m1\u001b[0m\u001b[1;33m]\u001b[0m \u001b[1;33m=\u001b[0m \u001b[1;34m'Imran M'\u001b[0m\u001b[1;33m\u001b[0m\u001b[1;33m\u001b[0m\u001b[0m\n\u001b[0m",
      "\u001b[1;31mTypeError\u001b[0m: 'tuple' object does not support item assignment"
     ]
    }
   ],
   "source": [
    "tup1[1] = 'Imran M'"
   ]
  },
  {
   "cell_type": "markdown",
   "id": "f93a0385",
   "metadata": {},
   "source": [
    "### Example 1 to update the tuple"
   ]
  },
  {
   "cell_type": "code",
   "execution_count": 95,
   "id": "5be2a74e",
   "metadata": {},
   "outputs": [],
   "source": [
    "tup1[3][1] = 11"
   ]
  },
  {
   "cell_type": "code",
   "execution_count": 96,
   "id": "31882332",
   "metadata": {},
   "outputs": [
    {
     "data": {
      "text/plain": [
       "('sant', 'imran', 'raj', [3, 11, 5])"
      ]
     },
     "execution_count": 96,
     "metadata": {},
     "output_type": "execute_result"
    }
   ],
   "source": [
    "tup1"
   ]
  },
  {
   "cell_type": "markdown",
   "id": "10ee3e20",
   "metadata": {},
   "source": [
    "### Example 2 to update the tuple"
   ]
  },
  {
   "cell_type": "code",
   "execution_count": 100,
   "id": "0bbe4db7",
   "metadata": {},
   "outputs": [
    {
     "name": "stdout",
     "output_type": "stream",
     "text": [
      "<class 'list'>\n",
      "['sant', 'imran', 'raj', [3, 11, 5]]\n",
      "('sant', 'imran', 'raj', [3, 11, 5])\n"
     ]
    },
    {
     "data": {
      "text/plain": [
       "tuple"
      ]
     },
     "execution_count": 100,
     "metadata": {},
     "output_type": "execute_result"
    }
   ],
   "source": [
    "list1 = list(tup1)\n",
    "print(type(list1))\n",
    "print(list1)\n",
    "print(tup1)\n",
    "type(tup1)"
   ]
  },
  {
   "cell_type": "code",
   "execution_count": 101,
   "id": "21ab3b9c",
   "metadata": {},
   "outputs": [
    {
     "data": {
      "text/plain": [
       "tuple"
      ]
     },
     "execution_count": 101,
     "metadata": {},
     "output_type": "execute_result"
    }
   ],
   "source": [
    "list1[1] = 'Imran Mohammod'\n",
    "type(tup1)"
   ]
  },
  {
   "cell_type": "code",
   "execution_count": 102,
   "id": "b731ebeb",
   "metadata": {},
   "outputs": [
    {
     "data": {
      "text/plain": [
       "['sant', 'Imran Mohammod', 'raj', [3, 11, 5]]"
      ]
     },
     "execution_count": 102,
     "metadata": {},
     "output_type": "execute_result"
    }
   ],
   "source": [
    "list1"
   ]
  },
  {
   "cell_type": "code",
   "execution_count": 104,
   "id": "c2754983",
   "metadata": {},
   "outputs": [
    {
     "data": {
      "text/plain": [
       "('sant', 'Imran Mohammod', 'raj', [3, 11, 5])"
      ]
     },
     "execution_count": 104,
     "metadata": {},
     "output_type": "execute_result"
    }
   ],
   "source": [
    "tup1 = tuple(list1)\n",
    "tup1"
   ]
  },
  {
   "cell_type": "markdown",
   "id": "6a381be3",
   "metadata": {},
   "source": [
    "### Example 3 to update the tuple"
   ]
  },
  {
   "cell_type": "code",
   "execution_count": 105,
   "id": "d096b4b0",
   "metadata": {},
   "outputs": [],
   "source": [
    "list2 = list(tup1)"
   ]
  },
  {
   "cell_type": "code",
   "execution_count": 107,
   "id": "93b04285",
   "metadata": {},
   "outputs": [
    {
     "data": {
      "text/plain": [
       "['sant', 'Imran Mohammod', 'raj', [3, 11, 5], 'kumar', 'kumar']"
      ]
     },
     "execution_count": 107,
     "metadata": {},
     "output_type": "execute_result"
    }
   ],
   "source": [
    "list2.append('kumar')\n",
    "list2"
   ]
  },
  {
   "cell_type": "code",
   "execution_count": 108,
   "id": "f7a4b1fa",
   "metadata": {},
   "outputs": [],
   "source": [
    "list2.remove('kumar')"
   ]
  },
  {
   "cell_type": "code",
   "execution_count": 109,
   "id": "27f519e4",
   "metadata": {},
   "outputs": [
    {
     "data": {
      "text/plain": [
       "['sant', 'Imran Mohammod', 'raj', [3, 11, 5], 'kumar']"
      ]
     },
     "execution_count": 109,
     "metadata": {},
     "output_type": "execute_result"
    }
   ],
   "source": [
    "list2\n"
   ]
  },
  {
   "cell_type": "code",
   "execution_count": 110,
   "id": "f5023cf0",
   "metadata": {},
   "outputs": [
    {
     "data": {
      "text/plain": [
       "('sant', 'Imran Mohammod', 'raj', [3, 11, 5], 'kumar')"
      ]
     },
     "execution_count": 110,
     "metadata": {},
     "output_type": "execute_result"
    }
   ],
   "source": [
    "tup2 = tuple(list2)\n",
    "tup2"
   ]
  }
 ],
 "metadata": {
  "kernelspec": {
   "display_name": "Python 3 (ipykernel)",
   "language": "python",
   "name": "python3"
  },
  "language_info": {
   "codemirror_mode": {
    "name": "ipython",
    "version": 3
   },
   "file_extension": ".py",
   "mimetype": "text/x-python",
   "name": "python",
   "nbconvert_exporter": "python",
   "pygments_lexer": "ipython3",
   "version": "3.9.7"
  }
 },
 "nbformat": 4,
 "nbformat_minor": 5
}
