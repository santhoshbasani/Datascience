{
 "cells": [
  {
   "cell_type": "markdown",
   "id": "7e816ff5",
   "metadata": {},
   "source": [
    "## Day-6 session - 20th February 2022 on python\n",
    "\n",
    "1. Tables\n",
    "2. Generators - yield keyword\n",
    "3. Generator expressions\n",
    "4. Nested Functions\n",
    "5. Closures for Functions\n",
    "6. Decorators"
   ]
  },
  {
   "cell_type": "code",
   "execution_count": 4,
   "id": "7ad81719",
   "metadata": {},
   "outputs": [
    {
     "name": "stdout",
     "output_type": "stream",
     "text": [
      "1 2 3 2\n",
      "[1, 2, 3, 2]\n"
     ]
    }
   ],
   "source": [
    "l = [1, 2, 3, 2]\n",
    "print(*l)\n",
    "print(l)"
   ]
  },
  {
   "cell_type": "code",
   "execution_count": 2,
   "id": "8bc84574",
   "metadata": {},
   "outputs": [],
   "source": [
    "def function1(*var):\n",
    "    for i in var:\n",
    "        print(\"I am in : \", i)"
   ]
  },
  {
   "cell_type": "code",
   "execution_count": 3,
   "id": "4cfcb02d",
   "metadata": {},
   "outputs": [
    {
     "name": "stdout",
     "output_type": "stream",
     "text": [
      "I am in :  Chennai\n",
      "I am in :  Hyderabad\n",
      "I am in :  Mumbai\n"
     ]
    }
   ],
   "source": [
    "function1('Chennai', 'Hyderabad', 'Mumbai')"
   ]
  },
  {
   "cell_type": "markdown",
   "id": "fe479610",
   "metadata": {},
   "source": [
    "### Tables "
   ]
  },
  {
   "cell_type": "code",
   "execution_count": 5,
   "id": "55845140",
   "metadata": {},
   "outputs": [
    {
     "name": "stdout",
     "output_type": "stream",
     "text": [
      "2\n",
      "9\n",
      "8\n",
      "3\n"
     ]
    }
   ],
   "source": [
    "my_list = [2, 9, 8, 3]\n",
    "\n",
    "my_iter = iter(my_list)  ## iter will remember the previous value and will get the next value\n",
    "\n",
    "for i in range(len(my_list)):\n",
    "    print(next(my_iter))"
   ]
  },
  {
   "cell_type": "code",
   "execution_count": 7,
   "id": "1750b02f",
   "metadata": {},
   "outputs": [
    {
     "ename": "StopIteration",
     "evalue": "",
     "output_type": "error",
     "traceback": [
      "\u001b[1;31m---------------------------------------------------------------------------\u001b[0m",
      "\u001b[1;31mStopIteration\u001b[0m                             Traceback (most recent call last)",
      "\u001b[1;32m~\\AppData\\Local\\Temp/ipykernel_131484/1757294138.py\u001b[0m in \u001b[0;36m<module>\u001b[1;34m\u001b[0m\n\u001b[1;32m----> 1\u001b[1;33m \u001b[0mprint\u001b[0m\u001b[1;33m(\u001b[0m\u001b[0mnext\u001b[0m\u001b[1;33m(\u001b[0m\u001b[0mmy_iter\u001b[0m\u001b[1;33m)\u001b[0m\u001b[1;33m)\u001b[0m\u001b[1;33m\u001b[0m\u001b[1;33m\u001b[0m\u001b[0m\n\u001b[0m",
      "\u001b[1;31mStopIteration\u001b[0m: "
     ]
    }
   ],
   "source": [
    "print(next(my_iter))"
   ]
  },
  {
   "cell_type": "code",
   "execution_count": 9,
   "id": "82dbb156",
   "metadata": {},
   "outputs": [],
   "source": [
    "my_iter1 = iter(my_list)"
   ]
  },
  {
   "cell_type": "code",
   "execution_count": 10,
   "id": "6ef7f6dd",
   "metadata": {},
   "outputs": [
    {
     "name": "stdout",
     "output_type": "stream",
     "text": [
      "2\n"
     ]
    }
   ],
   "source": [
    "print(next(my_iter1))"
   ]
  },
  {
   "cell_type": "markdown",
   "id": "570de6f6",
   "metadata": {},
   "source": [
    "### Generators - yield keyword"
   ]
  },
  {
   "cell_type": "code",
   "execution_count": 17,
   "id": "fa47e465",
   "metadata": {},
   "outputs": [],
   "source": [
    "def generator_func():\n",
    "    num = 1\n",
    "    print(\"The first number : \")\n",
    "    yield num\n",
    "    num += 1   ## n = n + 1\n",
    "    print(\"The second number : \")\n",
    "    yield num\n",
    "    num += 1\n",
    "    print(\"The third number : \")\n",
    "    yield num"
   ]
  },
  {
   "cell_type": "code",
   "execution_count": 18,
   "id": "83a5456f",
   "metadata": {},
   "outputs": [
    {
     "data": {
      "text/plain": [
       "<generator object generator_func at 0x00000271D8EDE350>"
      ]
     },
     "execution_count": 18,
     "metadata": {},
     "output_type": "execute_result"
    }
   ],
   "source": [
    "generator_func()"
   ]
  },
  {
   "cell_type": "code",
   "execution_count": 19,
   "id": "a1b17090",
   "metadata": {},
   "outputs": [],
   "source": [
    "var1 = generator_func()"
   ]
  },
  {
   "cell_type": "code",
   "execution_count": 20,
   "id": "b94b7a3d",
   "metadata": {},
   "outputs": [
    {
     "name": "stdout",
     "output_type": "stream",
     "text": [
      "The first number : \n"
     ]
    },
    {
     "data": {
      "text/plain": [
       "1"
      ]
     },
     "execution_count": 20,
     "metadata": {},
     "output_type": "execute_result"
    }
   ],
   "source": [
    "next(var1)"
   ]
  },
  {
   "cell_type": "code",
   "execution_count": 21,
   "id": "2e6f5d53",
   "metadata": {},
   "outputs": [
    {
     "name": "stdout",
     "output_type": "stream",
     "text": [
      "The second number : \n"
     ]
    },
    {
     "data": {
      "text/plain": [
       "2"
      ]
     },
     "execution_count": 21,
     "metadata": {},
     "output_type": "execute_result"
    }
   ],
   "source": [
    "next(var1)"
   ]
  },
  {
   "cell_type": "code",
   "execution_count": 22,
   "id": "d3b0b3aa",
   "metadata": {},
   "outputs": [
    {
     "name": "stdout",
     "output_type": "stream",
     "text": [
      "The third number : \n"
     ]
    },
    {
     "data": {
      "text/plain": [
       "3"
      ]
     },
     "execution_count": 22,
     "metadata": {},
     "output_type": "execute_result"
    }
   ],
   "source": [
    "next(var1)"
   ]
  },
  {
   "cell_type": "code",
   "execution_count": 23,
   "id": "b9dc6f0d",
   "metadata": {},
   "outputs": [
    {
     "ename": "StopIteration",
     "evalue": "",
     "output_type": "error",
     "traceback": [
      "\u001b[1;31m---------------------------------------------------------------------------\u001b[0m",
      "\u001b[1;31mStopIteration\u001b[0m                             Traceback (most recent call last)",
      "\u001b[1;32m~\\AppData\\Local\\Temp/ipykernel_131484/1695450877.py\u001b[0m in \u001b[0;36m<module>\u001b[1;34m\u001b[0m\n\u001b[1;32m----> 1\u001b[1;33m \u001b[0mnext\u001b[0m\u001b[1;33m(\u001b[0m\u001b[0mvar1\u001b[0m\u001b[1;33m)\u001b[0m\u001b[1;33m\u001b[0m\u001b[1;33m\u001b[0m\u001b[0m\n\u001b[0m",
      "\u001b[1;31mStopIteration\u001b[0m: "
     ]
    }
   ],
   "source": [
    "next(var1)"
   ]
  },
  {
   "cell_type": "code",
   "execution_count": 25,
   "id": "adb22266",
   "metadata": {},
   "outputs": [],
   "source": [
    "var2 = generator_func()"
   ]
  },
  {
   "cell_type": "code",
   "execution_count": 26,
   "id": "df6c5f7f",
   "metadata": {},
   "outputs": [
    {
     "name": "stdout",
     "output_type": "stream",
     "text": [
      "The first number : \n"
     ]
    },
    {
     "data": {
      "text/plain": [
       "1"
      ]
     },
     "execution_count": 26,
     "metadata": {},
     "output_type": "execute_result"
    }
   ],
   "source": [
    "next(var2)"
   ]
  },
  {
   "cell_type": "code",
   "execution_count": 38,
   "id": "b2af5bed",
   "metadata": {},
   "outputs": [],
   "source": [
    "def generator_func1():\n",
    "    for i in range(10):\n",
    "        print(\"hi\")\n",
    "        yield i        "
   ]
  },
  {
   "cell_type": "code",
   "execution_count": 39,
   "id": "c551ec97",
   "metadata": {},
   "outputs": [],
   "source": [
    "var3 = generator_func1()\n"
   ]
  },
  {
   "cell_type": "code",
   "execution_count": 40,
   "id": "aa053994",
   "metadata": {},
   "outputs": [
    {
     "name": "stdout",
     "output_type": "stream",
     "text": [
      "hi\n"
     ]
    },
    {
     "data": {
      "text/plain": [
       "0"
      ]
     },
     "execution_count": 40,
     "metadata": {},
     "output_type": "execute_result"
    }
   ],
   "source": [
    "next(var3)"
   ]
  },
  {
   "cell_type": "code",
   "execution_count": 41,
   "id": "de2314a3",
   "metadata": {},
   "outputs": [
    {
     "name": "stdout",
     "output_type": "stream",
     "text": [
      "hi\n"
     ]
    },
    {
     "data": {
      "text/plain": [
       "1"
      ]
     },
     "execution_count": 41,
     "metadata": {},
     "output_type": "execute_result"
    }
   ],
   "source": [
    "next(var3)"
   ]
  },
  {
   "cell_type": "code",
   "execution_count": 85,
   "id": "41fefa22",
   "metadata": {},
   "outputs": [
    {
     "data": {
      "text/plain": [
       "'e'"
      ]
     },
     "execution_count": 85,
     "metadata": {},
     "output_type": "execute_result"
    }
   ],
   "source": [
    "def gen_func(arg1):\n",
    "    list1 = list(arg1)\n",
    "    list1.reverse()\n",
    "    for i in list1:\n",
    "        yield i\n",
    "var4 = gen_func('Data Science')\n",
    "next(var4)"
   ]
  },
  {
   "cell_type": "code",
   "execution_count": 60,
   "id": "36619c97",
   "metadata": {},
   "outputs": [
    {
     "data": {
      "text/plain": [
       "'c'"
      ]
     },
     "execution_count": 60,
     "metadata": {},
     "output_type": "execute_result"
    }
   ],
   "source": [
    "next(var4)"
   ]
  },
  {
   "cell_type": "code",
   "execution_count": 47,
   "id": "f6adf963",
   "metadata": {},
   "outputs": [
    {
     "data": {
      "text/plain": [
       "'e'"
      ]
     },
     "execution_count": 47,
     "metadata": {},
     "output_type": "execute_result"
    }
   ],
   "source": [
    "def gen_func(arg1):\n",
    "    for i in arg1[-1]:\n",
    "        yield i\n",
    "var4 = gen_func('Data Science')\n",
    "next(var4)"
   ]
  },
  {
   "cell_type": "code",
   "execution_count": 62,
   "id": "858f486a",
   "metadata": {},
   "outputs": [],
   "source": [
    "def gen_rev(arg1):\n",
    "    for i in range(len(arg1)-1,0,-1):\n",
    "        yield arg1[i]"
   ]
  },
  {
   "cell_type": "code",
   "execution_count": 67,
   "id": "87ec7b55",
   "metadata": {},
   "outputs": [],
   "source": [
    "var5 = gen_rev('Data science')"
   ]
  },
  {
   "cell_type": "code",
   "execution_count": 68,
   "id": "a9546429",
   "metadata": {},
   "outputs": [
    {
     "name": "stdout",
     "output_type": "stream",
     "text": [
      "e\n",
      "c\n",
      "n\n",
      "e\n"
     ]
    }
   ],
   "source": [
    "print(next(var5))\n",
    "print(next(var5))\n",
    "print(next(var5))\n",
    "print(next(var5))"
   ]
  },
  {
   "cell_type": "code",
   "execution_count": 81,
   "id": "32e34149",
   "metadata": {},
   "outputs": [],
   "source": [
    "def gen_rev(arg1):\n",
    "    for i in range(len(arg1)-1, 0, -1):\n",
    "        yield arg1[i]"
   ]
  },
  {
   "cell_type": "code",
   "execution_count": 82,
   "id": "99dbbdd1",
   "metadata": {},
   "outputs": [],
   "source": [
    "var5 = gen_rev('Data science')"
   ]
  },
  {
   "cell_type": "code",
   "execution_count": 83,
   "id": "c17022f6",
   "metadata": {},
   "outputs": [
    {
     "name": "stdout",
     "output_type": "stream",
     "text": [
      "e\n",
      "c\n",
      "n\n"
     ]
    }
   ],
   "source": [
    "print(next(var5))\n",
    "print(next(var5))\n",
    "print(next(var5))"
   ]
  },
  {
   "cell_type": "markdown",
   "id": "7d8a7e6b",
   "metadata": {},
   "source": [
    "### Generator expression"
   ]
  },
  {
   "cell_type": "code",
   "execution_count": 100,
   "id": "4d7dcc4e",
   "metadata": {},
   "outputs": [],
   "source": [
    "list1 = [2, 4, 5, 10]"
   ]
  },
  {
   "cell_type": "code",
   "execution_count": 101,
   "id": "8949b0b7",
   "metadata": {},
   "outputs": [
    {
     "data": {
      "text/plain": [
       "[4, 16, 25, 100]"
      ]
     },
     "execution_count": 101,
     "metadata": {},
     "output_type": "execute_result"
    }
   ],
   "source": [
    "[i*i for i in list1]"
   ]
  },
  {
   "cell_type": "code",
   "execution_count": 102,
   "id": "64ad9593",
   "metadata": {},
   "outputs": [
    {
     "data": {
      "text/plain": [
       "[4, 16, 25, 100]"
      ]
     },
     "execution_count": 102,
     "metadata": {},
     "output_type": "execute_result"
    }
   ],
   "source": [
    "[i**2 for i in list1]"
   ]
  },
  {
   "cell_type": "code",
   "execution_count": 103,
   "id": "e5451135",
   "metadata": {},
   "outputs": [
    {
     "data": {
      "text/plain": [
       "[8, 64, 125, 1000]"
      ]
     },
     "execution_count": 103,
     "metadata": {},
     "output_type": "execute_result"
    }
   ],
   "source": [
    "[i**3 for i in list1]"
   ]
  },
  {
   "cell_type": "code",
   "execution_count": 125,
   "id": "d7a9eaee",
   "metadata": {},
   "outputs": [
    {
     "name": "stdout",
     "output_type": "stream",
     "text": [
      "<class 'list'>\n",
      "<class 'generator'>\n"
     ]
    }
   ],
   "source": [
    "var1 = [i**2 for i in list1]\n",
    "print(type(var1))\n",
    "\n",
    "var1 = (i**2 for i in list1)\n",
    "print(type(var1))\n"
   ]
  },
  {
   "cell_type": "code",
   "execution_count": 126,
   "id": "0d169bfa",
   "metadata": {},
   "outputs": [
    {
     "name": "stdout",
     "output_type": "stream",
     "text": [
      "4\n",
      "16\n",
      "25\n",
      "100\n"
     ]
    }
   ],
   "source": [
    "print(next(var1))\n",
    "print(next(var1))\n",
    "print(next(var1))\n",
    "print(next(var1))"
   ]
  },
  {
   "cell_type": "code",
   "execution_count": 127,
   "id": "3f0f1364",
   "metadata": {},
   "outputs": [
    {
     "data": {
      "text/plain": [
       "8"
      ]
     },
     "execution_count": 127,
     "metadata": {},
     "output_type": "execute_result"
    }
   ],
   "source": [
    "min(i**3 for i in list1)"
   ]
  },
  {
   "cell_type": "code",
   "execution_count": 128,
   "id": "5fe64ff7",
   "metadata": {},
   "outputs": [
    {
     "data": {
      "text/plain": [
       "1000"
      ]
     },
     "execution_count": 128,
     "metadata": {},
     "output_type": "execute_result"
    }
   ],
   "source": [
    "max(i**3 for i in list1)"
   ]
  },
  {
   "cell_type": "code",
   "execution_count": 148,
   "id": "4c5be9ba",
   "metadata": {},
   "outputs": [],
   "source": [
    "def rev(s):\n",
    "    for i in s:\n",
    "        global st\n",
    "        st = i + st\n",
    "        yield st\n",
    "    print(st)"
   ]
  },
  {
   "cell_type": "code",
   "execution_count": 150,
   "id": "70568198",
   "metadata": {},
   "outputs": [
    {
     "name": "stdout",
     "output_type": "stream",
     "text": [
      " \n",
      " \n",
      " \n",
      " \n",
      " \n",
      " \n",
      "gnirtSString\n"
     ]
    }
   ],
   "source": [
    "st = 'String'\n",
    "for i in rev(st):\n",
    "    print(' ')\n",
    "#    int = 10\n",
    "#print(i)"
   ]
  },
  {
   "cell_type": "markdown",
   "id": "b1842872",
   "metadata": {},
   "source": [
    "### Nested functions - a function inside another function"
   ]
  },
  {
   "cell_type": "code",
   "execution_count": 267,
   "id": "d9712019",
   "metadata": {},
   "outputs": [],
   "source": [
    "def outer_fun(arg):\n",
    "    var3 = 35\n",
    "    def inner_fun():\n",
    "        var1 = arg * 5 + var3\n",
    "        return var1\n",
    "    return inner_fun()"
   ]
  },
  {
   "cell_type": "code",
   "execution_count": 269,
   "id": "cb558353",
   "metadata": {},
   "outputs": [
    {
     "name": "stdout",
     "output_type": "stream",
     "text": [
      "1085\n"
     ]
    }
   ],
   "source": [
    "b = outer_fun(210)\n",
    "print(b)"
   ]
  },
  {
   "cell_type": "markdown",
   "id": "3e27297e",
   "metadata": {},
   "source": [
    "### Closures  in fuctions"
   ]
  },
  {
   "cell_type": "code",
   "execution_count": 218,
   "id": "40355399",
   "metadata": {},
   "outputs": [],
   "source": [
    "def outer_fun(arg):\n",
    "    def inner_fun():\n",
    "        var1 = arg * 5 \n",
    "        print(var1)\n",
    "    return inner_fun    ## closure"
   ]
  },
  {
   "cell_type": "code",
   "execution_count": 210,
   "id": "c4b55e2f",
   "metadata": {},
   "outputs": [],
   "source": [
    "a = outer_fun(10)"
   ]
  },
  {
   "cell_type": "code",
   "execution_count": 212,
   "id": "5505b426",
   "metadata": {},
   "outputs": [
    {
     "name": "stdout",
     "output_type": "stream",
     "text": [
      "50\n"
     ]
    }
   ],
   "source": [
    "a()"
   ]
  },
  {
   "cell_type": "code",
   "execution_count": 217,
   "id": "6a975f59",
   "metadata": {},
   "outputs": [
    {
     "name": "stdout",
     "output_type": "stream",
     "text": [
      "50\n"
     ]
    }
   ],
   "source": [
    "b = a\n",
    "b()"
   ]
  },
  {
   "cell_type": "markdown",
   "id": "dccdd96b",
   "metadata": {},
   "source": [
    "### Decorators"
   ]
  },
  {
   "cell_type": "code",
   "execution_count": 215,
   "id": "f3c1511e",
   "metadata": {},
   "outputs": [
    {
     "name": "stdout",
     "output_type": "stream",
     "text": [
      "Print function 1\n"
     ]
    }
   ],
   "source": [
    "def func1():\n",
    "    print('Print function 1')\n",
    "func1()"
   ]
  },
  {
   "cell_type": "code",
   "execution_count": 216,
   "id": "fc33f7f5",
   "metadata": {},
   "outputs": [
    {
     "name": "stdout",
     "output_type": "stream",
     "text": [
      "Print function 1\n"
     ]
    }
   ],
   "source": [
    "func2 = func1\n",
    "func2()"
   ]
  },
  {
   "cell_type": "code",
   "execution_count": 230,
   "id": "8e6cd0fc",
   "metadata": {},
   "outputs": [
    {
     "name": "stdout",
     "output_type": "stream",
     "text": [
      "4\n",
      "27\n"
     ]
    }
   ],
   "source": [
    "def square_fun(arg1):\n",
    "    return arg1**2\n",
    "\n",
    "def cube_fun(arg1):\n",
    "    return arg1**3\n",
    "\n",
    "def func3(func_arg1,arg2):    ## decorated function\n",
    "    res = func_arg1(arg2)\n",
    "    return res\n",
    "\n",
    "print(func3(square_fun, 2))\n",
    "\n",
    "print(func3(cube_fun, 3))\n",
    "    "
   ]
  },
  {
   "cell_type": "code",
   "execution_count": 231,
   "id": "f0f40720",
   "metadata": {},
   "outputs": [],
   "source": [
    "def is_called():     ## normal nested function\n",
    "    def is_returned():\n",
    "        print(\"Nested function is returned\")\n",
    "    return is_returned"
   ]
  },
  {
   "cell_type": "code",
   "execution_count": 232,
   "id": "3f1b12b8",
   "metadata": {},
   "outputs": [
    {
     "name": "stdout",
     "output_type": "stream",
     "text": [
      "Nested function is returned\n"
     ]
    }
   ],
   "source": [
    "fn = is_called()\n",
    "fn()"
   ]
  },
  {
   "cell_type": "code",
   "execution_count": 266,
   "id": "7ca34fcc",
   "metadata": {},
   "outputs": [
    {
     "name": "stdout",
     "output_type": "stream",
     "text": [
      "This is an ordinary function\n",
      "This is decorated now\n"
     ]
    }
   ],
   "source": [
    "def decorating_fun(fn):                    ##  #---> 3\n",
    "    def nested_fn():\n",
    "        fn()                               ##  #---> 5\n",
    "        print(\"This is decorated now\")     ##  #---> 8\n",
    "    return nested_fn                       ##  #---> 4\n",
    "\n",
    "def ordinary_fn():                         ##  #---> 6\n",
    "    print(\"This is an ordinary function\")  ##  #---> 7\n",
    "    \n",
    "dec = decorating_fun(ordinary_fn)          ##  #---> 2\n",
    "dec()                                      ##  #---> 1"
   ]
  },
  {
   "cell_type": "code",
   "execution_count": 263,
   "id": "e7aea09d",
   "metadata": {},
   "outputs": [],
   "source": [
    "def decorating_fn(fn):\n",
    "    def nested_fn(a,b):   ## decorating function\n",
    "        print(\"Dividing\", a, 'and', b)\n",
    "        if b == 0:\n",
    "            print('Cannot divide')\n",
    "            return\n",
    "        return fn(a,b)\n",
    "    return nested_fn"
   ]
  },
  {
   "cell_type": "code",
   "execution_count": 264,
   "id": "bcc20a44",
   "metadata": {},
   "outputs": [],
   "source": [
    "@decorating_fn   ### place the decorating function on top of the fn that needs to be decorated\n",
    "def ordinary_fn(a,b):\n",
    "    return a/b"
   ]
  },
  {
   "cell_type": "code",
   "execution_count": 265,
   "id": "447bd692",
   "metadata": {},
   "outputs": [
    {
     "name": "stdout",
     "output_type": "stream",
     "text": [
      "Dividing 44 and 3\n"
     ]
    },
    {
     "data": {
      "text/plain": [
       "14.666666666666666"
      ]
     },
     "execution_count": 265,
     "metadata": {},
     "output_type": "execute_result"
    }
   ],
   "source": [
    "ordinary_fn(44,3)"
   ]
  },
  {
   "cell_type": "code",
   "execution_count": null,
   "id": "b9584f4d",
   "metadata": {},
   "outputs": [],
   "source": []
  },
  {
   "cell_type": "code",
   "execution_count": null,
   "id": "82f65bb7",
   "metadata": {},
   "outputs": [],
   "source": []
  }
 ],
 "metadata": {
  "kernelspec": {
   "display_name": "Python 3 (ipykernel)",
   "language": "python",
   "name": "python3"
  },
  "language_info": {
   "codemirror_mode": {
    "name": "ipython",
    "version": 3
   },
   "file_extension": ".py",
   "mimetype": "text/x-python",
   "name": "python",
   "nbconvert_exporter": "python",
   "pygments_lexer": "ipython3",
   "version": "3.9.7"
  }
 },
 "nbformat": 4,
 "nbformat_minor": 5
}
