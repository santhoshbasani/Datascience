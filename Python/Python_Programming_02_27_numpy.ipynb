{
 "cells": [
  {
   "cell_type": "markdown",
   "id": "87738703",
   "metadata": {},
   "source": [
    "## Day-8 session - 27th February 2022 on python\n",
    "\n",
    "1. Numpy\n",
    "\n",
    "    a. Broadcasting an arry\n",
    "    \n",
    "    b. flatten, \n",
    "    \n",
    "    c. Concatenate, stack, axis, vstack, hstack, delete, insert, append, unique, add, multiply, subtraction, division functions\n",
    "    \n",
    "    d. median, mean, std functions\n",
    "    \n",
    "\n",
    "2. Pandas (Using Pandas we can do operations on dataframe) - dataframe is same as table(rows and columns)\n"
   ]
  },
  {
   "cell_type": "markdown",
   "id": "ad2e64b6",
   "metadata": {},
   "source": [
    "### Broadcasting an array"
   ]
  },
  {
   "cell_type": "code",
   "execution_count": 5,
   "id": "598e55bb",
   "metadata": {},
   "outputs": [],
   "source": [
    "import numpy as np"
   ]
  },
  {
   "cell_type": "code",
   "execution_count": 7,
   "id": "7325c56f",
   "metadata": {},
   "outputs": [],
   "source": [
    "x = np.array([1,2,3])\n",
    "y = np.array([11,12,13]) "
   ]
  },
  {
   "cell_type": "code",
   "execution_count": 8,
   "id": "3c983505",
   "metadata": {},
   "outputs": [
    {
     "data": {
      "text/plain": [
       "array([11, 24, 39])"
      ]
     },
     "execution_count": 8,
     "metadata": {},
     "output_type": "execute_result"
    }
   ],
   "source": [
    "z=x*y\n",
    "z"
   ]
  },
  {
   "cell_type": "code",
   "execution_count": 9,
   "id": "e94e5c99",
   "metadata": {},
   "outputs": [],
   "source": [
    "x = np.array([1,2,3])\n",
    "y = 5                        # here y value is the scalar value in the array multiplication"
   ]
  },
  {
   "cell_type": "code",
   "execution_count": 10,
   "id": "74f18e0e",
   "metadata": {},
   "outputs": [
    {
     "data": {
      "text/plain": [
       "array([ 5, 10, 15])"
      ]
     },
     "execution_count": 10,
     "metadata": {},
     "output_type": "execute_result"
    }
   ],
   "source": [
    "z=x*y\n",
    "z"
   ]
  },
  {
   "cell_type": "code",
   "execution_count": 14,
   "id": "1d2fc1fa",
   "metadata": {},
   "outputs": [
    {
     "data": {
      "text/plain": [
       "array([6, 7, 8])"
      ]
     },
     "execution_count": 14,
     "metadata": {},
     "output_type": "execute_result"
    }
   ],
   "source": [
    "np.add(x,y)"
   ]
  },
  {
   "cell_type": "code",
   "execution_count": 19,
   "id": "aa484115",
   "metadata": {},
   "outputs": [
    {
     "data": {
      "text/plain": [
       "array([[11, 24, 39],\n",
       "       [39, 56, 75]])"
      ]
     },
     "execution_count": 19,
     "metadata": {},
     "output_type": "execute_result"
    }
   ],
   "source": [
    "x = np.array([[1,2,3],[3,4,5]])\n",
    "y = np.array([[11,12,13],[13,14,15]])\n",
    "\n",
    "z = x*y\n",
    "z"
   ]
  },
  {
   "cell_type": "code",
   "execution_count": 20,
   "id": "6a43ee86",
   "metadata": {},
   "outputs": [
    {
     "data": {
      "text/plain": [
       "array([[ 3,  6,  9],\n",
       "       [ 9, 12, 15]])"
      ]
     },
     "execution_count": 20,
     "metadata": {},
     "output_type": "execute_result"
    }
   ],
   "source": [
    "x = np.array([[1,2,3],[3,4,5]])\n",
    "y = 3\n",
    "\n",
    "z = x*y\n",
    "z"
   ]
  },
  {
   "cell_type": "code",
   "execution_count": 60,
   "id": "ea025a3e",
   "metadata": {},
   "outputs": [
    {
     "data": {
      "text/plain": [
       "array([[11, 24, 39],\n",
       "       [13, 28, 45]])"
      ]
     },
     "execution_count": 60,
     "metadata": {},
     "output_type": "execute_result"
    }
   ],
   "source": [
    "x = np.array([1,2,3])\n",
    "y = np.array([[11,12,13],[13,14,15]])\n",
    "\n",
    "z = x*y\n",
    "z"
   ]
  },
  {
   "cell_type": "code",
   "execution_count": 61,
   "id": "8d0ca54d",
   "metadata": {},
   "outputs": [
    {
     "data": {
      "text/plain": [
       "3"
      ]
     },
     "execution_count": 61,
     "metadata": {},
     "output_type": "execute_result"
    }
   ],
   "source": [
    "len(x)"
   ]
  },
  {
   "cell_type": "code",
   "execution_count": 64,
   "id": "75d599c1",
   "metadata": {},
   "outputs": [
    {
     "data": {
      "text/plain": [
       "2"
      ]
     },
     "execution_count": 64,
     "metadata": {},
     "output_type": "execute_result"
    }
   ],
   "source": [
    "len(y)"
   ]
  },
  {
   "cell_type": "code",
   "execution_count": 76,
   "id": "71e82df2",
   "metadata": {},
   "outputs": [
    {
     "name": "stdout",
     "output_type": "stream",
     "text": [
      "0\n",
      "13\n",
      "1\n",
      "13\n",
      "1\n",
      "[11 12 13]\n",
      "[13 14 15]\n"
     ]
    }
   ],
   "source": [
    "y_row = len(y)\n",
    "y_col = len(y[0])\n",
    "for i in range(y_row):\n",
    "    for j in range(y_col):\n",
    "        if y[i][j] == 13:\n",
    "            a = i\n",
    "            print(a)\n",
    "            print(y[i][j])\n",
    "print(a)\n",
    "\n",
    "for a in range(y_row):\n",
    "    print(y[a])"
   ]
  },
  {
   "cell_type": "code",
   "execution_count": 74,
   "id": "9a27d9b0",
   "metadata": {},
   "outputs": [
    {
     "name": "stdout",
     "output_type": "stream",
     "text": [
      "[11 12 13]\n",
      "[13 14 15]\n"
     ]
    }
   ],
   "source": [
    "for a in range(y_row):\n",
    "    print(y[a])"
   ]
  },
  {
   "cell_type": "code",
   "execution_count": 31,
   "id": "c266be1f",
   "metadata": {},
   "outputs": [],
   "source": [
    "array_reshape1 = y.reshape(1,9)"
   ]
  },
  {
   "cell_type": "code",
   "execution_count": 32,
   "id": "c95f8023",
   "metadata": {},
   "outputs": [
    {
     "data": {
      "text/plain": [
       "array([[11, 12, 13, 13, 14, 15, 22, 33, 11]])"
      ]
     },
     "execution_count": 32,
     "metadata": {},
     "output_type": "execute_result"
    }
   ],
   "source": [
    "array_reshape1"
   ]
  },
  {
   "cell_type": "code",
   "execution_count": 36,
   "id": "33736645",
   "metadata": {},
   "outputs": [
    {
     "data": {
      "text/plain": [
       "array([[11, 24, 39],\n",
       "       [13, 28, 45],\n",
       "       [22, 66, 33]])"
      ]
     },
     "execution_count": 36,
     "metadata": {},
     "output_type": "execute_result"
    }
   ],
   "source": [
    "x = np.array([[11,12,13],[13,14,15],[22,33,11]])\n",
    "y = np.array([1,2,3])\n",
    "\n",
    "z = x*y\n",
    "z"
   ]
  },
  {
   "cell_type": "code",
   "execution_count": 38,
   "id": "6bef9c68",
   "metadata": {},
   "outputs": [
    {
     "data": {
      "text/plain": [
       "array([[11, 13, 22],\n",
       "       [24, 28, 66],\n",
       "       [39, 45, 33]])"
      ]
     },
     "execution_count": 38,
     "metadata": {},
     "output_type": "execute_result"
    }
   ],
   "source": [
    "z.T    ## Where we will use it"
   ]
  },
  {
   "cell_type": "code",
   "execution_count": 40,
   "id": "cc8f3ce1",
   "metadata": {},
   "outputs": [],
   "source": [
    "array1 = np.arange(8).reshape(4,2)"
   ]
  },
  {
   "cell_type": "code",
   "execution_count": 41,
   "id": "a1909106",
   "metadata": {},
   "outputs": [
    {
     "data": {
      "text/plain": [
       "array([[0, 1],\n",
       "       [2, 3],\n",
       "       [4, 5],\n",
       "       [6, 7]])"
      ]
     },
     "execution_count": 41,
     "metadata": {},
     "output_type": "execute_result"
    }
   ],
   "source": [
    "array1"
   ]
  },
  {
   "cell_type": "code",
   "execution_count": 42,
   "id": "ee52f413",
   "metadata": {},
   "outputs": [
    {
     "data": {
      "text/plain": [
       "array([0, 1, 2, 3, 4, 5, 6, 7])"
      ]
     },
     "execution_count": 42,
     "metadata": {},
     "output_type": "execute_result"
    }
   ],
   "source": [
    "array1.flatten()"
   ]
  },
  {
   "cell_type": "code",
   "execution_count": 53,
   "id": "f4c6e9e5",
   "metadata": {},
   "outputs": [
    {
     "data": {
      "text/plain": [
       "array([[ 1,  2,  3],\n",
       "       [ 3,  4,  5],\n",
       "       [11, 12, 13],\n",
       "       [13, 14, 15],\n",
       "       [33, 44, 55],\n",
       "       [88, 99,  1]])"
      ]
     },
     "execution_count": 53,
     "metadata": {},
     "output_type": "execute_result"
    }
   ],
   "source": [
    "x = np.array([[1,2,3],[3,4,5]])\n",
    "y = np.array([[11,12,13],[13,14,15],[33,44,55],[88,99,1]])\n",
    "\n",
    "np.concatenate((x,y))\n"
   ]
  },
  {
   "cell_type": "code",
   "execution_count": 47,
   "id": "5795de1b",
   "metadata": {},
   "outputs": [
    {
     "data": {
      "text/plain": [
       "array([[[ 1,  2,  3],\n",
       "        [ 3,  4,  5]],\n",
       "\n",
       "       [[11, 12, 13],\n",
       "        [13, 14, 15]]])"
      ]
     },
     "execution_count": 47,
     "metadata": {},
     "output_type": "execute_result"
    }
   ],
   "source": [
    "np.stack((x,y))"
   ]
  },
  {
   "cell_type": "code",
   "execution_count": 77,
   "id": "04ddc72e",
   "metadata": {},
   "outputs": [],
   "source": [
    "arrays = [np.random.randn(2, 2) for _ in range(2)]"
   ]
  },
  {
   "cell_type": "code",
   "execution_count": 78,
   "id": "dfab929d",
   "metadata": {},
   "outputs": [
    {
     "data": {
      "text/plain": [
       "[array([[-0.18630378, -0.07203027],\n",
       "        [-1.62598242, -0.43799735]]),\n",
       " array([[ 2.01400255,  0.11252889],\n",
       "        [-1.03296749, -0.35481581]])]"
      ]
     },
     "execution_count": 78,
     "metadata": {},
     "output_type": "execute_result"
    }
   ],
   "source": [
    "arrays"
   ]
  },
  {
   "cell_type": "code",
   "execution_count": 79,
   "id": "4cc98f62",
   "metadata": {},
   "outputs": [
    {
     "data": {
      "text/plain": [
       "array([[[-0.18630378, -0.07203027],\n",
       "        [-1.62598242, -0.43799735]],\n",
       "\n",
       "       [[ 2.01400255,  0.11252889],\n",
       "        [-1.03296749, -0.35481581]]])"
      ]
     },
     "execution_count": 79,
     "metadata": {},
     "output_type": "execute_result"
    }
   ],
   "source": [
    "np.stack(arrays, axis = 0)"
   ]
  },
  {
   "cell_type": "code",
   "execution_count": 95,
   "id": "055191ad",
   "metadata": {},
   "outputs": [
    {
     "data": {
      "text/plain": [
       "array([[ 1,  2],\n",
       "       [ 3,  4],\n",
       "       [ 5,  6],\n",
       "       [11, 12],\n",
       "       [14, 15],\n",
       "       [16, 17]])"
      ]
     },
     "execution_count": 95,
     "metadata": {},
     "output_type": "execute_result"
    }
   ],
   "source": [
    "x = np.array([[1,2],[3,4],[5,6]])\n",
    "y = np.array([[11,12],[14,15],[16,17]])\n",
    "\n",
    "np.concatenate((x,y))"
   ]
  },
  {
   "cell_type": "code",
   "execution_count": 96,
   "id": "ba3390aa",
   "metadata": {
    "scrolled": true
   },
   "outputs": [
    {
     "data": {
      "text/plain": [
       "array([[[ 1,  2],\n",
       "        [ 3,  4],\n",
       "        [ 5,  6]],\n",
       "\n",
       "       [[11, 12],\n",
       "        [14, 15],\n",
       "        [16, 17]]])"
      ]
     },
     "execution_count": 96,
     "metadata": {},
     "output_type": "execute_result"
    }
   ],
   "source": [
    "np.stack((x,y), axis=0)   ## axis=0 is row wise operation"
   ]
  },
  {
   "cell_type": "code",
   "execution_count": 97,
   "id": "c7655188",
   "metadata": {},
   "outputs": [
    {
     "data": {
      "text/plain": [
       "array([[[ 1,  2],\n",
       "        [11, 12]],\n",
       "\n",
       "       [[ 3,  4],\n",
       "        [14, 15]],\n",
       "\n",
       "       [[ 5,  6],\n",
       "        [16, 17]]])"
      ]
     },
     "execution_count": 97,
     "metadata": {},
     "output_type": "execute_result"
    }
   ],
   "source": [
    "np.stack((x,y), axis=1)   ## axis=1 is column wise operation"
   ]
  },
  {
   "cell_type": "code",
   "execution_count": 100,
   "id": "fc6cc490",
   "metadata": {},
   "outputs": [
    {
     "name": "stdout",
     "output_type": "stream",
     "text": [
      "[[1 2]\n",
      " [3 4]\n",
      " [5 6]]\n",
      "[[11 12]\n",
      " [14 15]\n",
      " [16 17]]\n"
     ]
    }
   ],
   "source": [
    "print(x)\n",
    "print(y)"
   ]
  },
  {
   "cell_type": "code",
   "execution_count": 98,
   "id": "c5e78424",
   "metadata": {},
   "outputs": [
    {
     "data": {
      "text/plain": [
       "array([[ 1,  2],\n",
       "       [ 3,  4],\n",
       "       [ 5,  6],\n",
       "       [11, 12],\n",
       "       [14, 15],\n",
       "       [16, 17]])"
      ]
     },
     "execution_count": 98,
     "metadata": {},
     "output_type": "execute_result"
    }
   ],
   "source": [
    "np.vstack((x,y))        ## compare with axis = 0"
   ]
  },
  {
   "cell_type": "code",
   "execution_count": 99,
   "id": "265a65cf",
   "metadata": {},
   "outputs": [
    {
     "data": {
      "text/plain": [
       "array([[ 1,  2, 11, 12],\n",
       "       [ 3,  4, 14, 15],\n",
       "       [ 5,  6, 16, 17]])"
      ]
     },
     "execution_count": 99,
     "metadata": {},
     "output_type": "execute_result"
    }
   ],
   "source": [
    "np.hstack((x,y))        ## compare with axis = 1"
   ]
  },
  {
   "cell_type": "code",
   "execution_count": 109,
   "id": "ef43c4fb",
   "metadata": {},
   "outputs": [
    {
     "data": {
      "text/plain": [
       "[array([0, 1, 2]), array([3, 4, 5])]"
      ]
     },
     "execution_count": 109,
     "metadata": {},
     "output_type": "execute_result"
    }
   ],
   "source": [
    "a = np.arange(6)\n",
    "np.split(a,2)"
   ]
  },
  {
   "cell_type": "code",
   "execution_count": 108,
   "id": "4837fa48",
   "metadata": {
    "scrolled": true
   },
   "outputs": [
    {
     "ename": "ValueError",
     "evalue": "array split does not result in an equal division",
     "output_type": "error",
     "traceback": [
      "\u001b[1;31m---------------------------------------------------------------------------\u001b[0m",
      "\u001b[1;31mValueError\u001b[0m                                Traceback (most recent call last)",
      "\u001b[1;32m~\\AppData\\Local\\Temp/ipykernel_31636/782370383.py\u001b[0m in \u001b[0;36m<module>\u001b[1;34m\u001b[0m\n\u001b[0;32m      1\u001b[0m \u001b[0ma\u001b[0m \u001b[1;33m=\u001b[0m \u001b[0mnp\u001b[0m\u001b[1;33m.\u001b[0m\u001b[0marange\u001b[0m\u001b[1;33m(\u001b[0m\u001b[1;36m15\u001b[0m\u001b[1;33m)\u001b[0m\u001b[1;33m\u001b[0m\u001b[1;33m\u001b[0m\u001b[0m\n\u001b[1;32m----> 2\u001b[1;33m \u001b[0mnp\u001b[0m\u001b[1;33m.\u001b[0m\u001b[0msplit\u001b[0m\u001b[1;33m(\u001b[0m\u001b[0ma\u001b[0m\u001b[1;33m,\u001b[0m\u001b[1;36m2\u001b[0m\u001b[1;33m)\u001b[0m\u001b[1;33m\u001b[0m\u001b[1;33m\u001b[0m\u001b[0m\n\u001b[0m",
      "\u001b[1;32m<__array_function__ internals>\u001b[0m in \u001b[0;36msplit\u001b[1;34m(*args, **kwargs)\u001b[0m\n",
      "\u001b[1;32m~\\anaconda3\\lib\\site-packages\\numpy\\lib\\shape_base.py\u001b[0m in \u001b[0;36msplit\u001b[1;34m(ary, indices_or_sections, axis)\u001b[0m\n\u001b[0;32m    870\u001b[0m         \u001b[0mN\u001b[0m \u001b[1;33m=\u001b[0m \u001b[0mary\u001b[0m\u001b[1;33m.\u001b[0m\u001b[0mshape\u001b[0m\u001b[1;33m[\u001b[0m\u001b[0maxis\u001b[0m\u001b[1;33m]\u001b[0m\u001b[1;33m\u001b[0m\u001b[1;33m\u001b[0m\u001b[0m\n\u001b[0;32m    871\u001b[0m         \u001b[1;32mif\u001b[0m \u001b[0mN\u001b[0m \u001b[1;33m%\u001b[0m \u001b[0msections\u001b[0m\u001b[1;33m:\u001b[0m\u001b[1;33m\u001b[0m\u001b[1;33m\u001b[0m\u001b[0m\n\u001b[1;32m--> 872\u001b[1;33m             raise ValueError(\n\u001b[0m\u001b[0;32m    873\u001b[0m                 'array split does not result in an equal division') from None\n\u001b[0;32m    874\u001b[0m     \u001b[1;32mreturn\u001b[0m \u001b[0marray_split\u001b[0m\u001b[1;33m(\u001b[0m\u001b[0mary\u001b[0m\u001b[1;33m,\u001b[0m \u001b[0mindices_or_sections\u001b[0m\u001b[1;33m,\u001b[0m \u001b[0maxis\u001b[0m\u001b[1;33m)\u001b[0m\u001b[1;33m\u001b[0m\u001b[1;33m\u001b[0m\u001b[0m\n",
      "\u001b[1;31mValueError\u001b[0m: array split does not result in an equal division"
     ]
    }
   ],
   "source": [
    "a = np.arange(15)\n",
    "np.split(a,2)"
   ]
  },
  {
   "cell_type": "code",
   "execution_count": 116,
   "id": "d96e5b06",
   "metadata": {},
   "outputs": [],
   "source": [
    "a = np.array([[1,2,3],[2,3,4]])"
   ]
  },
  {
   "cell_type": "code",
   "execution_count": 117,
   "id": "77e421b7",
   "metadata": {},
   "outputs": [],
   "source": [
    "b = np.array([[10,20,30],[20,30,40]])\n"
   ]
  },
  {
   "cell_type": "code",
   "execution_count": 118,
   "id": "9c4c93f2",
   "metadata": {},
   "outputs": [
    {
     "data": {
      "text/plain": [
       "array([[ 1,  2,  3],\n",
       "       [ 2,  3,  4],\n",
       "       [10, 20, 30],\n",
       "       [20, 30, 40]])"
      ]
     },
     "execution_count": 118,
     "metadata": {},
     "output_type": "execute_result"
    }
   ],
   "source": [
    "np.append(a,b, axis=0)"
   ]
  },
  {
   "cell_type": "code",
   "execution_count": 120,
   "id": "b85c314a",
   "metadata": {},
   "outputs": [
    {
     "data": {
      "text/plain": [
       "array([[ 1,  2,  3],\n",
       "       [ 2,  3,  4],\n",
       "       [10, 20, 30],\n",
       "       [20, 30, 50]])"
      ]
     },
     "execution_count": 120,
     "metadata": {},
     "output_type": "execute_result"
    }
   ],
   "source": [
    "np.append(a,[[10, 20, 30], [20,30,50]], axis=0)"
   ]
  },
  {
   "cell_type": "code",
   "execution_count": 122,
   "id": "3bab1f54",
   "metadata": {},
   "outputs": [
    {
     "ename": "ValueError",
     "evalue": "all the input array dimensions for the concatenation axis must match exactly, but along dimension 0, the array at index 0 has size 2 and the array at index 1 has size 1",
     "output_type": "error",
     "traceback": [
      "\u001b[1;31m---------------------------------------------------------------------------\u001b[0m",
      "\u001b[1;31mValueError\u001b[0m                                Traceback (most recent call last)",
      "\u001b[1;32m~\\AppData\\Local\\Temp/ipykernel_31636/3642037963.py\u001b[0m in \u001b[0;36m<module>\u001b[1;34m\u001b[0m\n\u001b[1;32m----> 1\u001b[1;33m \u001b[0mnp\u001b[0m\u001b[1;33m.\u001b[0m\u001b[0mappend\u001b[0m\u001b[1;33m(\u001b[0m\u001b[0ma\u001b[0m\u001b[1;33m,\u001b[0m\u001b[1;33m[\u001b[0m\u001b[1;33m[\u001b[0m\u001b[1;36m10\u001b[0m\u001b[1;33m,\u001b[0m \u001b[1;36m20\u001b[0m\u001b[1;33m,\u001b[0m \u001b[1;36m30\u001b[0m\u001b[1;33m]\u001b[0m\u001b[1;33m]\u001b[0m\u001b[1;33m,\u001b[0m \u001b[0maxis\u001b[0m\u001b[1;33m=\u001b[0m\u001b[1;36m1\u001b[0m\u001b[1;33m)\u001b[0m\u001b[1;33m\u001b[0m\u001b[1;33m\u001b[0m\u001b[0m\n\u001b[0m",
      "\u001b[1;32m<__array_function__ internals>\u001b[0m in \u001b[0;36mappend\u001b[1;34m(*args, **kwargs)\u001b[0m\n",
      "\u001b[1;32m~\\anaconda3\\lib\\site-packages\\numpy\\lib\\function_base.py\u001b[0m in \u001b[0;36mappend\u001b[1;34m(arr, values, axis)\u001b[0m\n\u001b[0;32m   4743\u001b[0m         \u001b[0mvalues\u001b[0m \u001b[1;33m=\u001b[0m \u001b[0mravel\u001b[0m\u001b[1;33m(\u001b[0m\u001b[0mvalues\u001b[0m\u001b[1;33m)\u001b[0m\u001b[1;33m\u001b[0m\u001b[1;33m\u001b[0m\u001b[0m\n\u001b[0;32m   4744\u001b[0m         \u001b[0maxis\u001b[0m \u001b[1;33m=\u001b[0m \u001b[0marr\u001b[0m\u001b[1;33m.\u001b[0m\u001b[0mndim\u001b[0m\u001b[1;33m-\u001b[0m\u001b[1;36m1\u001b[0m\u001b[1;33m\u001b[0m\u001b[1;33m\u001b[0m\u001b[0m\n\u001b[1;32m-> 4745\u001b[1;33m     \u001b[1;32mreturn\u001b[0m \u001b[0mconcatenate\u001b[0m\u001b[1;33m(\u001b[0m\u001b[1;33m(\u001b[0m\u001b[0marr\u001b[0m\u001b[1;33m,\u001b[0m \u001b[0mvalues\u001b[0m\u001b[1;33m)\u001b[0m\u001b[1;33m,\u001b[0m \u001b[0maxis\u001b[0m\u001b[1;33m=\u001b[0m\u001b[0maxis\u001b[0m\u001b[1;33m)\u001b[0m\u001b[1;33m\u001b[0m\u001b[1;33m\u001b[0m\u001b[0m\n\u001b[0m\u001b[0;32m   4746\u001b[0m \u001b[1;33m\u001b[0m\u001b[0m\n\u001b[0;32m   4747\u001b[0m \u001b[1;33m\u001b[0m\u001b[0m\n",
      "\u001b[1;32m<__array_function__ internals>\u001b[0m in \u001b[0;36mconcatenate\u001b[1;34m(*args, **kwargs)\u001b[0m\n",
      "\u001b[1;31mValueError\u001b[0m: all the input array dimensions for the concatenation axis must match exactly, but along dimension 0, the array at index 0 has size 2 and the array at index 1 has size 1"
     ]
    }
   ],
   "source": [
    "np.append(a,[[10, 20, 30]], axis=1)"
   ]
  },
  {
   "cell_type": "code",
   "execution_count": 124,
   "id": "31654c4a",
   "metadata": {},
   "outputs": [
    {
     "data": {
      "text/plain": [
       "array([[1, 2, 3],\n",
       "       [2, 3, 4]])"
      ]
     },
     "execution_count": 124,
     "metadata": {},
     "output_type": "execute_result"
    }
   ],
   "source": [
    "a"
   ]
  },
  {
   "cell_type": "code",
   "execution_count": 123,
   "id": "520236e6",
   "metadata": {},
   "outputs": [
    {
     "data": {
      "text/plain": [
       "array([[ 1,  2,  3, 10, 20, 30],\n",
       "       [ 2,  3,  4, 20, 30, 40]])"
      ]
     },
     "execution_count": 123,
     "metadata": {},
     "output_type": "execute_result"
    }
   ],
   "source": [
    "np.append(a,[[10, 20, 30],[20,30,40]], axis=1)"
   ]
  },
  {
   "cell_type": "code",
   "execution_count": 125,
   "id": "18233e34",
   "metadata": {},
   "outputs": [
    {
     "data": {
      "text/plain": [
       "array([[ 1,  2,  3],\n",
       "       [ 2,  3,  4],\n",
       "       [10, 20, 30],\n",
       "       [20, 30, 40]])"
      ]
     },
     "execution_count": 125,
     "metadata": {},
     "output_type": "execute_result"
    }
   ],
   "source": [
    "np.append(a,[[10, 20, 30],[20,30,40]], axis=0)"
   ]
  },
  {
   "cell_type": "code",
   "execution_count": 127,
   "id": "f99bcc72",
   "metadata": {},
   "outputs": [
    {
     "data": {
      "text/plain": [
       "array([[1, 2, 3],\n",
       "       [2, 3, 4]])"
      ]
     },
     "execution_count": 127,
     "metadata": {},
     "output_type": "execute_result"
    }
   ],
   "source": [
    "a"
   ]
  },
  {
   "cell_type": "code",
   "execution_count": 142,
   "id": "3071013b",
   "metadata": {},
   "outputs": [],
   "source": [
    "x=np.insert(a,1,[11,33,66],axis=0)"
   ]
  },
  {
   "cell_type": "code",
   "execution_count": 139,
   "id": "a92885ad",
   "metadata": {},
   "outputs": [
    {
     "data": {
      "text/plain": [
       "array([[ 1, 66,  2,  3],\n",
       "       [ 2, 66,  3,  4]])"
      ]
     },
     "execution_count": 139,
     "metadata": {},
     "output_type": "execute_result"
    }
   ],
   "source": [
    "np.insert(a,1,66,axis=1)"
   ]
  },
  {
   "cell_type": "code",
   "execution_count": 143,
   "id": "c25bf3c3",
   "metadata": {},
   "outputs": [
    {
     "data": {
      "text/plain": [
       "array([[ 1,  2,  3],\n",
       "       [11, 33, 66],\n",
       "       [ 2,  3,  4]])"
      ]
     },
     "execution_count": 143,
     "metadata": {},
     "output_type": "execute_result"
    }
   ],
   "source": [
    "x"
   ]
  },
  {
   "cell_type": "code",
   "execution_count": 147,
   "id": "509dc5e5",
   "metadata": {},
   "outputs": [],
   "source": [
    "y = np.delete(x,1,axis=1)"
   ]
  },
  {
   "cell_type": "code",
   "execution_count": 148,
   "id": "437e1cfc",
   "metadata": {},
   "outputs": [
    {
     "data": {
      "text/plain": [
       "array([[ 1,  3],\n",
       "       [11, 66],\n",
       "       [ 2,  4]])"
      ]
     },
     "execution_count": 148,
     "metadata": {},
     "output_type": "execute_result"
    }
   ],
   "source": [
    "y"
   ]
  },
  {
   "cell_type": "code",
   "execution_count": 150,
   "id": "0f2616fc",
   "metadata": {},
   "outputs": [
    {
     "data": {
      "text/plain": [
       "array([[1, 2, 3],\n",
       "       [2, 3, 4]])"
      ]
     },
     "execution_count": 150,
     "metadata": {},
     "output_type": "execute_result"
    }
   ],
   "source": [
    "a"
   ]
  },
  {
   "cell_type": "code",
   "execution_count": 151,
   "id": "cdc299ba",
   "metadata": {},
   "outputs": [
    {
     "data": {
      "text/plain": [
       "array([[ 1,  2,  3],\n",
       "       [11, 33, 66],\n",
       "       [ 2,  3,  4]])"
      ]
     },
     "execution_count": 151,
     "metadata": {},
     "output_type": "execute_result"
    }
   ],
   "source": [
    "x"
   ]
  },
  {
   "cell_type": "code",
   "execution_count": 152,
   "id": "24013b30",
   "metadata": {},
   "outputs": [
    {
     "data": {
      "text/plain": [
       "array([ 1,  2,  4,  5,  6,  7,  8, 43])"
      ]
     },
     "execution_count": 152,
     "metadata": {},
     "output_type": "execute_result"
    }
   ],
   "source": [
    "uniq = np.array([1,2,43,4,5,6,7,7,8,8])\n",
    "np.unique(uniq)"
   ]
  },
  {
   "cell_type": "code",
   "execution_count": 162,
   "id": "ec240188",
   "metadata": {},
   "outputs": [
    {
     "name": "stdout",
     "output_type": "stream",
     "text": [
      "addition of two matrices\n",
      "[[12 14]\n",
      " [25 15]]\n",
      "\n",
      "\n",
      "subtraction of two matrices\n",
      "[[-10 -10]\n",
      " [-19  -7]]\n",
      "\n",
      "\n",
      "multiply of two matrices\n",
      "[[11 24]\n",
      " [66 44]]\n",
      "\n",
      "\n",
      "division of two matrices\n",
      "[[0.09090909 0.16666667]\n",
      " [0.13636364 0.36363636]]\n"
     ]
    }
   ],
   "source": [
    "a = np.array([[1,2],[3,4]])\n",
    "b = np.array([[11,12],[22,11]]) \n",
    "\n",
    "print('addition of two matrices')\n",
    "print(np.add(a,b))\n",
    "print('\\n')\n",
    "print('subtraction of two matrices')\n",
    "print(np.subtract(a,b))\n",
    "print('\\n')\n",
    "print('multiply of two matrices')\n",
    "print(np.multiply(a,b))\n",
    "print('\\n')\n",
    "print('division of two matrices')\n",
    "print(np.divide(a,b))"
   ]
  },
  {
   "cell_type": "code",
   "execution_count": 164,
   "id": "db0f40f5",
   "metadata": {},
   "outputs": [],
   "source": [
    "arr1 = np.array([3, 5, 6])"
   ]
  },
  {
   "cell_type": "code",
   "execution_count": 165,
   "id": "3c3536c6",
   "metadata": {},
   "outputs": [
    {
     "data": {
      "text/plain": [
       "array([ 27, 125, 216], dtype=int32)"
      ]
     },
     "execution_count": 165,
     "metadata": {},
     "output_type": "execute_result"
    }
   ],
   "source": [
    "np.power(arr1, 3)"
   ]
  },
  {
   "cell_type": "code",
   "execution_count": 166,
   "id": "fc154500",
   "metadata": {},
   "outputs": [
    {
     "data": {
      "text/plain": [
       "array([1.73205081, 2.23606798, 2.44948974])"
      ]
     },
     "execution_count": 166,
     "metadata": {},
     "output_type": "execute_result"
    }
   ],
   "source": [
    "np.sqrt(arr1)"
   ]
  },
  {
   "cell_type": "code",
   "execution_count": 169,
   "id": "e4f24431",
   "metadata": {},
   "outputs": [],
   "source": [
    "arr2 = np.array([[1,2,3],[4,5,6],[7,8,9]])"
   ]
  },
  {
   "cell_type": "code",
   "execution_count": 174,
   "id": "76f87f88",
   "metadata": {},
   "outputs": [
    {
     "data": {
      "text/plain": [
       "array([[1, 2, 3],\n",
       "       [4, 5, 6],\n",
       "       [7, 8, 9]])"
      ]
     },
     "execution_count": 174,
     "metadata": {},
     "output_type": "execute_result"
    }
   ],
   "source": [
    "arr2"
   ]
  },
  {
   "cell_type": "code",
   "execution_count": 176,
   "id": "56863971",
   "metadata": {},
   "outputs": [
    {
     "data": {
      "text/plain": [
       "array([2.6, 5.6, 8.6])"
      ]
     },
     "execution_count": 176,
     "metadata": {},
     "output_type": "execute_result"
    }
   ],
   "source": [
    "np.percentile(arr2, 80, axis = 1)"
   ]
  },
  {
   "cell_type": "code",
   "execution_count": 186,
   "id": "b7c56007",
   "metadata": {},
   "outputs": [
    {
     "name": "stdout",
     "output_type": "stream",
     "text": [
      "[2. 5. 8.]\n",
      "[2. 5. 8.]\n",
      "[0.81649658 0.81649658 0.81649658]\n"
     ]
    }
   ],
   "source": [
    "print(np.mean(arr2,axis=1))\n",
    "print(np.median(arr2,axis=1))\n",
    "print(np.std(arr2,axis=1))"
   ]
  },
  {
   "cell_type": "code",
   "execution_count": 187,
   "id": "52da9ef8",
   "metadata": {},
   "outputs": [
    {
     "name": "stdout",
     "output_type": "stream",
     "text": [
      "[4. 5. 6.]\n",
      "[4. 5. 6.]\n",
      "[2.44948974 2.44948974 2.44948974]\n"
     ]
    }
   ],
   "source": [
    "print(np.mean(arr2,axis=0))\n",
    "print(np.median(arr2,axis=0))\n",
    "print(np.std(arr2,axis=0))"
   ]
  },
  {
   "cell_type": "markdown",
   "id": "a05f3fd0",
   "metadata": {},
   "source": [
    "### Dataframes = it is nothing but a table\n",
    "#### every single column in the dataframe is called series\n"
   ]
  },
  {
   "cell_type": "markdown",
   "id": "b222561c",
   "metadata": {},
   "source": [
    "## Pandas"
   ]
  },
  {
   "cell_type": "code",
   "execution_count": 199,
   "id": "a3d870d0",
   "metadata": {},
   "outputs": [],
   "source": [
    "import pandas as pd"
   ]
  },
  {
   "cell_type": "code",
   "execution_count": 205,
   "id": "ae347281",
   "metadata": {},
   "outputs": [],
   "source": [
    "a = np.array([10, 2, 50, 70])\n",
    "s = pd.Series(a)"
   ]
  },
  {
   "cell_type": "code",
   "execution_count": 206,
   "id": "16bf290a",
   "metadata": {},
   "outputs": [
    {
     "data": {
      "text/plain": [
       "numpy.ndarray"
      ]
     },
     "execution_count": 206,
     "metadata": {},
     "output_type": "execute_result"
    }
   ],
   "source": [
    "type(a)"
   ]
  },
  {
   "cell_type": "code",
   "execution_count": 207,
   "id": "c8bb6547",
   "metadata": {},
   "outputs": [
    {
     "data": {
      "text/plain": [
       "pandas.core.series.Series"
      ]
     },
     "execution_count": 207,
     "metadata": {},
     "output_type": "execute_result"
    }
   ],
   "source": [
    "type(s)"
   ]
  },
  {
   "cell_type": "code",
   "execution_count": 208,
   "id": "d3d201ad",
   "metadata": {},
   "outputs": [
    {
     "name": "stdout",
     "output_type": "stream",
     "text": [
      "0    10\n",
      "1     2\n",
      "2    50\n",
      "3    70\n",
      "dtype: int32\n"
     ]
    }
   ],
   "source": [
    "print(s)"
   ]
  },
  {
   "cell_type": "code",
   "execution_count": 213,
   "id": "e1416de7",
   "metadata": {},
   "outputs": [],
   "source": [
    "a = np.array([10, 2, 50, 70])\n",
    "s = pd.Series(a, index = [10, 20, 30, 40])"
   ]
  },
  {
   "cell_type": "code",
   "execution_count": 214,
   "id": "cba21b46",
   "metadata": {},
   "outputs": [
    {
     "name": "stdout",
     "output_type": "stream",
     "text": [
      "10    10\n",
      "20     2\n",
      "30    50\n",
      "40    70\n",
      "dtype: int32\n"
     ]
    }
   ],
   "source": [
    "print(s)"
   ]
  },
  {
   "cell_type": "code",
   "execution_count": 252,
   "id": "17d80dfd",
   "metadata": {},
   "outputs": [],
   "source": [
    "a1 = {10: 'chennai', 20: 'hyderabad', 30: 'banglore'}\n",
    "s2 = pd.Series(a1, index = [1, 2, 3])"
   ]
  },
  {
   "cell_type": "code",
   "execution_count": 253,
   "id": "ee7e5820",
   "metadata": {
    "scrolled": true
   },
   "outputs": [
    {
     "name": "stdout",
     "output_type": "stream",
     "text": [
      "1    NaN\n",
      "2    NaN\n",
      "3    NaN\n",
      "dtype: object\n"
     ]
    }
   ],
   "source": [
    "print(s2)"
   ]
  },
  {
   "cell_type": "code",
   "execution_count": 241,
   "id": "00ab1f25",
   "metadata": {},
   "outputs": [
    {
     "data": {
      "text/plain": [
       "numpy.ndarray"
      ]
     },
     "execution_count": 241,
     "metadata": {},
     "output_type": "execute_result"
    }
   ],
   "source": [
    "type(a1)"
   ]
  },
  {
   "cell_type": "code",
   "execution_count": 242,
   "id": "34588259",
   "metadata": {},
   "outputs": [
    {
     "data": {
      "text/plain": [
       "pandas.core.series.Series"
      ]
     },
     "execution_count": 242,
     "metadata": {},
     "output_type": "execute_result"
    }
   ],
   "source": [
    "type(s2)"
   ]
  },
  {
   "cell_type": "code",
   "execution_count": 258,
   "id": "6f911c13",
   "metadata": {},
   "outputs": [],
   "source": [
    "a1 = {10: 'chennai', 20: 'hyderabad', 30: 'banglore'}\n",
    "s2 = pd.Series(a1, index = [20, 30, 10])"
   ]
  },
  {
   "cell_type": "code",
   "execution_count": 261,
   "id": "af8c9f20",
   "metadata": {},
   "outputs": [
    {
     "name": "stdout",
     "output_type": "stream",
     "text": [
      "20    hyderabad\n",
      "30     banglore\n",
      "10      chennai\n",
      "dtype: object\n",
      "hyderabad\n"
     ]
    }
   ],
   "source": [
    "print(s2)"
   ]
  },
  {
   "cell_type": "code",
   "execution_count": 267,
   "id": "d4d2b711",
   "metadata": {},
   "outputs": [],
   "source": [
    "a = np.array([10, 2, 50, 70])\n",
    "len1 = len(a)\n",
    "s = pd.Series(a, index = range(1, len1+1))"
   ]
  },
  {
   "cell_type": "code",
   "execution_count": 268,
   "id": "3db3463a",
   "metadata": {},
   "outputs": [
    {
     "name": "stdout",
     "output_type": "stream",
     "text": [
      "1    10\n",
      "2     2\n",
      "3    50\n",
      "4    70\n",
      "dtype: int32\n"
     ]
    }
   ],
   "source": [
    "print(s)"
   ]
  },
  {
   "cell_type": "code",
   "execution_count": 271,
   "id": "999a00c8",
   "metadata": {},
   "outputs": [],
   "source": [
    "a1 = {10: 'chennai', 20: 'hyderabad', 30: 'banglore'}\n",
    "s2 = pd.Series(a1, index = [20, 30, 10])"
   ]
  },
  {
   "cell_type": "code",
   "execution_count": 275,
   "id": "35b0d300",
   "metadata": {},
   "outputs": [
    {
     "data": {
      "text/plain": [
       "10      chennai\n",
       "20    hyderabad\n",
       "30     banglore\n",
       "dtype: object"
      ]
     },
     "execution_count": 275,
     "metadata": {},
     "output_type": "execute_result"
    }
   ],
   "source": [
    "s1 = pd.Series(a1)\n",
    "s1"
   ]
  },
  {
   "cell_type": "code",
   "execution_count": null,
   "id": "e753d27c",
   "metadata": {},
   "outputs": [],
   "source": []
  },
  {
   "cell_type": "code",
   "execution_count": null,
   "id": "8c9bcacf",
   "metadata": {},
   "outputs": [],
   "source": []
  },
  {
   "cell_type": "code",
   "execution_count": null,
   "id": "7693b572",
   "metadata": {},
   "outputs": [],
   "source": []
  },
  {
   "cell_type": "code",
   "execution_count": null,
   "id": "32cff3ff",
   "metadata": {},
   "outputs": [],
   "source": []
  },
  {
   "cell_type": "code",
   "execution_count": null,
   "id": "f41f760b",
   "metadata": {},
   "outputs": [],
   "source": []
  },
  {
   "cell_type": "code",
   "execution_count": null,
   "id": "068513b6",
   "metadata": {},
   "outputs": [],
   "source": []
  },
  {
   "cell_type": "code",
   "execution_count": null,
   "id": "c6c8731c",
   "metadata": {},
   "outputs": [],
   "source": []
  }
 ],
 "metadata": {
  "kernelspec": {
   "display_name": "Python 3 (ipykernel)",
   "language": "python",
   "name": "python3"
  },
  "language_info": {
   "codemirror_mode": {
    "name": "ipython",
    "version": 3
   },
   "file_extension": ".py",
   "mimetype": "text/x-python",
   "name": "python",
   "nbconvert_exporter": "python",
   "pygments_lexer": "ipython3",
   "version": "3.9.7"
  }
 },
 "nbformat": 4,
 "nbformat_minor": 5
}
