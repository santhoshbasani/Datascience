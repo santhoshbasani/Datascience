{
 "cells": [
  {
   "cell_type": "markdown",
   "id": "8e88acfc",
   "metadata": {},
   "source": [
    "## Test on Python - 04/16"
   ]
  },
  {
   "cell_type": "code",
   "execution_count": 1,
   "id": "c784d2b7",
   "metadata": {},
   "outputs": [],
   "source": [
    "import os\n",
    "import pandas as pd\n",
    "import numpy as np"
   ]
  },
  {
   "cell_type": "markdown",
   "id": "b26ca5bb",
   "metadata": {},
   "source": [
    "### 1. Write a program (with function) which takes a sequence of numbers and check if all numbers are unique."
   ]
  },
  {
   "cell_type": "code",
   "execution_count": 46,
   "id": "e0f0177b",
   "metadata": {},
   "outputs": [
    {
     "name": "stdout",
     "output_type": "stream",
     "text": [
      "Function is to check the sequence of numbers are unique or not\n",
      "\n",
      "\n",
      "Result for list1 : \n",
      "\n",
      "[2, 3, 3, 5, 6, 8]\n",
      "i: 2\n",
      "j: 0\n",
      "i: 3\n",
      "j: 2\n",
      "i: 3\n",
      "j: 3\n",
      "Sequence of numbers are not unique\n",
      "\n",
      "\n",
      "Result for list2 : \n",
      "\n",
      "[2, 3, 4, 7, 8, 9]\n",
      "i: 2\n",
      "j: 0\n",
      "i: 3\n",
      "j: 2\n",
      "i: 4\n",
      "j: 3\n",
      "i: 7\n",
      "j: 4\n",
      "i: 8\n",
      "j: 7\n",
      "i: 9\n",
      "j: 8\n",
      "Sequence of numbers are unique\n"
     ]
    }
   ],
   "source": [
    "def check_seq(list1):\n",
    "    '''Function is to check the sequence of numbers are unique or not'''\n",
    "    j = 0\n",
    "    k = 0\n",
    "    list1.sort()\n",
    "    print(list1)\n",
    "    for i in list1:\n",
    "        print('i:', i)\n",
    "        print('j:', j)\n",
    "        if j == 0:\n",
    "            pass\n",
    "        else:\n",
    "            if i == j:\n",
    "                print('Sequence of numbers are not unique')\n",
    "                k = 1\n",
    "                break\n",
    "        j = i\n",
    "        \n",
    "    if k != 1:\n",
    "        print('Sequence of numbers are unique')\n",
    "\n",
    "list1 = [2,3,8,6,3,5]\n",
    "list2 = [3,8,7,9,2,4]\n",
    "\n",
    "print(check_seq.__doc__)\n",
    "print(\"\\n\")\n",
    "print(\"Result for list1 : \\n\")\n",
    "\n",
    "check_seq(list1)\n",
    "print(\"\\n\")\n",
    "print(\"Result for list2 : \\n\")\n",
    "check_seq(list2)"
   ]
  },
  {
   "cell_type": "markdown",
   "id": "d521961e",
   "metadata": {},
   "source": [
    "### 2. Python program to find out the average of a set of integers\n",
    "#### a. Note: Don’t use the pre-defined functions like np.mean\n",
    "#### b. For ex: If input is 5, the output should be average of 1+2+3+4+5\n"
   ]
  },
  {
   "cell_type": "code",
   "execution_count": 54,
   "id": "56365c24",
   "metadata": {},
   "outputs": [
    {
     "name": "stdout",
     "output_type": "stream",
     "text": [
      "enter the value : 5\n",
      "Function is to calculate the average of the set of integers\n",
      "Average of :  5 is 3.0\n"
     ]
    }
   ],
   "source": [
    "def avg_fun(x):\n",
    "    '''Function is to calculate the average of the set of integers'''\n",
    "    if x == 1:\n",
    "        return x\n",
    "    else:\n",
    "        return (x + avg_fun(x-1))\n",
    "num = int(input('enter the value : '))\n",
    "n = avg_fun(num)\n",
    "print(avg_fun.__doc__)\n",
    "print(\"Average of : \", num, 'is', n/num)\n",
    "    "
   ]
  },
  {
   "cell_type": "markdown",
   "id": "24854c1e",
   "metadata": {},
   "source": [
    "### 3. Python program to check whether the given integer is a multiple of both 5 and 7"
   ]
  },
  {
   "cell_type": "code",
   "execution_count": 62,
   "id": "a584ba02",
   "metadata": {},
   "outputs": [
    {
     "name": "stdout",
     "output_type": "stream",
     "text": [
      "Enter the value : 70\n",
      "Function is to check the entered value is multiple of 5 and 7 \n",
      " the given number is multiple of both 5 and 7\n"
     ]
    }
   ],
   "source": [
    "def check_int(num):\n",
    "    '''Function is to check the entered value is multiple of 5 and 7 '''\n",
    "    if (num%5 == 0) and (num%7 == 0):\n",
    "        print(\" the given number is multiple of both 5 and 7\")\n",
    "    else:\n",
    "        print(\"The given number is not multiple of 5 and 7\")\n",
    "\n",
    "num = int(input(\"Enter the value : \"))\n",
    "print(check_int.__doc__)\n",
    "check_int(num)"
   ]
  },
  {
   "cell_type": "markdown",
   "id": "8b2cf42b",
   "metadata": {},
   "source": [
    "### 4. Python program to display the given integer in reverse manner\n",
    "#### a. Ex: input 852, output should be 258"
   ]
  },
  {
   "cell_type": "code",
   "execution_count": 65,
   "id": "bf6f08a4",
   "metadata": {},
   "outputs": [
    {
     "name": "stdout",
     "output_type": "stream",
     "text": [
      "258\n"
     ]
    }
   ],
   "source": [
    "def rev_num(num):\n",
    "    j = ''\n",
    "    num_str = str(num)\n",
    "    for i in num_str:\n",
    "        j = i + j\n",
    "    print(j)\n",
    "rev_num(852)"
   ]
  },
  {
   "cell_type": "code",
   "execution_count": 68,
   "id": "6802e50c",
   "metadata": {},
   "outputs": [
    {
     "name": "stdout",
     "output_type": "stream",
     "text": [
      "258\n"
     ]
    }
   ],
   "source": [
    "def gen_rev(arg1):\n",
    "    a = ''\n",
    "    arg1 = str(arg1)\n",
    "    len1 = len(arg1)\n",
    "    for i in range(len1-1,-1,-1):\n",
    "        a = a + arg1[i]\n",
    "    print(a)\n",
    "rev = gen_rev(852)"
   ]
  },
  {
   "cell_type": "markdown",
   "id": "e6705ed0",
   "metadata": {},
   "source": [
    "### 5. Create an inner function to calculate the addition in the following way\n",
    "#### a. Create an outer function that will accept two parameters, a and b\n",
    "#### b. Create an inner function inside an outer function that will calculate the addition of a and b\n",
    "#### c. At last, an outer function will add 5 into addition and return it"
   ]
  },
  {
   "cell_type": "code",
   "execution_count": 72,
   "id": "d4ad7838",
   "metadata": {},
   "outputs": [
    {
     "data": {
      "text/plain": [
       "11"
      ]
     },
     "execution_count": 72,
     "metadata": {},
     "output_type": "execute_result"
    }
   ],
   "source": [
    "def out_fun(a,b):\n",
    "    def inn_fun():\n",
    "        c = 0;\n",
    "        c = a + b\n",
    "        return c\n",
    "    return inn_fun()\n",
    "out_fun(5,6)"
   ]
  },
  {
   "cell_type": "markdown",
   "id": "105d5a3f",
   "metadata": {},
   "source": [
    "### 6. Python Program to Check Leap Year\n",
    "#### a. A leap year is exactly divisible by 4 except for century years (years ending with 00). The century year is a leap year only if it is perfectly divisible by 400\n",
    "#### b. For ex: 2017 is not a leap year, 1900 is a not leap year, 2012 is a leap year, 2000 is a leap year"
   ]
  },
  {
   "cell_type": "code",
   "execution_count": 84,
   "id": "81cdccc2",
   "metadata": {},
   "outputs": [
    {
     "name": "stdout",
     "output_type": "stream",
     "text": [
      "1600\n",
      "It is a leap year\n"
     ]
    }
   ],
   "source": [
    "def check_leap_yr(year):\n",
    "    year = int(year)\n",
    "    print(year)\n",
    "    if year%4 == 0:\n",
    "        if year%100 == 0:\n",
    "            if year%400 == 0:\n",
    "                print(\"It is a leap year\")\n",
    "            else:\n",
    "                print(\"It is not a leap year\")\n",
    "        else:\n",
    "            print(\"It is a leap year\")\n",
    "    else:\n",
    "        print(\"It is not a leap year\")\n",
    "check_leap_yr(1600)"
   ]
  },
  {
   "cell_type": "markdown",
   "id": "3e95699f",
   "metadata": {},
   "source": [
    "### Part 2 – Pandas exercise (basic)"
   ]
  },
  {
   "cell_type": "code",
   "execution_count": 85,
   "id": "e424dbb4",
   "metadata": {},
   "outputs": [],
   "source": [
    "os.chdir(r\"C:\\Users\\kalya\\Santhosh\\Data Science\\Notebook\\Preprocessing\")"
   ]
  },
  {
   "cell_type": "code",
   "execution_count": 86,
   "id": "a2de555c",
   "metadata": {},
   "outputs": [],
   "source": [
    "df = pd.read_csv('Auto.csv')"
   ]
  },
  {
   "cell_type": "code",
   "execution_count": 87,
   "id": "fb0f2f64",
   "metadata": {},
   "outputs": [
    {
     "data": {
      "text/html": [
       "<div>\n",
       "<style scoped>\n",
       "    .dataframe tbody tr th:only-of-type {\n",
       "        vertical-align: middle;\n",
       "    }\n",
       "\n",
       "    .dataframe tbody tr th {\n",
       "        vertical-align: top;\n",
       "    }\n",
       "\n",
       "    .dataframe thead th {\n",
       "        text-align: right;\n",
       "    }\n",
       "</style>\n",
       "<table border=\"1\" class=\"dataframe\">\n",
       "  <thead>\n",
       "    <tr style=\"text-align: right;\">\n",
       "      <th></th>\n",
       "      <th>symboling</th>\n",
       "      <th>normalized_losses</th>\n",
       "      <th>make</th>\n",
       "      <th>fuel_type</th>\n",
       "      <th>aspiration</th>\n",
       "      <th>num_doors</th>\n",
       "      <th>body_style</th>\n",
       "      <th>drive_wheels</th>\n",
       "      <th>engine_location</th>\n",
       "      <th>wheel_base</th>\n",
       "      <th>...</th>\n",
       "      <th>engine_size</th>\n",
       "      <th>fuel_system</th>\n",
       "      <th>bore</th>\n",
       "      <th>stroke</th>\n",
       "      <th>compression_ratio</th>\n",
       "      <th>horsepower</th>\n",
       "      <th>peak_rpm</th>\n",
       "      <th>city_mpg</th>\n",
       "      <th>highway_mpg</th>\n",
       "      <th>price</th>\n",
       "    </tr>\n",
       "  </thead>\n",
       "  <tbody>\n",
       "    <tr>\n",
       "      <th>0</th>\n",
       "      <td>3</td>\n",
       "      <td>NaN</td>\n",
       "      <td>alfa-romero</td>\n",
       "      <td>gas</td>\n",
       "      <td>std</td>\n",
       "      <td>two</td>\n",
       "      <td>convertible</td>\n",
       "      <td>rwd</td>\n",
       "      <td>front</td>\n",
       "      <td>88.6</td>\n",
       "      <td>...</td>\n",
       "      <td>130</td>\n",
       "      <td>mpfi</td>\n",
       "      <td>3.47</td>\n",
       "      <td>2.68</td>\n",
       "      <td>9.0</td>\n",
       "      <td>111.0</td>\n",
       "      <td>5000.0</td>\n",
       "      <td>21</td>\n",
       "      <td>27</td>\n",
       "      <td>13495.0</td>\n",
       "    </tr>\n",
       "    <tr>\n",
       "      <th>1</th>\n",
       "      <td>3</td>\n",
       "      <td>NaN</td>\n",
       "      <td>alfa-romero</td>\n",
       "      <td>gas</td>\n",
       "      <td>std</td>\n",
       "      <td>two</td>\n",
       "      <td>convertible</td>\n",
       "      <td>rwd</td>\n",
       "      <td>front</td>\n",
       "      <td>88.6</td>\n",
       "      <td>...</td>\n",
       "      <td>130</td>\n",
       "      <td>mpfi</td>\n",
       "      <td>3.47</td>\n",
       "      <td>2.68</td>\n",
       "      <td>9.0</td>\n",
       "      <td>111.0</td>\n",
       "      <td>5000.0</td>\n",
       "      <td>21</td>\n",
       "      <td>27</td>\n",
       "      <td>16500.0</td>\n",
       "    </tr>\n",
       "    <tr>\n",
       "      <th>2</th>\n",
       "      <td>1</td>\n",
       "      <td>NaN</td>\n",
       "      <td>alfa-romero</td>\n",
       "      <td>gas</td>\n",
       "      <td>std</td>\n",
       "      <td>two</td>\n",
       "      <td>hatchback</td>\n",
       "      <td>rwd</td>\n",
       "      <td>front</td>\n",
       "      <td>94.5</td>\n",
       "      <td>...</td>\n",
       "      <td>152</td>\n",
       "      <td>mpfi</td>\n",
       "      <td>2.68</td>\n",
       "      <td>3.47</td>\n",
       "      <td>9.0</td>\n",
       "      <td>154.0</td>\n",
       "      <td>5000.0</td>\n",
       "      <td>19</td>\n",
       "      <td>26</td>\n",
       "      <td>16500.0</td>\n",
       "    </tr>\n",
       "    <tr>\n",
       "      <th>3</th>\n",
       "      <td>2</td>\n",
       "      <td>164.0</td>\n",
       "      <td>audi</td>\n",
       "      <td>gas</td>\n",
       "      <td>std</td>\n",
       "      <td>four</td>\n",
       "      <td>sedan</td>\n",
       "      <td>fwd</td>\n",
       "      <td>front</td>\n",
       "      <td>99.8</td>\n",
       "      <td>...</td>\n",
       "      <td>109</td>\n",
       "      <td>mpfi</td>\n",
       "      <td>3.19</td>\n",
       "      <td>3.40</td>\n",
       "      <td>10.0</td>\n",
       "      <td>102.0</td>\n",
       "      <td>5500.0</td>\n",
       "      <td>24</td>\n",
       "      <td>30</td>\n",
       "      <td>13950.0</td>\n",
       "    </tr>\n",
       "    <tr>\n",
       "      <th>4</th>\n",
       "      <td>2</td>\n",
       "      <td>164.0</td>\n",
       "      <td>audi</td>\n",
       "      <td>gas</td>\n",
       "      <td>std</td>\n",
       "      <td>four</td>\n",
       "      <td>sedan</td>\n",
       "      <td>4wd</td>\n",
       "      <td>front</td>\n",
       "      <td>99.4</td>\n",
       "      <td>...</td>\n",
       "      <td>136</td>\n",
       "      <td>mpfi</td>\n",
       "      <td>3.19</td>\n",
       "      <td>3.40</td>\n",
       "      <td>8.0</td>\n",
       "      <td>115.0</td>\n",
       "      <td>5500.0</td>\n",
       "      <td>18</td>\n",
       "      <td>22</td>\n",
       "      <td>17450.0</td>\n",
       "    </tr>\n",
       "  </tbody>\n",
       "</table>\n",
       "<p>5 rows × 26 columns</p>\n",
       "</div>"
      ],
      "text/plain": [
       "   symboling  normalized_losses         make fuel_type aspiration num_doors  \\\n",
       "0          3                NaN  alfa-romero       gas        std       two   \n",
       "1          3                NaN  alfa-romero       gas        std       two   \n",
       "2          1                NaN  alfa-romero       gas        std       two   \n",
       "3          2              164.0         audi       gas        std      four   \n",
       "4          2              164.0         audi       gas        std      four   \n",
       "\n",
       "    body_style drive_wheels engine_location  wheel_base  ...  engine_size  \\\n",
       "0  convertible          rwd           front        88.6  ...          130   \n",
       "1  convertible          rwd           front        88.6  ...          130   \n",
       "2    hatchback          rwd           front        94.5  ...          152   \n",
       "3        sedan          fwd           front        99.8  ...          109   \n",
       "4        sedan          4wd           front        99.4  ...          136   \n",
       "\n",
       "   fuel_system  bore  stroke compression_ratio horsepower  peak_rpm city_mpg  \\\n",
       "0         mpfi  3.47    2.68               9.0      111.0    5000.0       21   \n",
       "1         mpfi  3.47    2.68               9.0      111.0    5000.0       21   \n",
       "2         mpfi  2.68    3.47               9.0      154.0    5000.0       19   \n",
       "3         mpfi  3.19    3.40              10.0      102.0    5500.0       24   \n",
       "4         mpfi  3.19    3.40               8.0      115.0    5500.0       18   \n",
       "\n",
       "   highway_mpg    price  \n",
       "0           27  13495.0  \n",
       "1           27  16500.0  \n",
       "2           26  16500.0  \n",
       "3           30  13950.0  \n",
       "4           22  17450.0  \n",
       "\n",
       "[5 rows x 26 columns]"
      ]
     },
     "execution_count": 87,
     "metadata": {},
     "output_type": "execute_result"
    }
   ],
   "source": [
    "df.head()"
   ]
  },
  {
   "cell_type": "code",
   "execution_count": 88,
   "id": "812ebb39",
   "metadata": {},
   "outputs": [
    {
     "data": {
      "text/plain": [
       "symboling              int64\n",
       "normalized_losses    float64\n",
       "make                  object\n",
       "fuel_type             object\n",
       "aspiration            object\n",
       "num_doors             object\n",
       "body_style            object\n",
       "drive_wheels          object\n",
       "engine_location       object\n",
       "wheel_base           float64\n",
       "length               float64\n",
       "width                float64\n",
       "height               float64\n",
       "curb_weight            int64\n",
       "engine_type           object\n",
       "num_cylinders         object\n",
       "engine_size            int64\n",
       "fuel_system           object\n",
       "bore                 float64\n",
       "stroke               float64\n",
       "compression_ratio    float64\n",
       "horsepower           float64\n",
       "peak_rpm             float64\n",
       "city_mpg               int64\n",
       "highway_mpg            int64\n",
       "price                float64\n",
       "dtype: object"
      ]
     },
     "execution_count": 88,
     "metadata": {},
     "output_type": "execute_result"
    }
   ],
   "source": [
    "df.dtypes"
   ]
  },
  {
   "cell_type": "code",
   "execution_count": 90,
   "id": "c4faec5e",
   "metadata": {},
   "outputs": [
    {
     "data": {
      "text/plain": [
       "Index(['symboling', 'normalized_losses', 'make', 'fuel_type', 'aspiration',\n",
       "       'num_doors', 'body_style', 'drive_wheels', 'engine_location',\n",
       "       'wheel_base', 'length', 'width', 'height', 'curb_weight', 'engine_type',\n",
       "       'num_cylinders', 'engine_size', 'fuel_system', 'bore', 'stroke',\n",
       "       'compression_ratio', 'horsepower', 'peak_rpm', 'city_mpg',\n",
       "       'highway_mpg', 'price'],\n",
       "      dtype='object')"
      ]
     },
     "execution_count": 90,
     "metadata": {},
     "output_type": "execute_result"
    }
   ],
   "source": [
    "df.columns"
   ]
  },
  {
   "cell_type": "markdown",
   "id": "ed977749",
   "metadata": {},
   "source": [
    "### 1. Find the most expensive car company name"
   ]
  },
  {
   "cell_type": "code",
   "execution_count": 99,
   "id": "cf8ba6d0",
   "metadata": {},
   "outputs": [
    {
     "data": {
      "text/html": [
       "<div>\n",
       "<style scoped>\n",
       "    .dataframe tbody tr th:only-of-type {\n",
       "        vertical-align: middle;\n",
       "    }\n",
       "\n",
       "    .dataframe tbody tr th {\n",
       "        vertical-align: top;\n",
       "    }\n",
       "\n",
       "    .dataframe thead th {\n",
       "        text-align: right;\n",
       "    }\n",
       "</style>\n",
       "<table border=\"1\" class=\"dataframe\">\n",
       "  <thead>\n",
       "    <tr style=\"text-align: right;\">\n",
       "      <th></th>\n",
       "      <th>make</th>\n",
       "      <th>price</th>\n",
       "    </tr>\n",
       "  </thead>\n",
       "  <tbody>\n",
       "    <tr>\n",
       "      <th>74</th>\n",
       "      <td>mercedes-benz</td>\n",
       "      <td>45400.0</td>\n",
       "    </tr>\n",
       "  </tbody>\n",
       "</table>\n",
       "</div>"
      ],
      "text/plain": [
       "             make    price\n",
       "74  mercedes-benz  45400.0"
      ]
     },
     "execution_count": 99,
     "metadata": {},
     "output_type": "execute_result"
    }
   ],
   "source": [
    "df[df['price'] == df['price'].max()][['make', 'price']]"
   ]
  },
  {
   "cell_type": "markdown",
   "id": "e0e4ea42",
   "metadata": {},
   "source": [
    "### 2. Count total cars per company"
   ]
  },
  {
   "cell_type": "code",
   "execution_count": 109,
   "id": "01d1aafb",
   "metadata": {},
   "outputs": [
    {
     "data": {
      "text/plain": [
       "mercury           1\n",
       "renault           2\n",
       "alfa-romero       3\n",
       "chevrolet         3\n",
       "jaguar            3\n",
       "isuzu             4\n",
       "porsche           5\n",
       "saab              6\n",
       "plymouth          7\n",
       "audi              7\n",
       "bmw               8\n",
       "mercedes-benz     8\n",
       "dodge             9\n",
       "volvo            11\n",
       "peugot           11\n",
       "subaru           12\n",
       "volkswagen       12\n",
       "honda            13\n",
       "mitsubishi       13\n",
       "mazda            17\n",
       "nissan           18\n",
       "toyota           32\n",
       "Name: make, dtype: int64"
      ]
     },
     "execution_count": 109,
     "metadata": {},
     "output_type": "execute_result"
    }
   ],
   "source": [
    "df['make'].value_counts().sort_values()"
   ]
  },
  {
   "cell_type": "markdown",
   "id": "d8d2a6c3",
   "metadata": {},
   "source": [
    "### 3. Find each company’s highest price car"
   ]
  },
  {
   "cell_type": "code",
   "execution_count": 115,
   "id": "88adee4f",
   "metadata": {},
   "outputs": [
    {
     "data": {
      "text/plain": [
       "make\n",
       "alfa-romero      16500.0\n",
       "audi             23875.0\n",
       "bmw              41315.0\n",
       "chevrolet         6575.0\n",
       "dodge            12964.0\n",
       "honda            12945.0\n",
       "isuzu            11048.0\n",
       "jaguar           36000.0\n",
       "mazda            18344.0\n",
       "mercedes-benz    45400.0\n",
       "mercury          16503.0\n",
       "mitsubishi       14869.0\n",
       "nissan           19699.0\n",
       "peugot           18150.0\n",
       "plymouth         12764.0\n",
       "porsche          37028.0\n",
       "renault           9895.0\n",
       "saab             18620.0\n",
       "subaru           11694.0\n",
       "toyota           17669.0\n",
       "volkswagen       13845.0\n",
       "volvo            22625.0\n",
       "Name: price, dtype: float64"
      ]
     },
     "execution_count": 115,
     "metadata": {},
     "output_type": "execute_result"
    }
   ],
   "source": [
    "df.groupby(['make'])['price'].max()"
   ]
  },
  {
   "cell_type": "markdown",
   "id": "c9a21fce",
   "metadata": {},
   "source": [
    "### 4. Sort all cars by Price column"
   ]
  },
  {
   "cell_type": "code",
   "execution_count": 132,
   "id": "38421d37",
   "metadata": {},
   "outputs": [
    {
     "data": {
      "text/html": [
       "<div>\n",
       "<style scoped>\n",
       "    .dataframe tbody tr th:only-of-type {\n",
       "        vertical-align: middle;\n",
       "    }\n",
       "\n",
       "    .dataframe tbody tr th {\n",
       "        vertical-align: top;\n",
       "    }\n",
       "\n",
       "    .dataframe thead th {\n",
       "        text-align: right;\n",
       "    }\n",
       "</style>\n",
       "<table border=\"1\" class=\"dataframe\">\n",
       "  <thead>\n",
       "    <tr style=\"text-align: right;\">\n",
       "      <th></th>\n",
       "      <th>make</th>\n",
       "      <th>price</th>\n",
       "    </tr>\n",
       "  </thead>\n",
       "  <tbody>\n",
       "    <tr>\n",
       "      <th>0</th>\n",
       "      <td>mercedes-benz</td>\n",
       "      <td>45400.0</td>\n",
       "    </tr>\n",
       "    <tr>\n",
       "      <th>1</th>\n",
       "      <td>bmw</td>\n",
       "      <td>41315.0</td>\n",
       "    </tr>\n",
       "    <tr>\n",
       "      <th>2</th>\n",
       "      <td>mercedes-benz</td>\n",
       "      <td>40960.0</td>\n",
       "    </tr>\n",
       "    <tr>\n",
       "      <th>3</th>\n",
       "      <td>porsche</td>\n",
       "      <td>37028.0</td>\n",
       "    </tr>\n",
       "    <tr>\n",
       "      <th>4</th>\n",
       "      <td>bmw</td>\n",
       "      <td>36880.0</td>\n",
       "    </tr>\n",
       "    <tr>\n",
       "      <th>...</th>\n",
       "      <td>...</td>\n",
       "      <td>...</td>\n",
       "    </tr>\n",
       "    <tr>\n",
       "      <th>200</th>\n",
       "      <td>subaru</td>\n",
       "      <td>5118.0</td>\n",
       "    </tr>\n",
       "    <tr>\n",
       "      <th>201</th>\n",
       "      <td>audi</td>\n",
       "      <td>NaN</td>\n",
       "    </tr>\n",
       "    <tr>\n",
       "      <th>202</th>\n",
       "      <td>isuzu</td>\n",
       "      <td>NaN</td>\n",
       "    </tr>\n",
       "    <tr>\n",
       "      <th>203</th>\n",
       "      <td>isuzu</td>\n",
       "      <td>NaN</td>\n",
       "    </tr>\n",
       "    <tr>\n",
       "      <th>204</th>\n",
       "      <td>porsche</td>\n",
       "      <td>NaN</td>\n",
       "    </tr>\n",
       "  </tbody>\n",
       "</table>\n",
       "<p>205 rows × 2 columns</p>\n",
       "</div>"
      ],
      "text/plain": [
       "              make    price\n",
       "0    mercedes-benz  45400.0\n",
       "1              bmw  41315.0\n",
       "2    mercedes-benz  40960.0\n",
       "3          porsche  37028.0\n",
       "4              bmw  36880.0\n",
       "..             ...      ...\n",
       "200         subaru   5118.0\n",
       "201           audi      NaN\n",
       "202          isuzu      NaN\n",
       "203          isuzu      NaN\n",
       "204        porsche      NaN\n",
       "\n",
       "[205 rows x 2 columns]"
      ]
     },
     "execution_count": 132,
     "metadata": {},
     "output_type": "execute_result"
    }
   ],
   "source": [
    "df1 = df.sort_values(by = 'price', ascending = False, ignore_index = True)\n",
    "df1[['make','price']]"
   ]
  },
  {
   "cell_type": "markdown",
   "id": "9615710d",
   "metadata": {},
   "source": [
    "### 5. Group by make, fuel-type and body-style to calculate the average of city-mpg and highway\u0002mpg (miles per gallon)"
   ]
  },
  {
   "cell_type": "code",
   "execution_count": 134,
   "id": "c317852f",
   "metadata": {},
   "outputs": [
    {
     "name": "stderr",
     "output_type": "stream",
     "text": [
      "C:\\Users\\kalya\\AppData\\Local\\Temp/ipykernel_16108/2762477423.py:1: FutureWarning: Indexing with multiple keys (implicitly converted to a tuple of keys) will be deprecated, use a list instead.\n",
      "  df.groupby(['make','fuel_type','body_style'])['city_mpg','highway_mpg'].mean()\n"
     ]
    },
    {
     "data": {
      "text/html": [
       "<div>\n",
       "<style scoped>\n",
       "    .dataframe tbody tr th:only-of-type {\n",
       "        vertical-align: middle;\n",
       "    }\n",
       "\n",
       "    .dataframe tbody tr th {\n",
       "        vertical-align: top;\n",
       "    }\n",
       "\n",
       "    .dataframe thead th {\n",
       "        text-align: right;\n",
       "    }\n",
       "</style>\n",
       "<table border=\"1\" class=\"dataframe\">\n",
       "  <thead>\n",
       "    <tr style=\"text-align: right;\">\n",
       "      <th></th>\n",
       "      <th></th>\n",
       "      <th></th>\n",
       "      <th>city_mpg</th>\n",
       "      <th>highway_mpg</th>\n",
       "    </tr>\n",
       "    <tr>\n",
       "      <th>make</th>\n",
       "      <th>fuel_type</th>\n",
       "      <th>body_style</th>\n",
       "      <th></th>\n",
       "      <th></th>\n",
       "    </tr>\n",
       "  </thead>\n",
       "  <tbody>\n",
       "    <tr>\n",
       "      <th rowspan=\"2\" valign=\"top\">alfa-romero</th>\n",
       "      <th rowspan=\"2\" valign=\"top\">gas</th>\n",
       "      <th>convertible</th>\n",
       "      <td>21.000000</td>\n",
       "      <td>27.000000</td>\n",
       "    </tr>\n",
       "    <tr>\n",
       "      <th>hatchback</th>\n",
       "      <td>19.000000</td>\n",
       "      <td>26.000000</td>\n",
       "    </tr>\n",
       "    <tr>\n",
       "      <th rowspan=\"3\" valign=\"top\">audi</th>\n",
       "      <th rowspan=\"3\" valign=\"top\">gas</th>\n",
       "      <th>hatchback</th>\n",
       "      <td>16.000000</td>\n",
       "      <td>22.000000</td>\n",
       "    </tr>\n",
       "    <tr>\n",
       "      <th>sedan</th>\n",
       "      <td>19.400000</td>\n",
       "      <td>24.400000</td>\n",
       "    </tr>\n",
       "    <tr>\n",
       "      <th>wagon</th>\n",
       "      <td>19.000000</td>\n",
       "      <td>25.000000</td>\n",
       "    </tr>\n",
       "    <tr>\n",
       "      <th>...</th>\n",
       "      <th>...</th>\n",
       "      <th>...</th>\n",
       "      <td>...</td>\n",
       "      <td>...</td>\n",
       "    </tr>\n",
       "    <tr>\n",
       "      <th rowspan=\"2\" valign=\"top\">volkswagen</th>\n",
       "      <th rowspan=\"2\" valign=\"top\">gas</th>\n",
       "      <th>sedan</th>\n",
       "      <td>25.200000</td>\n",
       "      <td>31.600000</td>\n",
       "    </tr>\n",
       "    <tr>\n",
       "      <th>wagon</th>\n",
       "      <td>25.000000</td>\n",
       "      <td>31.000000</td>\n",
       "    </tr>\n",
       "    <tr>\n",
       "      <th rowspan=\"3\" valign=\"top\">volvo</th>\n",
       "      <th>diesel</th>\n",
       "      <th>sedan</th>\n",
       "      <td>26.000000</td>\n",
       "      <td>27.000000</td>\n",
       "    </tr>\n",
       "    <tr>\n",
       "      <th rowspan=\"2\" valign=\"top\">gas</th>\n",
       "      <th>sedan</th>\n",
       "      <td>20.428571</td>\n",
       "      <td>25.571429</td>\n",
       "    </tr>\n",
       "    <tr>\n",
       "      <th>wagon</th>\n",
       "      <td>21.333333</td>\n",
       "      <td>26.000000</td>\n",
       "    </tr>\n",
       "  </tbody>\n",
       "</table>\n",
       "<p>66 rows × 2 columns</p>\n",
       "</div>"
      ],
      "text/plain": [
       "                                    city_mpg  highway_mpg\n",
       "make        fuel_type body_style                         \n",
       "alfa-romero gas       convertible  21.000000    27.000000\n",
       "                      hatchback    19.000000    26.000000\n",
       "audi        gas       hatchback    16.000000    22.000000\n",
       "                      sedan        19.400000    24.400000\n",
       "                      wagon        19.000000    25.000000\n",
       "...                                      ...          ...\n",
       "volkswagen  gas       sedan        25.200000    31.600000\n",
       "                      wagon        25.000000    31.000000\n",
       "volvo       diesel    sedan        26.000000    27.000000\n",
       "            gas       sedan        20.428571    25.571429\n",
       "                      wagon        21.333333    26.000000\n",
       "\n",
       "[66 rows x 2 columns]"
      ]
     },
     "execution_count": 134,
     "metadata": {},
     "output_type": "execute_result"
    }
   ],
   "source": [
    "df.groupby(['make','fuel_type','body_style'])['city_mpg','highway_mpg'].mean()"
   ]
  },
  {
   "cell_type": "markdown",
   "id": "29a54b06",
   "metadata": {},
   "source": [
    "### Part 3 - MCQ:"
   ]
  },
  {
   "cell_type": "code",
   "execution_count": null,
   "id": "a4971527",
   "metadata": {},
   "outputs": [],
   "source": [
    "1st one answer is : 3\n",
    "    result = list(map(lambda r: r*3, filter(lambda f: f>3 or 0,data)))"
   ]
  },
  {
   "cell_type": "code",
   "execution_count": null,
   "id": "2e86538e",
   "metadata": {},
   "outputs": [],
   "source": [
    "2nd one answer is : IS NOT"
   ]
  },
  {
   "cell_type": "code",
   "execution_count": null,
   "id": "1e43bc58",
   "metadata": {},
   "outputs": [],
   "source": [
    "3rd one answer is : three\n",
    "    try:\n",
    "        foo()\n",
    "    catch:\n",
    "        except BaseException as variable:\n",
    "            print(variable)"
   ]
  },
  {
   "cell_type": "code",
   "execution_count": null,
   "id": "ae6dedad",
   "metadata": {},
   "outputs": [],
   "source": [
    "4th one answer is : print(\"{:.2f}\".format(3.142))"
   ]
  },
  {
   "cell_type": "markdown",
   "id": "15e1f068",
   "metadata": {},
   "source": [
    "5th one answer is : A generator will generate all the even integers from vector"
   ]
  },
  {
   "cell_type": "code",
   "execution_count": null,
   "id": "6406972b",
   "metadata": {},
   "outputs": [],
   "source": [
    "6th one answer is : 4 (z contins 4 value)"
   ]
  },
  {
   "cell_type": "code",
   "execution_count": null,
   "id": "fd2caeef",
   "metadata": {},
   "outputs": [],
   "source": [
    "7th one answer is : return (x,y)"
   ]
  },
  {
   "cell_type": "code",
   "execution_count": null,
   "id": "f165dbee",
   "metadata": {},
   "outputs": [],
   "source": [
    "8th one answer is as below :\n",
    "    before = [1,2,3,4,5,7]\n",
    "    after = [1,2,3,4,5,7]"
   ]
  },
  {
   "cell_type": "code",
   "execution_count": null,
   "id": "3cd2deeb",
   "metadata": {},
   "outputs": [],
   "source": [
    "9th one answere is : assertion failed"
   ]
  },
  {
   "cell_type": "code",
   "execution_count": null,
   "id": "2fcbf8e3",
   "metadata": {},
   "outputs": [],
   "source": [
    "10th one answer is : 300"
   ]
  },
  {
   "cell_type": "code",
   "execution_count": null,
   "id": "9e97a26a",
   "metadata": {},
   "outputs": [],
   "source": [
    "11th one answer is : slst = sort(lst)"
   ]
  },
  {
   "cell_type": "code",
   "execution_count": null,
   "id": "692ec9ec",
   "metadata": {},
   "outputs": [],
   "source": [
    "12th one answer is : METHODS"
   ]
  },
  {
   "cell_type": "code",
   "execution_count": null,
   "id": "33fed51d",
   "metadata": {},
   "outputs": [],
   "source": []
  },
  {
   "cell_type": "code",
   "execution_count": null,
   "id": "a86a4fdf",
   "metadata": {},
   "outputs": [],
   "source": []
  }
 ],
 "metadata": {
  "kernelspec": {
   "display_name": "Python 3 (ipykernel)",
   "language": "python",
   "name": "python3"
  },
  "language_info": {
   "codemirror_mode": {
    "name": "ipython",
    "version": 3
   },
   "file_extension": ".py",
   "mimetype": "text/x-python",
   "name": "python",
   "nbconvert_exporter": "python",
   "pygments_lexer": "ipython3",
   "version": "3.9.7"
  }
 },
 "nbformat": 4,
 "nbformat_minor": 5
}
