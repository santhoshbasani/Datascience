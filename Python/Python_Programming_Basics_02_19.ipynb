{
 "cells": [
  {
   "cell_type": "markdown",
   "id": "bf48fc35",
   "metadata": {},
   "source": [
    "## Day-5 session - 19th February 2022 on python\n",
    "\n",
    "1. Global and Local variables\n",
    "2. Global Keyword\n",
    "3. Nested Indexing\n",
    "4. Append, insert, remove, del, pop, count, reverse, sort, min, max and Extend, et., functions on list\n",
    "5. set list as empty\n",
    "6. Tuple operations\n",
    "7. Tuple unpacking\n",
    "8. Tuple mutable (example to make a chance in a tuple using list)\n",
    "9. set and it's mixed data types\n",
    "10. iterators\n"
   ]
  },
  {
   "cell_type": "code",
   "execution_count": 7,
   "id": "27ce1dcc",
   "metadata": {},
   "outputs": [
    {
     "name": "stdout",
     "output_type": "stream",
     "text": [
      "Inside the function:  Global Variable\n",
      "Outside the function:  Global Variable\n"
     ]
    }
   ],
   "source": [
    "c = 'Global Variable'\n",
    "def func1():\n",
    "    x = 100\n",
    "    print(\"Inside the function: \",c)\n",
    "\n",
    "func1()\n",
    "print(\"Outside the function: \",c)"
   ]
  },
  {
   "cell_type": "code",
   "execution_count": 9,
   "id": "23086d87",
   "metadata": {},
   "outputs": [
    {
     "name": "stdout",
     "output_type": "stream",
     "text": [
      "Local variable\n"
     ]
    }
   ],
   "source": [
    "def func2():\n",
    "    local_var = 'Local variable'\n",
    "    print(local_var)\n",
    "    local_var\n",
    "func2()\n",
    "##local_var"
   ]
  },
  {
   "cell_type": "code",
   "execution_count": 10,
   "id": "43dcc8fe",
   "metadata": {},
   "outputs": [
    {
     "name": "stdout",
     "output_type": "stream",
     "text": [
      "Local variable\n"
     ]
    },
    {
     "ename": "NameError",
     "evalue": "name 'local_var' is not defined",
     "output_type": "error",
     "traceback": [
      "\u001b[1;31m---------------------------------------------------------------------------\u001b[0m",
      "\u001b[1;31mNameError\u001b[0m                                 Traceback (most recent call last)",
      "\u001b[1;32m~\\AppData\\Local\\Temp/ipykernel_107772/2642556516.py\u001b[0m in \u001b[0;36m<module>\u001b[1;34m\u001b[0m\n\u001b[0;32m      4\u001b[0m \u001b[1;31m##    local_var\u001b[0m\u001b[1;33m\u001b[0m\u001b[1;33m\u001b[0m\u001b[0m\n\u001b[0;32m      5\u001b[0m \u001b[0mfunc2\u001b[0m\u001b[1;33m(\u001b[0m\u001b[1;33m)\u001b[0m\u001b[1;33m\u001b[0m\u001b[1;33m\u001b[0m\u001b[0m\n\u001b[1;32m----> 6\u001b[1;33m \u001b[0mlocal_var\u001b[0m\u001b[1;33m\u001b[0m\u001b[1;33m\u001b[0m\u001b[0m\n\u001b[0m",
      "\u001b[1;31mNameError\u001b[0m: name 'local_var' is not defined"
     ]
    }
   ],
   "source": [
    "def func2():\n",
    "    local_var = 'Local variable'\n",
    "    print(local_var)\n",
    "##    local_var\n",
    "func2()\n",
    "local_var"
   ]
  },
  {
   "cell_type": "code",
   "execution_count": 11,
   "id": "82198652",
   "metadata": {},
   "outputs": [
    {
     "name": "stdout",
     "output_type": "stream",
     "text": [
      "Inside the function:  Global Variable\n"
     ]
    },
    {
     "ename": "NameError",
     "evalue": "name 'x' is not defined",
     "output_type": "error",
     "traceback": [
      "\u001b[1;31m---------------------------------------------------------------------------\u001b[0m",
      "\u001b[1;31mNameError\u001b[0m                                 Traceback (most recent call last)",
      "\u001b[1;32m~\\AppData\\Local\\Temp/ipykernel_107772/735849749.py\u001b[0m in \u001b[0;36m<module>\u001b[1;34m\u001b[0m\n\u001b[0;32m      5\u001b[0m \u001b[1;33m\u001b[0m\u001b[0m\n\u001b[0;32m      6\u001b[0m \u001b[0mfunc1\u001b[0m\u001b[1;33m(\u001b[0m\u001b[1;33m)\u001b[0m\u001b[1;33m\u001b[0m\u001b[1;33m\u001b[0m\u001b[0m\n\u001b[1;32m----> 7\u001b[1;33m \u001b[0mprint\u001b[0m\u001b[1;33m(\u001b[0m\u001b[1;34m\"Outside the function: \"\u001b[0m\u001b[1;33m,\u001b[0m\u001b[0mc\u001b[0m\u001b[1;33m,\u001b[0m \u001b[0mx\u001b[0m\u001b[1;33m)\u001b[0m\u001b[1;33m\u001b[0m\u001b[1;33m\u001b[0m\u001b[0m\n\u001b[0m",
      "\u001b[1;31mNameError\u001b[0m: name 'x' is not defined"
     ]
    }
   ],
   "source": [
    "c = 'Global Variable'\n",
    "def func1():\n",
    "    x = 100\n",
    "    print(\"Inside the function: \",c)\n",
    "\n",
    "func1()\n",
    "print(\"Outside the function: \",c, x)"
   ]
  },
  {
   "cell_type": "code",
   "execution_count": 26,
   "id": "2910f05f",
   "metadata": {},
   "outputs": [
    {
     "name": "stdout",
     "output_type": "stream",
     "text": [
      "This is my local variable:  10\n",
      "This is my global variable:  20\n"
     ]
    }
   ],
   "source": [
    "var = 20       ## Global Variable\n",
    "\n",
    "def glob_var_ex():\n",
    "    var = 10     ## Local Variable\n",
    "    print('This is my local variable: ', var)\n",
    "    \n",
    "glob_var_ex()       \n",
    "print('This is my global variable: ', var)\n",
    "    "
   ]
  },
  {
   "cell_type": "markdown",
   "id": "c6339b56",
   "metadata": {},
   "source": [
    "## Local and Global in the same code"
   ]
  },
  {
   "cell_type": "code",
   "execution_count": 21,
   "id": "c14bf6fc",
   "metadata": {},
   "outputs": [
    {
     "ename": "UnboundLocalError",
     "evalue": "local variable 'var' referenced before assignment",
     "output_type": "error",
     "traceback": [
      "\u001b[1;31m---------------------------------------------------------------------------\u001b[0m",
      "\u001b[1;31mUnboundLocalError\u001b[0m                         Traceback (most recent call last)",
      "\u001b[1;32m~\\AppData\\Local\\Temp/ipykernel_107772/3712425075.py\u001b[0m in \u001b[0;36m<module>\u001b[1;34m\u001b[0m\n\u001b[0;32m      7\u001b[0m     \u001b[0mprint\u001b[0m\u001b[1;33m(\u001b[0m\u001b[1;34m'This is my global variable: '\u001b[0m\u001b[1;33m,\u001b[0m \u001b[0mvar\u001b[0m\u001b[1;33m)\u001b[0m\u001b[1;33m\u001b[0m\u001b[1;33m\u001b[0m\u001b[0m\n\u001b[0;32m      8\u001b[0m \u001b[1;33m\u001b[0m\u001b[0m\n\u001b[1;32m----> 9\u001b[1;33m \u001b[0mglob_var_ex\u001b[0m\u001b[1;33m(\u001b[0m\u001b[1;33m)\u001b[0m\u001b[1;33m\u001b[0m\u001b[1;33m\u001b[0m\u001b[0m\n\u001b[0m\u001b[0;32m     10\u001b[0m \u001b[1;33m\u001b[0m\u001b[0m\n",
      "\u001b[1;32m~\\AppData\\Local\\Temp/ipykernel_107772/3712425075.py\u001b[0m in \u001b[0;36mglob_var_ex\u001b[1;34m()\u001b[0m\n\u001b[0;32m      3\u001b[0m \u001b[1;32mdef\u001b[0m \u001b[0mglob_var_ex\u001b[0m\u001b[1;33m(\u001b[0m\u001b[1;33m)\u001b[0m\u001b[1;33m:\u001b[0m\u001b[1;33m\u001b[0m\u001b[1;33m\u001b[0m\u001b[0m\n\u001b[0;32m      4\u001b[0m     \u001b[0my\u001b[0m \u001b[1;33m=\u001b[0m \u001b[1;36m10\u001b[0m     \u001b[1;31m## Local Variable\u001b[0m\u001b[1;33m\u001b[0m\u001b[1;33m\u001b[0m\u001b[0m\n\u001b[1;32m----> 5\u001b[1;33m     \u001b[0mvar\u001b[0m \u001b[1;33m=\u001b[0m \u001b[0mvar\u001b[0m \u001b[1;33m*\u001b[0m \u001b[1;36m5\u001b[0m   \u001b[1;31m## global variable can't be updated inside the functions\u001b[0m\u001b[1;33m\u001b[0m\u001b[1;33m\u001b[0m\u001b[0m\n\u001b[0m\u001b[0;32m      6\u001b[0m     \u001b[0mprint\u001b[0m\u001b[1;33m(\u001b[0m\u001b[1;34m'This is my local variable: '\u001b[0m\u001b[1;33m,\u001b[0m \u001b[0my\u001b[0m\u001b[1;33m)\u001b[0m\u001b[1;33m\u001b[0m\u001b[1;33m\u001b[0m\u001b[0m\n\u001b[0;32m      7\u001b[0m     \u001b[0mprint\u001b[0m\u001b[1;33m(\u001b[0m\u001b[1;34m'This is my global variable: '\u001b[0m\u001b[1;33m,\u001b[0m \u001b[0mvar\u001b[0m\u001b[1;33m)\u001b[0m\u001b[1;33m\u001b[0m\u001b[1;33m\u001b[0m\u001b[0m\n",
      "\u001b[1;31mUnboundLocalError\u001b[0m: local variable 'var' referenced before assignment"
     ]
    }
   ],
   "source": [
    "var = 20       ## Global Variable\n",
    "\n",
    "def glob_var_ex():\n",
    "    y = 10     ## Local Variable\n",
    "    var = var * 5   ## global variable can't be updated inside the functions\n",
    "    print('This is my local variable: ', y)\n",
    "    print('This is my global variable: ', var)\n",
    "    \n",
    "glob_var_ex()       \n",
    "    "
   ]
  },
  {
   "cell_type": "code",
   "execution_count": 39,
   "id": "50f9eacf",
   "metadata": {},
   "outputs": [
    {
     "ename": "SyntaxError",
     "evalue": "name 'var' is used prior to global declaration (Temp/ipykernel_107772/200799579.py, line 7)",
     "output_type": "error",
     "traceback": [
      "\u001b[1;36m  File \u001b[1;32m\"C:\\Users\\kalya\\AppData\\Local\\Temp/ipykernel_107772/200799579.py\"\u001b[1;36m, line \u001b[1;32m7\u001b[0m\n\u001b[1;33m    global var\u001b[0m\n\u001b[1;37m    ^\u001b[0m\n\u001b[1;31mSyntaxError\u001b[0m\u001b[1;31m:\u001b[0m name 'var' is used prior to global declaration\n"
     ]
    }
   ],
   "source": [
    "var = 20       ## Global Variable\n",
    "\n",
    "def glob_var_ex():\n",
    "    y = 10     ## Local  Variable\n",
    "    print('Before global variable declaration: ', var);\n",
    "    global var\n",
    "    var = var * 5   \n",
    "    print('This is my local variable: ', y)\n",
    "    print('This is my global variable: ', var)\n",
    "    \n",
    "glob_var_ex()\n",
    "print('printing global variable outside function: ', var)\n",
    "    "
   ]
  },
  {
   "cell_type": "code",
   "execution_count": 41,
   "id": "0c238433",
   "metadata": {},
   "outputs": [
    {
     "ename": "UnboundLocalError",
     "evalue": "local variable 'var' referenced before assignment",
     "output_type": "error",
     "traceback": [
      "\u001b[1;31m---------------------------------------------------------------------------\u001b[0m",
      "\u001b[1;31mUnboundLocalError\u001b[0m                         Traceback (most recent call last)",
      "\u001b[1;32m~\\AppData\\Local\\Temp/ipykernel_107772/590479891.py\u001b[0m in \u001b[0;36m<module>\u001b[1;34m\u001b[0m\n\u001b[0;32m     10\u001b[0m     \u001b[0mprint\u001b[0m\u001b[1;33m(\u001b[0m\u001b[1;34m'This is my global variable: '\u001b[0m\u001b[1;33m,\u001b[0m \u001b[0mvar\u001b[0m\u001b[1;33m)\u001b[0m\u001b[1;33m\u001b[0m\u001b[1;33m\u001b[0m\u001b[0m\n\u001b[0;32m     11\u001b[0m \u001b[1;33m\u001b[0m\u001b[0m\n\u001b[1;32m---> 12\u001b[1;33m \u001b[0mglob_var_ex\u001b[0m\u001b[1;33m(\u001b[0m\u001b[1;33m)\u001b[0m\u001b[1;33m\u001b[0m\u001b[1;33m\u001b[0m\u001b[0m\n\u001b[0m\u001b[0;32m     13\u001b[0m \u001b[0mprint\u001b[0m\u001b[1;33m(\u001b[0m\u001b[1;34m'printing global variable outside function: '\u001b[0m\u001b[1;33m,\u001b[0m \u001b[0mvar\u001b[0m\u001b[1;33m)\u001b[0m\u001b[1;33m\u001b[0m\u001b[1;33m\u001b[0m\u001b[0m\n",
      "\u001b[1;32m~\\AppData\\Local\\Temp/ipykernel_107772/590479891.py\u001b[0m in \u001b[0;36mglob_var_ex\u001b[1;34m()\u001b[0m\n\u001b[0;32m      4\u001b[0m \u001b[1;32mdef\u001b[0m \u001b[0mglob_var_ex\u001b[0m\u001b[1;33m(\u001b[0m\u001b[1;33m)\u001b[0m\u001b[1;33m:\u001b[0m\u001b[1;33m\u001b[0m\u001b[1;33m\u001b[0m\u001b[0m\n\u001b[0;32m      5\u001b[0m     \u001b[0my\u001b[0m \u001b[1;33m=\u001b[0m \u001b[1;36m10\u001b[0m     \u001b[1;31m## Local  Variable\u001b[0m\u001b[1;33m\u001b[0m\u001b[1;33m\u001b[0m\u001b[0m\n\u001b[1;32m----> 6\u001b[1;33m     \u001b[0mprint\u001b[0m\u001b[1;33m(\u001b[0m\u001b[1;34m'Before global variable declaration: '\u001b[0m\u001b[1;33m,\u001b[0m \u001b[0mvar\u001b[0m\u001b[1;33m)\u001b[0m\u001b[1;33m;\u001b[0m\u001b[1;33m\u001b[0m\u001b[1;33m\u001b[0m\u001b[0m\n\u001b[0m\u001b[0;32m      7\u001b[0m \u001b[1;31m##    global var\u001b[0m\u001b[1;33m\u001b[0m\u001b[1;33m\u001b[0m\u001b[0m\n\u001b[0;32m      8\u001b[0m     \u001b[0mvar\u001b[0m \u001b[1;33m=\u001b[0m \u001b[0mvar\u001b[0m \u001b[1;33m*\u001b[0m \u001b[1;36m5\u001b[0m\u001b[1;33m\u001b[0m\u001b[1;33m\u001b[0m\u001b[0m\n",
      "\u001b[1;31mUnboundLocalError\u001b[0m: local variable 'var' referenced before assignment"
     ]
    }
   ],
   "source": [
    "global var       ## Global Variable\n",
    "var = 20\n",
    "\n",
    "def glob_var_ex():\n",
    "    y = 10     ## Local  Variable\n",
    "    print('Before global variable declaration: ', var);\n",
    "##    global var\n",
    "    var = var * 5   \n",
    "    print('This is my local variable: ', y)\n",
    "    print('This is my global variable: ', var)\n",
    "    \n",
    "glob_var_ex()\n",
    "print('printing global variable outside function: ', var)"
   ]
  },
  {
   "cell_type": "code",
   "execution_count": 42,
   "id": "8a058131",
   "metadata": {},
   "outputs": [
    {
     "name": "stdout",
     "output_type": "stream",
     "text": [
      "This is my local variable:  10\n",
      "This is my global variable:  100\n",
      "printing global variable outside function:  100\n"
     ]
    }
   ],
   "source": [
    "global var       ## Global Variable\n",
    "var = 20\n",
    "\n",
    "def glob_var_ex():\n",
    "    y = 10     ## Local  Variable\n",
    "    global var\n",
    "    var = var * 5   \n",
    "    print('This is my local variable: ', y)\n",
    "    print('This is my global variable: ', var)\n",
    "    \n",
    "glob_var_ex()\n",
    "print('printing global variable outside function: ', var)"
   ]
  },
  {
   "cell_type": "code",
   "execution_count": 58,
   "id": "d8715aad",
   "metadata": {},
   "outputs": [
    {
     "name": "stdout",
     "output_type": "stream",
     "text": [
      "[10, 20, 30, 40]\n",
      "Gloabl display:  [10, 20, 30, 40]\n"
     ]
    }
   ],
   "source": [
    "var = 10\n",
    "\n",
    "def func4():\n",
    "    list1 = [1,2,3,4]\n",
    "    var1 = 20\n",
    "    global var\n",
    "    var = [i*var for i in list1]\n",
    "    print(var)\n",
    "    \n",
    "func4()\n",
    "print('Gloabl display: ', var)\n",
    "    "
   ]
  },
  {
   "cell_type": "markdown",
   "id": "f6318148",
   "metadata": {},
   "source": [
    "## Nested Indexing"
   ]
  },
  {
   "cell_type": "code",
   "execution_count": 44,
   "id": "92c091b7",
   "metadata": {},
   "outputs": [
    {
     "name": "stdout",
     "output_type": "stream",
     "text": [
      "[0, 2, [5, 4], ['five', 'six', 'seven']]\n"
     ]
    }
   ],
   "source": [
    "nested_list = [0, 2, [5, 4], ['five', 'six', 'seven']]\n",
    "print(nested_list)"
   ]
  },
  {
   "cell_type": "code",
   "execution_count": 52,
   "id": "230e14ba",
   "metadata": {},
   "outputs": [
    {
     "name": "stdout",
     "output_type": "stream",
     "text": [
      "six\n"
     ]
    }
   ],
   "source": [
    "print(nested_list[3][1])"
   ]
  },
  {
   "cell_type": "code",
   "execution_count": 53,
   "id": "0403bc8f",
   "metadata": {},
   "outputs": [
    {
     "name": "stdout",
     "output_type": "stream",
     "text": [
      "4\n"
     ]
    }
   ],
   "source": [
    "print(nested_list[2][1])"
   ]
  },
  {
   "cell_type": "code",
   "execution_count": 56,
   "id": "6516fb09",
   "metadata": {},
   "outputs": [
    {
     "name": "stdout",
     "output_type": "stream",
     "text": [
      "4\n"
     ]
    }
   ],
   "source": [
    "print(nested_list[-2][-1])"
   ]
  },
  {
   "cell_type": "code",
   "execution_count": 59,
   "id": "5e42fe9c",
   "metadata": {},
   "outputs": [
    {
     "data": {
      "text/plain": [
       "['five', 'six', 'seven']"
      ]
     },
     "execution_count": 59,
     "metadata": {},
     "output_type": "execute_result"
    }
   ],
   "source": [
    "nested_list[-1]"
   ]
  },
  {
   "cell_type": "code",
   "execution_count": 60,
   "id": "29abe857",
   "metadata": {},
   "outputs": [
    {
     "data": {
      "text/plain": [
       "'seven'"
      ]
     },
     "execution_count": 60,
     "metadata": {},
     "output_type": "execute_result"
    }
   ],
   "source": [
    "nested_list[-1][-1]"
   ]
  },
  {
   "cell_type": "code",
   "execution_count": 61,
   "id": "2765025d",
   "metadata": {},
   "outputs": [
    {
     "data": {
      "text/plain": [
       "'six'"
      ]
     },
     "execution_count": 61,
     "metadata": {},
     "output_type": "execute_result"
    }
   ],
   "source": [
    "nested_list[-1][1]"
   ]
  },
  {
   "cell_type": "code",
   "execution_count": 63,
   "id": "a3c333e2",
   "metadata": {},
   "outputs": [
    {
     "data": {
      "text/plain": [
       "4"
      ]
     },
     "execution_count": 63,
     "metadata": {},
     "output_type": "execute_result"
    }
   ],
   "source": [
    "nested_list[2][-1]"
   ]
  },
  {
   "cell_type": "code",
   "execution_count": 64,
   "id": "ea9e556f",
   "metadata": {},
   "outputs": [
    {
     "data": {
      "text/plain": [
       "'w'"
      ]
     },
     "execution_count": 64,
     "metadata": {},
     "output_type": "execute_result"
    }
   ],
   "source": [
    "list3 = [['red', 'blue', 'green'], ['combination', 'electric'], ['fourdoor','twodoor']]\n",
    "list3[2][1][1]"
   ]
  },
  {
   "cell_type": "markdown",
   "id": "36c9b5bc",
   "metadata": {},
   "source": [
    "## Append and extend"
   ]
  },
  {
   "cell_type": "markdown",
   "id": "ccfb0bfb",
   "metadata": {},
   "source": [
    "### Append command on list"
   ]
  },
  {
   "cell_type": "code",
   "execution_count": 79,
   "id": "ed62ef4f",
   "metadata": {},
   "outputs": [
    {
     "name": "stdout",
     "output_type": "stream",
     "text": [
      "[5, 4, 3, 1, 10]\n"
     ]
    }
   ],
   "source": [
    "list_1 = [5, 4, 3, 1]\n",
    "list_1.append(10)\n",
    "print(list_1)"
   ]
  },
  {
   "cell_type": "code",
   "execution_count": 86,
   "id": "b9c8b256",
   "metadata": {},
   "outputs": [
    {
     "name": "stdout",
     "output_type": "stream",
     "text": [
      "[5, 4, 3, 55, [25, 65, 85], 1, 10, 99, 22, 33, -3, 8, 10, 12, [111, 222, 333]]\n"
     ]
    }
   ],
   "source": [
    "list_1.append([111,222,333])\n",
    "print(list_1)"
   ]
  },
  {
   "cell_type": "markdown",
   "id": "b5a7fa50",
   "metadata": {},
   "source": [
    "### Extend command on list"
   ]
  },
  {
   "cell_type": "code",
   "execution_count": 80,
   "id": "cafc7cf8",
   "metadata": {},
   "outputs": [
    {
     "name": "stdout",
     "output_type": "stream",
     "text": [
      "[5, 4, 3, 1, 10, 99]\n"
     ]
    }
   ],
   "source": [
    "list_1.extend([99])\n",
    "print(list_1)"
   ]
  },
  {
   "cell_type": "code",
   "execution_count": 81,
   "id": "a85a6ad7",
   "metadata": {
    "scrolled": true
   },
   "outputs": [
    {
     "ename": "TypeError",
     "evalue": "'int' object is not iterable",
     "output_type": "error",
     "traceback": [
      "\u001b[1;31m---------------------------------------------------------------------------\u001b[0m",
      "\u001b[1;31mTypeError\u001b[0m                                 Traceback (most recent call last)",
      "\u001b[1;32m~\\AppData\\Local\\Temp/ipykernel_107772/3035278045.py\u001b[0m in \u001b[0;36m<module>\u001b[1;34m\u001b[0m\n\u001b[1;32m----> 1\u001b[1;33m \u001b[0mlist_1\u001b[0m\u001b[1;33m.\u001b[0m\u001b[0mextend\u001b[0m\u001b[1;33m(\u001b[0m\u001b[1;36m99\u001b[0m\u001b[1;33m)\u001b[0m\u001b[1;33m\u001b[0m\u001b[1;33m\u001b[0m\u001b[0m\n\u001b[0m\u001b[0;32m      2\u001b[0m \u001b[0mprint\u001b[0m\u001b[1;33m(\u001b[0m\u001b[0mlist_1\u001b[0m\u001b[1;33m)\u001b[0m\u001b[1;33m\u001b[0m\u001b[1;33m\u001b[0m\u001b[0m\n",
      "\u001b[1;31mTypeError\u001b[0m: 'int' object is not iterable"
     ]
    }
   ],
   "source": [
    "list_1.extend(99)\n",
    "print(list_1)"
   ]
  },
  {
   "cell_type": "code",
   "execution_count": 82,
   "id": "040ab481",
   "metadata": {},
   "outputs": [
    {
     "name": "stdout",
     "output_type": "stream",
     "text": [
      "[5, 4, 3, 1, 10, 99, 22, 33, -3]\n"
     ]
    }
   ],
   "source": [
    "list_1.extend([22,33,-3])\n",
    "print(list_1)"
   ]
  },
  {
   "cell_type": "code",
   "execution_count": 83,
   "id": "826efd5c",
   "metadata": {},
   "outputs": [
    {
     "name": "stdout",
     "output_type": "stream",
     "text": [
      "[5, 4, 3, 1, 10, 99, 22, 33, -3, 8, 10, 12]\n"
     ]
    }
   ],
   "source": [
    "list_1.extend(range(8,14,2))\n",
    "print(list_1)"
   ]
  },
  {
   "cell_type": "markdown",
   "id": "be5bb6ad",
   "metadata": {},
   "source": [
    "### Insert command on list"
   ]
  },
  {
   "cell_type": "code",
   "execution_count": 84,
   "id": "01016622",
   "metadata": {},
   "outputs": [
    {
     "name": "stdout",
     "output_type": "stream",
     "text": [
      "[5, 4, 3, 55, 1, 10, 99, 22, 33, -3, 8, 10, 12]\n"
     ]
    }
   ],
   "source": [
    "list_1.insert(3,55)\n",
    "print(list_1)"
   ]
  },
  {
   "cell_type": "code",
   "execution_count": 85,
   "id": "e602a835",
   "metadata": {},
   "outputs": [
    {
     "name": "stdout",
     "output_type": "stream",
     "text": [
      "[5, 4, 3, 55, [25, 65, 85], 1, 10, 99, 22, 33, -3, 8, 10, 12]\n"
     ]
    }
   ],
   "source": [
    "var = [25, 65, 85]\n",
    "\n",
    "list_1.insert(4, var)\n",
    "print(list_1)"
   ]
  },
  {
   "cell_type": "code",
   "execution_count": 87,
   "id": "f793ca12",
   "metadata": {},
   "outputs": [
    {
     "name": "stdout",
     "output_type": "stream",
     "text": [
      "[5, 4, 3, 55, [25, 65, 85], 1, 10, 99, 22, 33, -3, 8, 10, 12, [111, 222, 333]]\n",
      "[5, 4, 3, 55, [25, 65, 85], 1, 99, 22, 33, -3, 8, 10, 12, [111, 222, 333]]\n"
     ]
    }
   ],
   "source": [
    "print(list_1)\n",
    "\n",
    "list_1.remove(10)\n",
    "print(list_1)"
   ]
  },
  {
   "cell_type": "code",
   "execution_count": 90,
   "id": "a730fb2b",
   "metadata": {},
   "outputs": [
    {
     "name": "stdout",
     "output_type": "stream",
     "text": [
      "[5, 4, 3, 55, [25, 65, 85], 1, 99, 22, 33, -3, 8, 10, 12, [111, 222, 333]]\n"
     ]
    },
    {
     "ename": "ValueError",
     "evalue": "list.remove(x): x not in list",
     "output_type": "error",
     "traceback": [
      "\u001b[1;31m---------------------------------------------------------------------------\u001b[0m",
      "\u001b[1;31mValueError\u001b[0m                                Traceback (most recent call last)",
      "\u001b[1;32m~\\AppData\\Local\\Temp/ipykernel_107772/776588347.py\u001b[0m in \u001b[0;36m<module>\u001b[1;34m\u001b[0m\n\u001b[0;32m      1\u001b[0m \u001b[0mprint\u001b[0m\u001b[1;33m(\u001b[0m\u001b[0mlist_1\u001b[0m\u001b[1;33m)\u001b[0m\u001b[1;33m\u001b[0m\u001b[1;33m\u001b[0m\u001b[0m\n\u001b[1;32m----> 2\u001b[1;33m \u001b[0mlist_1\u001b[0m\u001b[1;33m.\u001b[0m\u001b[0mremove\u001b[0m\u001b[1;33m(\u001b[0m\u001b[1;33m-\u001b[0m\u001b[1;36m2\u001b[0m\u001b[1;33m)\u001b[0m\u001b[1;33m\u001b[0m\u001b[1;33m\u001b[0m\u001b[0m\n\u001b[0m\u001b[0;32m      3\u001b[0m \u001b[0mprint\u001b[0m\u001b[1;33m(\u001b[0m\u001b[0mlist_1\u001b[0m\u001b[1;33m)\u001b[0m\u001b[1;33m\u001b[0m\u001b[1;33m\u001b[0m\u001b[0m\n",
      "\u001b[1;31mValueError\u001b[0m: list.remove(x): x not in list"
     ]
    }
   ],
   "source": [
    "print(list_1)\n",
    "list_1.remove(-2)\n",
    "print(list_1)"
   ]
  },
  {
   "cell_type": "code",
   "execution_count": 91,
   "id": "8da4b36c",
   "metadata": {},
   "outputs": [
    {
     "name": "stdout",
     "output_type": "stream",
     "text": [
      "[5, 4, 3, 55, [25, 65, 85], 1, 99, 22, 33, -3, 8, 10, 12, [111, 222, 333]]\n",
      "[55, 5, 4, 3, 55, [25, 65, 85], 1, 99, 22, 33, -3, 8, 10, 12, [111, 222, 333]]\n"
     ]
    }
   ],
   "source": [
    "print(list_1)\n",
    "list_1.insert(0,55)\n",
    "print(list_1)"
   ]
  },
  {
   "cell_type": "code",
   "execution_count": 92,
   "id": "538debeb",
   "metadata": {},
   "outputs": [
    {
     "name": "stdout",
     "output_type": "stream",
     "text": [
      "[55, 5, 4, 3, 55, [25, 65, 85], 1, 99, 22, 33, -3, 8, 10, 12, [111, 222, 333]]\n",
      "[55, 5, 4, 3, 55, [25, 65, 85], 1, 99, 22, 33, -3, 8, 10, 12]\n"
     ]
    }
   ],
   "source": [
    "print(list_1)\n",
    "\n",
    "del list_1[-1]\n",
    "\n",
    "print(list_1)"
   ]
  },
  {
   "cell_type": "code",
   "execution_count": 93,
   "id": "fd82756d",
   "metadata": {},
   "outputs": [
    {
     "name": "stdout",
     "output_type": "stream",
     "text": [
      "[55, 5, 4, 3, 55, [25, 65, 85], 1, 99, 22, 33, -3, 8, 10, 12]\n",
      "[55, 5, 4, 3, 55, [25, 85], 1, 99, 22, 33, -3, 8, 10, 12]\n"
     ]
    }
   ],
   "source": [
    "print(list_1)\n",
    "\n",
    "del list_1[5][1]\n",
    "\n",
    "print(list_1)"
   ]
  },
  {
   "cell_type": "code",
   "execution_count": 95,
   "id": "f0d77908",
   "metadata": {},
   "outputs": [
    {
     "ename": "NameError",
     "evalue": "name 'list_1' is not defined",
     "output_type": "error",
     "traceback": [
      "\u001b[1;31m---------------------------------------------------------------------------\u001b[0m",
      "\u001b[1;31mNameError\u001b[0m                                 Traceback (most recent call last)",
      "\u001b[1;32m~\\AppData\\Local\\Temp/ipykernel_107772/2121083682.py\u001b[0m in \u001b[0;36m<module>\u001b[1;34m\u001b[0m\n\u001b[1;32m----> 1\u001b[1;33m \u001b[1;32mdel\u001b[0m \u001b[0mlist_1\u001b[0m\u001b[1;33m\u001b[0m\u001b[1;33m\u001b[0m\u001b[0m\n\u001b[0m",
      "\u001b[1;31mNameError\u001b[0m: name 'list_1' is not defined"
     ]
    }
   ],
   "source": [
    "del list_1"
   ]
  },
  {
   "cell_type": "code",
   "execution_count": 96,
   "id": "ffcb21db",
   "metadata": {},
   "outputs": [
    {
     "ename": "NameError",
     "evalue": "name 'list_1' is not defined",
     "output_type": "error",
     "traceback": [
      "\u001b[1;31m---------------------------------------------------------------------------\u001b[0m",
      "\u001b[1;31mNameError\u001b[0m                                 Traceback (most recent call last)",
      "\u001b[1;32m~\\AppData\\Local\\Temp/ipykernel_107772/3718752200.py\u001b[0m in \u001b[0;36m<module>\u001b[1;34m\u001b[0m\n\u001b[1;32m----> 1\u001b[1;33m \u001b[0mprint\u001b[0m\u001b[1;33m(\u001b[0m\u001b[0mlist_1\u001b[0m\u001b[1;33m)\u001b[0m\u001b[1;33m\u001b[0m\u001b[1;33m\u001b[0m\u001b[0m\n\u001b[0m",
      "\u001b[1;31mNameError\u001b[0m: name 'list_1' is not defined"
     ]
    }
   ],
   "source": [
    "print(list_1)"
   ]
  },
  {
   "cell_type": "code",
   "execution_count": 100,
   "id": "54a84153",
   "metadata": {},
   "outputs": [],
   "source": [
    "list_tst1 = [1]\n",
    "list_tst2 = [2,3,4]\n"
   ]
  },
  {
   "cell_type": "code",
   "execution_count": 103,
   "id": "b0797199",
   "metadata": {
    "scrolled": true
   },
   "outputs": [
    {
     "name": "stdout",
     "output_type": "stream",
     "text": [
      "[1, 2, 3, 4]\n"
     ]
    }
   ],
   "source": [
    "list_tst3 = list_tst1 + list_tst2\n",
    "print(list_tst3)"
   ]
  },
  {
   "cell_type": "code",
   "execution_count": 104,
   "id": "bed1ef86",
   "metadata": {},
   "outputs": [
    {
     "name": "stdout",
     "output_type": "stream",
     "text": [
      "[2, 3, 4, 1, 2, 3, 4]\n"
     ]
    }
   ],
   "source": [
    "list_tst4 = list_tst2 + list_tst3\n",
    "print(list_tst4)"
   ]
  },
  {
   "cell_type": "code",
   "execution_count": 106,
   "id": "dc1822c7",
   "metadata": {},
   "outputs": [
    {
     "ename": "TypeError",
     "evalue": "unsupported operand type(s) for -: 'list' and 'list'",
     "output_type": "error",
     "traceback": [
      "\u001b[1;31m---------------------------------------------------------------------------\u001b[0m",
      "\u001b[1;31mTypeError\u001b[0m                                 Traceback (most recent call last)",
      "\u001b[1;32m~\\AppData\\Local\\Temp/ipykernel_107772/3284267662.py\u001b[0m in \u001b[0;36m<module>\u001b[1;34m\u001b[0m\n\u001b[1;32m----> 1\u001b[1;33m \u001b[0mlist_tst4\u001b[0m \u001b[1;33m=\u001b[0m \u001b[0mlist_tst2\u001b[0m \u001b[1;33m-\u001b[0m \u001b[0mlist_tst3\u001b[0m\u001b[1;33m\u001b[0m\u001b[1;33m\u001b[0m\u001b[0m\n\u001b[0m\u001b[0;32m      2\u001b[0m \u001b[0mprint\u001b[0m\u001b[1;33m(\u001b[0m\u001b[0mlist_tst4\u001b[0m\u001b[1;33m)\u001b[0m\u001b[1;33m\u001b[0m\u001b[1;33m\u001b[0m\u001b[0m\n",
      "\u001b[1;31mTypeError\u001b[0m: unsupported operand type(s) for -: 'list' and 'list'"
     ]
    }
   ],
   "source": [
    "list_tst4 = list_tst2 - list_tst3\n",
    "print(list_tst4)"
   ]
  },
  {
   "cell_type": "code",
   "execution_count": 98,
   "id": "cd413dfe",
   "metadata": {},
   "outputs": [
    {
     "name": "stdout",
     "output_type": "stream",
     "text": [
      "['five', 'five', 'five', 'five', 'five']\n"
     ]
    }
   ],
   "source": [
    "print(['five']*5)"
   ]
  },
  {
   "cell_type": "markdown",
   "id": "fcf19df1",
   "metadata": {},
   "source": [
    "## Remove and pop"
   ]
  },
  {
   "cell_type": "code",
   "execution_count": 108,
   "id": "661a0670",
   "metadata": {},
   "outputs": [],
   "source": [
    "String = 'DataScience'"
   ]
  },
  {
   "cell_type": "code",
   "execution_count": 109,
   "id": "19ba25dd",
   "metadata": {},
   "outputs": [],
   "source": [
    "list1 = ['d','a']"
   ]
  },
  {
   "cell_type": "code",
   "execution_count": 111,
   "id": "9fa724ec",
   "metadata": {},
   "outputs": [
    {
     "name": "stdout",
     "output_type": "stream",
     "text": [
      "['D', 'a', 't', 'a', 'S', 'c', 'i', 'e', 'n', 'c', 'e']\n"
     ]
    }
   ],
   "source": [
    "list2 = list(String)\n",
    "print(list2)"
   ]
  },
  {
   "cell_type": "code",
   "execution_count": 112,
   "id": "84d07ac9",
   "metadata": {},
   "outputs": [
    {
     "ename": "ValueError",
     "evalue": "list.remove(x): x not in list",
     "output_type": "error",
     "traceback": [
      "\u001b[1;31m---------------------------------------------------------------------------\u001b[0m",
      "\u001b[1;31mValueError\u001b[0m                                Traceback (most recent call last)",
      "\u001b[1;32m~\\AppData\\Local\\Temp/ipykernel_107772/3951286052.py\u001b[0m in \u001b[0;36m<module>\u001b[1;34m\u001b[0m\n\u001b[1;32m----> 1\u001b[1;33m \u001b[0mlist1\u001b[0m\u001b[1;33m.\u001b[0m\u001b[0mremove\u001b[0m\u001b[1;33m(\u001b[0m\u001b[1;34m's'\u001b[0m\u001b[1;33m)\u001b[0m\u001b[1;33m\u001b[0m\u001b[1;33m\u001b[0m\u001b[0m\n\u001b[0m",
      "\u001b[1;31mValueError\u001b[0m: list.remove(x): x not in list"
     ]
    }
   ],
   "source": [
    "list1.remove('s')"
   ]
  },
  {
   "cell_type": "code",
   "execution_count": 113,
   "id": "d64ab5cd",
   "metadata": {},
   "outputs": [
    {
     "data": {
      "text/plain": [
       "'e'"
      ]
     },
     "execution_count": 113,
     "metadata": {},
     "output_type": "execute_result"
    }
   ],
   "source": [
    "list2.pop()"
   ]
  },
  {
   "cell_type": "code",
   "execution_count": 114,
   "id": "f76f77c7",
   "metadata": {},
   "outputs": [
    {
     "name": "stdout",
     "output_type": "stream",
     "text": [
      "['D', 'a', 't', 'a', 'S', 'c', 'i', 'e', 'n', 'c']\n"
     ]
    }
   ],
   "source": [
    "print(list2)"
   ]
  },
  {
   "cell_type": "code",
   "execution_count": 115,
   "id": "c081a2ba",
   "metadata": {},
   "outputs": [
    {
     "name": "stdout",
     "output_type": "stream",
     "text": [
      "['D', 'a', 't', 'a', 'S', 'c', 'i', 'e', 'n', 'c']\n",
      "['D', 'a', 't', 'S', 'c', 'i', 'e', 'n', 'c']\n"
     ]
    }
   ],
   "source": [
    "print(list2)\n",
    "\n",
    "list2.pop(3)\n",
    "\n",
    "print(list2)"
   ]
  },
  {
   "cell_type": "code",
   "execution_count": 116,
   "id": "786fac04",
   "metadata": {},
   "outputs": [
    {
     "name": "stdout",
     "output_type": "stream",
     "text": [
      "['D', 'a', 't', 'S', 'c', 'i', 'e', 'n', 'c']\n",
      "['D', 'a', 't', 'S', 'c', 'i', 'e', 'c']\n"
     ]
    }
   ],
   "source": [
    "print(list2)\n",
    "\n",
    "list2.pop(-2)\n",
    "\n",
    "print(list2)"
   ]
  },
  {
   "cell_type": "code",
   "execution_count": 117,
   "id": "7c5d8c95",
   "metadata": {},
   "outputs": [
    {
     "ename": "ValueError",
     "evalue": "6 is not in list",
     "output_type": "error",
     "traceback": [
      "\u001b[1;31m---------------------------------------------------------------------------\u001b[0m",
      "\u001b[1;31mValueError\u001b[0m                                Traceback (most recent call last)",
      "\u001b[1;32m~\\AppData\\Local\\Temp/ipykernel_107772/931003434.py\u001b[0m in \u001b[0;36m<module>\u001b[1;34m\u001b[0m\n\u001b[1;32m----> 1\u001b[1;33m \u001b[0mprint\u001b[0m\u001b[1;33m(\u001b[0m\u001b[0mlist2\u001b[0m\u001b[1;33m.\u001b[0m\u001b[0mindex\u001b[0m\u001b[1;33m(\u001b[0m\u001b[1;36m6\u001b[0m\u001b[1;33m)\u001b[0m\u001b[1;33m)\u001b[0m\u001b[1;33m\u001b[0m\u001b[1;33m\u001b[0m\u001b[0m\n\u001b[0m",
      "\u001b[1;31mValueError\u001b[0m: 6 is not in list"
     ]
    }
   ],
   "source": [
    "print(list2.index(6))"
   ]
  },
  {
   "cell_type": "code",
   "execution_count": 118,
   "id": "e18f2819",
   "metadata": {},
   "outputs": [
    {
     "name": "stdout",
     "output_type": "stream",
     "text": [
      "5\n"
     ]
    }
   ],
   "source": [
    "print(list2.index('i'))"
   ]
  },
  {
   "cell_type": "code",
   "execution_count": 123,
   "id": "077f06d4",
   "metadata": {
    "scrolled": true
   },
   "outputs": [
    {
     "name": "stdout",
     "output_type": "stream",
     "text": [
      "2\n"
     ]
    }
   ],
   "source": [
    "var = [25, 65, 85,2,2,3,3]\n",
    "print(var.index(85))"
   ]
  },
  {
   "cell_type": "markdown",
   "id": "88772f8f",
   "metadata": {},
   "source": [
    "## List count"
   ]
  },
  {
   "cell_type": "code",
   "execution_count": 121,
   "id": "3ebf284f",
   "metadata": {},
   "outputs": [
    {
     "name": "stdout",
     "output_type": "stream",
     "text": [
      "['D', 'a', 't', 'a', 'S', 'c', 'i', 'e', 'n', 'c', 'e']\n"
     ]
    }
   ],
   "source": [
    "String = 'DataScience'\n",
    "list1 = list(String)\n",
    "print(list1)"
   ]
  },
  {
   "cell_type": "code",
   "execution_count": 125,
   "id": "a8584c93",
   "metadata": {},
   "outputs": [
    {
     "name": "stdout",
     "output_type": "stream",
     "text": [
      "2\n"
     ]
    }
   ],
   "source": [
    "print(list1.count('c'))"
   ]
  },
  {
   "cell_type": "code",
   "execution_count": 124,
   "id": "8af29a32",
   "metadata": {
    "scrolled": true
   },
   "outputs": [
    {
     "name": "stdout",
     "output_type": "stream",
     "text": [
      "2\n"
     ]
    }
   ],
   "source": [
    "print(var.count(2))"
   ]
  },
  {
   "cell_type": "markdown",
   "id": "45b266b8",
   "metadata": {},
   "source": [
    "## set the list as empty"
   ]
  },
  {
   "cell_type": "code",
   "execution_count": 146,
   "id": "a8bb2c7c",
   "metadata": {},
   "outputs": [
    {
     "name": "stdout",
     "output_type": "stream",
     "text": [
      "['D', 'a', 't', 'a', 'S', 'c', 'i', 'e', 'n', 'c', 'e']\n",
      "[]\n"
     ]
    }
   ],
   "source": [
    "print(list1)\n",
    "\n",
    "list1 = []\n",
    "\n",
    "print(list1)"
   ]
  },
  {
   "cell_type": "code",
   "execution_count": 133,
   "id": "a2b5bd4f",
   "metadata": {},
   "outputs": [
    {
     "name": "stdout",
     "output_type": "stream",
     "text": [
      "0\n",
      "1\n",
      "2\n",
      "3\n",
      "4\n",
      "5\n",
      "6\n",
      "7\n",
      "8\n",
      "9\n",
      "10\n",
      "[0, 1, 4, 9, 16, 25, 36, 49, 64, 81, 100]\n"
     ]
    }
   ],
   "source": [
    "list_practice = []\n",
    "i = 1\n",
    "for i in range(11):\n",
    "    list_practice.append(i*i)\n",
    "    print(i)\n",
    "print(list_practice)"
   ]
  },
  {
   "cell_type": "code",
   "execution_count": 143,
   "id": "91823461",
   "metadata": {},
   "outputs": [
    {
     "name": "stdout",
     "output_type": "stream",
     "text": [
      "[0, 1, 4, 9, 16, 25, 36, 49, 64, 81]\n"
     ]
    }
   ],
   "source": [
    "list_1 = []\n",
    "list_1 = [i*i for i in range(10)]\n",
    "\n",
    "print(list_1)"
   ]
  },
  {
   "cell_type": "code",
   "execution_count": 157,
   "id": "7eabfc85",
   "metadata": {},
   "outputs": [
    {
     "name": "stdout",
     "output_type": "stream",
     "text": [
      "[0, 2, 4, 5, 6, 8, 10, 12, 14, 15, 16, 18, 20, 22, 24, 25, 26, 28, 30, 32, 34, 35, 36, 38, 40, 42, 44, 45, 46, 48, 50, 52, 54, 55, 56, 58, 60, 62, 64, 65, 66, 68, 70, 72, 74, 75, 76, 78, 80, 82, 84, 85, 86, 88, 90, 92, 94, 95, 96, 98]\n"
     ]
    }
   ],
   "source": [
    "list_1 = []\n",
    "list_1 = [i for i in range(100) if i%2 == 0 or i%5 == 0]\n",
    "\n",
    "print(list_1)"
   ]
  },
  {
   "cell_type": "code",
   "execution_count": 159,
   "id": "9815a364",
   "metadata": {},
   "outputs": [
    {
     "ename": "SyntaxError",
     "evalue": "invalid syntax (Temp/ipykernel_107772/2461395169.py, line 2)",
     "output_type": "error",
     "traceback": [
      "\u001b[1;36m  File \u001b[1;32m\"C:\\Users\\kalya\\AppData\\Local\\Temp/ipykernel_107772/2461395169.py\"\u001b[1;36m, line \u001b[1;32m2\u001b[0m\n\u001b[1;33m    list_1 = list(map(lambda x:x**2,(list(filter(lambda y:y%2 == 0 and y:y%5 == 0, range(11))))))\u001b[0m\n\u001b[1;37m                                                                        ^\u001b[0m\n\u001b[1;31mSyntaxError\u001b[0m\u001b[1;31m:\u001b[0m invalid syntax\n"
     ]
    }
   ],
   "source": [
    "list_1 = []\n",
    "list_1 = list(map(lambda x:x**2,(list(filter(lambda y:y%2 == 0 and y:y%5 == 0, range(11))))))\n",
    "\n",
    "print(list_1)"
   ]
  },
  {
   "cell_type": "code",
   "execution_count": 161,
   "id": "9e1f9285",
   "metadata": {},
   "outputs": [
    {
     "name": "stdout",
     "output_type": "stream",
     "text": [
      "even\n",
      "odd\n",
      "even\n",
      "odd\n",
      "even\n",
      "odd\n",
      "even\n",
      "odd\n",
      "even\n",
      "odd\n",
      "even\n"
     ]
    }
   ],
   "source": [
    "for i in range(11):\n",
    "    if i%2 == 0:\n",
    "        print('even')\n",
    "    else:\n",
    "        print('odd')"
   ]
  },
  {
   "cell_type": "code",
   "execution_count": 163,
   "id": "462d9f04",
   "metadata": {},
   "outputs": [
    {
     "data": {
      "text/plain": [
       "[0, 2, 4, 6, 8, 10]"
      ]
     },
     "execution_count": 163,
     "metadata": {},
     "output_type": "execute_result"
    }
   ],
   "source": [
    "[i for i in range(11) if i%2 == 0]"
   ]
  },
  {
   "cell_type": "code",
   "execution_count": 170,
   "id": "e2cce35a",
   "metadata": {},
   "outputs": [
    {
     "data": {
      "text/plain": [
       "['Even',\n",
       " 'Odd',\n",
       " 'Even',\n",
       " 'Odd',\n",
       " 'Even',\n",
       " 'Odd',\n",
       " 'Even',\n",
       " 'Odd',\n",
       " 'Even',\n",
       " 'Odd',\n",
       " 'Even']"
      ]
     },
     "execution_count": 170,
     "metadata": {},
     "output_type": "execute_result"
    }
   ],
   "source": [
    "[\"Even\" if i%2 == 0 else \"Odd\" for i in range(11)]"
   ]
  },
  {
   "cell_type": "code",
   "execution_count": 267,
   "id": "f38f02f8",
   "metadata": {},
   "outputs": [
    {
     "name": "stdout",
     "output_type": "stream",
     "text": [
      "[(0, 'even'), (1, 'odd'), (2, 'even'), (3, 'odd'), (4, 'even'), (5, 'odd'), (6, 'even'), (7, 'odd'), (8, 'even'), (9, 'odd'), (10, 'even')]\n"
     ]
    }
   ],
   "source": [
    "list1 = [\"even\"  if i%2 == 0 else \"odd\" for i in range(11)]\n",
    "print(list(enumerate(list1)))"
   ]
  },
  {
   "cell_type": "code",
   "execution_count": 250,
   "id": "7319de03",
   "metadata": {},
   "outputs": [
    {
     "name": "stdout",
     "output_type": "stream",
     "text": [
      "odd\n"
     ]
    }
   ],
   "source": [
    "print(list1[3])"
   ]
  },
  {
   "cell_type": "code",
   "execution_count": 169,
   "id": "b8cb03e6",
   "metadata": {},
   "outputs": [
    {
     "data": {
      "text/plain": [
       "[(0, 'data'), (1, 'functions'), (2, 'Stats')]"
      ]
     },
     "execution_count": 169,
     "metadata": {},
     "output_type": "execute_result"
    }
   ],
   "source": [
    "x1 = ['data', 'functions', 'Stats']\n",
    "list(enumerate(x1))"
   ]
  },
  {
   "cell_type": "code",
   "execution_count": 171,
   "id": "d2442cad",
   "metadata": {},
   "outputs": [
    {
     "data": {
      "text/plain": [
       "[(200, 'data'), (201, 'functions'), (202, 'Stats')]"
      ]
     },
     "execution_count": 171,
     "metadata": {},
     "output_type": "execute_result"
    }
   ],
   "source": [
    "x1 = ['data', 'functions', 'Stats']\n",
    "list(enumerate(x1,200))"
   ]
  },
  {
   "cell_type": "code",
   "execution_count": 269,
   "id": "3f23ad72",
   "metadata": {},
   "outputs": [
    {
     "name": "stdout",
     "output_type": "stream",
     "text": [
      "[(1, 2), (2, 3), (3, 4), (4, 5), (5, 5)]\n",
      "(2, 3)\n"
     ]
    }
   ],
   "source": [
    "list1 = [2,3,4,5,5]\n",
    "\n",
    "print(list(enumerate(list1,1)))\n",
    "\n",
    "list2 = (list(enumerate(list1,1)))\n",
    "\n",
    "print(list2[1])"
   ]
  },
  {
   "cell_type": "code",
   "execution_count": 174,
   "id": "d9d73f7d",
   "metadata": {},
   "outputs": [
    {
     "name": "stdout",
     "output_type": "stream",
     "text": [
      "(4, 4)\n"
     ]
    }
   ],
   "source": [
    "print(list2[2])"
   ]
  },
  {
   "cell_type": "markdown",
   "id": "82a664a5",
   "metadata": {},
   "source": [
    "## Tuple Operations"
   ]
  },
  {
   "cell_type": "code",
   "execution_count": 176,
   "id": "4c490ab9",
   "metadata": {},
   "outputs": [
    {
     "name": "stdout",
     "output_type": "stream",
     "text": [
      "(3, 5.5, 'nine')\n"
     ]
    }
   ],
   "source": [
    "tuple1 = 3, 5.5, 'nine'\n",
    "print(tuple1)\n"
   ]
  },
  {
   "cell_type": "code",
   "execution_count": 179,
   "id": "e2b8622a",
   "metadata": {},
   "outputs": [
    {
     "data": {
      "text/plain": [
       "tuple"
      ]
     },
     "execution_count": 179,
     "metadata": {},
     "output_type": "execute_result"
    }
   ],
   "source": [
    "type(tuple1)"
   ]
  },
  {
   "cell_type": "markdown",
   "id": "d03667a7",
   "metadata": {},
   "source": [
    "### Tuple Unpacking"
   ]
  },
  {
   "cell_type": "code",
   "execution_count": 180,
   "id": "5ac15da7",
   "metadata": {},
   "outputs": [
    {
     "name": "stdout",
     "output_type": "stream",
     "text": [
      "3\n",
      "5.5\n",
      "nine\n"
     ]
    }
   ],
   "source": [
    "a, b, c = tuple1\n",
    "print(a)\n",
    "print(b)\n",
    "print(c)"
   ]
  },
  {
   "cell_type": "code",
   "execution_count": 182,
   "id": "ed78188c",
   "metadata": {},
   "outputs": [
    {
     "data": {
      "text/plain": [
       "str"
      ]
     },
     "execution_count": 182,
     "metadata": {},
     "output_type": "execute_result"
    }
   ],
   "source": [
    "tuple2 = ('tuple')\n",
    "type(tuple2)"
   ]
  },
  {
   "cell_type": "code",
   "execution_count": 183,
   "id": "89570e82",
   "metadata": {},
   "outputs": [
    {
     "data": {
      "text/plain": [
       "str"
      ]
     },
     "execution_count": 183,
     "metadata": {},
     "output_type": "execute_result"
    }
   ],
   "source": [
    "String = 'String'\n",
    "type(String)"
   ]
  },
  {
   "cell_type": "code",
   "execution_count": 188,
   "id": "ca1ca44f",
   "metadata": {},
   "outputs": [
    {
     "data": {
      "text/plain": [
       "str"
      ]
     },
     "execution_count": 188,
     "metadata": {},
     "output_type": "execute_result"
    }
   ],
   "source": [
    "tuple3 = 'abc'\n",
    "type(tuple3)"
   ]
  },
  {
   "cell_type": "code",
   "execution_count": 191,
   "id": "3603c180",
   "metadata": {},
   "outputs": [
    {
     "name": "stdout",
     "output_type": "stream",
     "text": [
      "<class 'tuple'>\n",
      "('abc', 'xyz', 'pqr')\n"
     ]
    }
   ],
   "source": [
    "tuple3 = 'abc', 'xyz', 'pqr'\n",
    "print(type(tuple3))\n",
    "print(tuple3)"
   ]
  },
  {
   "cell_type": "code",
   "execution_count": 192,
   "id": "f8e2369d",
   "metadata": {},
   "outputs": [
    {
     "data": {
      "text/plain": [
       "tuple"
      ]
     },
     "execution_count": 192,
     "metadata": {},
     "output_type": "execute_result"
    }
   ],
   "source": [
    "tuple3 = 'tuple',\n",
    "type(tuple3)"
   ]
  },
  {
   "cell_type": "markdown",
   "id": "5c507aaf",
   "metadata": {},
   "source": [
    "### Changing a tuple  - when a tuple has a list, then we can make it as a changeable tuple"
   ]
  },
  {
   "cell_type": "code",
   "execution_count": 205,
   "id": "0703af86",
   "metadata": {},
   "outputs": [],
   "source": [
    "tuple4 = (55, 5, 4, 3, 55, [25, 65, 85], 1, 99, 22, 33, -3, 8, 10, 12)"
   ]
  },
  {
   "cell_type": "code",
   "execution_count": 206,
   "id": "09be01c5",
   "metadata": {},
   "outputs": [
    {
     "name": "stdout",
     "output_type": "stream",
     "text": [
      "65\n"
     ]
    }
   ],
   "source": [
    "print(tuple4[5][1])"
   ]
  },
  {
   "cell_type": "code",
   "execution_count": 207,
   "id": "5591bc52",
   "metadata": {},
   "outputs": [
    {
     "name": "stdout",
     "output_type": "stream",
     "text": [
      "(55, 5, 4, 3, 55, [25, 65, 85], 1, 99, 22, 33, -3, 8, 10, 12)\n",
      "(55, 5, 4, 3, 55, [25, 1, 85], 1, 99, 22, 33, -3, 8, 10, 12)\n"
     ]
    }
   ],
   "source": [
    "print(tuple4)\n",
    "tuple4[5][1] = 1\n",
    "print(tuple4)"
   ]
  },
  {
   "cell_type": "code",
   "execution_count": 208,
   "id": "d456b4f6",
   "metadata": {},
   "outputs": [
    {
     "name": "stdout",
     "output_type": "stream",
     "text": [
      "(55, 5, 4, 3, 55, [25, 1, 85], 1, 99, 22, 33, -3, 8, 10, 12)\n"
     ]
    },
    {
     "ename": "TypeError",
     "evalue": "'tuple' object does not support item assignment",
     "output_type": "error",
     "traceback": [
      "\u001b[1;31m---------------------------------------------------------------------------\u001b[0m",
      "\u001b[1;31mTypeError\u001b[0m                                 Traceback (most recent call last)",
      "\u001b[1;32m~\\AppData\\Local\\Temp/ipykernel_107772/1238079310.py\u001b[0m in \u001b[0;36m<module>\u001b[1;34m\u001b[0m\n\u001b[0;32m      1\u001b[0m \u001b[0mprint\u001b[0m\u001b[1;33m(\u001b[0m\u001b[0mtuple4\u001b[0m\u001b[1;33m)\u001b[0m\u001b[1;33m\u001b[0m\u001b[1;33m\u001b[0m\u001b[0m\n\u001b[1;32m----> 2\u001b[1;33m \u001b[0mtuple4\u001b[0m\u001b[1;33m[\u001b[0m\u001b[1;36m4\u001b[0m\u001b[1;33m]\u001b[0m \u001b[1;33m=\u001b[0m \u001b[1;36m11\u001b[0m\u001b[1;33m\u001b[0m\u001b[1;33m\u001b[0m\u001b[0m\n\u001b[0m\u001b[0;32m      3\u001b[0m \u001b[0mprint\u001b[0m\u001b[1;33m(\u001b[0m\u001b[0mtuple4\u001b[0m\u001b[1;33m)\u001b[0m\u001b[1;33m\u001b[0m\u001b[1;33m\u001b[0m\u001b[0m\n",
      "\u001b[1;31mTypeError\u001b[0m: 'tuple' object does not support item assignment"
     ]
    }
   ],
   "source": [
    "print(tuple4)\n",
    "tuple4[4] = 11\n",
    "print(tuple4)"
   ]
  },
  {
   "cell_type": "markdown",
   "id": "ce3cc855",
   "metadata": {},
   "source": [
    "## A \"Set\" of mixed data types"
   ]
  },
  {
   "cell_type": "code",
   "execution_count": 214,
   "id": "eece0020",
   "metadata": {},
   "outputs": [
    {
     "name": "stdout",
     "output_type": "stream",
     "text": [
      "{'Hey', 1.0, (2, 5, 8)}\n",
      "<class 'set'>\n"
     ]
    }
   ],
   "source": [
    "my_set1 = {1.0, \"Hey\", (2, 5, 8)}\n",
    "print(my_set1)\n",
    "print(type(my_set1))"
   ]
  },
  {
   "cell_type": "code",
   "execution_count": 212,
   "id": "681e78e1",
   "metadata": {},
   "outputs": [
    {
     "ename": "TypeError",
     "evalue": "unhashable type: 'list'",
     "output_type": "error",
     "traceback": [
      "\u001b[1;31m---------------------------------------------------------------------------\u001b[0m",
      "\u001b[1;31mTypeError\u001b[0m                                 Traceback (most recent call last)",
      "\u001b[1;32m~\\AppData\\Local\\Temp/ipykernel_107772/4058713363.py\u001b[0m in \u001b[0;36m<module>\u001b[1;34m\u001b[0m\n\u001b[1;32m----> 1\u001b[1;33m \u001b[0mmy_set2\u001b[0m \u001b[1;33m=\u001b[0m \u001b[1;33m{\u001b[0m\u001b[1;36m1.0\u001b[0m\u001b[1;33m,\u001b[0m \u001b[1;34m\"Hello\"\u001b[0m\u001b[1;33m,\u001b[0m \u001b[1;33m[\u001b[0m\u001b[1;36m2\u001b[0m\u001b[1;33m,\u001b[0m \u001b[1;36m5\u001b[0m\u001b[1;33m,\u001b[0m \u001b[1;36m8\u001b[0m\u001b[1;33m]\u001b[0m\u001b[1;33m}\u001b[0m\u001b[1;33m\u001b[0m\u001b[1;33m\u001b[0m\u001b[0m\n\u001b[0m\u001b[0;32m      2\u001b[0m \u001b[0mprint\u001b[0m\u001b[1;33m(\u001b[0m\u001b[0mmy_set2\u001b[0m\u001b[1;33m)\u001b[0m\u001b[1;33m\u001b[0m\u001b[1;33m\u001b[0m\u001b[0m\n",
      "\u001b[1;31mTypeError\u001b[0m: unhashable type: 'list'"
     ]
    }
   ],
   "source": [
    "my_set2 = {1.0, \"Hello\", [2, 5, 8]}\n",
    "print(my_set2)"
   ]
  },
  {
   "cell_type": "code",
   "execution_count": 226,
   "id": "28673c3e",
   "metadata": {
    "scrolled": true
   },
   "outputs": [
    {
     "name": "stdout",
     "output_type": "stream",
     "text": [
      "{8, 1, 4, 9}\n",
      "{8, 1, 4, 9}\n"
     ]
    },
    {
     "ename": "KeyError",
     "evalue": "3",
     "output_type": "error",
     "traceback": [
      "\u001b[1;31m---------------------------------------------------------------------------\u001b[0m",
      "\u001b[1;31mKeyError\u001b[0m                                  Traceback (most recent call last)",
      "\u001b[1;32m~\\AppData\\Local\\Temp/ipykernel_107772/3323977739.py\u001b[0m in \u001b[0;36m<module>\u001b[1;34m\u001b[0m\n\u001b[0;32m      5\u001b[0m \u001b[0mprint\u001b[0m\u001b[1;33m(\u001b[0m\u001b[0mmy_set\u001b[0m\u001b[1;33m)\u001b[0m\u001b[1;33m\u001b[0m\u001b[1;33m\u001b[0m\u001b[0m\n\u001b[0;32m      6\u001b[0m \u001b[1;33m\u001b[0m\u001b[0m\n\u001b[1;32m----> 7\u001b[1;33m \u001b[0mmy_set\u001b[0m\u001b[1;33m.\u001b[0m\u001b[0mremove\u001b[0m\u001b[1;33m(\u001b[0m\u001b[1;36m3\u001b[0m\u001b[1;33m)\u001b[0m\u001b[1;33m\u001b[0m\u001b[1;33m\u001b[0m\u001b[0m\n\u001b[0m\u001b[0;32m      8\u001b[0m \u001b[0mprint\u001b[0m\u001b[1;33m(\u001b[0m\u001b[0mmy_set\u001b[0m\u001b[1;33m)\u001b[0m\u001b[1;33m\u001b[0m\u001b[1;33m\u001b[0m\u001b[0m\n",
      "\u001b[1;31mKeyError\u001b[0m: 3"
     ]
    }
   ],
   "source": [
    "my_set = {1, 8, 9, 4}\n",
    "print(my_set)\n",
    "\n",
    "my_set.discard(3)\n",
    "print(my_set)\n",
    "\n",
    "my_set.remove(3)\n",
    "print(my_set)"
   ]
  },
  {
   "cell_type": "code",
   "execution_count": 225,
   "id": "4e8eef7f",
   "metadata": {},
   "outputs": [
    {
     "name": "stdout",
     "output_type": "stream",
     "text": [
      "{8, 1, 4, 9}\n"
     ]
    }
   ],
   "source": [
    "my_set = {1, 8, 9, 4}\n",
    "print(my_set)"
   ]
  },
  {
   "cell_type": "markdown",
   "id": "708df35f",
   "metadata": {},
   "source": [
    "## Iterators"
   ]
  },
  {
   "cell_type": "code",
   "execution_count": 233,
   "id": "526df291",
   "metadata": {},
   "outputs": [
    {
     "name": "stdout",
     "output_type": "stream",
     "text": [
      "<class 'list_iterator'>\n"
     ]
    }
   ],
   "source": [
    "my_list = [2, 9, 8, 3]\n",
    "\n",
    "my_iter = iter(my_list)\n",
    "\n",
    "print(type(my_iter))"
   ]
  },
  {
   "cell_type": "code",
   "execution_count": 230,
   "id": "5e10c314",
   "metadata": {},
   "outputs": [
    {
     "name": "stdout",
     "output_type": "stream",
     "text": [
      "2\n"
     ]
    }
   ],
   "source": [
    "print(next(my_iter))"
   ]
  },
  {
   "cell_type": "code",
   "execution_count": 231,
   "id": "26ea01e3",
   "metadata": {},
   "outputs": [
    {
     "name": "stdout",
     "output_type": "stream",
     "text": [
      "9\n"
     ]
    }
   ],
   "source": [
    "print(next(my_iter))"
   ]
  },
  {
   "cell_type": "code",
   "execution_count": 232,
   "id": "88b47400",
   "metadata": {},
   "outputs": [
    {
     "name": "stdout",
     "output_type": "stream",
     "text": [
      "8\n"
     ]
    }
   ],
   "source": [
    "print(next(my_iter))"
   ]
  },
  {
   "cell_type": "code",
   "execution_count": 237,
   "id": "4ca2c3b1",
   "metadata": {},
   "outputs": [
    {
     "name": "stdout",
     "output_type": "stream",
     "text": [
      "2\n",
      "9\n",
      "8\n",
      "3\n"
     ]
    }
   ],
   "source": [
    "my_list = [2, 9, 8, 3]\n",
    "\n",
    "my_iter = iter(my_list)\n",
    "\n",
    "for i in range(len(my_list)):\n",
    "    print(next(my_iter))\n",
    "    "
   ]
  },
  {
   "cell_type": "code",
   "execution_count": 236,
   "id": "1479a0b7",
   "metadata": {},
   "outputs": [
    {
     "ename": "StopIteration",
     "evalue": "",
     "output_type": "error",
     "traceback": [
      "\u001b[1;31m---------------------------------------------------------------------------\u001b[0m",
      "\u001b[1;31mStopIteration\u001b[0m                             Traceback (most recent call last)",
      "\u001b[1;32m~\\AppData\\Local\\Temp/ipykernel_107772/1757294138.py\u001b[0m in \u001b[0;36m<module>\u001b[1;34m\u001b[0m\n\u001b[1;32m----> 1\u001b[1;33m \u001b[0mprint\u001b[0m\u001b[1;33m(\u001b[0m\u001b[0mnext\u001b[0m\u001b[1;33m(\u001b[0m\u001b[0mmy_iter\u001b[0m\u001b[1;33m)\u001b[0m\u001b[1;33m)\u001b[0m\u001b[1;33m\u001b[0m\u001b[1;33m\u001b[0m\u001b[0m\n\u001b[0m",
      "\u001b[1;31mStopIteration\u001b[0m: "
     ]
    }
   ],
   "source": [
    "print(next(my_iter))"
   ]
  },
  {
   "cell_type": "code",
   "execution_count": null,
   "id": "83e0d8e0",
   "metadata": {},
   "outputs": [],
   "source": []
  },
  {
   "cell_type": "code",
   "execution_count": null,
   "id": "1c1ba8de",
   "metadata": {},
   "outputs": [],
   "source": []
  },
  {
   "cell_type": "code",
   "execution_count": null,
   "id": "47be8f71",
   "metadata": {},
   "outputs": [],
   "source": []
  }
 ],
 "metadata": {
  "kernelspec": {
   "display_name": "Python 3 (ipykernel)",
   "language": "python",
   "name": "python3"
  },
  "language_info": {
   "codemirror_mode": {
    "name": "ipython",
    "version": 3
   },
   "file_extension": ".py",
   "mimetype": "text/x-python",
   "name": "python",
   "nbconvert_exporter": "python",
   "pygments_lexer": "ipython3",
   "version": "3.9.7"
  }
 },
 "nbformat": 4,
 "nbformat_minor": 5
}
