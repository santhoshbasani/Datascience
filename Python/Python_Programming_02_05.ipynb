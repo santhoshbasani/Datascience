{
 "cells": [
  {
   "cell_type": "markdown",
   "id": "36512c71",
   "metadata": {},
   "source": [
    "## Day-1 session - 5th February 2022 on python\n",
    "1. Multi line logic statements with \\ and paranthesis()\n",
    "2. Range - Indendation \n",
    "3. For loop\n",
    "4. Single line comments\n",
    "5. Multi line comments\n",
    "6. Functions"
   ]
  },
  {
   "cell_type": "markdown",
   "id": "47c15a23",
   "metadata": {},
   "source": [
    "## first code in python"
   ]
  },
  {
   "cell_type": "code",
   "execution_count": 1,
   "id": "9435d5c6",
   "metadata": {},
   "outputs": [
    {
     "name": "stdout",
     "output_type": "stream",
     "text": [
      "10a\n"
     ]
    }
   ],
   "source": [
    "a = '10a'\n",
    "print(a)"
   ]
  },
  {
   "cell_type": "code",
   "execution_count": 6,
   "id": "bba6b26d",
   "metadata": {},
   "outputs": [
    {
     "data": {
      "text/plain": [
       "False"
      ]
     },
     "execution_count": 6,
     "metadata": {},
     "output_type": "execute_result"
    }
   ],
   "source": [
    "5 < 4"
   ]
  },
  {
   "cell_type": "code",
   "execution_count": 8,
   "id": "dbf98592",
   "metadata": {},
   "outputs": [],
   "source": [
    "var = 10"
   ]
  },
  {
   "cell_type": "code",
   "execution_count": 12,
   "id": "245ba128",
   "metadata": {},
   "outputs": [
    {
     "name": "stdout",
     "output_type": "stream",
     "text": [
      "28\n"
     ]
    }
   ],
   "source": [
    "digit = 1 + 2 + 3 + 4 + \\\n",
    "5 + 6  \\\n",
    "+7\n",
    "print(digit)      ## multi line statement with \\\n"
   ]
  },
  {
   "cell_type": "code",
   "execution_count": 13,
   "id": "954a15e7",
   "metadata": {},
   "outputs": [
    {
     "name": "stdout",
     "output_type": "stream",
     "text": [
      "58\n"
     ]
    }
   ],
   "source": [
    "digit1=(1+32+3 +4+ \\\n",
    "5+6\n",
    "+7)             ## multi line statement with open close paranthesis()\n",
    "print(digit1)"
   ]
  },
  {
   "cell_type": "code",
   "execution_count": 14,
   "id": "81d9deab",
   "metadata": {},
   "outputs": [
    {
     "name": "stdout",
     "output_type": "stream",
     "text": [
      "1 \n",
      " 2 \n",
      " 3\n"
     ]
    }
   ],
   "source": [
    "a=1; b=2; c=3;\n",
    "print(a,'\\n',b,'\\n',c)"
   ]
  },
  {
   "cell_type": "code",
   "execution_count": 15,
   "id": "d1c3a8b4",
   "metadata": {},
   "outputs": [
    {
     "name": "stdout",
     "output_type": "stream",
     "text": [
      "[1, 5, 9, 13, 17]\n"
     ]
    }
   ],
   "source": [
    "x=list(range(1,20,4))   ## indendation\n",
    "print(x)"
   ]
  },
  {
   "cell_type": "code",
   "execution_count": 34,
   "id": "acb269d8",
   "metadata": {
    "scrolled": false
   },
   "outputs": [
    {
     "name": "stdout",
     "output_type": "stream",
     "text": [
      "1\n",
      "2\n",
      "3\n",
      "4\n"
     ]
    }
   ],
   "source": [
    "\n",
    "for p in range(1,10):   ## for loop\n",
    "    if (p<5):\n",
    "        print(p)"
   ]
  },
  {
   "cell_type": "code",
   "execution_count": 32,
   "id": "cd606e0c",
   "metadata": {},
   "outputs": [
    {
     "name": "stdout",
     "output_type": "stream",
     "text": [
      "1\n",
      "2\n",
      "3\n",
      "4\n",
      "5\n"
     ]
    }
   ],
   "source": [
    "for q in range(1,8):   ## for loop\n",
    "    print(q)\n",
    "    if (q==5):\n",
    "        break"
   ]
  },
  {
   "cell_type": "code",
   "execution_count": 33,
   "id": "e3643614",
   "metadata": {},
   "outputs": [
    {
     "name": "stdout",
     "output_type": "stream",
     "text": [
      "1\n",
      "2\n"
     ]
    }
   ],
   "source": [
    "for i in range(1, 3): print(i)"
   ]
  },
  {
   "cell_type": "code",
   "execution_count": 39,
   "id": "bcab7f19",
   "metadata": {},
   "outputs": [
    {
     "name": "stdout",
     "output_type": "stream",
     "text": [
      "True\n"
     ]
    }
   ],
   "source": [
    "if True: print('True')"
   ]
  },
  {
   "cell_type": "code",
   "execution_count": 38,
   "id": "b47af347",
   "metadata": {},
   "outputs": [
    {
     "name": "stdout",
     "output_type": "stream",
     "text": [
      "False\n"
     ]
    }
   ],
   "source": [
    "if 5>6: print('True')\n",
    "else:\n",
    "    print('False')"
   ]
  },
  {
   "cell_type": "markdown",
   "id": "5daf95b1",
   "metadata": {},
   "source": [
    "## Single line comments using '#'"
   ]
  },
  {
   "cell_type": "code",
   "execution_count": 2,
   "id": "e3a6cc7d",
   "metadata": {},
   "outputs": [],
   "source": [
    "#=# comment section on short cut keys\n",
    "# print('i am a software engineer')   -> ctrl+/ to comment set of lines and to uncomment the linesb\n",
    "# print('i am marrier')\n"
   ]
  },
  {
   "cell_type": "markdown",
   "id": "067aa2fa",
   "metadata": {},
   "source": [
    "## Multi line comments - these comments mainly we will use in the functions"
   ]
  },
  {
   "cell_type": "code",
   "execution_count": 16,
   "id": "d342093e",
   "metadata": {},
   "outputs": [
    {
     "data": {
      "text/plain": [
       "' this is my first class\\nstarted on 05-02-2022\\nimran is my tutor'"
      ]
     },
     "execution_count": 16,
     "metadata": {},
     "output_type": "execute_result"
    }
   ],
   "source": [
    "\"\"\" this is my first class\n",
    "started on 05-02-2022\n",
    "imran is my tutor\"\"\"\n"
   ]
  },
  {
   "cell_type": "markdown",
   "id": "4e749dcb",
   "metadata": {},
   "source": [
    "## Functions"
   ]
  },
  {
   "cell_type": "markdown",
   "id": "6cd01844",
   "metadata": {},
   "source": [
    "### doc string"
   ]
  },
  {
   "cell_type": "code",
   "execution_count": 29,
   "id": "b3805d74",
   "metadata": {},
   "outputs": [],
   "source": [
    "def function1():\n",
    "    \"\"\"this is my first function in the python program\"\"\"    ## doc string\n",
    "    print('first function pgm')"
   ]
  },
  {
   "cell_type": "code",
   "execution_count": 24,
   "id": "a92652b7",
   "metadata": {},
   "outputs": [
    {
     "name": "stdout",
     "output_type": "stream",
     "text": [
      "this is my first function in the python program\n"
     ]
    }
   ],
   "source": [
    "print(function1.__doc__)    ## doc string from function1, it is used to get only the description from function in a way it mentioned"
   ]
  },
  {
   "cell_type": "code",
   "execution_count": 23,
   "id": "169734b5",
   "metadata": {},
   "outputs": [
    {
     "name": "stdout",
     "output_type": "stream",
     "text": [
      "first function pgm\n"
     ]
    }
   ],
   "source": [
    "function1()     ## function calling"
   ]
  },
  {
   "cell_type": "code",
   "execution_count": 26,
   "id": "791719a9",
   "metadata": {},
   "outputs": [],
   "source": [
    "def add_fun(a,b):\n",
    "    \"\"\"function to add two values\"\"\"\n",
    "    return a+b"
   ]
  },
  {
   "cell_type": "code",
   "execution_count": 27,
   "id": "d473ee35",
   "metadata": {
    "scrolled": true
   },
   "outputs": [
    {
     "name": "stdout",
     "output_type": "stream",
     "text": [
      "function to add two values\n",
      "11\n"
     ]
    }
   ],
   "source": [
    "print(add_fun.__doc__)\n",
    "print(add_fun(5,6))"
   ]
  },
  {
   "cell_type": "code",
   "execution_count": 30,
   "id": "673d719b",
   "metadata": {},
   "outputs": [
    {
     "name": "stdout",
     "output_type": "stream",
     "text": [
      "11\n"
     ]
    }
   ],
   "source": [
    "a1=add_fun(5,6)\n",
    "if (a1>10):\n",
    "    print(a1)"
   ]
  }
 ],
 "metadata": {
  "kernelspec": {
   "display_name": "Python 3 (ipykernel)",
   "language": "python",
   "name": "python3"
  },
  "language_info": {
   "codemirror_mode": {
    "name": "ipython",
    "version": 3
   },
   "file_extension": ".py",
   "mimetype": "text/x-python",
   "name": "python",
   "nbconvert_exporter": "python",
   "pygments_lexer": "ipython3",
   "version": "3.9.7"
  }
 },
 "nbformat": 4,
 "nbformat_minor": 5
}
