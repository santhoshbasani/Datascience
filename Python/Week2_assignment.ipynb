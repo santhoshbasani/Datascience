{
 "cells": [
  {
   "cell_type": "markdown",
   "id": "af65c5ef",
   "metadata": {},
   "source": [
    "## Week2 - Assignment for the classes 02/12 and 02/13"
   ]
  },
  {
   "cell_type": "markdown",
   "id": "46c49bd2",
   "metadata": {},
   "source": [
    "### 1.\tGet the input for 2 variables though “input” function and pass them to a function to return the addition of two variables"
   ]
  },
  {
   "cell_type": "code",
   "execution_count": 5,
   "id": "3d5b63a9",
   "metadata": {},
   "outputs": [
    {
     "name": "stdout",
     "output_type": "stream",
     "text": [
      "Enter number1 : 10\n",
      "Enter number2 : 20\n",
      "This function is for addition of two number\n",
      "sum of two numbers is :  30\n"
     ]
    }
   ],
   "source": [
    "def add_func(var1,var2):\n",
    "    \"\"\"This function is for addition of two number\"\"\"\n",
    "    sum_val = var1 + var2\n",
    "    return sum_val\n",
    "\n",
    "arg1 = int(input(\"Enter number1 : \"))\n",
    "arg2 = int(input(\"Enter number2 : \"))\n",
    "result = add_func(arg1,arg2)\n",
    "print(add_func.__doc__)\n",
    "print(\"sum of two numbers is : \", result)"
   ]
  },
  {
   "cell_type": "markdown",
   "id": "de67aa0e",
   "metadata": {},
   "source": [
    "### 2.\tWhat happens if we try to add an int with str and vice versa. Please print out the error"
   ]
  },
  {
   "cell_type": "code",
   "execution_count": 9,
   "id": "8931067e",
   "metadata": {},
   "outputs": [],
   "source": [
    "def add_func(var1,var2):\n",
    "    \"\"\"This function is for addition of two number\"\"\"\n",
    "    sum_val = var1 + var2\n",
    "    return sum_val"
   ]
  },
  {
   "cell_type": "code",
   "execution_count": 10,
   "id": "74251b5a",
   "metadata": {},
   "outputs": [
    {
     "name": "stdout",
     "output_type": "stream",
     "text": [
      "Enter number1 : 10\n",
      "Enter number2 : sant\n"
     ]
    },
    {
     "ename": "TypeError",
     "evalue": "unsupported operand type(s) for +: 'int' and 'str'",
     "output_type": "error",
     "traceback": [
      "\u001b[1;31m---------------------------------------------------------------------------\u001b[0m",
      "\u001b[1;31mTypeError\u001b[0m                                 Traceback (most recent call last)",
      "\u001b[1;32m~\\AppData\\Local\\Temp/ipykernel_85468/2000839093.py\u001b[0m in \u001b[0;36m<module>\u001b[1;34m\u001b[0m\n\u001b[0;32m      1\u001b[0m \u001b[0marg1\u001b[0m \u001b[1;33m=\u001b[0m \u001b[0mint\u001b[0m\u001b[1;33m(\u001b[0m\u001b[0minput\u001b[0m\u001b[1;33m(\u001b[0m\u001b[1;34m\"Enter number1 : \"\u001b[0m\u001b[1;33m)\u001b[0m\u001b[1;33m)\u001b[0m\u001b[1;33m\u001b[0m\u001b[1;33m\u001b[0m\u001b[0m\n\u001b[0;32m      2\u001b[0m \u001b[0marg2\u001b[0m \u001b[1;33m=\u001b[0m \u001b[0minput\u001b[0m\u001b[1;33m(\u001b[0m\u001b[1;34m\"Enter number2 : \"\u001b[0m\u001b[1;33m)\u001b[0m\u001b[1;33m\u001b[0m\u001b[1;33m\u001b[0m\u001b[0m\n\u001b[1;32m----> 3\u001b[1;33m \u001b[0mresult\u001b[0m \u001b[1;33m=\u001b[0m \u001b[0madd_func\u001b[0m\u001b[1;33m(\u001b[0m\u001b[0marg1\u001b[0m\u001b[1;33m,\u001b[0m\u001b[0marg2\u001b[0m\u001b[1;33m)\u001b[0m\u001b[1;33m\u001b[0m\u001b[1;33m\u001b[0m\u001b[0m\n\u001b[0m\u001b[0;32m      4\u001b[0m \u001b[0mprint\u001b[0m\u001b[1;33m(\u001b[0m\u001b[0madd_func\u001b[0m\u001b[1;33m.\u001b[0m\u001b[0m__doc__\u001b[0m\u001b[1;33m)\u001b[0m\u001b[1;33m\u001b[0m\u001b[1;33m\u001b[0m\u001b[0m\n\u001b[0;32m      5\u001b[0m \u001b[0mprint\u001b[0m\u001b[1;33m(\u001b[0m\u001b[1;34m\"sum of two numbers is : \"\u001b[0m\u001b[1;33m,\u001b[0m \u001b[0mresult\u001b[0m\u001b[1;33m)\u001b[0m\u001b[1;33m\u001b[0m\u001b[1;33m\u001b[0m\u001b[0m\n",
      "\u001b[1;32m~\\AppData\\Local\\Temp/ipykernel_85468/1094343161.py\u001b[0m in \u001b[0;36madd_func\u001b[1;34m(var1, var2)\u001b[0m\n\u001b[0;32m      1\u001b[0m \u001b[1;32mdef\u001b[0m \u001b[0madd_func\u001b[0m\u001b[1;33m(\u001b[0m\u001b[0mvar1\u001b[0m\u001b[1;33m,\u001b[0m\u001b[0mvar2\u001b[0m\u001b[1;33m)\u001b[0m\u001b[1;33m:\u001b[0m\u001b[1;33m\u001b[0m\u001b[1;33m\u001b[0m\u001b[0m\n\u001b[0;32m      2\u001b[0m     \u001b[1;34m\"\"\"This function is for addition of two number\"\"\"\u001b[0m\u001b[1;33m\u001b[0m\u001b[1;33m\u001b[0m\u001b[0m\n\u001b[1;32m----> 3\u001b[1;33m     \u001b[0msum_val\u001b[0m \u001b[1;33m=\u001b[0m \u001b[0mvar1\u001b[0m \u001b[1;33m+\u001b[0m \u001b[0mvar2\u001b[0m\u001b[1;33m\u001b[0m\u001b[1;33m\u001b[0m\u001b[0m\n\u001b[0m\u001b[0;32m      4\u001b[0m     \u001b[1;32mreturn\u001b[0m \u001b[0msum_val\u001b[0m\u001b[1;33m\u001b[0m\u001b[1;33m\u001b[0m\u001b[0m\n",
      "\u001b[1;31mTypeError\u001b[0m: unsupported operand type(s) for +: 'int' and 'str'"
     ]
    }
   ],
   "source": [
    "arg1 = int(input(\"Enter number1 : \"))\n",
    "arg2 = input(\"Enter number2 : \")\n",
    "result = add_func(arg1,arg2)\n",
    "print(add_func.__doc__)\n",
    "print(\"sum of two numbers is : \", result)"
   ]
  },
  {
   "cell_type": "code",
   "execution_count": 11,
   "id": "c354b742",
   "metadata": {},
   "outputs": [
    {
     "name": "stdout",
     "output_type": "stream",
     "text": [
      "Enter number1 : san\n",
      "Enter number2 : 10\n"
     ]
    },
    {
     "ename": "TypeError",
     "evalue": "can only concatenate str (not \"int\") to str",
     "output_type": "error",
     "traceback": [
      "\u001b[1;31m---------------------------------------------------------------------------\u001b[0m",
      "\u001b[1;31mTypeError\u001b[0m                                 Traceback (most recent call last)",
      "\u001b[1;32m~\\AppData\\Local\\Temp/ipykernel_85468/3361404873.py\u001b[0m in \u001b[0;36m<module>\u001b[1;34m\u001b[0m\n\u001b[0;32m      1\u001b[0m \u001b[0marg1\u001b[0m \u001b[1;33m=\u001b[0m \u001b[0minput\u001b[0m\u001b[1;33m(\u001b[0m\u001b[1;34m\"Enter number1 : \"\u001b[0m\u001b[1;33m)\u001b[0m\u001b[1;33m\u001b[0m\u001b[1;33m\u001b[0m\u001b[0m\n\u001b[0;32m      2\u001b[0m \u001b[0marg2\u001b[0m \u001b[1;33m=\u001b[0m \u001b[0mint\u001b[0m\u001b[1;33m(\u001b[0m\u001b[0minput\u001b[0m\u001b[1;33m(\u001b[0m\u001b[1;34m\"Enter number2 : \"\u001b[0m\u001b[1;33m)\u001b[0m\u001b[1;33m)\u001b[0m\u001b[1;33m\u001b[0m\u001b[1;33m\u001b[0m\u001b[0m\n\u001b[1;32m----> 3\u001b[1;33m \u001b[0mresult\u001b[0m \u001b[1;33m=\u001b[0m \u001b[0madd_func\u001b[0m\u001b[1;33m(\u001b[0m\u001b[0marg1\u001b[0m\u001b[1;33m,\u001b[0m\u001b[0marg2\u001b[0m\u001b[1;33m)\u001b[0m\u001b[1;33m\u001b[0m\u001b[1;33m\u001b[0m\u001b[0m\n\u001b[0m\u001b[0;32m      4\u001b[0m \u001b[0mprint\u001b[0m\u001b[1;33m(\u001b[0m\u001b[0madd_func\u001b[0m\u001b[1;33m.\u001b[0m\u001b[0m__doc__\u001b[0m\u001b[1;33m)\u001b[0m\u001b[1;33m\u001b[0m\u001b[1;33m\u001b[0m\u001b[0m\n\u001b[0;32m      5\u001b[0m \u001b[0mprint\u001b[0m\u001b[1;33m(\u001b[0m\u001b[1;34m\"sum of two numbers is : \"\u001b[0m\u001b[1;33m,\u001b[0m \u001b[0mresult\u001b[0m\u001b[1;33m)\u001b[0m\u001b[1;33m\u001b[0m\u001b[1;33m\u001b[0m\u001b[0m\n",
      "\u001b[1;32m~\\AppData\\Local\\Temp/ipykernel_85468/1094343161.py\u001b[0m in \u001b[0;36madd_func\u001b[1;34m(var1, var2)\u001b[0m\n\u001b[0;32m      1\u001b[0m \u001b[1;32mdef\u001b[0m \u001b[0madd_func\u001b[0m\u001b[1;33m(\u001b[0m\u001b[0mvar1\u001b[0m\u001b[1;33m,\u001b[0m\u001b[0mvar2\u001b[0m\u001b[1;33m)\u001b[0m\u001b[1;33m:\u001b[0m\u001b[1;33m\u001b[0m\u001b[1;33m\u001b[0m\u001b[0m\n\u001b[0;32m      2\u001b[0m     \u001b[1;34m\"\"\"This function is for addition of two number\"\"\"\u001b[0m\u001b[1;33m\u001b[0m\u001b[1;33m\u001b[0m\u001b[0m\n\u001b[1;32m----> 3\u001b[1;33m     \u001b[0msum_val\u001b[0m \u001b[1;33m=\u001b[0m \u001b[0mvar1\u001b[0m \u001b[1;33m+\u001b[0m \u001b[0mvar2\u001b[0m\u001b[1;33m\u001b[0m\u001b[1;33m\u001b[0m\u001b[0m\n\u001b[0m\u001b[0;32m      4\u001b[0m     \u001b[1;32mreturn\u001b[0m \u001b[0msum_val\u001b[0m\u001b[1;33m\u001b[0m\u001b[1;33m\u001b[0m\u001b[0m\n",
      "\u001b[1;31mTypeError\u001b[0m: can only concatenate str (not \"int\") to str"
     ]
    }
   ],
   "source": [
    "arg1 = input(\"Enter number1 : \")\n",
    "arg2 = int(input(\"Enter number2 : \"))\n",
    "result = add_func(arg1,arg2)\n",
    "print(add_func.__doc__)\n",
    "print(\"sum of two numbers is : \", result)"
   ]
  },
  {
   "cell_type": "markdown",
   "id": "a798551f",
   "metadata": {},
   "source": [
    "### 3.\tCreate a string variable for the word “Data Science” and see if the letter “s” is present in it using membership operators"
   ]
  },
  {
   "cell_type": "code",
   "execution_count": 86,
   "id": "0d18d737",
   "metadata": {},
   "outputs": [
    {
     "name": "stdout",
     "output_type": "stream",
     "text": [
      "enter any character : s\n",
      "we dont have the given character in database\n"
     ]
    }
   ],
   "source": [
    "Str = 'Data Science'\n",
    "i = input('enter any character : ')\n",
    "if i in Str:\n",
    "    print('We have the given character in database')\n",
    "else:\n",
    "    print('we don''t have the given character in database')"
   ]
  },
  {
   "cell_type": "code",
   "execution_count": 13,
   "id": "06e36a0d",
   "metadata": {},
   "outputs": [
    {
     "name": "stdout",
     "output_type": "stream",
     "text": [
      "True\n"
     ]
    }
   ],
   "source": [
    "print('S' in Str)"
   ]
  },
  {
   "cell_type": "markdown",
   "id": "c6128bc5",
   "metadata": {},
   "source": [
    "### 4.\tWrite a function and pass a number list as an argument to the function. And return True if the first and last number of a given list is same. If numbers are different then return False"
   ]
  },
  {
   "cell_type": "code",
   "execution_count": 101,
   "id": "a835b3f7",
   "metadata": {},
   "outputs": [],
   "source": [
    "def list_check_func(list1_arg):\n",
    "    \"\"\"Comparing the first and last values in the list and return True or False\"\"\"\n",
    "    if list1_arg[0] == list1_arg[-1]:\n",
    "        print('First value in the list  : ',list1_arg[0])\n",
    "        print('Second value in the list : ',list1_arg[-1])\n",
    "        return True\n",
    "    else:\n",
    "        print('First value in the list  : ',list1_arg[0])\n",
    "        print('Second value in the list : ',list1_arg[-1])\n",
    "        return False"
   ]
  },
  {
   "cell_type": "code",
   "execution_count": 102,
   "id": "1ff50964",
   "metadata": {
    "scrolled": true
   },
   "outputs": [
    {
     "name": "stdout",
     "output_type": "stream",
     "text": [
      "Comparing the first and last values in the list and return True or False\n",
      "First value in the list  :  1\n",
      "Second value in the list :  1\n"
     ]
    },
    {
     "data": {
      "text/plain": [
       "True"
      ]
     },
     "execution_count": 102,
     "metadata": {},
     "output_type": "execute_result"
    }
   ],
   "source": [
    "list1 = [1,2,3,4,5,1]\n",
    "print(list_check_func.__doc__)\n",
    "list_check_func(list1)"
   ]
  },
  {
   "cell_type": "code",
   "execution_count": 103,
   "id": "b948eee7",
   "metadata": {},
   "outputs": [
    {
     "name": "stdout",
     "output_type": "stream",
     "text": [
      "Comparing the first and last values in the list and return True or False\n",
      "First value in the list  :  1\n",
      "Second value in the list :  10\n"
     ]
    },
    {
     "data": {
      "text/plain": [
       "False"
      ]
     },
     "execution_count": 103,
     "metadata": {},
     "output_type": "execute_result"
    }
   ],
   "source": [
    "list2 = [1,2,3,4,5,10]\n",
    "print(list_check_func.__doc__)\n",
    "list_check_func(list2)"
   ]
  },
  {
   "cell_type": "code",
   "execution_count": 106,
   "id": "9041c8ef",
   "metadata": {},
   "outputs": [],
   "source": [
    "def list_check_func1(list1_arg):\n",
    "    \"\"\"Comparing the first and last values in the list and return True or False\"\"\"\n",
    "    return list1_arg[0] == list1_arg[-1]"
   ]
  },
  {
   "cell_type": "code",
   "execution_count": 107,
   "id": "9f1ecff3",
   "metadata": {},
   "outputs": [
    {
     "name": "stdout",
     "output_type": "stream",
     "text": [
      "Comparing the first and last values in the list and return True or False\n"
     ]
    },
    {
     "data": {
      "text/plain": [
       "True"
      ]
     },
     "execution_count": 107,
     "metadata": {},
     "output_type": "execute_result"
    }
   ],
   "source": [
    "list3 = [1,2,3,4,5,1]\n",
    "print(list_check_func1.__doc__)\n",
    "list_check_func1(list3)"
   ]
  },
  {
   "cell_type": "code",
   "execution_count": 173,
   "id": "a5e43032",
   "metadata": {},
   "outputs": [
    {
     "name": "stdout",
     "output_type": "stream",
     "text": [
      "Comparing the first and last values in the list and return True or False\n"
     ]
    },
    {
     "data": {
      "text/plain": [
       "False"
      ]
     },
     "execution_count": 173,
     "metadata": {},
     "output_type": "execute_result"
    }
   ],
   "source": [
    "list4 = [1,2,3,4,5,10]\n",
    "print(list_check_func1.__doc__)\n",
    "list_check_func1(list4)"
   ]
  },
  {
   "cell_type": "markdown",
   "id": "55b8ae67",
   "metadata": {},
   "source": [
    "### 5.\tIterate the given list of numbers (l1) and print only those numbers which are divisible by 5. (l1 = [10, 20, 33, 46, 55])"
   ]
  },
  {
   "cell_type": "code",
   "execution_count": 240,
   "id": "e0a360b0",
   "metadata": {},
   "outputs": [],
   "source": [
    "list_it = [10,20,33,46,55]"
   ]
  },
  {
   "cell_type": "code",
   "execution_count": 241,
   "id": "f10b1c57",
   "metadata": {},
   "outputs": [
    {
     "name": "stdout",
     "output_type": "stream",
     "text": [
      "Numbers in the list divisible by 5:  [10, 20, 55]\n"
     ]
    }
   ],
   "source": [
    "## Using Filters and lambda function\n",
    "\n",
    "filt1 = list(filter(lambda x : x % 5 == 0, list_it))  \n",
    "print(\"Numbers in the list divisible by 5: \", filt1)"
   ]
  },
  {
   "cell_type": "code",
   "execution_count": 141,
   "id": "e3ba9aa3",
   "metadata": {},
   "outputs": [
    {
     "name": "stdout",
     "output_type": "stream",
     "text": [
      "10\n",
      "20\n",
      "55\n"
     ]
    }
   ],
   "source": [
    "## Using for loop\n",
    "\n",
    "for i in list_it:    \n",
    "    if i%5 == 0:\n",
    "        print(i)"
   ]
  },
  {
   "cell_type": "code",
   "execution_count": 242,
   "id": "db43dbd6",
   "metadata": {},
   "outputs": [
    {
     "name": "stdout",
     "output_type": "stream",
     "text": [
      "[10, 20, 55]\n"
     ]
    },
    {
     "data": {
      "text/plain": [
       "[10, 20, 55]"
      ]
     },
     "execution_count": 242,
     "metadata": {},
     "output_type": "execute_result"
    }
   ],
   "source": [
    "## Using List comphrehension\n",
    "\n",
    "list_res = [i for i in list_it if i%5 ==0]  \n",
    "print(list_res)\n",
    "\n",
    "[i for i in list_it if i%5 ==0]"
   ]
  },
  {
   "cell_type": "code",
   "execution_count": 176,
   "id": "d5612cc3",
   "metadata": {},
   "outputs": [
    {
     "name": "stdout",
     "output_type": "stream",
     "text": [
      "Length of the list is :  5\n",
      "10\n",
      "20\n",
      "55\n"
     ]
    }
   ],
   "source": [
    "## Using While loop\n",
    "\n",
    "list_len = len(list_it)\n",
    "print('Length of the list is : ',list_len)\n",
    "i=0\n",
    "while i < list_len:       \n",
    "    if list_it[i]%5 == 0:\n",
    "        print(list_it[i])\n",
    "    i = i + 1"
   ]
  },
  {
   "cell_type": "markdown",
   "id": "52cb9f0b",
   "metadata": {},
   "source": [
    "### 6.\tWrite a program to create function calculation() such that it can accept two variables and calculate addition and subtraction. Also, it must return both addition and subtraction in a single return call.\n",
    "#### a.\tHint: Separate return values with a comma\n"
   ]
  },
  {
   "cell_type": "code",
   "execution_count": 99,
   "id": "22fea948",
   "metadata": {},
   "outputs": [],
   "source": [
    "def arithmetic_cal(var1,var2):\n",
    "    \"\"\"Performing Arithmetic operions(addition and subtraction)\"\"\"\n",
    "    add = var1 + var2\n",
    "    if var1 >= var2:\n",
    "        sub = var1 - var2\n",
    "    else:\n",
    "        sub = var2 - var1\n",
    "    return add, sub"
   ]
  },
  {
   "cell_type": "code",
   "execution_count": 110,
   "id": "7ca8f6e7",
   "metadata": {},
   "outputs": [
    {
     "name": "stdout",
     "output_type": "stream",
     "text": [
      "Enter value for arg1 :8\n",
      "Enter value for arg2 :5\n",
      "Performing Arithmetic operions(addition and subtraction)\n",
      "addition of two values is :  13\n",
      "substraction of two values is :  3\n"
     ]
    }
   ],
   "source": [
    "arg1 = int(input('Enter value for arg1 :'))\n",
    "arg2 = int(input('Enter value for arg2 :'))\n",
    "\n",
    "add1, sub1 = arithmetic_cal(arg1,arg2)\n",
    "\n",
    "print(arithmetic_cal.__doc__)\n",
    "print('addition of two values is : ', add1)\n",
    "print('substraction of two values is : ', sub1)"
   ]
  },
  {
   "cell_type": "markdown",
   "id": "95c68819",
   "metadata": {},
   "source": [
    "### 7.\tWrite a program to demonstrate the following Syntax error\n",
    "####    a.\tSyntaxError: non-default argument follows default argument\n"
   ]
  },
  {
   "cell_type": "code",
   "execution_count": 114,
   "id": "2c0e100c",
   "metadata": {},
   "outputs": [
    {
     "ename": "SyntaxError",
     "evalue": "non-default argument follows default argument (Temp/ipykernel_85468/1141212758.py, line 1)",
     "output_type": "error",
     "traceback": [
      "\u001b[1;36m  File \u001b[1;32m\"C:\\Users\\kalya\\AppData\\Local\\Temp/ipykernel_85468/1141212758.py\"\u001b[1;36m, line \u001b[1;32m1\u001b[0m\n\u001b[1;33m    def func_arg_check(var1='santhosh',var2):\u001b[0m\n\u001b[1;37m                                           ^\u001b[0m\n\u001b[1;31mSyntaxError\u001b[0m\u001b[1;31m:\u001b[0m non-default argument follows default argument\n"
     ]
    }
   ],
   "source": [
    "def func_arg_check(var1='santhosh',var2):\n",
    "    print(var1, var2)\n",
    "    \n",
    "func_arg_check('santhosh','kumar')"
   ]
  },
  {
   "cell_type": "markdown",
   "id": "66d2a4db",
   "metadata": {},
   "source": [
    "### 8.\tWhat’s recursion? Explain in your own words and write a program to create a recursive function to calculate the sum of numbers from 0 to 10"
   ]
  },
  {
   "cell_type": "code",
   "execution_count": 136,
   "id": "82dc0d40",
   "metadata": {},
   "outputs": [],
   "source": [
    "def add_func_rec(n):\n",
    "    \"\"\"addition of numbers from 0 to entered value\"\"\"\n",
    "    if n == 1:\n",
    "        return n\n",
    "    else:\n",
    "        return (n + add_func_rec(n-1))"
   ]
  },
  {
   "cell_type": "code",
   "execution_count": 138,
   "id": "b4ba5d1f",
   "metadata": {},
   "outputs": [
    {
     "name": "stdout",
     "output_type": "stream",
     "text": [
      "addition of numbers from 0 to entered value\n",
      "enter the value : 6\n",
      "sum of numbers from 0 to 6 is 21\n"
     ]
    }
   ],
   "source": [
    "print(add_func_rec.__doc__)\n",
    "\n",
    "num = int(input('enter the value : '))\n",
    "\n",
    "print(\"sum of numbers from 0 to\", num, 'is', add_func_rec(num))"
   ]
  },
  {
   "cell_type": "code",
   "execution_count": null,
   "id": "cc6eba2a",
   "metadata": {},
   "outputs": [],
   "source": [
    "\"\"\" input value is 6\n",
    "6 + fun(5)\n",
    "6 + 5 + fun(4)\n",
    "6 + 5 + 4 + func(3)\n",
    "6 + 5 + 4 + 3 + func(2)\n",
    "6 + 5 + 4 + 3 + 2 + func(1)\"\"\""
   ]
  },
  {
   "cell_type": "markdown",
   "id": "5601e917",
   "metadata": {},
   "source": [
    "### 9.\tUse filter and lambda function to calculate square for below numbers only if they are odd number\n",
    "####    a.\t[12, 11, 53, 22, 21, 77, 87, 88, 98]\n"
   ]
  },
  {
   "cell_type": "code",
   "execution_count": 177,
   "id": "9c785a89",
   "metadata": {},
   "outputs": [
    {
     "name": "stdout",
     "output_type": "stream",
     "text": [
      "Square for the odd numbers in the list : [121, 2809, 441, 5929, 7569]\n"
     ]
    }
   ],
   "source": [
    "list1 = [12, 11, 53, 22, 21, 77, 87, 88, 98]\n",
    "filt1 = list(map(lambda y:y*y,(list(filter(lambda x:x%2 != 0, list1)))))\n",
    "print('Square for the odd numbers in the list :', filt1)"
   ]
  },
  {
   "cell_type": "markdown",
   "id": "9d64ef07",
   "metadata": {},
   "source": [
    "### 10. Write a function (not a lambda function) and use it to demonstrate an example for map function (any logical function of your choice)"
   ]
  },
  {
   "cell_type": "code",
   "execution_count": 235,
   "id": "e01d4e15",
   "metadata": {},
   "outputs": [],
   "source": [
    "def list_even_square(list1_arg):\n",
    "    \"\"\"Filter the even numbers and square that number and the result of square of numbers should be another list\"\"\"\n",
    "    len_list = len(list1_arg)\n",
    "    i = 0\n",
    "    list_square = []\n",
    "    while i < len_list:\n",
    "        if list1_arg[i]%2 == 0:       ## This is similar to filter and Lambda function\n",
    "            list_square.append(list1_arg[i] * list1_arg[i])  ## ## This is similar to map and Lambda function\n",
    "        i = i + 1\n",
    "    return list_square"
   ]
  },
  {
   "cell_type": "code",
   "execution_count": 237,
   "id": "4a424d5d",
   "metadata": {
    "scrolled": false
   },
   "outputs": [
    {
     "name": "stdout",
     "output_type": "stream",
     "text": [
      "Filter the even numbers and square that number and the result of square of numbers should be another list\n",
      "Result of square of even numbers in the list :  [4, 16, 36]\n"
     ]
    }
   ],
   "source": [
    "list1 = [1,2,3,4,5,6]\n",
    "\n",
    "result = list_even_square(list1)\n",
    "\n",
    "print(list_even_square.__doc__)\n",
    "print(\"Result of square of even numbers in the list : \", result)"
   ]
  }
 ],
 "metadata": {
  "kernelspec": {
   "display_name": "Python 3 (ipykernel)",
   "language": "python",
   "name": "python3"
  },
  "language_info": {
   "codemirror_mode": {
    "name": "ipython",
    "version": 3
   },
   "file_extension": ".py",
   "mimetype": "text/x-python",
   "name": "python",
   "nbconvert_exporter": "python",
   "pygments_lexer": "ipython3",
   "version": "3.9.7"
  }
 },
 "nbformat": 4,
 "nbformat_minor": 5
}
